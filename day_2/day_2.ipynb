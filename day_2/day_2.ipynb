{
  "nbformat": 4,
  "nbformat_minor": 0,
  "metadata": {
    "colab": {
      "name": "day_2.ipynb",
      "provenance": [],
      "collapsed_sections": []
    },
    "kernelspec": {
      "name": "python3",
      "display_name": "Python 3"
    }
  },
  "cells": [
    {
      "cell_type": "code",
      "metadata": {
        "id": "NrgJLVaLM3G6",
        "colab_type": "code",
        "colab": {}
      },
      "source": [
        "import pandas as pd \n",
        "import numpy as np\n",
        "import seaborn as sns\n",
        "from sklearn.metrics import accuracy_score"
      ],
      "execution_count": 0,
      "outputs": []
    },
    {
      "cell_type": "code",
      "metadata": {
        "id": "g408W935Syv5",
        "colab_type": "code",
        "outputId": "91afad8e-e66d-4a76-c32f-c5d4d63764bb",
        "colab": {
          "base_uri": "https://localhost:8080/",
          "height": 202
        }
      },
      "source": [
        "df_train=pd.read_csv('/content/drive/My Drive/datasets/Tensorflow  community challenge /Datasets /Titanic/train.csv')\n",
        "df_test=pd.read_csv(('/content/drive/My Drive/datasets/Tensorflow  community challenge /Datasets /Titanic/test.csv'))\n",
        "df_train.head()"
      ],
      "execution_count": 0,
      "outputs": [
        {
          "output_type": "execute_result",
          "data": {
            "text/html": [
              "<div>\n",
              "<style scoped>\n",
              "    .dataframe tbody tr th:only-of-type {\n",
              "        vertical-align: middle;\n",
              "    }\n",
              "\n",
              "    .dataframe tbody tr th {\n",
              "        vertical-align: top;\n",
              "    }\n",
              "\n",
              "    .dataframe thead th {\n",
              "        text-align: right;\n",
              "    }\n",
              "</style>\n",
              "<table border=\"1\" class=\"dataframe\">\n",
              "  <thead>\n",
              "    <tr style=\"text-align: right;\">\n",
              "      <th></th>\n",
              "      <th>PassengerId</th>\n",
              "      <th>Survived</th>\n",
              "      <th>Pclass</th>\n",
              "      <th>Name</th>\n",
              "      <th>Sex</th>\n",
              "      <th>Age</th>\n",
              "      <th>SibSp</th>\n",
              "      <th>Parch</th>\n",
              "      <th>Ticket</th>\n",
              "      <th>Fare</th>\n",
              "      <th>Cabin</th>\n",
              "      <th>Embarked</th>\n",
              "    </tr>\n",
              "  </thead>\n",
              "  <tbody>\n",
              "    <tr>\n",
              "      <th>0</th>\n",
              "      <td>1</td>\n",
              "      <td>0</td>\n",
              "      <td>3</td>\n",
              "      <td>Braund, Mr. Owen Harris</td>\n",
              "      <td>male</td>\n",
              "      <td>22.0</td>\n",
              "      <td>1</td>\n",
              "      <td>0</td>\n",
              "      <td>A/5 21171</td>\n",
              "      <td>7.2500</td>\n",
              "      <td>NaN</td>\n",
              "      <td>S</td>\n",
              "    </tr>\n",
              "    <tr>\n",
              "      <th>1</th>\n",
              "      <td>2</td>\n",
              "      <td>1</td>\n",
              "      <td>1</td>\n",
              "      <td>Cumings, Mrs. John Bradley (Florence Briggs Th...</td>\n",
              "      <td>female</td>\n",
              "      <td>38.0</td>\n",
              "      <td>1</td>\n",
              "      <td>0</td>\n",
              "      <td>PC 17599</td>\n",
              "      <td>71.2833</td>\n",
              "      <td>C85</td>\n",
              "      <td>C</td>\n",
              "    </tr>\n",
              "    <tr>\n",
              "      <th>2</th>\n",
              "      <td>3</td>\n",
              "      <td>1</td>\n",
              "      <td>3</td>\n",
              "      <td>Heikkinen, Miss. Laina</td>\n",
              "      <td>female</td>\n",
              "      <td>26.0</td>\n",
              "      <td>0</td>\n",
              "      <td>0</td>\n",
              "      <td>STON/O2. 3101282</td>\n",
              "      <td>7.9250</td>\n",
              "      <td>NaN</td>\n",
              "      <td>S</td>\n",
              "    </tr>\n",
              "    <tr>\n",
              "      <th>3</th>\n",
              "      <td>4</td>\n",
              "      <td>1</td>\n",
              "      <td>1</td>\n",
              "      <td>Futrelle, Mrs. Jacques Heath (Lily May Peel)</td>\n",
              "      <td>female</td>\n",
              "      <td>35.0</td>\n",
              "      <td>1</td>\n",
              "      <td>0</td>\n",
              "      <td>113803</td>\n",
              "      <td>53.1000</td>\n",
              "      <td>C123</td>\n",
              "      <td>S</td>\n",
              "    </tr>\n",
              "    <tr>\n",
              "      <th>4</th>\n",
              "      <td>5</td>\n",
              "      <td>0</td>\n",
              "      <td>3</td>\n",
              "      <td>Allen, Mr. William Henry</td>\n",
              "      <td>male</td>\n",
              "      <td>35.0</td>\n",
              "      <td>0</td>\n",
              "      <td>0</td>\n",
              "      <td>373450</td>\n",
              "      <td>8.0500</td>\n",
              "      <td>NaN</td>\n",
              "      <td>S</td>\n",
              "    </tr>\n",
              "  </tbody>\n",
              "</table>\n",
              "</div>"
            ],
            "text/plain": [
              "   PassengerId  Survived  Pclass  ...     Fare Cabin  Embarked\n",
              "0            1         0       3  ...   7.2500   NaN         S\n",
              "1            2         1       1  ...  71.2833   C85         C\n",
              "2            3         1       3  ...   7.9250   NaN         S\n",
              "3            4         1       1  ...  53.1000  C123         S\n",
              "4            5         0       3  ...   8.0500   NaN         S\n",
              "\n",
              "[5 rows x 12 columns]"
            ]
          },
          "metadata": {
            "tags": []
          },
          "execution_count": 66
        }
      ]
    },
    {
      "cell_type": "code",
      "metadata": {
        "id": "IWxJpMfoh21T",
        "colab_type": "code",
        "outputId": "3d6c0b4c-2827-4eba-dba0-7639b5e00c66",
        "colab": {
          "base_uri": "https://localhost:8080/",
          "height": 294
        }
      },
      "source": [
        "df_train.describe()"
      ],
      "execution_count": 0,
      "outputs": [
        {
          "output_type": "execute_result",
          "data": {
            "text/html": [
              "<div>\n",
              "<style scoped>\n",
              "    .dataframe tbody tr th:only-of-type {\n",
              "        vertical-align: middle;\n",
              "    }\n",
              "\n",
              "    .dataframe tbody tr th {\n",
              "        vertical-align: top;\n",
              "    }\n",
              "\n",
              "    .dataframe thead th {\n",
              "        text-align: right;\n",
              "    }\n",
              "</style>\n",
              "<table border=\"1\" class=\"dataframe\">\n",
              "  <thead>\n",
              "    <tr style=\"text-align: right;\">\n",
              "      <th></th>\n",
              "      <th>PassengerId</th>\n",
              "      <th>Survived</th>\n",
              "      <th>Pclass</th>\n",
              "      <th>Age</th>\n",
              "      <th>SibSp</th>\n",
              "      <th>Parch</th>\n",
              "      <th>Fare</th>\n",
              "    </tr>\n",
              "  </thead>\n",
              "  <tbody>\n",
              "    <tr>\n",
              "      <th>count</th>\n",
              "      <td>891.000000</td>\n",
              "      <td>891.000000</td>\n",
              "      <td>891.000000</td>\n",
              "      <td>714.000000</td>\n",
              "      <td>891.000000</td>\n",
              "      <td>891.000000</td>\n",
              "      <td>891.000000</td>\n",
              "    </tr>\n",
              "    <tr>\n",
              "      <th>mean</th>\n",
              "      <td>446.000000</td>\n",
              "      <td>0.383838</td>\n",
              "      <td>2.308642</td>\n",
              "      <td>29.699118</td>\n",
              "      <td>0.523008</td>\n",
              "      <td>0.381594</td>\n",
              "      <td>32.204208</td>\n",
              "    </tr>\n",
              "    <tr>\n",
              "      <th>std</th>\n",
              "      <td>257.353842</td>\n",
              "      <td>0.486592</td>\n",
              "      <td>0.836071</td>\n",
              "      <td>14.526497</td>\n",
              "      <td>1.102743</td>\n",
              "      <td>0.806057</td>\n",
              "      <td>49.693429</td>\n",
              "    </tr>\n",
              "    <tr>\n",
              "      <th>min</th>\n",
              "      <td>1.000000</td>\n",
              "      <td>0.000000</td>\n",
              "      <td>1.000000</td>\n",
              "      <td>0.420000</td>\n",
              "      <td>0.000000</td>\n",
              "      <td>0.000000</td>\n",
              "      <td>0.000000</td>\n",
              "    </tr>\n",
              "    <tr>\n",
              "      <th>25%</th>\n",
              "      <td>223.500000</td>\n",
              "      <td>0.000000</td>\n",
              "      <td>2.000000</td>\n",
              "      <td>20.125000</td>\n",
              "      <td>0.000000</td>\n",
              "      <td>0.000000</td>\n",
              "      <td>7.910400</td>\n",
              "    </tr>\n",
              "    <tr>\n",
              "      <th>50%</th>\n",
              "      <td>446.000000</td>\n",
              "      <td>0.000000</td>\n",
              "      <td>3.000000</td>\n",
              "      <td>28.000000</td>\n",
              "      <td>0.000000</td>\n",
              "      <td>0.000000</td>\n",
              "      <td>14.454200</td>\n",
              "    </tr>\n",
              "    <tr>\n",
              "      <th>75%</th>\n",
              "      <td>668.500000</td>\n",
              "      <td>1.000000</td>\n",
              "      <td>3.000000</td>\n",
              "      <td>38.000000</td>\n",
              "      <td>1.000000</td>\n",
              "      <td>0.000000</td>\n",
              "      <td>31.000000</td>\n",
              "    </tr>\n",
              "    <tr>\n",
              "      <th>max</th>\n",
              "      <td>891.000000</td>\n",
              "      <td>1.000000</td>\n",
              "      <td>3.000000</td>\n",
              "      <td>80.000000</td>\n",
              "      <td>8.000000</td>\n",
              "      <td>6.000000</td>\n",
              "      <td>512.329200</td>\n",
              "    </tr>\n",
              "  </tbody>\n",
              "</table>\n",
              "</div>"
            ],
            "text/plain": [
              "       PassengerId    Survived      Pclass  ...       SibSp       Parch        Fare\n",
              "count   891.000000  891.000000  891.000000  ...  891.000000  891.000000  891.000000\n",
              "mean    446.000000    0.383838    2.308642  ...    0.523008    0.381594   32.204208\n",
              "std     257.353842    0.486592    0.836071  ...    1.102743    0.806057   49.693429\n",
              "min       1.000000    0.000000    1.000000  ...    0.000000    0.000000    0.000000\n",
              "25%     223.500000    0.000000    2.000000  ...    0.000000    0.000000    7.910400\n",
              "50%     446.000000    0.000000    3.000000  ...    0.000000    0.000000   14.454200\n",
              "75%     668.500000    1.000000    3.000000  ...    1.000000    0.000000   31.000000\n",
              "max     891.000000    1.000000    3.000000  ...    8.000000    6.000000  512.329200\n",
              "\n",
              "[8 rows x 7 columns]"
            ]
          },
          "metadata": {
            "tags": []
          },
          "execution_count": 67
        }
      ]
    },
    {
      "cell_type": "code",
      "metadata": {
        "id": "xzsFngd8gWEM",
        "colab_type": "code",
        "outputId": "dff64818-81b0-40fe-f79b-986eb4d5edec",
        "colab": {
          "base_uri": "https://localhost:8080/",
          "height": 242
        }
      },
      "source": [
        "df_train.isna().sum()"
      ],
      "execution_count": 0,
      "outputs": [
        {
          "output_type": "execute_result",
          "data": {
            "text/plain": [
              "PassengerId      0\n",
              "Survived         0\n",
              "Pclass           0\n",
              "Name             0\n",
              "Sex              0\n",
              "Age            177\n",
              "SibSp            0\n",
              "Parch            0\n",
              "Ticket           0\n",
              "Fare             0\n",
              "Cabin          687\n",
              "Embarked         2\n",
              "dtype: int64"
            ]
          },
          "metadata": {
            "tags": []
          },
          "execution_count": 68
        }
      ]
    },
    {
      "cell_type": "markdown",
      "metadata": {
        "id": "4DaQWGEUrS06",
        "colab_type": "text"
      },
      "source": [
        "\n",
        "\n",
        "---\n",
        "\n"
      ]
    },
    {
      "cell_type": "code",
      "metadata": {
        "id": "bEkh0GuLS99N",
        "colab_type": "code",
        "outputId": "cfb79f34-acdf-4702-aac7-c941470e3ac5",
        "colab": {
          "base_uri": "https://localhost:8080/",
          "height": 1000
        }
      },
      "source": [
        "sns.pairplot(df_train)"
      ],
      "execution_count": 0,
      "outputs": [
        {
          "output_type": "execute_result",
          "data": {
            "text/plain": [
              "<seaborn.axisgrid.PairGrid at 0x7f86290a9898>"
            ]
          },
          "metadata": {
            "tags": []
          },
          "execution_count": 69
        },
        {
          "output_type": "display_data",
          "data": {
            "image/png": "iVBORw0KGgoAAAANSUhEUgAABPUAAAT2CAYAAABKs5ZaAAAABHNCSVQICAgIfAhkiAAAAAlwSFlz\nAAALEgAACxIB0t1+/AAAADh0RVh0U29mdHdhcmUAbWF0cGxvdGxpYiB2ZXJzaW9uMy4yLjEsIGh0\ndHA6Ly9tYXRwbG90bGliLm9yZy+j8jraAAAgAElEQVR4nOy9e3wUVZr//zmnLt2dGwkhASR4RzQg\nClFuzjqOl1FX1HFAHbmoqICD7jiujuP357DiD90RZMbVVQR1VFBR8DbLqqOMqOt8RVQyrI5GASFC\ngkBCSEO605eqOuf7R3VXutLVSRqq053mvF+vfkna7qrqqlOnzvmc5/k8hHMOgUAgEAgEAoFAIBAI\nBAKBQNB3oNk+AIFAIBAIBAKBQCAQCAQCgUCQHkLUEwgEAoFAIBAIBAKBQCAQCPoYQtQTCAQCgUAg\nEAgEAoFAIBAI+hhC1BMIBAKBQCAQCAQCgUAgEAj6GELUEwgEAoFAIBAIBAKBQCAQCPoYQtQTCAQC\ngUAgEAgEAoFAIBAI+hh9WtS76KKLOADxEq9svQ4L0X7FK8uvw0K0X/HK8uuwEO1XvLL8OixE+xWv\nLL8OGdF2xSvLr8NCtF/xyvIrJX1a1Nu3b1+2D0EgOGRE+xX0ZUT7FfRlRPsV9GVE+xX0VUTbFfRl\nRPsV5Cp9WtQTCAQCgUAgEAgEAoFAIBAIjkSEqCcQCAQCgUAgEAgEAoFAIBD0MeRsH4BAIOiAMY6W\nYBRR3YAqSygvVEEpyfZhCQQCQa8h+sHMIs5vfiKuq6AvI9qvIB8Q7ViQLYSoJxDkCIxxbN5zELOe\nr0VjawhVZT48NaMGwweViAeCIC10naEpEIFmMCgSRWWRB7Kc+cDsbO23LyEGfF1j9oNtmPX8xoR+\n8AwMH1R8xJyndNpI/LOMMRgcYJyDEgKJAJTSpO8yxrF5bxtmrUg4v9eegeEDU59f0WZzH8Y4vt1z\nELMTxg9PzqjByYcwfhDXW9Db5MP4V9w33ZPv50jXGTY3tWFOQjteNqMGg/p5oOkcBuPQGYdMCSqL\nPFAUKduHLMgjxGxLIMgRmgMRa0ADAI2tIcx6vhbNgUiWj0zQl9B1hm/3tuGqZZ/gxw99iKuWfYJv\n97ZB11le7rcvEResrljyMc5a+AGuWPIxNu9pA2NdFrQ6otgXiFiCHhDvBzdi3xHSD8ZFN1sbid1H\nzW0R7GptR3NbBIxx67P3vPElvmsO4qpln+BHCz/AVcs+wXfNQdzzxpf4Zs9B2z3YEoxagh4QO78r\nNmJf0Pn8pjqe3myzjPGk3y6w09wWsQQ9wLyus5+vRXNbevdNLlxvwZFHb4x/dZ3hB38IO1qC+MEf\ncnVsIu6b7sn3c8QYxw8HQpagB5jteM7ztdi6N4htzUFc/eQG/PihD3H1kxvwbVMAmmb0eNviGSjo\nDiHqCQQ5QlgzrAdBnMbWECI97PQFAgBoCkRw8wv2QcXNL9SiKcOiSLb225c40gWrnhBK0Q+G86wf\nTDVITyW67ToQSpoM7QtEMGvFRkyuGYrfvval7Tu/fe1LTK4ZijnP1+KHAyFr+1Hd+fy2RwzHiUKq\n42kJRg/rd6ZznvJ5IugW4RTXNaKnd98c7vUWCA6FTI9/M73oKO6b7sn3c9QSjKKpLeLYjgcUqUnP\n6F/2cHwsnoGCniLSbwV5z7F3v3XI3/3+wUtcPJKukShBVZnP9kCoKvPlVWi6IPNoBnMcVGhGZiPm\nsrXfvsSRIlgdDrnYD7qdMtRVCmwq0a05YbIQnwy9eNM4NLaGUOpTHL8Tf7+pLQKvKmFAoQeEOJ/f\n+n1BFHgkVBZ7bdtJdTzRHohFh5Lq25lUE8E35p6FimJPj7ZxJODWfXM411sgOFQy3e+nWnRcPWcC\njir1Hfb2xX3TPfl+jqK6gZZg1LEdS4Q4/nad8W5ta8QzUNBT8lbUOxwhRyDIBgoleGjKKPzm1S+t\nCdBDU0ZBEaKeIA3kFINjOcPtKFv77UvkomCVa+RaP+iGMNWZrgbpqUS3ztEMja0hqz35Q5rjd+Lv\ntwSjqCzxYPPeNjz8181YOr3GmuBWlfmwcPIoLH53Mx65ZnTSsaqy5LhtQgj2HgjB4ADn3FHs3BeM\nOP7OV+ZMwMASb4/OX75PBN3CrfsmVfsjJP22nu/+WflItq5Zpvv9VIuOukuLjqn6SVUWnmlx8v0c\nEULwWm0DHp86Bres/LutHe85GE45Pv52b5vtebx0eg2GVxbBH9YR1Q0YnItnoKBHiPRbgSBH8CgE\nA4o9WHD5SKyaPR4LLh+JAcUeeBQxCBb0HI9MsWTaGFSVmavPVWU+LJk2Bp4MF6xQU+xXFYUyLOIT\nl8RzJIR7O4rs3A8qcnbOUSZShroSqgjhWDjZ3kYenzoGr9U22D5fVeYD4xwPTRmF12obkr6zcHLH\n+6/VNoASglkrNmJtXRNKfbJ1fudNqsbidzejORCB5HCKywtVPHXtGbZtL51eg+Ufb7d8/BJTgvzt\nZqrtzv1BhKIpUn2jRkqfwM7EJ4Kdf3u+TATdwqs63zdeNd37Jrn9LZw8CgQibTrfyeY1y/T4N77o\nmEhVmQ+SS8/eMp+CpdNrkvrJMp/iyvaBvu+r5vQseeraM1BeqGb5yNxBIsBt552Et7/chRU3jMWr\nN0/Agz8/FQWqhGc/rk/qV5+YXoMClTpGkO4NRKz7cFtTMKPPwL7ergQd5G2knkDQF+nnk+EbWASD\ncUiUQM3SRFbQtynxyXhu5lhQAjAO9Mb812AcHpnY9mswA4YYIFhQSlBepGLB5SNRoEpojxooLxLR\nK50p9Eg4sbKoo5JrFvWbdCLFehrlkipiwWAcW/YG8dJnOzBvUjVKfQr8IQ1vf7kLt/xkGOp2t9lW\n/x9b9x2mjj8a14w9BiVe855XJAJKCA6GNUyuGYrl6+sx86zjoNCO9J+G1hC8CsUdr3xh255PTT7R\nlBIMH1iMN+aeFRMdCeav+crRx2/Wio1YccNYXPvMZ2hsDeGDO3/sHJlKgFkrNmLlTeMw9elPu4yA\njE8EO0dK9uZEsC9EnBEC9C9UUKBIVnVFr0qRboAd48Dy9fW29rd8fT3+7dIRaW0nV1PG+sK1zBbZ\nvmaZHP8qEsGSaWMw98WOCKol08ZAcVrJOARaQxoeXbfFdt88um4LHrhilCvnLhMR471N52dJvt1/\nlFJU9fdg6vhjEYjo6OdToEgUFcUq5l82AqGogZdnj4cR65+LvBT+9lTji47I0kfXbU2KYl02vQYS\nNdtFpqxA8uW6HEkIUU8gEAgEhw0BENYY9gcjlmDVv1CBC3Y1eYPBODjnGNq/QAifKUg1jszW+FKR\nqaMwpXSKQE1ncOwkVC2ZNgb3v1WH5rYo7rxwuCWYxSOl4qv/B0IaSn0K/nX1F9jU4MfWpgAWTRmF\nAyENPxwIYF3dXkwdfzRag+bnrhl7DCqKPbbfseidzbj3smqbuFxR7IGmM+zcH4RXMf334sdNKbEm\nprta27G2rgk3/uh4x8nI/mDUen/PgbBjSt2eg2HL6687ASHbE8G+MunhPPkeocR8Px0USjDzrOMO\nOw0yF9Om+8q1zBbZvGaUAnDYDXUp0F8zON76Yheevf5MSJTAYByvbtyJayce58r2o7qBtXVNWFvX\nZHv/3kvdOXfZFlzdIvFZkm+UF6rYFwzDp1JIVIHBOHyqBFki+HTbPqiKgvJCFf0LVTz+/neYe+6J\n0HSWcoEvzqYGPxa9sxmrZo+HZnDU7wvid3/+Cs2BSEatQPL1OuUzQtQTCHKEVPN6Md8XpAOliPkf\ndTQcQohrg+PU+yVmpE9Qs97zqZKYLCUghM/uYdxMlWKMA9yMQJIpyVo/KKfweursFZnO4JhSgoEl\nHktU84c0EMCaEC5+dzPmTapGZbEHlcUe+EMaxhxbjjtiQt6z15+J5ljVvE0Nftz16pe466LhWPBm\nHRpbQ/CHorj74lPQFtZNQU8ioARYNr0Gc16oxaYGP5Z88B3uuaQaNBbKtT8YwfXPft6t2BGPMkzl\n45eYluwkHvpUCfetqUvpE+gkIGRzIthXJj0GQ1KCLOOHIOolpL/Hr9mhpL/non9WX7mW2aKnCxiZ\ngDEzmk7TzQZLYP7NXKqzpUgEl5w2BDOf6+jj3IzUc9OL0olcFMkFyUjEfNZqCb0xYxynHd0f4MA3\ne9rwwFvfoDkQwb+cNwxLPtqeFEH6xPQavLpxp227zYEICCGY/qcNtnZwuP2XaFf5hRD1BIIcgRJA\nZ9wahHNu/q26NOgQHBkwBsgUoDIF4xwKIaCUuzY4Tr1f5yg04c/RgSoTFHhk7E8QPgs8skizT4Ax\n09Scc/OccG7+TdE7YkDn9LyobmDRO5ttaVWL3tmMx6aOBgo7vpfu4DgUNTDzuc+tv5fNqLEmhZsa\n/JjzfC2qynx4+KrTETWYJdhVlfkwtL8PD191Gm5fbabPNgdMkfiVOROgM46IzhCM6NhzMIz5a7ah\nORDBgstH4tF1W7Hg8pE4dkAh9h4M49cv/y9+dd4wAMC8//oqpdiReE58qoSnrj0DD/91MxZOHmWL\nKFwybQwee3+r9Zvi4uF9l41ERGeo3xfEfWvq0ByIYNmMGjzy3hbbOcm26ONEX5r0RHRmid+Mm397\n0xRkNJ1DprClv+vMsMSWnpILadOd6UvXMhv0dAEjExACRHVuSSEcZnSdx6VnY6Yj9eJeqJ0jrF3S\n9HJSJBfYMZ+RDHsPtGNgvwLrfZ2Z7Xrlhu+x7G/fW/cV4xyraxsBAM9efyZUmUIzOAxm4JyTB+Kt\nr/ba7kPA/YIZol3lF0LUEwhyBN0wjVZZLMiKEPNvMd4UpIMcC5bTdGauGHIORSbI9FxKogSEEDTs\nb7ciPIaUeV0zos4HwjpznDCH9Qwrrn0ISgHdof266DeeEqf0vJU3jUNzIII5z9dan3Ma9KY7OO4c\n2bH0w22OE+p/f/sbAMC8SdUoL1RRWqDCYAa8imSLpir2KhhY4sXuAyGc/8f/SdpfgSphU4MfM5/7\nHFVlPsybVI1NDX4UxHz0Uk0WnM7JihvG4t5LR2B/MIpnrz8TgYiOYESHKpupm4nef7dfMBwDS7wA\ngEKPjMemjoYqSyjzKbj9guG2z7oh+rjtmdZXJj1upa3LEoEW5vh+X8DWj8ve9DaU7bRpJ/rKtcwW\noWjPFjAygcFiYwh0ROqZ4ps72/fI1DFSz60CYow5e1Hem6YXZSpyUSQX2DH7OQpZlvH3HS0YfUy5\n5Z+3uzWI8SdU4Kqxx6C5LYL+hQoef/87AMDq2kas396CBZePxMznPseq2eMd78M/Xn2a6/2XaFf5\nhRD1BIIcgVIgGOHQdG5OZg0OgxOIrBBBOkR1Dq9MIBFzNVqlBIpkvp9JGOdQZWqL1JMl832BicGA\n37/9LSbXDLUGa6/VNqRtQp/vKBIBBbEiTXurUMa+YCQpPe/+t+qstNWuBr1Og+NlM5yrH8ajWhMj\nO5oDEfhUCQ/+/FR4FQkDS7z41UubsKnBDwCWqLhq9njc8coXeGjKKEQNhmIqY/igYgwq8YJSAkVy\nTqHzhzqiQxtbQyiNHZc/pEFN8R1VlhzPybXPfIbVcybgl7GUoTg/ra7E/T87Fatmj4fBAa9Cbd58\nnVOEOhfgkIgZ7XCo4k8mPNP6yqTHzUVBp378UHArbdotobavXMtsocpSjxYwMgFjQMQwwGIR2owD\nYc2Ax8XOP5MFxLwqdfSi9KruiIa5KJILOmAsvkhrRpeOGFIGg3EwztHUFkGJT8XQ/go4OCqKPdAN\nA+u3twCAVfjid3/+CoD5THa6D/ccCCdFg6YaY/QU0a7yCyHqCQQ5giw5T2bFIrIgHTSDY8X6ekw5\n42hIlCCqMzzvYppJV/t9acMOTDnjaIAQcM7x0obM77cvIacwoe+N9Ka+gpRiDpTqfTcJa8npeWvr\nmjBvUjVW3jQuVpHRjDJzEhmGVRRh5U3j0NQWQUswikfe24LbLxieJCq1BKPYsjeAlz7bgQd/fioG\nl/qws6XdSk1dOHkUGlvbLd+8OHFxrrE1BEqINej/+Lc/AaUEus5wMKw5Rvwtemdz0nYAM0Jw/mXV\nSd956tozUOZT0OgPOUbxSQRJAslt550EWSIYUOTr0aSAUoLyQtU1IS4Tnml9ZdKjyEAwlLwomK5f\nZyBiYMn72zDr7OOtfnzJ+9txy7knorwoM8feFW4LtR6Z2iJc3YrUygeyKXpmOsMgajCENQMy7RhQ\nhzUDqosPlgLVHj1d4FBN/HDI5yITfZl4HxUI66jq7wWlFDta2jGgSIVPlVFW6IFHonj3qx9w9vCB\naA1GoRkMi688DQNLvNh7MIwBRar1vF/64TbHVO74MzwewVdZ7MHv//KN4xgjHUS7yh+EqCcQ5Ai6\nAfgUinZm+uJQYv4t0m8F6eBTKSadXmVLM3lieg18Lq0Yp0JNkd6iikmTBYHzwD+35IHsYjBz4h1O\n6Ac9MnUtDasrpBRm57rBMeOZz/DG3LO6FKFaQxqmPv2p7ft1u9uSRKWobuDRdVutKrcVRR786rxh\n+MNVp+EHfwiL3zUH752FtoWTR2Hxu5ttolzcyJ4xjr1tYVz/7OeoKPJYA38O2CYMnb3vmgMRFHpk\nVJX58PLs8WCMQ5EoKoo8aA1pqN8XdDwnlFIMH1iM1+dORHvEOOSKfG4KcZnyTOsLkx5CgCKPhDBh\nZrQIJfCqNG1PL5kSrN/eYnk9Aeb1vu38YS4fcc9ws33sC0Zw7TOfJbXl1+dORGWx19Xj7otkU8Cm\n1BzvSoRbGQaq7F6BL86BP67dkhQl71Z6bDBiYP6aOtx8zgkogISowTB/TR0eueZ0lGc4dVmQXeLR\n7H+48jT4FApVovApEoxY9J4kAQUqwZhjy/HgX77B5JqhKC9UUVHswZpNu/CH97bib3edYwl5mxr8\nWL6+HituGAuZEkR0hofe/dYWtR+30Fhb1+Q4xhAcmWRU1COE3A7gJpiep/8AMBPAYAAvAygHUAtg\nBuc8SgjxAFgBoAZAC4CrOeffZ/L4BIJcghKgXbMbXYc0hgJFiCKCnsMY0L9Qxkuzxlu+bb1RKMOI\npR0kprcYzIAhCmVYpKqE51aFvHzAqR+M6L3TD3pV6hjltudg2BKHuhIZUolKIc30potPjuNpbvEq\nt3HxjXGOu1//h7XvimIPXv/lRLRHTdFs8bub0RyIWJF38eOTKLB5bxs8MkVjqxlZl5i6s/7un+C5\nmWPhb4+iJRjFC5/swOSaoZh99gno51Pwyuc7cenpVbi5U4pxiVfGo+u2JkUNLJ1eg1KvDEoJCAim\n/8kuZKYjurgpxB3JnmmMJfvnUYK0+31VpknVGLO5OONm+3CKxG1sDSGsCU/TONkSsHuj+u2t5w5L\natduVb+lhDimTFLxbM974v2KP6ThYNiALJGkquPv/mMvtjUH8G+XjoBmMOgGx+Pvf4fVtY2oKvMh\nrLEkT8YH//IN5l82Eve/VYfrJtq9ah+fOgbz13wNILk/dNtXVtB3yJioRwgZAuBXAKo55yFCyGoA\nvwDwzwAe5py/TAhZCuBGAE/E/tvKOT+REPILAAsBXJ2p4xMIcg1RKEPgBtkqlEEAhDWG/cGIFYXW\nv1BJO/0rn9EZQ2eJkwMwMq249jFkSsyqybF+sDfSkxnjONCuJ0VS+lQJ962ps8ShrkSGVKLStqYA\nghHdil5LTHOLr7ovm1GDVz7f2ckc+1s8cMUoHN2/AIUeGY/84nTs3N8OALj74pMtA+1HrhmNWSs2\n4tnrz3TcP+dASyCCq5/cYL0fj8RaNXs8xhxbbgl68d8za8VGrJ4zIUl8bI8aCEUNNAejOKrUl7bo\n0nnCocip/fzS5Uj2THOremiuLc64KdSmisR1SdcRHAZ9vfqtkqJysCLElLwn3q8s/XAb7r2sGgOK\nVHOhNjZ+iWgGjq8sxtjjB+CN2kacPbwSt6zsEJcXTh6FVzfuxC0/GWZ7f9mMGlQWeXD7BcPx8F83\nW8Wy+heqWPrhNityL7E/zISvrKDvkOn0WxmAjxCiASgAsBvAuQCmxv7/cgDzYYp6l8f+DQCvAniM\nEEI4Fy7rgiMDUShD4AYGc05jyXT6IqUEPjWmKMbwqZIYSCTAOLDkg+8wuWaolaKz5IPvRKGMHKAl\nGMW1z3yGiiIP7vjpSRhQ7LH53MXFoZZgNKXI4CQqxVNmmwMRK3otnub2+tyJCGsMEjH7/2V/+x74\n2/e247r3UsOKnmlugxXJl7hvSkwh7amPtqeMsmqPGikLaJT6lJS+eUun1+DmF2ot8XHhZLMi73/8\n4nQA6YkuqSrpuiXE9RX/u0zgZvVQp8WZfllanHFTqPWpkqPw4nPZ+6wvk60oH003I0vjeyIw/9Z0\nd7afaVsSQoiztYaI1Mt7FKkjwv++NXW47/IRKCtQQYmZZRAIG6go9mDlhu+x7G/fIxDR8OJN49Ac\n895dvr4et/xkGF7csMO2qNe/UMXetjAGlnhw/xWnQtMZFJkiENZtRTYS+8NM+MoK+g4ZE/U457sI\nIYsB7AQQArAWZrqtn3Me76YbAQyJ/XsIgIbYd3VCyAGYKbr7MnWMAkEuIQplCNwgpDG89/VunFs9\nGIApJL39xQ84f8TgjO7XiFX0TKyaKNJv7SgpCmWI1fzsE484a2wNYfqfPsPooaW4+ZwT8MgvTodP\nla3JbSqRQaLA7gMhDCzxYNXs8VY6zuJ3N1sr6p2j11oCHQPwVFF2ieKY076XTq/Bbn8YVWU+K/ou\nHo0iSxSPrduK6846FkP7+5IEjT9ceRoe/Mu3uPmcE1L65lUUqdZENf57mgMRK3oy1fko8ylobovY\nxAGnCce1z3yGNbee5ZoQ1xf87zJBNtPWM4mbQm2pT8XAEq9NeBlY4kWpL/8jOXtCNqN8ZAk4EGa2\nRW2dE/TzujMADmsMRR5qsyXRmeFa6jXn3DEKX8Sl5D+cc/hUCYuvPA2VxR40tUXAeQQlPgUyJSgv\nUgFwXD32GPzzqCEo9spYueF7jDm2HOWFKu65pBorN3yP1bWN1jO8qsyHBZePxMznPrei9gYUqiAg\nOLqsIGV/mClfWUHfIJPpt2Uwo++OA+AH8AqAi1zY7mwAswHg6KOPPtzNCQS9Slftl3PnQhliTCBI\nB4USDB/cD1Of2uC6cNRV+xXpt91DYwO8xElledGREUnUU1JpwG5ow121384RZ5sa/FjwZh1W3jTO\nNmjuLDLEV84ve+xj635bedM43PHKF0kiGSEEu1rbocoSOLhN4Hp03dYk0W3p9BqU+RRrG533TQjB\n/DVfobktavnera5txPrtLbYIwfOqB+LkQcWQKcXzN4wFg5ky9O9v12FTgx+v1TYkRfjFV/9b2yMo\nL1KTov+8MbEoXvV39ZwJ0A0GWaKoKFSxtTmQJA6UeGVnz8GogSFlBYd/gfOcLvtf4py2nm6gUKqP\nZ7OHOlKF2t4mk1E+3c3deqNQxu/f/jZjhTKMFFH48y8b6cr2Bdmlq/ZLKbWufWWxB0PLfNBjRTI4\nOAzO8cCbdWhui+JX5w1D/0IFV489BhIlUCSKyiIPfjZmKN76aq9jxfq4R+68SdVY8GZdl0J7b/rK\nCu++3COT6bfnA6jnnDcDACHkdQBnASglhMixaL0qALtin98FYCiARkKIDKAfzIIZNjjnTwJ4EgDO\nOOMMIXcI+hRdtV9NB0DsTdpgZgquQNBTPArBgGKPTTgaUOyBRzn8dtRV+xXpt90johl7hs64tZjB\nufm3G756XbXf8kIVy2bUYM7zHcUiFk4ehfvfqsMDV4xCRbEnaRA7uJ/PSttNnAjf/1Zd0raWTq/B\n/DVfYW1dE6rKfHjhxnG2gfemBj8WvbMZz98wFk1tEfhDGh5dt8Xad5xEgWNHSxBr65oAAIvf3YwH\nf34qBpf6sLOl3RL0lk6vwaPrtqDUp2L6hGMwI3asP62uxD2XVOPX55+EhtYQXvhkh+XZc1SpD4NK\nvKCUQDc41E4eazozoBvm6WOMJwl4K28a5ygOrJ4zoUcTDqfJAoAjfgLRVfvl3Dn9Nt1FQVly7sfl\nPDCe63yvAmb7E6lpJpmM8ulu7qYbzoUy3Aow8irUsVCG16VIVkI4rpt4nK2g0MLJo0CIe892IaJk\nj+7GDrdfMNx65s2fdDIuGDEYOuOQKIFPpZg3aQT2HgyjJRjFgjfrcOu5wxCM6BhS5oMsUwyrKMLK\nm8ahqS2C8kIV/7r6CyvCHzDvw7hNRldCe2/5ygrvvtwkk6LeTgDjCSEFMNNvzwOwEcAHAKbArIB7\nHYD/in1+TezvT2L//33hpyc4kqAUaIskpx8Ue0T+raDnRHWOEq+EYQOLYMQGFYpkvp9JhGDVPZQQ\nx2jGsgIxCMo2lBIMKFRtnjbx1Nl7LzVSDmKdos/W1jVhweUjkyLq4gJcY2sI9fuCSQJXcyCCLU0B\nWwXFey9NXXBCoh3G/5sa/Jj+p8/w0+pK3HvpCDxyzWhsawrgg2/2WpNZAHhu5lgosep8qkwQiAAL\n3qxDY2sI67e34Klrz7AEPfO8UPxx7ZakCJcHrhgFwDm6p6kt4igOEAIsm16DOZ2q7CZOOFKdZ49M\nLUFGTCCcMZi90IDBOKQ0xbiIzsA69eM6MxDV+34xH5Ga1jXZrB7tlD4e0txLH48azHFxImq4Mz4x\nGJKqly5fX++aX64QUXKXeAT9qtlmardEiLkgxjiiOsPz6+vxz6OOQlgzUF6o4u6LT0HUMPDY+2b7\naG6LgINj6tNmFfllM2rQHIjY9hH3vwW67rN6y1dWePflJpn01PuUEPIqgL8D0AFsgqlyvwXgZULI\n/bH3/hT7yp8APE8I+Q7AfpiVcgWCIwbhqSdwA83gWLG+HlPOOBoSJeagwsUqb12RSwbruYhE4RgF\nI/Vt26u8gVJqCVxx4pPaVIPYVNFnlFJrcLurtd0S9OI8um5rksCVmHIT3078+4mD8/gEr9CTbPw/\n86zjoEgUMBhmPvc5AKAh5tknUwJVpqAU+HZ3AI+u24qKYhUrbxoHiRKosoQyn2KLBinzKbYohEQP\nwV2t7TA4TxJKUhUT+XZ3Gx5dtxULLh+J4wYUoiAWAbb7QKhL371ZKzZiweUjxQSiC1Kl2aabfss4\nHEXcfCjmk03Rqi+QzerRbtXQsK4AACAASURBVKWPp4Ix53btVvptpv1yhYiS29DY81NnBhjn4CBm\n+i0BLju9Cv2LVJQWmAsmew6E8ezH9Zj1T8cDnOOKJR/bIveXfrjNstPoXHALyI0+SyyQ5CYZrX7L\nOb8XwL2d3t4OYKzDZ8MArszk8QgEuQxjzp56rO8vkAt6EY9McclpQ2xV3pZMGwOPnFnlKBe9mHKN\nQMTA0x/VY9bZx8cqU3I89dF23HruiSgvyvbR5QapBM7eED7LfEpS2mx8Urv7QChlhdjuJsJOYkJz\nIIL+hQqemzkW/vYowpoBnypZK/Txgbw/pOGSR/+vLTIjPsGbeHw5bjr7OFuqfUWxxyxSkSCsxQ24\nq8p8ePb6M62+IU7d7jasnj0eEoWjF96wiqKUHoJOBT5eq21IOo9xwXJTg98y/1550zhMfeLTHvnu\nFXSqUComEHbcSr/N52I+2RSt+gLZrB7tVvtNhU+VHNu1W5WPZdm5+q0su3PuhIiS+5QXqmj0t8cK\nsTAQmKK0ZjA8vHYLrjxjKAb186KyxIsbfnQ8VJmiIVacKzFyf1ODH4vf3YwFl4/ECZWF4Bx44C3T\n/zZetVmRzOjNzvdmb0V0igWS3CSjop5AIOg5LOYdlZg+oxnueEkJjhwoBfoVKLY0E8VFw+lUyBJB\ngUfG/oQotAKPnBdeTG6hSBTrt7dYFc4AcyD06wtOyuJR5RYGM4XpcMLihkemMDK8uBH3hnvkvS2W\nt1xlsQdHxUJNCSGOg1iDwyZ6OU2EncSEZTNqcO+ar9HcFsWdFw7H3a//AxVFphfm0eUF2O0PYfn6\nekyuGQqgIzLj9bkTEdYMS6wDYInEHtk03f5uXxAP/3Wz42p//LuJNLaGENIZdraGcGdCgQ+naJDm\ntojNl8ypwMftFwy3nRMAuHXlpiSPoMQ03e4iH9uj9smrmEAk40b6bT4X88mmaNVXyGZREjfabypK\nPAoqOnkNVxR7UOJRuv9yDiBElNyHUoIijwTd4IjoZoEMhZoe11edORRhzcCeA2H0LzIXEThgReZ3\njtxvDkSgyhR7D0Tw1N+2YXLNUNz4o+PhD2n4z3VbcM3YYzConzdJrOutiE6xQJKbCFFPIMgRKHE2\niFeFKCJIA93gkClAZWqlcVPKLWP7TBHSGD7e0oRzqweDcw5CCN6v243zRwzO6H77EqpEkqqMLpk2\nRtzjCTh5K0V097yVUpE4GI6nylaV+fD63IloCURTimTz13yF2y8Y3uVKuJOYwBhLWeTiztVfoDkQ\nsaXcAOYAvT1i2Fb1E6Pw3ph7Fvxh3fodzW1RzJtUjRMrirBzv1k84+ZzTnCcHO5sacfQ/j5HwS8x\nGqRzxEi8wMeq2eMBwCaUxCcRP/hDjh5BLcFo0r5SRT56ZGoddyYmEH3dhN6t9Nt890YVlXRzE7fa\nbyr2t0ex6J1vbdVpF73zLe7/2amoLPEe9vaDEQPz19Th5nNOsLY/f00dHrlmNMoLD//4hYjSN6AE\n0HlHEal2neHjrU348ckDEYgY8CkSVIlgYIkH/7qqoxhGcyCCimIPVs0ej90HzIIai9/djLsvPhlr\n65qS7Dtu/NHxjmJdb0V0igWS3ESIegJBjkCps6dIpiOsBPmF6an3fYenHmN4tRc89RRKMHxwP0x9\nakPepW25RTBq4IVPduDZ68+0pd/ecu6JGJDtg8sRMu2tlIpUg+Gwxmwi2bPXn4kDIc0adG9q8KNu\nd1u3K+GdxYSmtrBjkYvfXHgy7r74ZPQvVPHQu9/aotuqynyo3xfEo+u2JgmMS6fXoMynYG9b2Pod\nmxr8mPN8LUYPLcWCn400q+F+uC0psi4uHv7xqtO6jQZJlUqsylLK3y8RJB3v41PH4PEPtto+F/ci\ndJosAMjYBCJfTOid0hfThcDZG7X0ELxR+7pQKug9CHFuv271+yHNcBRHfneJO2KHRAiaAxFbkaOq\nMh/cWq8TIkrfQaYEFAAhFAbjuHDkUQhGdbRHdOxri6CyWIVHsVttLJ1eg9/9+R+48UfH4+onN1jb\n8oc0x2eyP6Q5inW9GdF5qAsk4rmQmsM9N0LUEwhyBN0wC2VoesegRpEIhGWGIB18KsWk06tsnnpP\nTK+BT82sOiylSNs6lIllviJT4ph+e9v5w7J4VLlFpr2VUpFqMCwR2ESy/cGobdANOK+Edzc4kylx\nLHJx16tfYlODH6OHluKui4ajbndbx308bQz+7b++tjx34pUWK4s9+P1fvsEDV4xKKbqV+mTr80eX\nF2DxlaeBAFaV3+ZABHsOhpOOKS4WxjmUiBFKaVJlyLe/3IXbzj/J9vvi20k1WchUhFU+mNCnuj/S\nvW8kSlIU80mvH88XoVTQO/CY1UIilKTfflORWCk8jrmI4E5b9Ko0qe98aMooeDM87hLkBvHnfdz7\nV2fcTB+nBKpCsD/IUFniAefAHau/wP1XjMSLN42LLVgSzF/zFdbWNWFyzVBbO+1qEc5JrMv1iE7x\nXEiNG+dGiHoCQQ4R6pR2FtIYvBkucCDIP8qLFLw0a3zMsNesopxpooZZ2SsxbUtnBqKZNkPrQ/hU\niiem1+CXCRVPe0Nw7UvoBmBwZvNW0g0GTjJ7jlINhn2qXSRLtXKeOLjuyeAsFDWw6J0OYU4zmK1Q\nRnMgAp8q4cGfnwpFoqgs9mDPwbD1/+NReFVlPsybVI21dU343SU6Bpd4k37Hwsmj0NAasir7vjRr\nHADgzk4ThWc/rsctPznR2qc/pOHRdVvwwBWjLHHrUCJGynwKfnXeSbg5od0vnV6Dk7rxIuwt8sWE\n3g1PMg5AlamtH5clIF1txU2hVER25D+cA50zvBl3r9CW4rCI4mYmAYFzoQzi0i8QYkjuknht/jx3\nojle4R3XxGAcRV4ZjHPcEbPWaIw9j83K87AiSDtXvo2PA/7j6tNRVqhiZ0u7tQjnJNb1ZkTnofTL\n+bCAlincODdC1BMIBII8gjGAc47E4TDnPONVlDkH/rh2CybXDLWicV6rbcC9l47I7I77EJrOUeSh\nNsFVZ4YVnSswBYRgmEPTOSgx08kNTtDv8G2PuiTVYBiwe7y9VtuApdNrbAJV58F1TwZnqiwlpWv9\ntLrS5qlz35qOinfzJlUnDfg7r9pvaw7iYFhHZUmHIXw8jbe5LWp9d9E7mzH/smosuHwkSgsUFHsV\neGSCey6pxq9f/l9byi8A3HupXdxKN+2mNSYOJkbqPbpuC+ZfNhKc86wLNcKEvgPGOCKaAYl2/PaI\nZsCX5rlwSygVYsaRgendmCxKE5eusSw5ZxK4VcgrFHX21Hts6mjABU89IYbkLonXhlBA0wDGGGgs\nd5wzQJUJHl77HZoDETw+dQzmr/naKhZ1VKnPsfLt0f0L8F1zwBoHJNpzVJX5MLifc6Rpb/iGHmq/\nnC8LaJnAjXMjRD2BIEdI1Q+KcasgXTTDLIxBCaBxDlkCPBmen3pkilvPHZZUBMIjIk0tDM5xIKSj\nNRiyJhZlhQo8R6B4kArGAZ9CIREzfUWlBKpMkqI4MkGqwXCi2KfIFBHNsE0OO7fxngzOnCIDr5t4\nHFasr8elp1dZUXXxiJJF72y2BvyLrzwNA0s8+H5fx6p9XNxrDkTwwo3jMPO5zwEAo4eW4s4Lh+O3\nr33ZMVkoL0AwouP4ikIwzmEwYMGbdZhcM9SxoAUhBLta2w9ZfIvqzn5Ws88OYcrST6xqwAMKVVBK\ne13gy/WUpZ6gG/HFnA4459CN9M6jRyGgEYqG/e1W+67q74NHSW87bgmlQsw4Msh0obgSj4JA1LBF\noCoyca36rdMijZsLA0IMyV0Sr00gbECigCxR6LFBS3tUhyxRTBt/DH55zgl44sNt1mJdSzCKobHI\n9ZsTKt9WFHtACGzjgOsmmvYczYEI3ph7VlYXNVL1y6vnTOhyoU4soKXGjXMjRD2BIEdg3NkgPk+K\nzgl6CUIAQggSE6YIyXyhAUkC+hUoeG7mWNuguTdSf/sKnANLPvjOVoFvyQffiWjGBBgDtIT0Fc7N\nvymy15ASxb7mtgiueerTpIFX5yi87gZn8cjA1XMm4Ad/yFZ4o76lHS/NGo8f/CHHtFyDcTzxwTac\nVz0Q91xyCipLvLjtpU1WhF2if1Tiyv8x5QVmWm17FMVeGT/4Q/jNq1+iosiDOy8cjuXr6x0LcMT9\nfjqvxvc0/SbV+YhXv21sDWHO87WYN6kaC96s6/VIrHwwoXcrwjWscfgUimEDiyxPKIAjrKU3EHFL\nKBVixpFBpgsk+cM6Vn5iFhADIeCcY+UnO3DT2SeiQjn8Z0umFwaEGJK7JF6bx9//DrN+fDz8QQ0V\nxR5zYVKWwMFRVqjg/jfrrGfpwsmjsHx9PUYeVeIYyf7g5FF4fe5Eq+J9V2m36XK4lgap+uUf/B0L\ndU7P8XxYQMsUbpwbIeoJBDmCLAFhPXml0pvmCrngyCasMXxQtwfnVg8G5xwyIXi/bjcuGDE4o/sN\nRhi+3Lkfo48ptyKsNu1owehjylFWkNFd9xl8KsW/nHeS8NTrAkoBXQM0nVmRpopM4HMnoOKwOdQo\nvFT+N5xzTFn6ie39tXVN+D8Xn4I7XvkCja0hjB5ainmTqjG0zIdCj4wH3jInBuu3t2DJtDF4bN1W\nS9CrKvOBcY7Hp47BLSv/bq38qzLFg3/5BpNrhmLBm3XWBKKxNYTG1hAWv7sZN59zAkq8MlbNHg8A\nNgPv+O+ctWIjXp87EQMKPY7pN8MqitAa0myThTKfkpSyHI8sTDyH8ePJRiRWb6QsZRJCnCNc0xVF\nCICWQBT7g5qt+u2gkvTUQbeEUiFmHDm4Ub05FVHdwLK/fY9lf/ve9v61E49zZfuZXhgQYkjuknht\nVtc24p+G9bfGwZrB8fj732H99hYsv+FM3HNJNWaffQJaglEsX1+P6yYeB0LgGMl+76UGhpQVgBVy\nFHpkPDZ1tCvtyg1Lg54s1Dk9x/NhAS1TuHFuhKgnEOQIumEOytuZWSyDxgbpYkFakA4+laLmuAGY\n+tSGXhWOZEowoNiHXzzZsd+HpoyCLB7WFowB/Qtlm6cepZn3O+xrKBIBBQHjHEovFXrpKelE4fVk\ncJZqe3sOhq2ouU0Nfix4sw4LJ4/Curq9+N2kEbj74lNiUbnA+u0t1veWTBuDx9//DgCw4oax2B+M\n2iYQy9fXY9mMGjzy3hZbpb3EwhsLLh+JQf28KPHKSRONxtYQ2iMG9iHimH7z4k3jMO3pT+0TzyLV\nFokQ9/lL9O6rKvPBH9KsbYlIrPQwmLMokm6dIreq3wLuCKVCzDgySCU+uxWpR4hz9VviYgpDJhcG\nhBiSuyRG3beFNXgVCe99vRs/OWVQzJbmRPz6/GHY5Q/jlY0NuPjUwTixsgjXTjgWy9fX466LTuly\nTNGTdpVO5J0blgZO/bLTQp3Tc7yvL6BlksM9N0LUEwhyBEqAdofqtwWKiOIR9JxsCkdO1d8EHeR6\nFFoukK1CL10fU8eA2adKPY7C68ngzGlwHPfQA4B5k6pRXqiin0/BXa+aAt/Y48tx9ZMbAABX1VTh\n2evPhEQJPDJFIKJh/fYWNLaG4A9FcffFp6C8SMVvLjwZUYPh3ktHwCNT3Hb+SXjkvS0pC280ByJY\nPWeC42Sjfl8QJ1QWOkYsNrdFkiYLK2eNs0UixH3+6na3OU4I0onEEpVRTZzGDxE9/fED49yx+i3j\n2fEBEWLGkQHnyf7RlABuNTtCuGNfR0jf8bcRYkjuQinBoBIvWtuj2LGvDReMGGx56oV1cyxcWeLB\n3J+ciPp9QdwZq4K7dHoNnvyf5AJYS6fXoNTbM4km3cg7NywNOvfL8aj+zgt1ivDU7lWEqCcQ5BBO\nniICQbpko1BGqpYqWnAHusEhU4DK1IpCo9S8VgKTXBM+nQbMK24Yi9fnToSms7RFhrgIxRiDwU3B\ncmCJBy/PHo9drXYPvcbWEBa8WYdlM2pskW3+kGaJbatrG7G6ttESA32dhPW2sIb5a+qsCcR9//01\n1tY14afVlfjdJdXwyBSrZo9HU1sETW0Ry9cPACQCLJtegzkOabP/OXV0l+k3cRpbQ5A6RclsavBj\n+fp6PHv9mWiPGigtUPDAWx2VfpdOr0FZDy64qIzaAaXO4wea5pxKMzhe2rDD5j320oadrqUpHgpu\nihlCBM5NCEHSwg3jgOSSJmAwYPn6eptv2fL19fg3F/1sRds6sqGU4Kh+HhR7FbM/BoHOOCRK8fz6\n73HuKYPwWm2j5YU7uJ8XMiVYv70FW5sCVttsjxoo8cnY3BTAyQOLIXcjjKUbeZcJSwOZEsw86zjb\nQp3I1Ol9hKgnEOQIEY1DYwyJMkhUZ+BMrHQIeo4iA0RLLpShZLi396oEBR4Z+xPStgo8MryqeKjH\n0QyOFetNs26JEkQZw6sbszthzjU0nYMxBo8sWcKnzgxoenb6QacB87XPfIY35p6FIWmaRcZFqIf/\nuhnXTTzOtjL/8qzxSR565YUqBpV4wcBx2/knWQPm12obkjzqEqP7bj7nBBRTGcMHFcOjEDw2dXSS\nP97auibU7W7DG3PPgkqBf3lpU9Ig3+DAoFKPJRL6Q5oVxadQkhRd8PjUMXj8g62231xV5nOMboxX\n8tvU4Mdbv/oRJtcMxY0/Ot4yCX/gilHdCjn7gs4pwK/PnYjK4jQrRPRxGDPT1jW9I/1WkUjaEa6q\nTHHJaUMw87nPbVXM1TyIuHBTBBYCjrtkOlIvLjr85tUvMyI6iAWG3CDb92V7lCGqG6BEAo0trHAA\n14w7Fv/+tt0LV5EpFr+zGUumjcHcF/9u2V+YPrmmD9/qOROgSLTL35Nu5J0blgad2/urN0/Aonc2\n20TzRe9sxmNTRwOFaZ/GI5bDbb9C1BMIcgSPQnAwwNC4P2RFWVT196GoSKQwCnqOpgOFKkWEcOiM\nw0MJPAqBpmd2v+EoR7FHwkkDi6AzDpkSSNR8v58vs/vuKygScZwwK5IY9MdRZAI9Any/L2DrBxU5\nO+fIzeqbcRFq3qRqSwyLb2/3gTAemjIKv3m1w0PvoSmjYHCOaU9/ioevOh0rbxoHiRKosoQyn4JV\ns8cjrDM0t0XgVagtum/h5FGYv+Yr3H7BcAwfWIzdB0KO/nhR3cDgfj5Hf5z5a77C3RefgkH9vEkT\nAEWmSZEvb3+5C7f8ZJhttX7ZjBqU+lSU+lTHSr/xiIE5z9faju3eS7s/v2HN+dqEtfRztbM9GTxc\nCAGiOreWcjjMRQRPmvcNY+Z3EquYG8wwIwD7OG54SQFCwMkUnZsYcxD6DodM2oOIBYbsk837Mv78\n8MgUwaiOhv3tePbjekyuGYryQhVDyry455Jq3H3xKZalwYH2KFbXNgIAXp49HlGdwWAcT3203Xpf\nMxiuWvZJl78n3cg7NywNOvelLcEomgMR23NcFDRKDzfarxD1BIIcgXGgn0+Gb2ARDMZjkzeSNNAR\nCLojEDGgG+aAWDM4NAYUqZnt7iVKsL9dw67WsDVoHlLmRf8CYWgeJ2pwvPXFLssDzWAcr27ciRki\nUs9GoUfCiZVFlidkNgtluJmqEheh4lVeE/n3t7/Boimn2iadPlXCwZCGxtYQGOeY+vSnlgDBmFkp\nfWGsom2h6rXSWfsXqvjVS5uwqcFvReMpMnX8HYpMbUbfnUW3ut1tWHPrWTbvnLgGffsFw20D0CXT\nxuCtL3ZZUYaVxR4c1c9nDUgHlXhxIKTh16v+1yb6PfLeFtu56On57ZzWG/9uuhp5Pog0bhXKoJSA\nEIKG/e22fryvnIeucEugd0scFHSQKiIvS1aOaePmAoPg0MjWfZn4/Fhz60R4FAlDynyYN2mEmW0Q\ns0WIj/nilgZjji0HAKyubcSss4+3FnvjVJX5oBm8299zKJF3h2tp0LkvXfphsi+gKGiUHm60XyHq\nCQQ5hB6bqAHmYCYe8SQQ9BRKEavoZk+/TddbKV044Giw3kfG5L2CQgnOOXmgLVLvoSmjoIh7PGdx\ns/pmXIRK9MSL0xyIwN+uI2owFEBC1GBY8sF3VoVaf0zciwsQLcEodh8IO6aUtUd1yxcv/h2vSq1I\nwMTPgpuTEkpN/7QpSz+xHXNjawihqBnN5+QtuGr2+FhRDg0vfLID51UPRKlPweB+XgyOheg2t0Ws\niIBhFUU2gVCViC21OJ3z61Mlx9/kSzMCJx9EGokCwWhyoYzCNKues9ikM7EfP9RIPV1naApEoBkM\nikRRWeTp1h8qk7gl0LsZvSswIQQwDHukqcE4ZJcitDPt+evWAoPg0MnWfZn4/NB0DlUCDGYKeIQQ\nrP16N2qOG4D/XLcFa+uakuwyAODVjTvxxPQa/DLBUuOJWBGN7n5PV5F3mYpA79yXxn1yV8+ZAM55\nn4x2zzZutF8h6gkEOUIqQ2C3jIIFRwbZ8iRjjCOiGZBoxwQpohnwifB7C0KA8iLVFo1VXqSCiHFP\nzuJm9c24CPXsx/VJq9rLptdAYwwL3qyzpcAuX19vFaeoKvNBkSia2yJoj+r497e/wb2XVSellM1f\nU2ftMy5aBCO6o+fN4itPQ0swiuEDi7uM5nNKL7v2mc+wanaHFyAAq2jH6jkTAMAxAm5YRRG2Nnds\n76fVlbbU4q7Ob+dKxANLvLbfP7DEi1JfeoJrPog0BgM8MkWYMStt0SPTtCP1pBSRelKa7V3XGb7d\n22bzfVw6vaZHxu+Zwi2BPhNG80c6mm622XgrI4hlGrhkG6LKzp6/qkuioVsLDIJDJ1v3ZeLzQ6IE\nB9oNhDWGsgIVjHNcMGIwirwU8yaNwI0/Oh5HlfoQ1g00ByLWMU46vQp7/O14buZYKBKBTAkUySyi\nkUiq30MpQXmhaj0bW4JRlPkUbG0OZCQC3akvvf2C4RhUkh9R3dnAjfYrRD2BIEfg3HlQ3lfSDwS5\ngUQJNIPbPMmGlHkheTL7oCUEjpNBIVh1oBkcr21ssAplxNNvRaGMDlKNB7M5TnSr+mapT8XAEi+u\nGXsMSryyNYD3qWZI6+/+/A/Mm1SNymIPSnwKVIngmrHHWMUpHpoyCjpjuGrZBsybVI3mQAT3ranD\nzeecgAJI8KkSvIpkmyzERYvdBwxHzxtKYHk/yZQ4TkxlShCI6I7CFyFIEigXTh4FiaSOgFs9Z4Lt\n/cSiHV2d51SViEcMKTmkSsRx8kGkoQRo15Ij9QqU9AS0qMHAOkXq6cxANE11sCkQsQQ9wLz2N79Q\ni9VzJuCo0uyYrLol0LsZvSswoRRoizBoOrdsQ3ROUOxx5x6M6mbl+URbB50ZiOruDLBLPAoqij22\nBYaKYg9KPFkq234Ekq37MvH5wWBmrFBCoRlmf8zBEdEpdIPh6ic3YNXs8fhsewtemjXeaot//nsj\nVtU2Ysm0MXjhkx245dwTcd9/f528+DejxvH3OD0bV940LmMR6G4udgpM3Gi/QtQTCHIIgyWnH0gi\nfl+QJk5psJlGCFbd41MpJp1eZUu/fWJ6DXxppsjlM4ybFeOYORoGiVWQ6y1v0UwWTKCU4NjyQhR7\nlaTtt7aHceu5wzD3xb9bbeOZ689AsVfG3RefbEXW3XPJKWhsDWHph9vw+NQxuGVlR9W8hZNH4fXa\nBscUmFSRJHsOhi3vJ4kgZQW7VOllnCOpYMby9fV44IpRKSPgNIOlFRmXeE3cqkScSD6INJQ63zfp\n2i5wDvxx7RZMrhlqXc/Xahtw76Uj0tpOqmuspRs66DJuCPRiQus+smQWkqIgVoaBJLk3djE48Pu3\nv01q1/MvG+nK9ltDGha9Y24/bp+w6J1ve1TFW+AO2bovE58fqz7dicvGDEFn+xuDMew5GAYA+EMa\nVtU24g/vbcV/3TIRhR4Fl5x2FC46dTCe+mg71m9vwW3nD8PauiY0t0Vtz9b+hYrj73FaQGtqi2Q0\nAt2txU6BiRvtV4h6AoFAIDhsPDJ1rOzqyaKHUq5hMKB/oWxboaWUp50il88wZgoCnJsDGc7Nvyky\nr0w7rXYvm16DwaVmSqcbk4NUA+G2sIEXPtlhFVGRJYoXP6nHsr99b32mqsyHlmAUgOlh8+KGHVhx\nw1jsD0bREoxi+fr6lCkw8SjBzoU47ltTZ3k/qbKUsoKdROEoCnoVmlQwIy6ItQSjjkKgZvAeR8Yl\nXpM/XHlaRiYp+SDS6IYpimh6R6EMRSJI99T4VIp/Oe+kJG+ndBceZOosAh+KR3AuViYWE1p34Rzw\nKRTtCZkqPsW9TBVCOK6beFxSRDEh7uwgqhtYW9eUVGG8J1W8jyQyfS9n476MPz9WzR4Pg3MUeiSE\nCYPOODyUwKtSRHVmeegt/XCb9Sydv6YOd1003PZcXTJtDCRq9pebGvzW87iqzIeXZ423PHATcVpA\nS/X87UsR6Ecah9t+hagnEAgEeQRLMQpO9b6blPjMlMLejBDsSzDGEQjrkKhkphhxDoMZKPUJ4TMO\npYCuAZrOrHOkyAS+XshiclrtnvNCLRZcPhKD+nm79aI5nAmLREz/nNW1jQCA0UNLcddFw/HWV3ut\nwf7jU8fg8Q+2Wt9ZXdsIfyiK31x4MgBg/mUjMajEC8BenCIx4uzYAQXgHNjR0o771tRZab0+VUKp\nr+uINSdR8P+8/g/cffEpeH3uxKQUWKcIuIWTR+HJ/9mWJBAum1GDMoeLnHhNnAqMuDVJyQeRJtQp\n/TakMXjTXFTRDaDIQ20LDzoz0hYHvQrFkmljbJGnS6aNgTfNdOB8qEws6B5CzAWdRBh3z1PaYM4R\nxf+WZgRqKrryIxWY5Pu9TAhBVDPMLCvDFN4YN/+tGcyyxWgORDCgSMWDPz8VikThUyWsnj0eYZ3B\nYBxPfbQdV4wZ4riItvtAGB5FSnpWOVlIvFbbgGUzajDn+VrH57kg/xCinkCQI1AKwGHgnOmqpYL8\nQjM4XtqwA1POOBogZkXLlzZkPg02ajCENQNyQqGMsGZAFZVeLGTJ2YReFin2NpzSsHqDVOmiBarU\nrRfN4U5YOqfHNgciaU7zCQAAIABJREFUKFAlvDx7PPYcCKMlGMWLG3bguonH2SrFXjfxODz07reY\nedZxkClBc1sY+4LR5IF8kYprn/kMFUUe3HtZNQDg7otPRnvUwIBiD4pVuduItWPLC+FVJPzgDyFq\nMNy3pg6bGvyWH17nFNjECIa4KLf43c3Y1ODH1qYAXp41HnsOmr/tkfe24PYLhiedr8RrsvTDbUke\nQ/FJSq5Ec2XrONzyotQZw4GQjtZgyOqjygoVeNMUTnWDQ5WJbZHHFAfTW1xyKtAS94CsLPamtS1B\n7sJYclulDkLfoSJT4lgp/FAiR51IFckshj8d5EOVcSfiz/6H/7oZd110MiQCSDK17JTe/vIHjD6m\nP164cRxa26Pwt2vYF4hi+p8+s7bx/h0/xrl/+B/r761NASyacqpjZP1jU0cnHUOqwhWJ1eZzJcpZ\nkDmEqCcQ5AhRzRx4aOhIn5EpQVQDIMaugh6SLd82t7yY8hm3TOjzmWwWykhVMMEf0rpN8zzcCYtT\neiwH8Oh7W3HFmCFWVVx/KIoVN4xFMGrAp0jwyATXTjjW8ttrCUatzyYex8pZ49DYGkJja8hWXOPY\n8gL8/i/fYP5lI3FUqa/LiDVKzUWCKUs/sb3f2BpCSDMc04JorKJtYoVcwIxW2NoUwMznPrfecyqW\nkXhNNjX4sfjdzVhw+UgcX1EInyphQKH52VyIAMlmJIrlPdnJUy/dQkWMA0s++M7mDbbkg+/Sjmii\nlDo+Dx64YlRa2wlrzkJ7WBN9Zr6hGXZPac3gUF1a8CIAClQpqVK4W3dlMGI4+pE+cs1olBe6tJM+\nTj5UGXci8dn/0JWnIhgxx3lxb+nzRwxGIKzh9lX/a0XGx1NxAXOMYTC7JcWmBj/87R2ln+OLaM2B\nCAzGk561XS3I9WXBVJAeQtQTCHKIg2EdugGr+pfGGIpUcZsKeg4lQHmRYkufkqTMiyKqTJOM/pdM\nGwNVpJ9YGMxZ+HQrBShfcBIneoNU6aKL392MqjKzYmdzW8RxtftwJyzxIhpFXhntEQP1+4LWIH7q\n+KPx4M9PhVeR0L9QhSwRRDQDP/jNghmbGvyW316pT3E8jsRCF3GfnqoyH+ZNqsbauibccwnDD/4Q\nJGIKMqlW9FMJn9uaAghGdEcBy+m8Lpteg9/9+atuz1d5oWpLIWoORKDKFA+8VYcHrhgFSgma25yj\nuXo7AiSbkSicm5XPScKioERJ2p5kqkQdI5rSjbguL1RTei2mQ6oCLSK4Ob9IJT6nK0qnQpadN5Tq\n/XSRCHH0IxXttIN8qDLuROKzPxRlkCjADFPQkyiBVyHYc8DAPZecggFFHrSFNVuF+oWTR+HVjTut\nwlfx/lKRCQp4x4JY/LP3x559nZ8pQsATCLVAIMgRFBkgGkHnqkmKuEsFaRDRzFU8QoglijDGEdEy\n66nHGIenU7qVwczoHYFJplOABIdHfLX79bkTLWFt8bubrdX1W1duQnMg4hh95caEhVKCymIvWCGH\nR6b4w1Wn2bzvFk4ehTtWfwEAWPCzkVZEXqL4ePM5Jzgeh0+VuhQsozrDtKc/xcLJo6yCG/HfmJhS\nqkg0yacnvp3mQMRRwHKKIpAorIlNV+eLUoIBhaotAiaewhs3oc+VCJBsHofZ39ojnQzGQdLsW8xF\nIdUW0VRepB7SopBHprbtHErRpFRVm31q3xYCBHYM5ixKuxbEnmoY4tLwxKtS50JCorK9RT5UGXci\n8dlfv68d/QsVyzfZYBwKNRfjdrS044G3vkFFsYoXbxoHf7uGPQfDWL6+HtdNPA4vbtiBeZOqMajE\ni9ICBQ+8VYfmtigWXD4SR5cXYLc/lPTsO1Ryxa5C4C4ZlQsIIaUAngYwEmbXeQOAzQBWATgWwPcA\nruKctxJCCIBHAPwzgHYA13PO/57J4xMIcgnOgSKHqkm9UN9AkEdIlOBA2MCu1rDNt61/QWYnQRJ1\n9ouTxEDBhlMKkKCDVBpwb2nDicJaoUfGI9eMxramABa9Yw6mAThGX7k5YTENtjnuWP0F/nPqaCut\nNj6gryrzobyoQ+gaUubD///fX2NTg9/Rd27Z9BoAQP8CBa/cPAFhjeH7BMFyybQxeOqj7WhsDeG3\nr32JeZOqMWvFRqyeMwGVRR5sbQ7YftdjU0fjhRvHYe/BsE1kA4CQZmBXa3vSRKFzFAFjvMfni1Jq\nSykG7AJgrkSAZPM4JAqEdW6NFziHOY5IMxIpGDXw9Ef1mHX28Vb62FMfbcct556IAWlspyUYxbXP\nfJZ0LtKNWnRKSx9YYlajFuQPEgWCUXuhl4jOUOiSKBaIGJifYDsQNRjmr6nDI784HeVFruxCPNt7\ngBtCf66R+Oxf9M5m3P+zEfjB347SAgXFXgVRg6FAlXB8RSH+cNVpYBxgnKGfT0GxV8ZvLjwZd736\nJTY1+K1CWf9961mYXDMUJ1QUomF/CHeu/sJ6xh7uMyXfC5YcyWQ6BugRAO9wzqcQQlQABQD+PwDr\nOOcPEkLuBnA3gN8CuBjAsNhrHIAnYv8VCI4YnFbaJRG/L0gTVaY237bemNtSCngUybZfRSai0Isg\nLRgDNIOBc7Pf49z8m6J3J0hxEWpXa7vN9w1wjr7qrshEuqiyZPnnaAazReU9NGUUojqzUr3+713n\nYOZZZgGNTQ1+LF9fjxU3jMWBkAZ/u4byIhWXPfax9f2XZo3D8EHF+I9fnI6ozvDUR9utyURja8hK\n4f3BH4JusKSU0ltXbsKz15+Z5JMXT8Od+dznKScKus7QFIhAMxjKC1W8/suJ0AzW5fnqTjDNlQiQ\nbB4HIeaEOcxMYYTG/k43fVGm9irMgHldbzt/WFrbcStqMZ6WXuxVRFRJHuNW+02FRJ3TY91qR8FU\noqHw1LNwS+jPNSglGFZRhFWzTcsbRaIo8akwYgq1ubDNQRCzSSDAvjYNqkzgVST8YW3HohhgnpMf\nDoQx5/lajB5aijsvHG5L1z3cZ0q+FiwRZFDUI4T0A3A2gOsBgHMeBRAlhFwO4JzYx5YD+BCmqHc5\ngBWccw5gAyGklBAymHO+O1PHKBAIBAJ3CGsMjDF4ZMmqWqozA2FNTL7ipDoT4gx1IEtAUAM0nZne\nopxDkQmylaGTTvSVm542cYFo5YbvMfmMobbohgFFHqzc8L312YZYhd7FV56GimIPdra0447VX1gp\nuy3BqG0Af81Tn+KNuWdBkSimPf2xY2GQuEdf/DuJmIUKjKSIwEQD8MQqpQQEUd1AoUdCY2sYN7/Q\nkbq7dHoNhlcWwR/WsftAyFG06U4wdVtQPVSyeRxxL17b8RDz/XTwqRRPTK/BLxOu0aEUWlJk6njf\nKIcQmSO8ovIfzp3br1uZKqrknB6brldkKoSnXvfkik2C2zDGsbXZ9JQ9qtSLsG4A3CxSRInp+fr4\nB9/hNxedjCKPjIjGMKBYxZ4DYby4YWdSRfvE52h8kW7V7PEwGIcsUVQWeQ7rmZKv10HQjahHCPlP\ndOE4wDn/VRdfPw5AM4BnCSGnAagFcBuAgQlC3R4AA2P/HgKgIeH7jbH3hKgnEAgEOQ7nwO/f/lZU\nv+0CiRLTCyqoWe/5VEmkKHfCp1BIhMNgHColUF0yMz8UejP6qrPPzbCKItx09ong4PApMnTDtGZ4\n5x+7cc7JA/HWV3vR2BrCsx/X484Lh2N/UEN7RMfQ/gX449WnYVdrCMvX12NyzVDbfuID+MH9fI4+\ne8vX13fr0ffDgTBeq23A6jkTwGMz71tXbrJFHDS2htAeMTD9T5+isTWE9/71x5agF///N79Qi5dn\nj8cvntzQZSpQKmGn8zkb3M+96JtDIVsCFGNAxDDAYhGujMNMb5PSj3B1KrSULjIljiKK8A8VOGGw\n5Mkm4+6Jeors7BXplme18NTrnlyxSXCbeOTbvEnV+OvXu3HN+GMAAKpEwDhQWqBi3qQRoJSj6WAY\n89fU4c4Lh1sLYvGK9oA5Rmxtj9oi83513km477+/xtq6JvP5OOMMDB906Kmy+XodBN1H6m2M/fcs\nANUwvfAA4EoAdT3Y9hgA/8I5/5QQ8gjMVFsLzjknhKTVZRNCZgOYDQBHH310Ol8VCLJOV+1XN2BN\njuJwzqEbYhAs6DmyZBZY6VxwxY3ndVft15Oi+m0+eKa4RdRgYJzbUpR1ZiDqmht43yeTnnqHMn7o\nreirrnxuGOP49mCbLcLtn4ZX4MGfnwpFovCHNDz9UT1uO38YNIOjfl8Qj67biuZABMtm1OCR97bY\n9lVV5gMhBLsPhDCwxINVs8djXyCKskIVbWENk2uGWj55r9U2YOn0Gtu+E4tpDCrxWhVonQpf1O8L\nWpMHSpyj/qI6S0oFiouFXZ3vI80bqKv2SymgO0S4+pRsHCkQihpY9M5mW4GTRe9sxmNTRwMiHfGI\no7u+lxKgXUv21CtQ3Bk/tIWdvSJvPe9ElBW4sgvhqdcNuWKTcCh01X7jkW9LP9yG+382Ev+PvXOP\nj6o61/+z1r7MNSEXSESCkiKgQaEQRS491sqprUfUY8FaES9UBWutPfXen6XiwZ6PArWnVhGkLV7q\nBVRaqbaAR/G0B2pVpFiNAiJqokBCLpCZzOzZl/X7Y8/emT2zJ8yEPbmu7z86k8zMZrJmzVrPet/n\neeaNT/HtKSdCoBS6zmAkLUQkkeDhLR+5WmQciatYseUjzK4diZWv783wy91c1wgg+f345NtY/73p\nqCj229eQT/BFf/47cLqmS1GPMfY4ABBCvgfgK4wxLXl7JYC/HuW5GwA0MMb+nrz9PExR76DVVksI\nGQ6gMfnzzwGkHidXJe9Lv6ZHATwKAKeffjqPEOD0K7oav5IIRGMMqsbMRbnOoDOCkkCvXCqnn6Ko\nDAIBBInalU6AN+m3XY1fBqA4IDrSb0XBs3C5AQFjwAObd/Nqxi6gxDT4Tzf8lz3oY+ru+qFQ1Vep\nC3FCiKvPzbqF0yAKBA++utte6JeFZCzb9KG90AdMAe28g8NxYnkQ40cU46G5kyCLAkoDEn709XGO\n9p6V82qxeMN79sn/swvORETR8PCWPbhqerXDv++q6dXwiQSLZtVgbGUYumFWUt578WkYGupsA3Lb\nKKycV4tFf3jPvkbdYK4VAnqaYmv5+c1Z+bcuhbrB5g3U1fgVKCAJBBTEtj8QBPP+fEhoDIqqQ6Sd\ngoSi6qB5mgRYnpDp7Yi8GmRwcrS5l1KzutMwGMBMjz2ReufJS4m7V+RNeXpFZoN76h2dvmKT0B26\nGr9W5duO+jYEfRRzp45CU7uCxiMGCDHXDociCiqLZdxx3im487xT4BMpKCVoiSaQ0A2s2PIR5s+o\ntgO5Fj65PfndPNXxPQ902l9Y5Hu41Z//DpyuybXwuBRAMYCW5O1w8r6sMMYOEELqCSHjGGO7AMyE\nWd1XB+AqAPcl//ti8iEbANxICHkWZkDGYe6nxxlMqBoQkikUwuz0W59EoGq9fWWc/oQkEhyJGmho\nidknxlVlAQRDhd1M6Ya5GRTSNoN+vomzkbNUM8q8mtFG000jaSNZbEqIeXug2b2kL8Sfv36aaxXb\nF20xDA37sLmu0V7cW+bZqUKd1S7bFFHw+xtmYERp0BYNy4KSXflGCLEFPes19hyM4pk3P8Vt3zgZ\nCd3AmqvPQETR0Niu2O27S16qw6JZNfZmY/0N04/qe2cYhqN6b/VfPsaKyyc7xv8j82rx/NufOf7d\n6X5+2YS6bN5A2RJ4BzK64R40kG8RMAFwJKahJdr5/VEWkhDMs0+RV4Nw8sEwTFFa1Uy9hMC8bXhU\nxF7odvCB4qmXT8VXdxiI/pipc93Na9/FA5dOQGWxHwZjECgBJcDwIX40HlFgMIaOhI7SkIQ/v/sF\nLp1yIgRK8N2vfAllISkjEEOkxPUgLPVv0p3DrYH4d+DkLurdB2AHIWQLzLn2LACLc3jcDwA8lUy+\n/RjAfAAUwDpCyDUAPgXw7eTv/gnAvwH4CEBH8nc5nEGDJAJtMcNRqacxgpIAF0U4uaNqDCIFTqoI\n255ImqHbi+VCQWCGZbREFcdmkFeadqIbDD6ROKoZdUPPqFQazIgCEI1nViwP8R/9sf2J9IV4czTh\nunhvjibQHtccP0s1zzY9eVS7XRYwxa6WqIL9bXEsTGmbXX3l6Sjyixkn/w++ugf/edF4LNv0Ia6a\nXu0Iv0j32AOSlQIJHYbBuvS9a4kqjo30to+bcc2/jHKYfg8LyRAnj7T9AVMFSotsJt7ZvIGOlsA7\nUFG0zPZFf54HBpJIEPSJaEnx/Qz6REjd8LX0idTRjsitGDhdoerMruxnydteVGhbFLI9NiALrqJh\noB+14A42OwOvSD3QiqsaBErwWUsMlgnO0LCMpRtNv+njiv04viQAQhj+ZWwFblm30/7e/uONM+xq\n/I6EjspiHzSdHTXghQdfcCxyEvUYY2sIIX+GWUEHAHcwxg7k8Lh/ADjd5UczXX6XAfh+LtfD4QxE\nGAPCPgFxYtiVen6ZemYUzBkcCJRA1Rk+ORSxF68jSv0QfIVdlPEQiKPDhc+jYzD3oIyBpnumL8RX\nvr43I002VdxK97W7aeZYfNEWxy3P7XRtZ91ZfxiLXnwv4/R+7YKpGUJYU0RBRNEclXrxpCCU0A3c\n/s1TcNtznZuPqtIAdGZuALva8JUEZFQW+x0baYFSBGQBJYHOCpBxlUVYt3AavmiLYUhAwrJNHzoC\nN7K1bbpVg7kl8A7UdtxUsrXZ5tt+69Wh0KGogit/+2bG2Fx/w3RUFA0whZ7T56HEfY7Kdn++uM11\nlcV+lAT6T2XqYLMz8BLrQKslyhDXDIwoCdjzpywCP5w5FmG/CMYAgzH87KW6DPuMLw7HHZWeW+/4\nGiqL/DhS5HOMq2FFPpQFO8dVXwm+KHSVJ+foHC39dnLaXVY67fGEkOMZY+8U5rI4nMGHWbXjPKnU\nDQbCJ0VOHlAK+CTBEcYgid5503SFLFLH6/LOWyc0i/DJFz6dGIZpKs2SKZ4saTJN0XcHU3cWs+kL\n8dTqu/2H42iOJuzqu6rSAIamJDeWh31YuvEDNLUnMoTAVVfU4t6X63DNV77kenpPCFzFQ0sIu/2b\n4xxVAY9cPhlRRXW0BS2bMwEHDsdx2/PvHrXFZ1R5CGG/iA5Fx75DUdz23LtoiiiOChBKCRhjmLPy\nb66txdnaNtNbfgH3BN7BULHgVfutXyI4osBxKFRVFoBfym+Oiqvu1SNxlYcCcXqe0oCEw3E1owK1\n1KMkGUoJTigNwi8J0HQDokBREfb1q+92XvF17KgaSwYemn93M7OOIOgT8LOXTSHv3JoK3HjOGMd3\nXOphFNApylFK4EtbV/tE4hhXfcHqgFd59g2OVqn38y5+xgCc4+G1cDiDmv64meX0PShxN0zn36u9\nj2GYC77UBZpumG2MHJO+luJ5NLq7mHVbiF81vRptHSpU3XCEVSybMwH1LTHMf+wtAMDaFPPs5Zs6\nE0arSs2Sz811jZhdO9L19B4geHzbPiyaVYOKIh+GBCTc9+cPbPGwPCxj+SUTQQB0JHTIIgElzjbK\ngCzgng11OW34KCUgIJj3m787riU94VYSqW02bv2bykMyji8J2Am72Z7fEhW/aIu5JvACQFO7MqAr\nBwQKRBOZ7bchOb/TnLjqXqkXVxmG5HM9xN0Lqr95jHF6BkoBuEwlXh1GtsZVPP/WZ5hz+gl2+u3z\nb32Ga84ajQrp2NfYhsGwpynSr0WNvlLx1Z8RKEEsYa7zjsQ0BGUBh3UDxX4Ri2aNxx3nnQJKgJAs\n4L8v/TJKghIORRLwS9RxcLbqilqUh2Q0RxO4bPXfM/4mqYdphsEgCaRXrQ54lWff4Gjpt18jhFAA\n0xhjW3vomjicQUl/28xy+ia64Z4il2/FRr4kdAPxtNTEuKo7vD847u234O23Nv1NlM62mH1u4TQI\nAoGqGa7Ve1aVmdV2alXmAcDiC2sy2m1ue+5d+7FtMdXefKUm5a1bOA27DrSbybMu7byr5tUi5KO4\naeZYu5X33JoK3HneKbjr/BqIlOCX/7MHM2sqURKQkNAN3PnCe/jPi8ajqjSAwzEVCd3APRvqbBEw\nlw1ftgqQ1ITbJ747xRY5d9S3YclLdVh95eldCnrpCFmqEFuiCXzvqXf63SY7X9wq9fIlrhm4ee27\nuP7s0XZC98rX9+K/v/PlvJ6nr3qMaZqBxogCVTcgJaupRO711+sw5h6U4ZX9TFzVseqvn2DVXz9x\n3H/5tFGePP9AEDX6QsVXf0cUAELMcIzysAzdYAjIAhKageaIgrKwjINHFDDGcNnqv9uV6Su2fGQf\nZFUU+XD8EHNRGFO1LqsnDYPhi8MxXL3mrS6Fv0LDqzz7Bkf11GOMGYSQhwBM6oHr4XAGLaLgvpnl\nh2ScfIirBl55fz/OqRkOwKzY+NPOL/D18cML+rqMAQ9s3o3ZtSPtzeAL2+tx9wXjC/q6/QmddbbX\nW7Dk/RwTS4ROF6U9sj7yFMNgWRfdMVXHlave7LJqI7XtNJXFG+rwwLcnorFdQUI3HKf4gOm/ly6Y\nrL7ydAjEDL2whK3lm3ZhyUWnYtTQEA4eieMnf3gPN80cg7BPtEXDtpiKW9btRFNEwbqF07Dt42as\n295gv1ZVaQCHIgk8+Ooe3PqNcY4KQrcNn1srcrYKkNSE2yt/+yY23DjDkZ6bb2UdpdSuQrTmICu9\ntz9usnsDkbqneOabEtoXPcY0zcCHB9sd3pQr59Xi5MoiLuz1MoQgI+nWYPl7QmaDZqkc9cpTT8nS\nbq70I1HDLcF8IFc3F4qARJHQTE9gMemNfuBwHC0dCaz+6158/2tj8PCWPQBgV6bfNHMMRpYFUN8S\nQ1nyO3XXwXYcOBzvsnryUFRBY7vS64Iar/LsG+SafvsqIWQ2gPXJQAsOh+MxCRXwixSxlJN2v0iR\nUAFwX2lOjoR8FLXVQzF39RudvljJCp1Cv+4PZo7F91I2TD3xuv0JxoAVWz7C7NqRCEJAQjewYstH\nXPhMQdXMuc/aRhCYt1WtZ6/jaD55VttttkX3p80dOVVtWG2n6cEVuxsjtrDyzHVnOkS8pohZ6blu\nwVQwwL6+5mgCTRHF0ZLbkdBxqF3Bdx59A4CZAGkwZrfypkIIMsTCX3x7IkpDsv28lkjoEwj8aVVX\n2VqRxwwLZ1SAuCXcxhI6RpQGu/kXMytNfvT1cVlfZyBXDmSrxM63QjsgUzwyrzZjHg/k2cbbFz3G\nGiOKLegB5ni4/nfbsW7hNBzP04p6FcYyq7EpgWeVehIlrpWjkkfjkRC4fg/0NzksPcGckx8Jzexa\nISl/+aiiQzMYxlSEceW0UfjTu587PPWaIgrKQjJue+5duwJ+3cJpuO6JtzEs7MuoPk89TIurOpqj\niV4V1AyDQaDAqnm1WJjyvcGrPHueXEW9hQBuBqATQmIw19mMMVZcsCvjcAYhR+IaND25idUZVMNA\nWM71Y8rhmKfblcUynl0wFbrBIPRQeqiiMpQGRcfrAgyKys+BLHwixY3njMENT71jL3xWXD65x/1P\n+jIMyUWwYx4EQj04D+bik2e1W7ktuh+5fDJ++uL7jufMJiiJWTabqabZa7buwy3njnNUPTEArTEV\nlBCMqwyAUuJon7JaclfOq8WiP7xnP1dbTIUsZAqJVaUBGAbD0o27HJVu//WnD/HQ3EmO1z4SS2Dx\nhrqMwItDUSVrC1pqBQghBIs3vJeRcCsd4+cgtdIkpurY2xixw0as1xiolQOUAB1qpqdeUMrvPVU1\nhrCP4pnrph5T+m1f9BhTdcO1okUrtDcF56joBjKq2A3mnahHCEFQFhzzWFAWQDyq1MsWQNQXK8w5\nhYMSIKYaaGiJYWhYRkAWIVKCESUBHDgchyRQTB09DD6R4L5vnQa/JKAsJGPl63vt76mG1pg9VzW0\nxjJ8cyuL/PaBIyUEL2yvd7Xa6AlBLXWtNCxspvRWDw0h6BMwNNS/gmIGAjmtkhljRYW+EA5nsEMp\nkguMzlUMIT2TWsoZWGgGsxfDjJm3822fyheBEhyO6/i8NW4vmkeU+lEWHJib6O5ACDAkKOGx+VMc\nycR84d+JYTAoqg4hxZtRUXUEelCMycUfyfKQsRbda64+A4djKpqjCUQUzTWwwU1QiiV0h5Cm6gYC\nsuAwzf7hv47F+u31mDyq3FHhObt2JJa8VId1C6fZ3nPp7VOGYWS07i6+sCZDSFx1RS0kgbq2Xu4+\nGHFU9lWVBrBoVg0WPrndfl/KQzI6FPcWtJiqY//hGGRRwPAhAbTFEpg/ozoj/c+ao7qTJmxhVZoY\nBkM05e8w0CsHNN30FDSSSwhCzNv5FibKWdJv5TzTb/uix5iURcwWue9rr+NV0Es2NMNwt75I7/nt\nJozBtfWfV+EPLqIJHRvf3Y+LJ1dBNQyIlOJ3f9uHNz9pw00zx+CE8iDaYyqK/BIAgrBPxD1/fN8O\nvgLMOUnVmatv7vobpjsOS55bOA3zZ1RjzdZ9tidfWUhGWUjqEUEtdZ5vaDXDvCw/Py7o9Tw5iXrE\nVBouB1DNGFtCCBkJYDhj7M2CXh2HM8hw89TjcPoDlAI+SXAku0oiF6VTiakGttQdwDk1w8EYg0gI\nXqvbj38tsN9hf8IcMxT1LR0OUUESe26BmIvpc6qHzI76Ntz+/Lu4/Zum59ywsM/V885NUJJFIUNI\nO7emwpkMKwBnn1zpeD6rrdQKnDgcU1FZ7EMsoUMSKQKyAFUzN6zprbsAUD00hCe/OwU6YzgUSeBI\nTMWGHQ0ZrZfplX7We1GSTHCy3pfmaAL7DkVdRZO9jRF7sb/6ytNR7BczKgKXbtyFh+ZOghHoXppw\nOoPNH0oUgGicQdWYXeGqM4IheVp3dCgGPvyiDZNOLLcrrnd82ozJJ5Yjn87ovmicXhH2YeW82gxP\nvYowbzfsbVQNkAUCxWC2/YwsEM9sF4ws1hc/9Uh0C2exHwlz+5FBhUgJ1m5vQH1rDNefPRpH4irm\nnH4CvjPlRMiVrweqAAAgAElEQVQiBSGAJPiw+b39qK0eCkqBH319nOOA6/7ZE/Do/7r75oqUOA5L\n/utPH2DxhTW4bMqJCMoC2uMaykIyiv09c3jVF+f5wUyu/SwrABgAzgGwBEAEwMMAzijQdXE4g45s\ne40BugfhFAjDAEzr086BwxjLMKH2moTGYBgGfKJgi9KaoSOh8UWthUQJxg0f4vA79NLXZyBACRDy\nCTipImy3//V0+m0ups/pSYFNEQWVxX6sv2E6VM2strP+P5uglM2L5oczx8IvUZQEzMd83tqBpRud\n1YBWW6kVOPEfa/+BJRedaotnD8+dhLhqIOwXEUhrO2MAmtoVXPDQVvta1i6YismjyvGrV3c7xLZY\nQnetOmyLqY73JaHpjpAOt1Zkq1pr3cJprhWBsih4WuE1mPyhCDEN2gViGrTLSduFfKuARUowtCiA\n7zzqnKPyrfTui8bpokhxcjJxOtXnj4dk9D6UAu2K4RClNUZQ5PNmvEiUYP6M6oJ56oVkGZXFLMP2\nJCQPzMpgjjupnqR7GiO4aeYYfGlYCADwyvv7MWNMBQRK8K/jhyMgUVz08DZsuHEGnl0wFZ+3xtAW\nU+3v9j2NETy7YCoIzPm0NCDhiyMxx5y6o74NizfU4VdzJ8EwWI97l/bFeX4wk6uodyZjbDIhZAcA\nMMZaCSF8puJwPMYt9ZHDyRdVZ9D05OKYMYgC4NHaOCsEwJGYhpZozBYPykISghL3hLQQBYKhRT6H\nwDK0yAdR4J9zC6/aCI+FdMHOrdLuWCvB0r1oll8yEZXFfnxyKIqf/OE9269uzLAwdIOhKaLg9uff\nzUigTa3YCyaDKxpaY2iJqlj04ntYNKsGL2yvz6hQmV070r4WS6QrCUjYXNfoaAWaNLIko7rJ8vxL\nfV+yhXREFM3hndfQGoNAkPX93X84xk/+uwFjpgUCSTYZEpi38/Uk0xnLEIEDyXCVfMjlM9QbiCLl\noRh9EErcO1W8WgL7JIrysOwY1+VhGb48PSezQSmBohpQUkRJxghoiH+3DzZSPa0JIfik6QhOHj4E\nM2uGQ2cMhsEQUVS0RpkdEAUAtzy3MyMwC4BtWbHrYDsa2xXXYK09B53V8EerbD8Wi4tU+uo8P1jJ\ndbelEkIEJM2+CCHDYFbucTgcDocDgRIEZAGIqvZ9AVlIBmZwACCuGti6u9FuvyXJ9tuv8/ZbG6/a\nCI+FXAW7Y6kES/eiORxTcWvaot6qarv35Tq7As5KoD2xPIgv2mKOij2reg4wU24bWmNY+fpe3PqN\ncc7quXm1+NWruwHAIQxef/Zo1w1DSUDEkotOxeiKMPwShUgJHpo7yfG+uIV0rLqiFr/8n92Of3dV\naQCU0qzvr1sacFVpAJSYB16FrkDwarPT01AKJFRm+4aZfmEMUp5eeF4ldA+29mfOsWEdYqcfanvl\nN1vsl9Ee1xz2ID6ReNameCiq4LLVf8+Yt9bfMB0VRT345cXpVSgxPaytda9uMIyuKEZDSxRNUc2u\ngLcO2qyAKMNgWdOZdx1sx4HDcSx68T3XYK7UYK1cKttzCQLL+d/L5/k+Ra6i3oMAfg+gghDyMwBz\nAPykYFfF4QxCsqWTFjq1lDOw6M3AFVmkjkUzr8B34hMpJo8qd7Tf8vRbJ5oO+EUCgRC7jVASerZS\nD+ieYJePIJTuRVMSkFwr1FTdwOa6RjS1JxxhGrph4M71/8yamNuR0FFVGsCO+ja7eq48JGP4ED98\nIsXs2pH43tknYUhAwn1//gA76tvwwvZ6rLh8siOdedmcCahPGmBvveNrnRvUUOb7lb64Lw1IGX5B\n1il+tvc3WxpwQ7I1acywMFpjakE2EF5udnoawzArnayUWgLzdr62C5JAXBO6pW5UE3vV/txfhVZO\n7hDiXmnqlahHKcFxRX40RhRoBoOPEk/bFOOqu7dYXOX1L4MJq9NA1Zndhu2XKRQdjgr7n18yEb/5\nv4+x+orTEYlraI4ksqYzX/fE2/j5JRNd03BHlAbwg6d3ZFTDd1XZ7nWI0WCyuejr5Jp++xQhZDuA\nmTDn2n9njH1Q0CvjcAYZhgGougHGzEUGY+ZtCq6McHKn0G0snO7DQPDyzs+x5uozIFBTtHr+7c9w\n7Vkn9fal9Rn6QqUekL+QkK8glO5F0xZT3ZM5KbHFOcuDzhK6ukrMLQtJ+PklE3HLczuxo74NS14y\nq/3u+eP7+Mn5NfYGY9LIElx/9mgsOGs0ysMyFE3PaL28Z0NdTj45bov7bKf42d7f9DRgK0TjzvNO\nxnVPvI2nrz0Tc3/99y7f4+6KQH0xsTVXKAXiaZV6qs7gz7NSL6Ez1znqiunVnl9zLvRVoZULjd6T\n/vZ5+XZqmoFdjZGMkJSTK4s88VQUCHGdv7mzxuDAmg8IzEA0TYe9fpFFgpFlATx5zRQ7BEYSCO46\nvwYBScC3HtmGYWEf7r6wxvGcRX4JjDH7QMstDffZBVNdPW+7+q7m4RYDl5xmMkJIGYBGAM8AeBrA\nQUKIVMgL43AGG6IAaAagaAZ0g0HRDGgGr3bi5Id1UmidcPeGJxnHndKAhAu+XIX5j72Fc37+v5j/\n2Fu44MtVKA3wr1MLg5mG/36JmqfcEkVAoj1asWwJCRev2IoZ92/BxSu2YtfBdrM1LAuHooqrIHQo\nqrj+vtWuWlVq+ntZVXLWbUu8kASC+2dPcNz/8NzJWLN1HxY+uR2XPvoG5v3mTazY8hHWXH0Gnr9+\nGtYtnIaRZUGMKg9i7YKpePH7M7BoVg2Wb9qFzXWNuPflOqy6otYWC5e8VAdVN3Dz2p348QvvQRI6\nxbl7NtTZ/n7d8cmxhL4RpUEMK/LZgl629zc1DfjSR9/Awie3oymioC2moqE1hsZ2JeM9bo4mjulv\nZ9GfNzuMmRtFS0OwKvXy9dSTKMHZJ1c65qizT67stTCfbEJr6t+8pzmWMcZxJ9s4zXf8ZqMxotiC\nHmCOo+t/tx2NEff5OV/8MsWyOc55etmcCfDLvAp/oJM6H3R2yjgRKIVIqe2THlE0/Mez/0AsWeG5\no74N92yoQ0I3KzvHVoYxqjwESk07ipWv781YB9w/ewKe3LYPq+bVZqwbuvqutg4UU+HhFgODXNtv\n3wEwEkArzLVCCYADhJCDAK5jjG3v6sEcDic33NLrOJx8SOgGjsRViFSwTwojio5iPxeOepuWjgQe\nTEsXffDV3bj3309DRTH33bHQDGZv5hgzb/dUaJBhMBw4Es+7Yivf9iurXXX9DdPRoejYdyiK3/3t\nUyy56FRUDw0h6BMwNOTDgSNxPL5tn2PM/Ondz3HTzLGOttarpldj2aYPcdX0aggEKAnI2HWwHVFF\nw5yVf3O89ua6Rtx9wXgsv2SiKbQR4Oa1O+0Wnnm/eROTRpbgobmT8NDcSSCEQCCmwOJFRVJXFXFu\nxtuW55+V9Jv+HqeKbsdSbdefk/x0I9VwwcRg+YsilBLXQIHu/M29qGbri0Jrf67o7Kswlmk1YzDA\nq1lf1Y2s9gZe4dY+yRn4pM4HhgGIFKAitTtlVN3AK+8dwFnjKgEAexojWPn6XjRFFNCUCs/UCrz1\nN0zP8Kq1/HRPKA9if4qf7tUzqvPytOPhFgOXXEW9VwA8zxjbBACEkHMBzAawBsAKAGcW5vI4nMED\npQBc1qk94YXGGTgwBjyweTdm1450mPLma3TO8Z6YqmekiwLAT87v+5VAPUW2tWhPaHrWiXtU0fIW\nErrTfkUpQUWRH0aIIeQTMbYynLEorwj78IOZY/G9lLaxFZdPxpYPDuLZBVNtL564qmN27Ug8vm0f\nfnbxBHujsWhWjet17T4YQUI3cOtzO7FoVk1GC09TRIEkUjRHEsfU+mgJO4ZhQDPMAyuWfD/d3l83\nsXP5pl1oiih4eO5kPLxlj+Nx6aLbsYhA/XmzI1AgmjBsYcRgZtV/KM9KIcNgYIw5vFF1Q8+7Cs2r\nttm+KLT2RaGxv+NV0Es2LBsDN3sDL4gqOhZvqMP1Z4+2A2YWb6jDLy+bhPLQ0R/P6b+kzgcGzIN0\nIyUso0PRceLQImiGYVfLW5WcLVElI/jikcsn2+My1as2ltCwtymKW9d1HsBVlQbAkJ+nHQ+3GLjk\nKupNZYxdZ91gjG0mhCxnjC0khPBjKQ7HAzTd3eiarxM5+RCQaYYI8Mi8WgQK3AZCiHtAB+GitI2Q\nZWPBF1OdGMw9BbEnOtuOJoR1JSQEZME14CGQQ7VGV0bTokgxvNiHx+ZPASXmRnf1Xz7Gto+bcfHk\nEYgoGr7/9DsZItT+wzE7/TZ907BqXi1+8of3cOd5J2f9ndVXng6BwrUiKddER0vY+cUru3DV9Gr7\n+ddcfUaX72+q2CmLFHedfwqaowk89canuGp6tWvwhkU2EYgQgs9bO7rcwPTnzY6qAbJAoBjM9m2S\nBQJVy+95RIGAUor6lg674qiqLAAxT3Mwr6rZ+qLQ2heFxv6OV0Ev2fBLNCMEaMXlk+GXvFmgCITY\ntgEW3FNvcEBSDvRiCR2KqkMSBEgCgW4AokAxamgQIVnADWefhGu+8iV0JHQMK/Jh6cYPHSFYHQkd\nEUVDLKHbYVTW+kDTJByJaw7v3JXzalER5uEWHJNcRb39hJA7ADybvH0pTF89AaYwzeFwjhFKgA7V\nedIeUw0EPVp0cAYHhgGUhUQ8c91UGIyBEgJKmWeL42zEVANb6g7gnJrhYIxBJASv1e3Hv44fnpGU\nOViRsiR79pZfVV9EoEBcy2y/9fWAFYF14p5N5OpKSCgJyKgs9jvaryqL/SgJHLv4QClBU3s8Y9zU\nt8bw+LZ9WLdwGhhjDhFKEmnW9Fu/TG2fumy/I1KCSPzYEh1TRVLrvQSAB1/dk/E5eGReLQgYmtoV\n+99AKQFjzNE+vKcxgkWzanDKcUUIyGKG6OYmAq2cV4vFG96zKyS6qhjrr5sdSQTaYoYjYEZjBCWB\n/ISmuGpg6+5Gex4nyXn86+OH5/U8XlWz9UWhtS8KjQMBVc8MepE9UsW0ZGCBdThiMEAzdGi6N6dF\nx3Kow+nfCAT2euHh1z7CtWdV49PmDgwNywjIIkRKIAoELdEEhgQlEBAcOBJH2Cfg+18bg+8//Y7d\ndnv/7AlYs3Uf7r34tIzXEUWKcRVhrF0w1bYkqQj7PAl64QwMchX15gK4G8Afkre3Ju8TAHy7ANfF\n4QxK3CpUOJx8sBbDmp7c3DEGUQAKvbYUKcG44UMwd/UbjkUtH8OdSCLB0CKfQ/gZWuSDxL0zbbyq\nOOoOVgVOush1fEkAfomiqT0OnSFDQANM8WFUeQhFfslVfDgWfzE3wTAgC1ix5SP86OvjcFyxPyP9\nFQz2JtMKw1g2ZwK+aIujPGyKEr94ZZe9GUlNyG2LqTj/wf/Dllu/ekyJjpawUxKQHM+xo74NSzfu\nwjPXTcUXbWay369eNS0DlrxU5xDd0quirOvMVvGVLgIRQmxBDxi4/me6AYR9AuLEbHP2UQK/TJGv\nZVjYR1FbPdQxjz8yrxZhX34bRy+r2fqa0NoXhcb+jku2QJf35wul1NWW5GcXT/Dk+Yt9EoalfbcP\nK/Kh2Me9jAc6lFI8vm0f7vvWaRhRGoSq6xhTEYbOTOEtoen4wdPvoilitto+vm0f5s+oxr5DHfj9\nO5/jie9OQUs0geZowv5Z+rrZMBjaYgnsb4tjYUoXTl9IAuf0HXIS9RhjhwD8IMuPP/LucjicwUuh\nFzWcwYFuMCiqDoF2bp4UVYe/wK1BBO5G0Xz4dpLQGEQKnFQRtqsoNUNHQuOpiRaiAByOZ1YcDfEX\nvuIhtQLHEo9WX3k64qqOxRvec7SQui2os4kP3fUXSxUCS4ISwv5iqJphB1csvvBUyIJ56m8JjaUB\nCXuaIogqGpZu3OUI2Fi6cRfuPO9kXPnbN7H+e9Ox+MJT0dqRwJqrz0BE0dDYruDxbfswu3YkAODA\n4Xje1Sep12y1JVkVgakCT1NEQVzVcemjb9j3XfOVL2WIbt2pirL+DobB0NDWkeFhORD9z7zy1GuL\n6Xj9g4N4+rqpdqXei+804KJJIzAkmPvzlAYkrJxXayeOWhWTAyXpu68JjQMBgRIQdLbfCh4KFSV+\n0dWWpMSfa21L17TEEli68UPMrh1pe+ot3fgh7r34tJysCnLBi+CZvvAaA43ykIwffX0crnvibdz0\ntdGYetIwJHQDkkAhUPOA4/7Zp4FSCp9I8N2vfAl+ieKeDXXYUd+GtlgCt33jZOgGw+zakVi6cRce\nmjvJ7nCx1g8HDsex6MX3+n1ADx9jhSOn2YwQMhbArQBGpT6GMXZOYS6LwxmcFHJRwxkcEJgtVC1R\nxRbXykISSgJHfegxIVBibvajqn1fQBb4GE7jSExDSzTm+NsEJG82FgMBg7mngPeEp55bBY5AgQsf\n2prRQprPgjqbv9i6hdNwXDL1OH2RCyBDCFw1rxbDS/wo9pnCXbpXXVVpAE9fe6bd8urm8dQWU9HQ\nGsNnLR0YUeLHkZjqEO2spFkAWLpxF+6+sCZrS3H64twSFK1rPremAivn1eLBV3dntDOvuHwyVv/l\n44xrs94fS3TrblVU6kZoMPifEQL4RIq4YdgVrj6R5n0oKFCCtdsb8PP/6QwkqSoN4OLaqryepyWW\nJenbQ5GDM3Ao9KF2UzSBX6WNx1+9uhuLLzwVx3uwOIpnC8Ga5Y3viVfBM739GgOR1HCnqKIjoenw\niQIMxqAbBJJI4DME6AZDVNFQUeTDfX/+ADvq21BVGsD8GdW4PVlRD5jzrZTSUmutH35+ycScLA36\nsmjGx1hhyXUn8RyAlQB+Ddd8Tg6Hc6xka5PJt32GM7iRRIKgT0RLirgW9Ik90uIpi9SRmjjA9s2c\nHkIzMj31eqqNO70C5/PWDtcWUiD3iq9s/mJftMVwOKbCJ1Jc+ds3HYvckoCUIQQu/N12LLnoVIwe\nFnL1qmtojaGxXcnqC2gJdlWlATRHEwDgqOYrC8lYtulDe3Oxo74NK7Z8hMUXnprRcuy2OLcERet6\nrA3u4gtPhUCAtQumIqEzGIxB1XVs+7gZADLExHTRrTtVUdZGaFjYl7c/Yn+EscyEaEpgf45yxSvf\nz+wiB99CcNxxG79eoeqG63i863xvFtjdST/PB6+CZ3r7NQYqVrjTYSGOdoVAT6bfUmqGZcgiwYf7\nowjKAijR8f/+rQZ3nV8DkRIoquEIv1g2ZwIicQ1DQww02b7b0BpzrXhP/67s66IZH2OFJVdRT2OM\nPVLQK+FwBjmMAYqe2T7jE7gJKid3DAMIytTR4tkTQRmUuqffUj58bbItqXp/qdV3UDWzfVxMax/v\nrUZuyxsslwU14H5Kns1frDmawH+s/QeWXHRqxiL3sflTXIXAoCzYwp2b0NgcTTh8Ae/71mk4viSA\nT5s7sHzTLtvXZ/mmXbj+7NGOar5JI0tw+zfHOdJl3Tz7rNdJX5xb15XK5rpG3H0BQ2VJ0LHhGBY2\n/adOLA+CEoL/+lOdXbnghehmbYQaWmO2P2JJQEJVaQDDhwy8xGlVA0CcCp5uMOgsv3+nKLj7fuab\nfkuziByU+4lwXMi2PvFq3SJmSZ736rBIzCKGe/X8XgXP9PZrDHTaFQM7Pm3GpBPLoRsMBMDexiMo\nDnYKVhFFw5CgCL8k4J4/vo97//00e761bDKaIootdFnrh1wCvPq6aMbHWGHJVdT7IyHkBgC/B6BY\ndzLGWgpyVRzOICSuGnjl/f04p8ZMmWMANv8z/9Q5zuBGlswOWFUz7KAMSSQodMeTbgAiBahIYTAG\nKSkm8krTTniL8tERKIGqM3xyKGKLCiNK/RB8vfMeWZ5uqaES2RbU2U7JxwwLZ/jCWcKaJdSl0tAa\ng0Dgugm1WlSzCY0vbK/Hissn44an3sGO+jbcuf6feHjuJIytDOOu809BczSB5Zt2YUd9G17YXo+H\n507G959+Bw2tMTRFFFQW+7H+hulQNaPL1h23xbklKGYTPq02pbULptqVB7es2wkAuP7s0fjJ+TWu\nibbdIVVI3VHfZqcL/v6GGQNO0AP6XvotT/rm5IORrMhOT7/1ShQLytSeF1MtAIJ5ek5mQ2cMgTRP\n4YBstmB6gZfBM735GgMV6zBPogTHDQniO4++gelfKse1Z1VDZxR+0TxoZ8mDdkEAGo8o2FzXiJ+c\nr2P+Y29lPKcldKX6yi7ftAtLLjoV1UNDCPoEDA35HN9nfV0042OssOQq6l2V/O9tKfcxAF/y9nI4\nnMFLKEvqXCjP1DnO4CahAkU+AbGUFMSATJFQARRQ2DMMhkhcg0AFW0zUDR0lAT5+LSgFfJLgaFGW\nRF7NmE5fa+OuLPbh7gvGg1KCdQunuabfAl2fko+rLMK6hdPwRVvMIaxVlQbQkXAuuKtKAzhwJJ61\nfXZYkYxV82rxSxevuptmjsUT2z5xeEct3lCHhy6fBFU3sOSlOvt3r5pejafe+BSLZtVgTEUYnzZ3\nAEDGRsENt8V5qqCYTfi0Em1veW6n47FdJdp2h+4EbPRnEhoQkikUwux53ycRJPJMjQ7I7uuQQJ7i\nhyRS1+CkVK+oXOnLHlEc7yik7YKqAz6R4LH5U+zvFd3QoXqkdTAGrNjykSMoY8WWj3D3BeM9ef6e\nmM8G25zpFamHeRtunI6SkIzll0zE0LCMsE9AqDIMPdmC1ZHQsP+wgtKQhHs21JnVogLN6TAsNdFd\nIABx6V7o66IZH2OFJdf02+ruvgAhRADwNoDPGWOzCCHVAJ4FUA5gO4ArGGMJQogPwBMAagE0A7iU\nMfZJd1+Xw+lvGAyoLJbx7IKpth9DTxnEcwYOlALtip5WscFQ5Cvsl7osEZA4QX1Lh6PCSpb45stC\n1RgMw7BNlKVk+q2qcVXPoi+1cefrT9PVKTmlBMcV+3E4puI/1v7D8Xw+sXNRb1U0Ld1o+su5tc/e\n+o1xqCz24WcXT4BhGLbQaC32t33cjHXbG+xrqCoNwDBM/7xnrpuKg0fiDmFx28fNWDSrxlHNdjRx\nzW1xPn9GNX73t09tQdEM1sgUCN0eu+oKb5NRuxuw0V8xDIa2WKLzUEVniCi6HWqSK5QA5WEJz1w3\n1bZvEIT8/c1KAjLa/KrD27XIL+V9PX3dI4rjDdn+lF79iWOqjjtfeA/Xnz3aPuxY+fpe/Pd3vuzJ\n80siwY3njMmoBOyOiO1GT8xng23O9IrUwzxVYxApMKIkkPSOBfwSgaIxJDQDPslch9+zoQ5NEQXL\n5kxAUKZHFbooJSgPyUedC/u6aMbHWGHJNf02COBmACcwxhYQQsYAGMcYeymHh/8QwAcAipO37wfw\nC8bYs4SQlQCuAfBI8r+tjLGTCCHfSf7epfn9czic/othmGa+LOmBw5h5m6JvnLBw+gcEgCQQUBBb\nOBKEwvu2MUbAGHNUWOmGbo9njpnk59ZaSvrGeqvP4DZ+e4N8/WmOdkqebUELmCES+w/HEVfNtq2m\niOlPZ7XPSgLBneedjLaYise37cPdF4yHLAoYluyrtxb7v76y1rXNrCWqJJ+zAwaDo2IvNaQinzS9\n1H8LANz49A7sqG9zCIp/ue1s6AYcC3dKCcYMC+Ppa89EY7uC5mgCv/yf3fjR18d5KtZ0J2Cjv+KX\nCahCHYcqVWUB+OX83ktFZTAMUyAGM+csw2BQ1PxOFyklGFUeQpFfOqbNW1/3iOJ4A6WmL51hMHvc\nidS7wxyREtc0cM8qATWGl3d+jjVXnwGBmkEJz7/9Ga6c3u2amAx6Yj4bTHOmV6Qe5kkigaYAnxyK\noCQoocgvgVIKSgga2+MIyWanxi++82Uciam4+8X38dDcSTkJXbnMhf1BNONjrHDk2n67BmZV3fTk\n7c9hJuJ2KeoRQqoAnA/gZwBuJubx+zkA5iZ/5XEAi2GKehcl/x8AngfwECGEMOaRIQGH08fpLS80\nzsCiI2HgnaRRr7U43r6vGZNPLEdpqHCvG0u4n4Q/NHcSUMDX7U+oOsMLb9djzuknFGzh398RBQAu\nLYO90T2Srz9NLqfk2Ra0AVmAqhu4c/0/HSESfpGiMaLgzvX/dIhwOmO4eMVWrJpXi7KQbL9ma4eK\nspDkaDPTDB0PbN6D+2ebFYDDimSsufoMEALUt8Tsij3A3OgCZuqvLAooDUjY0xTJWh1g/Vua2hU7\nwc+iqjSADw60Y8lLdRkVBa0xFXN//XfH+1u3v52LNd2EMaAsJCEoCXbbol+meaffUkrQEdfxeWvc\ncfBQGuwdZb2ve0RxvEHTzcMcVTMHrHU46dWfWRbdPfVkjyrpArKAs0+uxPzH3nJUXAdkfig/0Ek9\nzNN0hpBPsIPqBErwynv70R7X8e+Tq2Awc27euqcJt69/zz70y0XoOtpcmHr4RgjxTLDm9B9yFfVG\nM8YuJYRcBgCMsY6kQHc0/hvA7QCKkrfLAbQxxqwlewOAEcn/HwGgPvn8GiHkcPL3D+V4jRxOv0bT\ngWK/gA6l0wst6KOeLWo4g4OATDFqWDG+8+ixeSLliyRQ15Nwiac324R8FLO+XOVY+HPfTCcJFfCL\nFDHDTAKnxLxdaE9Ii/SFcT7+NN09JTeSHgvD0lJHj8RVHEzoWLN1n8Mj7/Ft+/Dj805BQ2sMC3+3\n3ZGUSwmxxfWKIh+KAxJCsojLppxot+8uvnA8lm36EE3tCdz6jXG2GGcJhm0xFec/+H+oKg3g6WvP\nzKlSyk3QTA0DSX8MF2u8hRBA151BA7rBIIr5bewMg7lWXBt5+oB41TbbVz2iuM+ft1ACdKiGbTdj\nMCCmGghK3nw3MubuqedV2UiRLLqmRhfJuW6zOf0VZ5DFbtx+3lgoSQslSogdOgSY4/yeP76PzXWN\n9pwo0M5DtNR5JH2OkcTs3ntu8+39syfg8W37PK+A5/Rdcp1tEoSQAJImN4SQ0UhJwXWDEDILQCNj\nbDsh5Oxjukrn8y4AsAAATjjhBK+elsPpEboav4Ve1HAGB5rOUBYSHZ5IlDJo+rGvXo82/7qlHXI6\niasMpQzD4xMAACAASURBVEHR4ZsJMMTzbG0byIgCcDie6Qk5xH/sm/ijjd/0hfG5NRVYOa8W1/9u\ne87+NPm2lqS+5rCwDzfNHIOhRT4QAPf9+QNbeEsNw1g2ZwIOHIkDyEzKbYupGeL6uTUVuPuC8Xb7\n7lNvfIqrplfjjhfetdP0TigPYn9bDI9v24fZtSPt525sV7KKb+mbjjHDwvj9DTMQS2j44EC7owIw\nXbDrq2JNX6ar8asbZnI0QWelk1kNnN9rCJSAkExv1HwTur1qm+2LHlHc5y9/ctm7ubXfekVZUMaR\nuOoY1yPLAigLejOOmqIJLNv4oSMoY9nGD7H4wlNxfEnAk9fg9B5d7t2Sh3nrb5iOqKLj4OEEysIS\n9KSlkkgJNMZw2eq/29/xd5x3CgIiRVwzcOFDWx3esuMqzHkkfY554rtTss6FbvPtHS+8i0WzanrM\nroAfdPQ+uYp6dwPYCGAkIeQpADMAXH2Ux8wAcCEh5N9gnq8XA/glgBJCiJis1quC2cqL5H9HAmgg\nhIgAhsAMzHDAGHsUwKMAcPrpp/OdEKdf0dX4LbSnCGdwoOoMT2z7xG7xTBiGZy2eXY3fmKpj6cZd\njoqipRt34ZceGVEPBAiA5kgCLVHV3liUhSQcV8x77C0IAQIShUAYdINBTgYG5dQbcBSOtn44FFUc\nC+PNdY0ATL873WAQBYqK8NGTYfMhdTHe0BrD/MfesoW7+TOqcdvzTuGtqV2BX6K4Z0MdgMyk3JWv\n780Q1+fPqIZIiSNxdk9jBMsvmYjKYh8+OdSBW9ftRFNEcfjrWdfnJr5JIs0qbDSj07Mv9TGpgl1f\nFGv6Okcbv4rmPBRUNAP+PNsLCXFP6M738+dVJablv7hu4TRoulGQz2C+cJ+//Dna2KUUgMvQ8MxT\nT6Q4sTSIQEp7ekXYB9Gj9ltVN7C5rtH+zrC46/w8VXVOn+To45dgaMgHn6hAEsxgDIEQUGKO4Vhc\nx2PzpySr8mK4/88fYPGFp+LK377pmEcWPrkdT197JvyykDHHXPnbN/HC9dPsYKxU4SzbfFsSkNDQ\nGkNM1V2rAY+FVBEvIAs4eEThBx29TK7pt68QQt4BMBXmvuSHjLEu22IZYz8G8GMASFbq3coYu5wQ\n8hyAOTATcK8C8GLyIRuSt/+W/Plr3E+PM5gotKcIZ3DgEynOnzjC0eK54vLJ8Hm0eM1GNiPqfCs8\nBjKiQBD0iY5EyKBPhCjw98hC1cyqZesdITBvqy4+e14TVzMXxpvrGnHHN0/BzAf+tyAL1WyLcUoI\n7vvzh3jmuqlQdVOsUTUdFUU+3PfnD7Cjvs1usbF88izxkRBg+SUTQQB0JHQEZQE+yZmw1xRRoBsM\nj2zZiwVfHY27zj8FlcV+LHnpfbu6DgBe2F6PVfNqsTCtWlGkJKuwkau3oBeG3rw6wCSby0G+7gdx\n1cCWugN2y5hICF6r24+vjx+e1/N4VYlpGKxLT8fegLeOew9j7utfr3aBhsHw0aFowcaRSN2tGriv\n2eChOZqAQAFZJIBm2h9I1Az9CsgiWqMJ3PNHM/V29ZWnQyBwnUca2xVUFPlcf/ZJcwdueW5ncuwG\n7LGbbb5ti6moKg1gb2PEPjD0YtynVyuvufoMLHrxPX7Q0cvk9HVPCJkBIM4YexlACYD/Rwg5sZuv\neQfM0IyPYHrm/SZ5/28AlCfvvxnAnd18fg6nX2IY5gYs9aS9I6HD4Ad9nDwQBWBI0DTKf+2Wr+Kx\n+VMwJCgVPGhAEghWXD7ZNtq3xESJC1Y2cdXA1t2NGF0RxnFD/BhdEcbW3Y2Iq/xDbiEKQDRhIKYa\n0A2GmGogmjB6JChDSHropVJVGoC19rUWqs3RhGevaS3G01/TaqNtaO3AkbiKpvY4rn1iO25ZtxOX\nTTkRW279KpZfMtH2ybtqejW+aIvj3pfr0BxNIJboFBhCPhEJjaEsKOHZBVOxdsFULJpVg+WbdmHd\n9gY0RxTMWfk3NLR2YP6MasdneP6Maowo9eP3N8zA1ju+hnULp6EsKCGiaFmFjeZoAmVBCesWTsPW\nO76G398ww3UTYbUqjygNYlhR/tVX1sbi4hVbMeP+Lbh4xVbsOtiet//bQEA3zAMd6y2kxLydb/ut\nJBBMHlWOuavfwFeXvY65q9/A5FHlkPL05rOE3dSx1J1KzGxVcV5+BvMl22eWt453H8aA9I+tweCZ\nqFfocWQFcaSvf7wK4ugpDIOhqV3B560daGpXBuVc2l0sUV9Lec8MAAYYtnxwAKUhGQ9c+mWsXTAV\nJw0NgVLqOo80RxO2n2/6z9piquvYdZtv7589AS9sr8eyORPw4Kt7AHg37tM/T0FZ4AcdfYBc228f\nATCREDIRpuD2GwBPAPhqLg9mjL0O4PXk/38MYIrL78QBXJLj9XA4Aw5RcE+/5d1InHzQdMAvEgiE\n2O2LkoCCV3yqOsPLOz/HmqvP4MmuWRgWklFbPRRzVztDTIbxD7mNwdzbb3tibxGQBVdfSMu/DvB+\noZotYOLxbfscVXh3nV+DJ6+ZAkoININB0w2MLA1g8YXjceBIHMs37cKd552MzXWNaGpP4PqzR9ve\nTj6R4luPbHM9UQfMw6Oq0gCWbtyFuy+scZi9Vxb7YTDAMAy0xVQsfHK7/TxulQG6YabyOqthAgWp\nquJtkJ0I1BTD09tvQ3kGJCWyzONX5DmPe1WJ2Rer4njruPd4FfSSjUKPI8NgrkEc/UkU416RxwYh\nBIpmQCRAqmTWoej42inHYcsHBzC8NITykIzWDhXjKsJYdUWt/Z2a+t1f9i+j8fDcyfj+0+84fmZZ\nY6SP3fT5lhACgQB3XzAeNz69w1F978W4T/88WRWB3CO3d8lV1NMYY4wQchGAhxljvyGEXFPIC+Nw\nBhu9uZnlDBwoBaIKcwQN6Iyg0Hvc3mr77U+0KRq27zuEp6+bCsYYSLK1rbLYhwqekgfArDDSDGZX\naDBm3pZ7oOKzJCCbLagpolZQFrA46V8HeLdQTW0brSz2Ye2CqWhsVzA07APAHGm1t35jHH72ch2u\nml5th09UlQbwzHVTcdHDW+3ntBbWO+rb7Db4qtIAllx0qr3YfvDVPRnC5ciyAH7x7Yn40bqduGdD\nHW6aOQbDinwISAJiqo4LH9qKRbNqHD55bs+z6opa3PtyXY+JbH1R8OlNfCJFPCU1ujtzr0gJzj65\n0jGPL5szoVtthPmGxrjRFwNVvBIsOU7cgl68IluSOfHCrBWAJFLEVQMtUcXhlysV9Z/1Dz8kOTYI\nYVB1BoWZno3WoYhfEvDK+/sx5rghdhDVkpfqsHbBVIwdFsZT156JpnYFzdEEHt+2D1dNr8Z//ekD\n/OdF47FoVg1GDwuhviXmCJ5ymwPd5tumdsVOt7fwYv5Mn5fdvHz5QUfPk+suop0Q8mMA8wCcRQih\nAKTCXRaHM/jozc0sZ+BgGIBIASpSGIxBSqbfFrqNm9LOtt9Ug3Ue9NJJXNWx+KUPsfilDx33n1OT\nn1/VQMZg7oFBPXG4QSnBqPIQivwSEpoOSaSIxDV7UezVQtWtIuLpa8/ED57ZgWFhH+6+sAYA8NML\nalDklxCUKe46vwY/e7nOFvRWXD4ZLVHlqAvrRy6fjJ+++L792jvq27B04y6sXTAVgLk4NwwDtz33\nriPk5pZ1O/HL73zZNvK2DLfTn+fJa6ag8YiCjoSOkoCUYRRfSJGtLwo+vUW2NsV82xcJzFaqdGG7\nt1YhfbUqzgvBktOJV+M3G4QwO0wotfKJEG9eoCQgo82vOvxyi/wSSgL9R9TghyTHhmEAr9UdwL9N\nOB6KxmAwBkoIGBhOqizG49v24aaZY7HoD2alvKIZ+OhQFOUhGe1xDSUBCbNrR9qHeV8cjmPhk9sx\naWQJbv/muG6tQwo1f6Y/b1NEQWWxH+tvmA5VM/hBRy+Rq6h3KYC5AK5hjB0ghJwAYFnhLovDGXwo\nKoNhmNU71mbWMBgUlZfqcXJHytLGHS7w2pLB9GOiILaYKAgAH72dCFmqBbhu78TtcKOnDMetzbph\nMLTFEjAYcwgcXlSeulVE3Ptynd2KY1XLlQZlBH0CmMHw36/twW3fOBl3nncKGABV1/HA5j2OjWpT\nRMHQsIz7vnUajhviR31LDBFFyzipb4ookEXBFiWs0/z0kBudMfsa3dprmiIKdh+M2I/L1pJbKJGt\nrwo+vYHZ7pfZvkjy/NxIonuYT76eel7RF9NvOd5DKZBQM8evJHnzd9YN4PFt+xwHF49v24efXjDe\nk+enlOCE0iD8ktBvxyk/JDk2ArKA2uqh+M1fP8ac00+AQAkEkUCkFCNKA7hsyoko8ov2wZxuMFz3\nxNt47vqpkEVqp9Nbh3YPvWb64DVFFARkAcsvmYjjiv0I+gQMDeU2tgo1fx5LtTIPtyocOVfqAfgl\nY0wnhIwFcDKAZwp3WRzO4CPgIzhyxEBDS8zeQFaVBVBczL9QObkTUQx82tSO0RXF0AwGHyXY23gE\nYkUxhgQL97rxhIFX3t9vV50xAJv/mUxNDBXudfsTIiWunm08Ia8Tr1I8jwWrku7A4XiG/1xVaeCY\n25HcKiI21zViyUWnui6Sm9oVbPu4Geu2N9i/f25NBRbNGo+2jgTWXH0GIoqGxnYFhyIJ3Ln+nxgW\n9uHWb4zDmq37MipU0oWvbL5+Bw7H7U3eytf3ula6WB4/gNmSu3JeLa5PScp9ZF4thvgK8x3G2yCd\neCGGMwaEfAJOqgjblSaC0L2KKS82b30x/ZbjPYbhnn7rVYeBSAnmz6gu2HfvQBin/JDk2CgJyIgo\nGi6fNgoGMw9xDcbQFlPxwObduPGcMXj4tY9s0W71Xz5GQ2sMup4pOL+883PcfcF4LJo13hQHCUAp\nzXsO1TQDuxrbHb59q688HWOGhdEaU49pbu5OtTL3bSwsuYp6fwHwL4SQUgCbAbwFs3rv8kJdGIcz\n2NB0YGhYQlAS7MV40EcLHnDAGVj4JYrScACXPuoMY/BLhVVFREowbvgQRwgEF6yc6IwhkNbaFpAF\n6F71GA0AGHP3BuvJt8iqpPv5JRML0o6UrSJC0QxUlfozFrdum62rplejobXD3qRanFtTYQtryzft\nwk0zx+CEMtN/z2AMsmAmpDZHE/ZC3hLH1i6YiobWGNpiqi3WWULejvo2PL5tH5747hQcjqkI+0Qs\n2/Shw4C7KaIgltAdm5NfvbobP71gPI4XhYIs2lMrK5ujCew/HBuU4p4oANCy3J8HcbWLw5k88Grz\nxn2+BgeEAAnNWamn6mb4hFe4tZV7xUAYp/yQ5NiglGBIQEBUMaBohrmPEyiK/RLuvmA8KAWuP3s0\nbpw5Bg+9ugfrtjegqjSA/Yfj+OG/jnUIb8vmTMCNT+9AU0TptuhlGAxfHI7Zzwt0jsunrz0Tc3/9\n9x4X1gbC56Qvk6uoRxhjHclwjBWMsaWEkJ2FvDAOZ7Dhll4XU/NPr+MMbuKq4RrGUJbnpixfuGB1\ndBgDVmz5CLNrR9rJpCu2fIS7PWoBGii4tREKPdijbFXSFSrRrTwku6be3ftyHe69+DRUFPkdv08p\nwUlDQ1i3cBoUzcAnh6JYvslMxV1x+WTc8FRnQt78GdXQDcMhrN30zD9w53kn45bndmLJRadi/mNv\nZSzkKSWQhM4WIIvHt+3DmqvPACFAfUsMt6zbiR31bbbPT93+dvu1V86rxaI/vOcQ+gDgzvNOQXM0\nUbBFOz/9Nw8FAxJFR4oYHpDyPxT0iRSTR5U7Dme6E3h0KKq4bt7W3zA9Y3x3Bff56ll6qzWOMfeg\njP6yfBgo45R7RXYfw2DQdEAUCBij0AwzrE5Rddy87l00RRQ8Mq8Wv3r1A2yua7S/9//rTx9g5bzJ\nePraM6HqDJ+1dGDpxs5QjO7Mm4ApoDW2K67jMvX+nhTWBsrnpK+Ss6hHCJkGszLPSr3lSgOH4yGq\nBsgCgWIwe1EuCwSqy+k7h5ONkI+itnqoY1P2yLxahHyFnbK5YHV0Qj6KH8wci++ltScW+m/Tn1B1\ngKXt5BhjUPWeE2esSjq3llMv2pEoJSgLSQ7hzUq2+8mszH4zs4Umgut/tx3Dwj48cOlE/PzbE/Fp\ncwd+97dPseSiU3FCeRBN7aan3tKNHzoCK6pKA2iLqWhojdnVKdkW8unt4VdNr8btz78LALj1G51m\n3ZbPz33fOg1+ScDwIX6IlLgm7ekGy2vRnq+wwE//zfVCh5p5KBjMs0KbASgOiI7AI7Eb3qhx1X3z\nFlfz66fkPl89R2+K44QAup55mCP2kpdjvkgidR2nkgcerJz+QXM0gYiioTggQk2OZEoJ2hUdd51/\nCoYV+fD3vYcwu3YkFpw1GkMCEm5/3hT7dAbM/fXf8fNLJmL+Y285nrehNYYORYcRYnl9DhOajuZo\nwnVcNkcTGa8RS2hoakdBhXw+nxeWXEW9HwL4MYDfM8beJ4R8CcCWwl0WhzM4iSg6NN1coKs6g2oA\nYTnXjymHY1JZLOPZBVPNCidKIPfAwjgguwtWAV5papPQGCqKJMffRhLM+zkmZkCFCoEK9jwYVfQe\nTRFMbXddvmkXllx0KqqHhvIyqD4ahgEseakuY3FLCfB5a4dDzGqMKLZPXUNrDDev3YnFyYTcy848\nAUV+CT6RYvgQP55+4xNcNb3aUUFned9Z4p5F+gl5TNWxdOMuW2wsC8mOFtvlm3Zh+SUTUVnswyeH\nOnDPhjo0RRSsnFeLe/74PkoCMh6ZV+uYA1ZcPhnPv/0Zrj3rpBzfl/yFBX76b+KWGp0vZjiXDoF2\nbrIUVUcgz02XV6FA3Oer5+hNcby/V+oJNPNAZNmcCT3qBcvpXRKajgOH4zgSE1AelhGUBSQ0A0MC\nEkRK8Mr7+7H4pQ/tsWEJequvPB0CQZfdAfsORSGLFIyxjIOubIdgsijghe31GQeTK+fV4sFXdzuu\nvao0gA8OtGPJS3UFFfL5fF5YclILGGN/gemrZ93+GMBNhbooDmcwIokAUQlSz8QJIZC4psfJA0Vl\nUA0D5rLYJKEZYEZhV5eUAOVhyfbusgzWB0n3W04kdIYnt+2zk9ESmoEn3/4MV0yv7u1L6zMIlIAQ\ngvqWDruNe0SpH0IPDSRrgVwWlLBu4TTXRbQXBGTBdRO4vy2OS1b9DVWlAayaV4vhJX6ouuFY5O+o\nb8PiDXV48LJJ+KIthr1NEbywvR63f/NkrPrrJ3jzkzbc963TMLwkgM+aO7B80y40RRQsmzMBSzd2\nBltUlQbMtPUkkkAdKbjpLbZNEQW6wfDIlr2YWVOJO887GSNKA/jPP75vVwaOLDX9+1TdgG4wPP/2\nZ/j3ySNzXrR3R1jgp/+wK/RyvT8bNMvnL9+x75ep6/j253nIw32+eo7eFMcLXamX7Vm8GkVRxXkg\n0hZTsXTjLvzysi+jnAeFDXgMw7S6WbN1H245dxz2t5lV80ZSrF6/vQGnVpXgtVu+ipZoAowBy789\nEQGR4rghARyKKlm7A6xDubvOPwVzVv7NcdAFIOMQbNUVtRhXUYTykIwfzhyLX766G4tm1aA8JKMs\nJOMvuw7ihzPHuh789YSQ7xOpw6YnX2sHTnZykgsIIcMA3A5gPAC7qZsxdk6BrovDGXTEEww+gUAk\nxE4tFah5/5BAb18dp7/glwmOtGemKBcVFXaDq+qAQAAjqUsTYt5WB1exTJdIlODskysx/7G3HBtd\niW9QbSgFfJKAkWVBu/1PEgloD6z73KrETGHN+89OSUBGZbE/w7h98YY6AOZmeuHvtmPJRadiTGU4\nQ7RqiiiIqzouffQN+74fn3cKqkoD2FHfhnm/eROTRpZg2SUTcdf5pyCumh6XVnustZBPrZyqCPsc\n6bVNEQXDinxY/73piGsG9jZG7DZhy+R77YKpjlbfn//PHry2qwkPzZ0EALj2rJNcRZhs1QXdERb4\n6b95eOKWfivnWRpnGAyMMcfnTzd0swIwT7wKJuA+Xz1Db4rjha7UEyhBQBaAaGelckAWPDssooQ4\nDkQAq/Kaf7cPdKx1wy9e2YUfzhyL9dvrcemUE3EkrqE0JIEAmHbSUMRVHc2RBMrDMr5oi+H+P3+A\nn108AZQSiJTYhyBWd8AJ5UHsb4vZh3JWy2yq8AYg4xBs4ZPb8fS1Z6KqNIgRpX7ced4paIkm0BxN\n4NG/7MX8GdUYViRjyUWn4sTyIPakfK9bz+GlkJ/6XU8IwZW/fTNjjhlMVhmFJNcaoKcArAUwC8D1\nAK4C0FSoi+JwBiOSSNAc1TLEmPKQ1NuXxulH6AZQFnKmKPtlCj0/K6NuvC7DYZe2ySE92DbZ1xEo\nQXlYdmx0y8Nyj1Wh9RckgYCCwGAMUrLisydwqxKzhLXjhvg9bUmhlGBUeQg+kaKhNYZR5UHcnAyh\nsLA88J7cts+1rXX1Xz62f7eqNIADR+KOU/6miIKIooIxhjvX/xPDwj7HZuHxbfvws4sn2M8hihTj\nKsJYu2CqPXdUhH2QJAGGwRBVNIcouPrK0xGQM4WApogC+f+zd/bxUVT3/v+cMw+7k92QhJAAmqCI\nCAKCEAXEvvrTUmu9Ur0WtFXxAStg1drrtVp7q1Uv9lYRvdWqhdpWEcWKD7fl+oDcWr3tFa2CFGuj\nPBk1UTAhD5Dd7MPMnPP7YzKTnd3ZJBtmk01y3q9XXzXLZjO7O3PmnM/5fj8fWco6Se+uxbYvwoKo\n5ur0vvNov81Vi/OrUjaaMHH7xlpcddoEx2P19o21uP/CmaJyqUAZSHHcEo8zK/WIj9ewKlOXWO2n\nVpkqyqRu2PWlBV4wuEidN/xs4Qm4+JTxIOAIBWR0JAwUBWSMKQnCZBz7DsZxw4YdaIoksGZxDco0\na30XS3ZVelYWB1CiKbjrZXeghp1ID3R64Omm07abih2EoakyykMqWqI62uMGSjUFF84+ChXFAdzy\n+/exubYRay6p8bQB8UvIT7/XP3vVKcIqI4/0VtQr55z/hhDyfc75/wL4X0LIOz3+lkAgyIlQQMKx\nlWFX+6JAkCsJw22YnjAYgnkucSewkndboglnMTgypKBUVJk6DGQV2mDBMHlnUEbXYohzDsPMv7lS\ntiqxIlXKS0uK7XtzwzM7cOuCKZ4hE20xHWv+8jGu/PIER2yjhKAjqWPLR83O8x6+eBYe/NNuNLUn\nnR34z9tiePi1Pbjm9GPx82+diLKQik+bO/ADe1FxSQ0YY2hqTzgL9z0Holn97NKFszJNwaGEjjWL\na7A8RXDsSQjorsW2r8LCcK/m8qtSD/BH/JCyVC71Y4i1IEcGUhz38/z1gnF4ekUW+ehv41dlqmBw\nkTpvaIkkURSQQAkFYG2MtUSSCAVlPPvOp5h1dLkTmqGbDK0xHRXFAaiylGF9cd38ibhlwRRQQvDv\n//0P14ZfVZmGvY0RTKgIZQ3CGFsSdDYPi4OKc00bzHSq6/MVBmaTfq/PFtwxnKwy8klvRzO7Xnkf\nIeRsAJ8DGJmfQxIIhieMwXMxy/JcYSUYWmSbf+d7Xh5QCIoCMlpS2luKAjICiljF2XAOyBSgMnWq\n0Cjlg8YMvD/QTY7Ht3zc5TvIGJ7d+iku7QffwWxVYnZybPpucq4prekwxiFRYM3iGtz/6q6sXjpV\nZRoSBsO3f/UW7j1/Bu56+UPcds4UZwHJAZQUWbvw9s+KRDBuZBH+/dxpaE8YWPLoO6gIB3Dd/Im4\n71snQpUI7uj0wrMn8qWa0q2fXapwlroDb1cA9jZMpLsW23wIC4f7PQ0GjCz2B7kWQFCKTp9Ft7dv\nrhsP2TwjtQEWOobDuXA4DKQ47kfQSzY454jpDK0pm45lIQWlPt188+3ZJyhcUucNHx3owLsfN+Oi\nuUeDEgJCgPJwAAYzcf7JRzkbJRwcNz7znmNTkb6Z1RRJYExJEOGAjJufey9r+FVFsZqxqXb3wulY\nu6UOs8ZZVfjp1/RnrR3O8W6vb3PafSdUhJzqPr/GxPR7fb5FxOFOb0W9OwkhJQBuAPALACMAXJ+3\noxIIhim6aVWkUALonEOWgIDYwBDkSD4nx9kwTGBEUMLE0WFXsquoqu8iaTK0xw3Idosy5zCYCaqJ\nUj0bTaVYcGKVy3ewv1KUvarEUoW11N3kvqS0ppIuil03fyKOLi/C08vmImkyfHygK+Di7oXTcbBT\nWGyL6WiKJHBHSmtjLGmiLZrEsZVhfN4Ww8GYjrtf/hA3nzUZHUkTb+1twqOXnwyJEpiM43d//Rhz\nJ1Q4u/W2ePfYktmeYltMtzzVUtP29h+KO++9oTWGJY+9g6oyDc9fPa9H0aSnFtvDFRZShRtNlfDF\noUSfv6fBgiwB0TiHbnDH/sDkBCXBnn83Fd3gYIwhIEvOxoPBTOhGbtefl2fk6BHBfk2xTudwr1lB\n/shmPeeXJR0hBA+/tgcLa6qddvCHX9uDO//5BF9eX8nSCZHtccHQIXXesPr1vfi3f5qMi3/9V2eM\neeiimRgVDkAHt8JfKMHDf9qDpkjCOT+ybWbtOxjD5tpGNLUnse6K2WhsT6Atprs88P7jvBOw/so5\naGy3fPfWbqnD9WdMyiqUpW+4NEUSCCoU4aCMkSF/Bf30e/32+jas3VKX1xCy4Uy3oh4hJAjLQ+9Y\nAEcC+A3n/PT+ODCBQCAQ5I5fKYi5QikQTWQuKodxR1wGjAH3bd6FhTXVTkLec9vqcds3pg70oRUM\njAEjQ7IrRZnS/qlYtifWz189Dx0JE3UHoo6wlr6b3JeU1lRSfz9VFHt62Vz87KUPsLCmGjefNRlt\nMR1rt9RhYU01AGun2w6zWL5umyM8PvTaHtx45mQnOMOuMCzVFKz5y8dY85ePXX//K8ePcf3c0BqD\nROAptu1tjCCaMFxpe9GE4SkAdiRMLP7NX7sVTQ7Hu6unSqt04ebRy0/GrX94v8/f02BCUygkYi0c\nVUqg9iE5lBCCQzEDLdGYy0YhpObm7evV9jXQi7fDvWYF+cNk3kEZfnoBLzl1fEblqF+Uairagrqr\nsG6vQgAAIABJREFUU6E4qAyoiC3oP+xE1wmVIciU4MELZyIclCFRgqAiIZowQAjBpy0deODV3WiK\nJLB6cQ3AuGN/4bWZpcjUCb/a1Rjx9L/jIKgqK4KmyhhbEsSscdNdY236PbNMU/ptw8XrXn/9GZMw\nZkTuieqCnumpUm8trNbbvwA4C8AUAN/P90EJBMMRWfJuexFWA4JcYAzQTQbOrRsm59bPFPk/kQYq\n4GCwIFPiubAQZtpuBrJimVKCyuIgWMgyun7wopkghEAilihwOCmtqWT7fUKAy+aNd7WnrF5cgwde\n3QXA2ul+7YMv8OSVc9CUsjP/vfnH4dmtnwKAq8LwqtMmeAp1HUn3cXoFbaS+TlMkgeevngfD5Fj6\n+FbcumCK5+vWHYj2KJqkVyUoMoVMCfYdjHUr/vSm0ipduClSpWFhzO1XpZPJGdL3f3jn47lSaD6H\nh3vNCvKHLAGRRKYXcDjgT6VbTO8KIrA31FZu2omff/tEX16fUoJxZUUIKhIMk0GWKCrD3dsQCIYG\nB6IJJ9F164/nI5o0EA4qoMQSqxlniOsMD7xqbej++OzjMTKkoj2uoz1p4rLfvpm1Yjg1gGX163sz\nLA3szbBsY222e2a4nyZUIsSqf+lJ1JvCOT8BAAghvwHwdv4PSSAYnjDuvdOe7worwdCCUsDQAd1g\njiiiyARankOU4zpDwjAhpxlRZ6wQhzEm59DSzLQ11WpzE1gUyuYGpQTlIdXXlNZUCCGev885sHZL\nnWvxubXuAL43/zjHU+fpbQ04d9aRGFsSxMiQihvPnIxNf9+HWUeX49WTj8KnLR1Oe47nQuCSkxBQ\nqPP3bXF55SYrXe/WBVNQHlJRoim46dn3nDafjoSJA5EEGlpjnt44axbX4Jbfv+96nz2JJjIlaGq3\nDMJ7aonsTaVVunDTFtOHhTE3Id6VTjmLegyebYo/GQLVxNmuOeJXj6fgsNAUig5mCXuUWD/7hUy9\ng1v82lBjjGN3YwRL1211jbOTxojW7qFOXO+659jzF0osuwqFEFAClIcVXPGlY0AAy4JFstrBb10w\ntduK4dRU3FJNAeMcd33zBFSPLIKm9uxfm+2eueLcaVjyWFfeaVWZlreK5ULb3ClkDtfztSdRz6kj\n5pwb4sYnEOSPfKd/CYYHjHmHMeS7fZFz4GcvfShaS7uBc+8Fs/iMuqDUe3NjIBKC85HSaiMReFbF\nBWSK68+YlPG6x44KYcPyU1xVIJ8djOEr9/6v63VnVpdixT9Pc5J0myIJlIdVrDp/BgiAjqSJgEIx\nrqzI2T0nABojCTR1CnYrXqjFPYumuwQ9uwovaTKnHWjVKzsdAfCIUg1BhXom+KYLaKnVA7cumOJq\nKbI/Yy/Pnd5UWtntSvbzuqtuGEowlhmGRAlyHveHcjUxIdzzmhNLm4En23nq17wlIFM8fPEsXP3k\nu853//DFsxDwyfPuQCThCHpA5zi2biue/+48VI7I0dhSMKigKZsFm9//AqcdXwmdcBiMgxCAgqDu\nQAQxnbtS6ZecOt7ZhMm2+UWypIg/tmQ2OiJJjOrBAy/bPTM9mVlULA88fni+9iTqzSCEHOr8bwJA\n6/yZAOCc8xF9P3yBQJAK494BB6JST5ALA1WpF5Aprv3KxLxNmocCikw8PyOlD95XQ5Wkbo17ekrF\nkUwJkjqAfl4b5TOllVKaUZG3dksdfnredM/XBQBFouCcQ5Gsa0qmmZVHTZEEKosD2LD8FHzeFkOJ\npuCeVz50QjEAOIEWlcXWB2ovMuxj0U2GIlVyBLr0KjxbGNle3+YIgEGFYkRAwZpLajKq7tIFtFSx\ntFRTPD/jz9tiWLT6zZyqIxnjiMSNDBPw0SOCeP7qedANNmTbfwgBkgZ36ls5rDb2QI5jC4HVspxa\nTVykSn1K8Sy0pFnGMqtg126pE5sqBYJuZp6/fm5qj9BkPLZktpNA6mexbkz3vlfEdSGUDHWUlBbZ\nm55/H7/49nTMOqrc+XdVJigpCmCMIqGpPQFFok5SfX3nOVNVpgGAy18PyL4REUsa+O6T77ru415k\nu2d62W8Mter1wYYfnq/dinqcc/ENCwT9xEB6oQmGDpR4e9vley1FKVBSpLgmzcoAVVgVKkmD48Ud\nn7mSSJ/d+ikumTd+oA+tYKAUaE+YrsAVg3MUD0AMeG9TWm3xoidPuFTKQ6pnRZ5XBRljHLubIs5z\nvzalEtfNPw7//beGjOqTXy6uQZmmYF97HItWv4mnl811CXpA12KzqT3RKVBm+vg9eNFM3PXNExBU\nJJQWqQip1KnkS63Qs1t0H7xoJr44lMD9f9zl/FtlcQBHlGgZn0WqWJqtPbY5mnSOtbfVkc3RJC79\n7duoCAcc4aYjaaK0SPE91a/Q4Ny7/XagOvsLMWlWUyXPKkRNFXOsoU62y8Cvy0Py2GCpKssc+wRD\nD0Wmro2QgExBKQEzGEzGIVEgFLA2RkzOXRskKzftdMaha9dvd0K57HEy20bEwppqJ5iKhXjW8yzb\nPTMgu+03hmL1+mDDD8/Xnir1BAJBP6HIQNSjwio8tNciAp9J6ByMccsnqLPikzGOhJ7f1d1Atf0O\nJmRKcNrk0Vjy2DtDrrXNTwolcMVrQrzmkhowxpwddQB9Ei+yVfp5vd76K+e4dnAX1lTjqiesarjW\nDsMRiWWJ4sk36zDmy8dC6mwJyiaaUUJw3sNvOAmxT739Ce765gkYW6rh0+YO3LGxFk2RBO5eOB03\nPrMDFcWqU4VnV+jdvdBq0W2KJEAIcY7RFhGz+fSkiqVe3nx2OIdNturI9AATe1Lc0BpztSu98cPT\ngdBhngyDAJO5K51MxiHlWOlkcp4lKCO3+0chJs2Wamq/pT4KCguTcSR0E1Ka52/Qp+qk1Gqt1Hu7\nIu7tQ57U5OOigIwSTUZDSwyMc3QkTVSN1PDh522oLg8j1ln5rKkSKooDeODCmdjTGMHKTTsdq4vU\ncdJrI8K+P9qWGKGAnHVM7W6eIcIrCovD9WkGhKgnEBQM8SRHQCKQCYHBOAKUQKLW4yXaQB+dYLAQ\nVAgORRgaWmLOwqVqpIbicH6VkYFq+x1seLW2CbpgDOCcAyn72ZwPjDicPiE2GcedL9Zic21j1+52\nWO2zeJFuIM0Yx/5D8YzXa2xPuCZ6qS2rG7Y1YMO2BgDA08vmYs1fPsal88ZDkSjuWTQdj75RlyGa\n3bNoOgDuvMYDr+7GTV+fhBuffQ8V4QCumz8Rqy6YgX1tMSdwAwBWnDsNz189Dx0JE3UHok4q7iOX\nngSJoNe7zKli6fb6NqzdUof1V87pDHYguH3j+87fBDKrI7MFmJSH1WERiuEFpQA8NvRzrZT2y/fT\nz6TZQmvjFfhPNpsZv+xnCKwwr5Zowrn3jgwpKPVpbk0oUB5WXff28rAKIjoVhjyUEhxdHkJxUEEs\naSCumziiNAiDcVBC8OaeJlSXh5xxtZjKGBlSoUoUCc5cgRWAe5y0NyJWnT8DFcUBfNrc4dx3bXHv\nwYtm9nh8XnMREV5RWByuTzMgRD2BoGAIqgSN7UaGGFNZLFQRQe+JJBj2tUZx3OgRMBiHTAn2Nh5C\nkTICJUX5+7uGCTDGEJAlp8LKYCYMc+gvqAX+UWjisD0hbmpPOJVtQJd4t37pnD6LF6lihaZK+OJQ\nAtGEkfF6zdGkS6zKVn1nP04IgcEYNFXCFV86BkeWBvHYktloj+to69AtL5+Wrt/dXt+GlZt2Yt13\nZqPxUALl4QDufvmDDB8+kwNjQgEgBIQCMh68aKYjsuw/FO91sqgtlj5/9TzEdQaJWK2RdsXU9WdM\ncpJ+vSa22arANl576mFPigcrfnlRairF9+Yfh+8+0eWL+MvFNdDU3NQJP6oOAH/beO327PRjGsjq\nQYFFvoPi5Czektkez5WkwfHc1nosOmmcsNYYhtjzhAPtHG0xHate+QeuPv1YxHWGWUePRFCh+Mk3\npqK1Q8eB9gRGaDJ0xrImcqduYo0rK4LcmWRePbIIP/nGFDS2JxxxbzhsWg0HDtenGRCinkBQMHAO\njAwpKFIkR4wJqnTAPHEEg5OATFEaCuJbv3qrXwMrFBnQYxwfH4g4ovSRZUEo4i7jkO3WLGpO3BRK\n+20q2SqPpB4m5dlIFysevfxk3PqH93HrgikZr/fctno8dNEsXLPe8s57blt9hpfe3QunY+2WOqxe\nXIPbN76PH511PB5+bQ8uPeXojL8dCsh46LU9rseaIgns+iKC5eu2YWZ1KW76ultYu3vhdNy+8X1c\nf8YkTBpdnOElSKl3mm93a/LmSNJTrOlpYpvtu4glzcOeFA9WZAk4GM/0oiwJ5nbx6AZHOEDx1NK5\nYNyqNDGY9bq54EfVAeBvG6+f1YMC//EKivMLkuUum+3xXFGyWGuI9tvhhe0tffNZxyOoUJjM2oSL\nxA2MLgliRFBGUKZ4duun+HZnWEZ34yRjHI2RBC769V9REQ7gB2dOct1jV3d66NrPFRXNg5tsVZW9\nRSy3BIICwg9PHMHwhsM75S3f2nB7zMSv/1yHpV8+xtmpfuTPH+Ha+ceiLI8VgoOJgEJQFJDREtWd\nx4oCMgKKuMZtCqn9NpVslUdaD5PybKSLFUWqlNVj7rJ54/HkW584ZtlHlGp44k3LPLuyOIBwQEbS\nZLjtG1Nxx3//A5trG7Hk1PGOF4/dUntUeRFKNAVPv/0Jrv3KxAzRzvaxsyv3frdsLvYfjKM5mnTa\ncGv3tePpZXOdysJUUfKptz/xTPPtzftPF2u6m9h2VwV2uJPiwYymUEiEw2QcKiVQ+1CFRCmBbmZu\nztBAbq/lR9UB4K8Q51f1oMB/PAp6u308V2JJE7dvrMVVp01w2spv31hrtS764LeZHpZgW2soed5M\nFRQWjAEKBSis750QYERQxr6DcUTiOh75cx22fNSMexZNx4FIEkePCmUdJ+2NP7t6PzWkqlRTUFkc\nwM9e/gA/PW96VkuKgQwmEvQ/eRP1CCHVAB4HMBrWevJXnPP7CSEjATwN4GgAHwO4gHPeSqwejfsB\n/BOADgCXc87fzdfxCQSFRr4nNYLhActiCK3leeFCKcGWj5odfy/AWjBd99WJef27gwnGgRJNhjY6\n3JmKZi28/fINGgoUSvtt+q53maZ4inelmopSTc1ZvEgXK+zW2e31ba502dIiFTc+swPb69uwYVuD\nUwFy2uTRLvPsXy6uAePcaZlduWknbjtnimuReSiu446Ntdhe34YFM450Fgfl4QBWbvrA5WPXFEmA\nAFi0+k3XcduLi46kiVv/8L6nL58TKrK4BhK1PsvuEnBTX7s3Yo1fVWCCTEzGwTlH9cgiZ1PIZJaf\nZK74IbD6KcSJ86ZnBrLaxyu92S9UWUJTJOEK0PFT0E0NS7ApDioihGUYYd3nAF23rGg4J5AogSIR\nVJdpaOvQsbCmCmedMBZFqoRQQEaZpniOk6n+uqnV+9vr27B83TZUlWm4dcEUbK5txG3fMAsymEjQ\n/+SzUs8AcAPn/F1CSDGAbYSQ/wFwOYBXOed3EUJuBnAzgB8COAvAxM7/zQHwy87/FwiGBZx7T2pE\n+60gF2yz+fqWDlelhZ8TZC/kLOlvItm1C8YA3bQme4B1zesmA4WoFElloNtvs/l4TawIZxXvcp04\np3vprH59r3P92Omy954/A9GEjqZIAgCcirpH36jDNacfi8evmI2m9gTaYjp+8eou3Lpgqmvyf8fG\nWlw3fyJGhQPY0xRxBL2qMg2fH4w7C9yZ1aX493Onuir37lk0HYpEs3r3pYZ1AF3VfU8vmwvd5Kg7\nEMUtv3/fCdJIrxg4HLHGryowgTdegQIDFdblpxAnzpvu8dO/sNAo0xSsXlzjpIanty4KBIfLgWgC\nMrUqpnWDWx6RAJK6CSpRtCcMjAqrqKQEMiVIGAytMd1T0Eut0OsuId6+ZwprAQGQR1GPc74PwL7O\n/24nhHwA4EgA5wI4rfNpawG8DkvUOxfA49zqu3mLEFJKCBnb+ToCwbBAtN8K/ECVqavSoj+6iwi8\nk13F2etGNzkMkztVaLIEBISmV1Bk2/XesPwUjBkR9GWBKxG3B11TJAFNlfDklXPQEk06LbWjQio2\nLJuLL9oTCAdkxHUTC2uqcfvGWtx81mR861dvOa/5kwVTXMJ6UySBcECCyRlWvFDrEuxWbtrp/F5T\nJIFIwnC1zq7ctBOrF8/KEFTsxcRVp03IEOVs8XHxb/7qetyrYqCvYk16JdHYEm3QCw5+4Felf6H5\nfvotxA3n9uyeGMhqn3x3qrTEknjg1V2uMe6BV3fhzvNOQGVxDkkyWRAhLIK4bqI4aHmiU0ogwVrD\nWbYQgGEyNEeSaIvpeG5bPRbWVGPaEZmTP/s6tCv07Or9u755Ao4o1fBJSgKufc9MD9MCvDfJhO/e\n0KZfPPUIIUcDmAngrwBGpwh1+2G15wKW4Fef8msNnY8JUU8wLMjW3SJa8wS5QCk6Eye7ThxCCGie\nrV1UmUBTJSCl/URTpT75Og1VRIt9zxSCp162Xe/P22Jo7UhiUmUx5MP0SqKUYu2WOtci8+HX9mBh\nTbWrRezZq05BRXEA33tqu2fFXOrP9a0xaGnCelCRwDnHqvNnOCm+QYW6qv8eumgWHnptt2farV2d\nGNNN7G2MON56qZWFqWKhyXmvKgb6ItYM5Uqiw8Vk3pX+Zo7XjSJ7+34qAziOCyGufxjoap/0S9jP\nSzqum9hc2+ga4wDglgX+vLeB/uwEA49ECD5vTaCiWIFuWt6mMiUIyBRtMR03P//3jGCrWeOmZwht\n9rmUWqG3vb4NNz//dzx+xWxMPXKEK3meUtKrTTJx/xz65F3UI4SEATwH4F8454cIcU3UOSEkJ8mC\nELIMwDIAGDdunJ+HKhDkne7OX9GaJ/ADSrzbF/24Z3d3/uomPL2YdDGndUgYDHHdhJzidxjXTQQk\nYaZtI3fqwumeen7YXvVm/sAYz2iNBSyRqzmaxIqna7H+yjmoKivKmAjnsgteHlJx/RmTXBPs9Ao6\n+2/+6s97sWZxDZantI49fPEsPPin3c7z7J+b2pNWy21xAPvaYvjJH/4BAPjFRTMhEaC6TEMkYeDR\ny09GJGGgsT2Bl977DNecnhmckZp2yxjHoVhXK7BdWXjXN0+AIlGnuu++C2b0uq02V7FmuPsGdXf+\nyhIQSTBnE5Bxa7wJB3IbW2JJhjd2NeIrU8aCc+ta+FPtPpwxdWzOgQKFWBVSiMdUKOQzSGSg1240\ny5hOfdpRU2RvqwIRlDE06On8ZYxDkSgCCkVrhw5FskKbGAd0xvDye/uw4txpOKq8CJ+3xbB2Sx2+\nP/84EHB8sP8Qlq/rurdb84tMf90jSrWsnQK92SQb7vfP4UBeRT1CiAJL0HuSc/5858Nf2G21hJCx\nAOxtk88AVKf8elXnYy44578C8CsAOOmkk0QNk2BQ0d35q8jei9mwGGsFORDXuSNMgFtVYIxxxPXD\nHy67O39juombn3sfV502wak8Wv36Xvz82yce9t8dKjAO3Ld5FxbWVDuf0XPb6vGTb0wd6EMrGCj1\nTvH0o9K0p/mDvZP9n/+zM6uHTUNrDI3tCWiq7JoI57oLnj4JV2SKSNzI8M+zK+NuP2cqnl42Fya3\n/CvXvvERFtZU4ztfOgZtMR0v7vgMt58zDQbj2NsYwQ827HCCL6rKNOz+IoIlj72DF6/7Eto6dNd7\nu2fRdDz51ieuRUdq2u3zV88DAXG1r40MqbjnlQ8zqvv2H4pnfHZrLqnJaKvNRVyxn9uRNIZ1NUx3\n5y9j1nXTwSxhjxLr51wrXAkBJo4pwUWPvOU693PVPvysCvFLiBOVKt2TT9+5nsde79/zq0I7356/\nEoHn6wv3nKFB92Nv17zhzvOmwWSAYXIwzsHBYZjA2TOOcCr2FIliYU01ykIKtn3a5lhjANb97M4X\na53r0PbXXb24BpXhQLfjVE+bZKKadOiTz/RbAuA3AD7gnN+X8k8bAVwG4K7O//9DyuPXEkJ+Bysg\n46Dw0xMMJzgHwgEJccJgMI4AJQiqVARlCHKCAGiOJNES1V1G52NGHL5vTHfIlHimy4mgjC4USrDk\n1PEZE39FfEYOjFmVprrR1UaoSKRf2m8PRBPOgr+pPYlHLz8ZB2M6mqNJR+Syq+fGlrivp77sgqdO\nwhnjiMQNPLV0Lr44FM/4mx1Jhq/e97+oKtPw+BWz8c+zqjPECfsajybc4mBqBWBDawzPbat3xDnd\nZJApxbXzJ4IS4Hvrt7tScBtaY4jrDBKBq31tZnUpfnDmpIxwDfvv2NUFJZqCEUHZtRjJRVxJfW5q\nCqCNXUk03CuwCAGShtuTVzc5Ajm2zXKOjLbwtVvqcFuOGw9+VYX4KcSJSpXuae30mUv3nfvpedP7\n5fPRzczzV/VRFfPy/PWLSMLEyk07M3xJ7//2iSgP+/Zn8s5wH0f7Quq4snIRgUksLz2ls1LPbsO9\n/4+7sWFbAwDrvvXU0rkZgVOAdZ/9/leP8/06zGclrqAwyGel3qkALgHwd0LI3zof+zdYYt4GQsh3\nAHwC4ILOf3sJwD8B2AOgA8CSPB6bQFBwJHQOnTHYXlIcQCxpQsm3GZpgSBFUvT2Rgmp+J2YBmeLh\ni2fh6iffdbUIBkT7iYMsEYwqDrgWFqOKA5DFdr6D1zgYTfTPOBjXu3ayt9e34aZn38Pt50x1hUzY\nXjgzx53g+t3D2QVnjGP/oTgu/e3bmHdMORafcpTrbz588Sz86n/3Oq956W/fxsZrT3W12pRpCpqj\nSTDGoEjEOccqRwTwr093Ve2tfn0vfnDmJFcl3SOXnoSqUg37DsYcMdCmqkyDRDIXBNvr27B2Sx02\nLD8FnHMoMnXacxtaY1jxQi3uXjgd97zyIe48z/1Z5SKupD7XKwXwkUtPQpmmDPsKLM69PfVy3RQM\nyBTXfmXiYY/jflWF+CnEiUqV7kka3r5zt30j/5/PYPeblbJsag6m8UdUsvaN1HHlg30RHD2qCASW\nKC1RAk2mOJgwsOWjZgBddhktUSu53ktoa2iNuc4l4PCvQz+TxAWFST7Tb/8P2QOz5ns8nwO4Jl/H\nIxAUOopMcCjK0NAScxb8VSM1FIXELoqg95gMGBlSUKRYKVxyZ8VnrobpucI4xwhNxmNLZrtSd5ko\nNXWI6934VQkAAAGF4FAkcxwMh/M/Dkppvkvb69vw0nuf4ckr56CpPYHmaBJrt9RhyanjMypQ++Kp\nxBhHWyyJfW1xxDoFRXsn/9HLT4bUabKdusMPWEJELGniyLIi53VSq9lS23nWXFLjEurSxbjUagxN\nlTxbyDRVwohAZmvedfOPQ2U4AFmmYIwDnOPxK2ajJZrs9rPKRVxJfW6qx9DxY4qhqbKT/CcqsKyK\nkNRKJ5NxSDluGPg1jvtVFeKnEJfNK5MMFuUozwxkJY9fovRAoUrUc+xUB5FfrhhH+0bqdbNy007c\nds4UgAOlRSo4B0wA+1qjeGrpXBgmg8kBgOHGZ/4OABkbVXZwVSp+XId+J4kLCo/BM9oIBEMciQKh\ngIRjK8MYUxLEsZVhhAISBtGcQFAAJA3L0D7VMP1QTEfSyO/sWDc5nnrrk87kUis046m3PoFuDpJZ\neT8QDkqoGT8KFz3yFv7fPa/jokfeQs34UQgHhXBvwzhQosmYONoaByeODqNEk/slBVzpXJhVlWkA\nrIn0aZNHo63DEqlKNQULa6qxctNOxJJuUcH2bEr93e48m2whbkf9QSx/Yhuao0nndzdsa8AZ//ln\nXPrbt0EIcXb4bdLFwtTFWHo7j13dlnpcthh3ZFkRKoq7fHpKNRWjRwSx4txpeHrZXKw4dxpGjwii\nVFNdrXlPL5uLWxdMwQOv7kJTJIHPWjuw/1Acn7bEcMOGHT1+VvYiKP09mczyA3V9J51iqY3tMWR7\nGlJKRAUWkPX6yPW68Wsct6tCUs+7vlSFZDtX+rLAJYRnXAt98Qscqtieeqmfj1+eej1htymmi9J+\njfvZvmK/vnpFBsrDqmvsLA+rUPIeR+kfYhztG6lj3fb6Njz82h6MDKvOyWWaDMdUjoAqWe24bR1J\nRBMmmiIJZ5PtySvn4L+unodbF0zBk299gsvmjc/LdWhbfqTf+wVDg0E03AgEQ5+ATBFPMboWrYuC\nvnAoZqAlGnN56ml5nl0GZIqzZxyJJY+9I9pvs9AeN/H6B19g/dK5TqXeH95twDdrqlCi9fz7wwFK\nAINxp0KDc+tnP72VssE5h5bmuzQypOLezTszAiHSRYVY0ttT6cGLZnqmhtpC3L3nz8jaWrp6cQ0C\nMsEjl5yEpevcKbmRuIFRIZ4haqW389iLhkcvPxkt0WS3/jyUEhxdHkI4KDs+elqn71S21rybzzJx\nw4Yd+PHZx6M5mvRsQUv/rMpDKtZcUuNK/Lt74XTc+WIt7jzvBFQWW96Ats9gegVMujgkvIIsvK6b\nXD1NiwLe43hRjim6lBJMrAhjw/JTYJgMskR7NHr3ws+WMcb88Qscqgy0p54f5282FNnblkTJ0XMy\nG+1xE7/+cx2WfvkYSJTAZByP/PkjXDv/WHQWVBc8YhztG6kVcDHdAOfAk29+jNMmj8aYkiAoIZAI\n0BZL4vO2BIpUCZwD65fOgcmsitQvDsZx/Ya/OZ/97sYIVpw7DdUjNextivbrdSgYvAhRTyAQCIYQ\n+d6Rzvp3KVBSpLjathSZgAhNz4EAeHpbA+79Y1drRVWZhm/WVA3cQRUYrDPd1WrntDyV5E7D6XxD\nKcXDr+3BwppqFEFC0mR4fls9vv/V41yBEF6igiJTT0ErW/utLcTZIlxqa2l5SEVpkYobn9mBpkgC\nG5bPdYRGWyxsiiTw9LK5zsLXXox5iYOXzRuPm559zxWA0Z0/T3Mk6RJR1lxSg4pwwHPB90lzB646\nbQKao0k8t62+V8m3lBKMDCku8cAOBbllQZdPQHM0iUt/+zYqwgHnuR1JE6NHuMUh4RVkieF+lq8I\nAAAgAElEQVS5PJ4NxoGATFzjuMnMnK8/xjh2N0UO25/Lz5YxTZU8g4o0HwMTBjMD6amXbxgDilSK\nYyvDYJyDEgJKuW8BTLSzojrVJqGqTMN1X53ozx/oB8Q42ncoJSgPqdh30MTjb9bhgtlHQaYElBAk\nDBOyRFEcVHBspQLGrWTcWNJATGdY/9anuHjuONfmVVPEEv9ufKbrvn3L2Qaa2iFaZgVZEaKeQFAg\nZPMOGSyeIoLCwPbGQsqOtKZKeZ8ExJMMr9Xud/zi5FS/OI9KpeEIIZn+KaL9y41EgbiRWbGRa4pn\nXygPqbj+jEkZi5qJFeEeRQW7/TZdMMhWaWK3laaKcHZr6T2LpuPGZ7rCLT5vi2PJY+9kvMa+g3Es\nWv0mvjalEr9cXIPvPrHNqcx7/IrZOBjTURxUsHLTBy5Br7vqCy9fpeXrtuGZ5XOxZnENlj/hrq5b\n9cpO3HzWZNz18of4wZmTnEqo8pCKyuIAxo4IeqYpMgaX9599XKkFmbbwmW4a/sYPT3eNKcIrKEX8\nThPDcx1bonETNz/3Pq46bYIjuK5+fS/uv/BElOcwjvvpz5WaEn04pLaX25W4dnu5YGhXahFitZYb\nJgclgM45ZAkI+rQKznX8L0TEOHp4NEeTTsfKZZ2bUTd9fRJufPY9zDumHNfOPxYSsTYoFUpxIJbE\nf7z0AZoiCSz7f8egPKxi3Xdmg4Bg/6E47nr5Q+e+XVWm4YP97VjxQq0ILxFkRYh6AkGBQAhgmpme\nInI/LGYFQweTcXDOUT2yyFVpYea51EmmBJPGluCiR94atJPafMO5aP/qDQNlQ9DdoqYnUaG79tsm\nlsh4vdRF4KpXdmLFudMwrrwIMiX4l9/9zSXC2X576Yvt5mgSAJzKmt8tnYvP2qzqvxs2WKLgzOpS\n/Pu5UzMqDcs0BU3tmceVzVfps7Y4xo0sclUMrnrFqhhsi+mOmHj7OdNgMA6JWB6xew5EPau1ugvl\nsMlFZPBL+BnMeAUN5ArNluKZozpYiP5cdnt5cVARooUHA1mp5VelaTYMkyOum5Bp19gR101oPgqW\nRWnWDUWDsAJUjKN9J2mY0FTqdKxIlEBTKDYsnwvd5GiJJBHTTVz4yF8xs7oU910wAzefNRmVxQF0\n6CZufOY93H7OVDz02m5cNm+8E3Blh2fcvvEfIrxE0C1C1BMICoTBnv4lKBziOkNLNOHy1Mu3Z5vp\n4UemqRJMcQI7BGSKa78yEVc/+a7wHcyCbgAg7nOGcw7d6J+Ft72oYYyjOZrEvoOxXi3+VVnyFENM\nxnHew29kiFrpIuDIkIq7X/4AC2uqXWm1APDctvqM5Fm7Ss5mc20jbl0wFTc8s8MlpjRFEogkDKd6\n7ohSDZXhAHY3Rlw+fY9cchImjSnOKqQ1R5OoLtMwpiToWvTfs2g6Vm7aiaoyDdefMQlx3cSlv30b\nDa0xPHr5ybj1D+97VmuVh7JXTdmfPWMsw3tPtIN541elv18VR0O56muoMtCVWl6Vpn5BKMF9m3dh\nYU21s+ny3LZ63HneCf68fo6PC4YehBDsbexA1cggJGL5KhqMY8vuJjzw2l78/FsnYuUm657dFElg\nV2MEK16oxYpzpyFpMmyvb8OTb32Cm886HjHdxKOXn4yOpInioIzVr+91NvoGenNEULgIUU8gKBBE\npZ7ADwZqcsk5MvzIHn5tj6hCS4GQLL6D4hJ3oBRoTzDoRmeblMlhcILiQP+JAXYybS5+YF5VLmsu\nqcGdL9Z6ilrpIuDM6lLc9PVJePSNuowW7e995ThsrTvgEgDveeXDjJZaxrlne/fKTTud577xw9PR\n0pF0BD3nuNZtxfPfnYdR4YBniMXaLXWYNa7MtehXZAqZEjx40UyospXUfs6DbzivW6RKWau1slVN\nAXB99l+bUon1V86BREneRQZbTBysVVxe6aFSjgEzBN4VR7l+CnaSaqoQ3V9Jqtnoy3U93BioSi2/\n0puzIVF4+ilKPu2nSVlsT/pSLSsYnBDCURZS0BJJQjc5KooD4ADmThiFeRMr8O///Q9sr29z3VPv\nWWSFX6zc9CEAK/l+d2ME182fiGMqQggqEla88I8eg7oKmcF+Xx1MCFFPICgQRKWewA8GanIZVLyr\n0IKKqEKzievd+A4KAFjtVopEQEHAOIdCCCTJvzas3tAXPzCvKhfGWIbpvC1qaark8qhriiSgqRJ+\n9E/HI2kwrF86FyZjMEyON3Y3YuZR5bhm/buO0PW9+e7wjocvnoWH/rQHbbGklTjKGPY2Rp0ACqAr\nuCOW9G6NjOuW2Dapshjrr5yDxvYEmqNJrN1Sh+/PP85ZAGd8Bp1ea5+1drheNz2J1z4Ge0HiJSA0\ntSdcn/3m2kbU7mvPe7uREHws/Lp/DHSSqhd++vwJ/CXfXqrRhLc9Qq5ekdlgHJ62J/0R8CQoDBgD\n/m9XI742bSyMzio9zoF9B2N4/cMv8OOzp+D6MyZBlSlUieAn35gKhRKMLFJdYVxNkQQqRwTQeCiB\nR/6yF5fNG++613uFTxUq4r7avwhRTyAoIPzYaRcIVJm6Jpf9samXNBnUtNREg5lImj7Fyw0BggpF\nzfhRLt/BXy6uEcJnCoYJSARgBE4blkSsx/uLvvqBpYtUTe0JT1HLZBznPPgGKsIBPLZkNto6kmiO\nJnHHxloAsMy11251Vcq99N5neOI7c8A4xyfNHXj9gy/w2JLZUCSrzWf163ux5aNmPHLpSagMB9DS\nkURQoS5fHruNUkpJy009LnuSLcsUR5RoUCSK8nAAF84+Crf8/n00RRLdTsjTWy5Xv743o5Wzp2qt\ngfJiE4JPF37cPwoxSbUQff4EXeTTS5USf7wis8E5R0xnaE2xPSkLKSgVu/LDBk2VMOvocmx+fx++\nOnUsKLXGz7GlGhafMh5PvFmHNX/52Jr3XVyDdW9+jGu/ciz2HIji/j/ucgVMBWSKj+Md2FzbiKb2\npEuMHjWIKt3EfbV/EaKeQFAg5Lv9QDA8oNTy9gC6ThxCCGiedSOTwdOz5iei/dYhrjNsqzuA9Uvn\ngnMO0lmpN1JU6jmoCtDawV3ttyYnKCvqx2PwyQ+sp5bchtYYmiMJfOtXb7l+b+Wmnfjdsrloak+g\nojiAgzEds44ux/VP/w0A8MOzJmPBiUfg4wMdePnv+3DWCWOx/LQJ+JevTkRlcRC7myKIJoyswR2q\nRD190xRKYBgMlBLsbopg/8G4yxMPQLcT8vT32xSxFrh3ffMEKBLtVbXWQHmxCcHHItt0I9dpiJ3u\nnP49KgPoHyp8/oYvShavSMUncYRS6mk/8tPzpvvy+oLCp1RTEUkY+PKk0TgY0zEiKAMgILA2Ri6c\ncxS+NfsoKBLF799twJaPmvH9r0507pf2BkhVmYanl81FR9JEVZmG7fVtjhhdVabh+avnDdybzBFx\nX+1fhKgnEBQI+W4/EAwP4joDYwwBWXLaFw1mIq7n9zySKfH0rBHpt12EA96VeuGAqNSzSepAcUBC\njDBr/KMEmkqR1AEE++cY/EqB7E1LrleLalMkAUoIvvfUdtyzyFoUrnih1jmWIlXC7/76CWYdXY6F\nNVVoi+m4++UPcPs509DYHsfSx7fi1gVTPCtTVFmCIgHlYdXlm1YeVnEgkkRTJInK4gCWPr4V954/\nI6cJefr75QC+t367y/sP6L5aq7efvd8+PdkEH5NxMMYLvjLCr01BxjgSugkpJSU00YeUUL8CN/xk\nINNdBd3jV9BLNggh3l6RPlXqlYdUXH/GJHFuDWMoJShSJOgShypTyxOdWhsiusEBEHzSHMUDr+5G\nUySBX148CzIlnvfYlmgSR5YFM8bQ/7xgxqCaU4uNlP5FiHoCQYFAiHf7gTDRF+QC58DPXvowo2Ku\nPwIrvCbNgi4ShiXsPbV0LhjnoJ2Ca8IY6CMrHGQJOBg304IyOEqC/Xcu+ZkC2VNLrleL6iOXnoSK\nkIrVi2vwwKu7cPXpx7quK1Um+OqUMbh+ww5XW+vtG9/HTV+fjIbWGFa/vjcjNMNuff2iPY5f/7kO\nS798DCRqte8+8uePsLCmCjc8swNPXjkHDa2xHj3xsr3f8pCKnV+0Y//BeEaSb29+v6fPPh8+PeUh\n1TMg5M4XawfUB663UALHwwno2hRUc7TvkCgBIQT1LR3O+XZkWTBnT730dOfUSlHk6GFmGAyNkQR0\nk0GRKCrDAch9qPgb6HRXQXbyHRRnMJZRbWr9Df/sQQIydY3Tfqfai8CBwodSIBIz0BbVUVEcgME4\n9h2M4+6XP8Tso0txybzxuO9bMyBTipZoArX72j3vsZ8fjOOIEmsXc90Vs2Fyjv0H4/iPlz7s0xg6\nUGTbSJGo5cErzmN/EaKeQFAgMJZpBk+J9bhA0FtU2TuwQh3AtieBRUw38a9Pv4erTpvgLHRXv74X\n93/7xIE+tIKBEEBTKCTCYTIOlRKo/ZgQnL5wGlui+Trh9GpR1VQJq86fgYriAJraEwjIFK1xq1X1\nlgVTEUsaKK8MoCWaRFtMx32bd+Gmr0922lqPKNWchLwfnXW807Kz6pWdjk/P6BFBrHjhH7j9nGlQ\nJIotHzVjw7YG57iqyjTMnzIaDa0xx3PPSxjsTfWJ7aNTEQ706fd7SuDMh08PpQSjQqpLhLJDRgbS\nBy4XZErAGHe8KPtS0cE49/TUYzmWTKWnOwN9q9AwDIYPv2jPSNGdPLq4z8JeoQu0wxFCvIPi/Br3\nGYdne6xf9iAHoglc+tu3M8SZ56+eh8riwy8xF4EDg4dQQEKws1MmIFOMK9Nw7wUzQAnBui11+PKk\n0Vj1yk7cfNZkPPDqbldglr2ZtOqVnbjqtAlOhb7NYKtyS99IUWSKSNzAOQ++Ic7jPCBEPYGgQCAE\nSBrunUrdFO23gtxgnS3bqYEVJjOtxV4eyXaWirO3C5l6m3XnO5l4sOG1uOsP+mPhZE9yNyw/BZ+3\nxZyAjO31bagq03Drgin4wTM7sH7pHGyubUSppmLxKUfh3s3/wMKaapSHVPz47CnYuP0z3PvH3agq\n07DuitlOS+/+Q3Gn8m97fRtWvFCLexZNR0OrZbp9zekJVBarGdWB9kKiqkyDKlFHeFz1yk6sOHca\nxo8KoSggYVQo0ONnYfvoNLTGHGGxVFNQVab5IpLmy6eHUjpoF1HZxI9cRZGkyfHUW59g0UnjAELA\nOcdTb32KS+aNz+l1/Gp1bYwkHEEPsL7nq57Yhg3LT8ERpVpOryUoXDj33tT2q/1WlainPYgq+bPZ\nGdezJ4r7gQgcGBykn04G45A6u65aoknMOrocq17ZiaZIAm0xHU2RBIo1GbcumILJY4rxUVNXYn22\nKv7B1tKdupHS1O4Wv8V57C9C1BMICgSTeS9mRXioIBcIgWf7VL4rnSgl0FQJiOrOY5oqid23FBSZ\n4OGLZ2VUUSpCuHeIJzl4WqOUbjAYICjJ8xq+vxZOlFpiyaLVb7oeb2iNoVRT0NAaAyVWtZxdTXfj\nmZMhSwQKpViXkqJ398Lp2H8o7rTwrNy0E7edM8XVBqapEu7YWOv48X3WFsfKTTvx82+diPKwio8P\ndDgLjdWLazCySMWocKDPbYqpPjq2yXdVmYb/uvpUX8aDfPn0DGbPNc695w+5iiIKJTht8mgseeyd\nwwoUoJRgYkUYG5afAsNkkDvbZnP9/nWTeYolRh8nRn61MIpWSH8xWWYYC+P+iXoji1QcKg64xsWK\n4gBGFvlzbdvjdUaiuE8TLxE4MDiIJzkoAN65oU4AqDJBQ2sc16zf7oyp954/A7/5v49w98LpONih\nY/m6bXhq6RxXYr0dNPX4FbPRErW8bo/wuXOgvxHncX4Rop5AUCDIEhBJMMfYmnEgYTBhoi/ICd3k\neG5rPRadNM7xy3p266e4NMdKi1xhjINz7mrb6o8KwcFE0uB4ccdnePTyk13fTa5VMEOZoErQ2G6g\noSXmLL6qRmqoLFby/re7m3A2tSd8XcBnSwe1fexaokmndXXDNisp76GLZuGl9z7DopPG4YypY9Ec\nTWLVKzsBwFWd9/Bre/Cjs44HCPDxgQ7csbEWTZEE7l44HXHdRHM0iaZIAotWv4kLaqqw9MvH4N4L\nZiAgU4wuDjptjRXFAUe82Hcw1qv3zhiHRJHRUuSnOJYv8W2we66ZLNOTTMrRU0+WiGeIipzj6zDG\nsbspcthVr4rkfZ3Ifaiw8qsSV7RC+o9EgWgyc/4bUv2Z/8oyxVFlRdAUCQbjkCnpszejF/lO1xWB\nA4ODgELQFHHPX8ZXFEGWKNZ9ZzZoZ/Vze9zAwppqrN1Sh4U11QDguSEXVCTcsGGHU8n/u2Vzocq0\nVxXzhYg4j/OLEPUEggLBMC0vqY6UoAxNoRAbGIJc0FSKBSdWuSotfrm4BppPk+NsyBJBXGdoiSac\nCcnIkAI5PPgmHvlCzlIFM5jSzPIN58DIkIKilMVXUKW+VWx0R3cJqOc93OUBs2ZxDcaWBlGqZRd8\neqrk8UoHvXvhdKzdUod7Fk1HNGFg1Ss7HZPs+pYYnnzrE5w780jc88qHuGzeeFcirqZKuOubJ2BM\nSRD1LTH864YdAICrTpuAH599PEo0Bfe8YgXoPLetHg9dNAvXrH/XEQxXL67B0eWhwwqkSH1+RTiQ\nc9tub8lVfMulqmqweq75lX6rmxwsbXPGYCYMM7cX8qvqtSKk4peLa/DdFIH4l4trUNEHAdevYxKt\nkP7DuXdQnF/jPmMcew5E8yrE5jMobDBXEQ8nGAdKNBna6HBn+i2BKlN0JExIlOBgh47vpnRq3LNo\nOlZusjbm7A25G8+cjJZoEkmTIWkwJz2+oTWGz1pjuOGZHYN2E0Gcx/lFiHoCQYHAGJAwTTBuDdKM\nw0rQksQOhqD3UAKUhxVXwqokZfrV+E22RV+ui8GhjkgI7hk/Ko76gteEc80lNbjzxVrXAn75E9uw\n4txpGFMSxOgRAcSSbrGoN2JYajpoZXEA4YCMuG7iR2cdj3/dsAM3nzUZ2+vbsKsxgue21eOyeeOx\n5aNm7G6M4Lr5E3FUuYanl83FgUgS+w/FHV++r02pxDWnT0RTJIGG1hhWvFCLuxdOd4TAtVvqsOTU\n8XjyrU8cr7uOpImKcKbQlat4kfr8htYYljz2TkbbrV9ti70V34ZLVZUsAXEjM/02qOT2Hk3Gcd/m\nXYednu5Xm1Vb3MALf2vIqG4e8+VjUaHkNnb6dUyihcx/8p1+eyCa8BzL/AqyMHm6aUTne/BJlRzs\nVcTDCVcKOayQoRJNQSSh4xd/2u0Kr2rrSDrttlVlGi6bNx43dVbc2x67NnYl/2DeRBDncX4Rop5A\nUCAosmVHphsMlAA651BkgvDgGrMFA0xC52CMgxDipCAyxpHQ8yuuxQ2G2zfW4qrTJjjpcrdvrMXP\nRbKrgwgT6Rm/DP/7gteEkzHmhFDYNLRarTVLH9+KFedOc8QrWyzqjRiWLR301gVTHBNtAFj9+l7c\n9PVJePSNOmcxMDKk4oE/7sENXzsOqkxdFXuXzRuPl977DI9fMRuEEBgmg8kYbjxzsnVNnjMNTe1x\nJ/3WaRPzaEPLVbzo6fkDIbANl6oqzr0r/XPVFAgBLps33pVYfPfC6Tlff361WSUNE2v+8jHW/OVj\n1+N9sZPI1vLude53B8nin0b6K6J7CJLv9Nt8B1nwLOm6uYrh3TFYq4iHOzIlePujA6guD+PHZ0/B\n/oNxNEeTqCrTHJGvsjiAEk3BXS9/4Ah6D188Cw/+aTcAuMKsgMG9iSDO4/whRD2BoEDgHAgHJMQJ\ng8E4Av3YdiYYOkiU4GDcxGetcVdQxsii/FaEZUt2Fa2lXRACzzARsRbswi/D/76SOuFkjKOhtSOr\n950t7gFusag7ccuuVGOMYc0lNVi+bptLPFm7pc41mW+KJDAypOKKLx0DAkuk+umLH6ApksCNlGLS\n6GI8f/U8xJImdJMjljQwd0IFogkDJue4NsWc+5cXz0KRSlEcVFzVoqNHWK3E6WQTZgArxS59h70n\nIWcgBLbhUlXlV9AA58DaLXVOFWdbTMfaLXU5ixNlmoLVi2uc5NqqMg2rF9egTMvNG9NPDyavlve+\n2B9IBI7fZeq12w/FxEMWxrzTb5lPQXH5DrJQZYprvzIxIwRL9cmzTzA48LL6ZBw4fmwpVnbaX9jB\nUc9edYprA+VrUypx81nH40f/dDx2fRHBE29+ghvPnIwffv14fNrS4aTiAsKHTuCNEPUEggJioNrO\nBEMLVaYuT6T+uPdrKvX0Psq3l99gYqBCTAYTVsBK5jhIBkAcbo4mceeLtZ4L+FWv7HTEPRtbLMom\nRCgydVWqfW1KJdZfOQdS53triSaxsKYaT7z5CRbWVOM7XzoGR5ZpWLelDl+eNNp1DGsW1ziiWmVx\nEIxxHIgmIFMCTZWxctMHaGpPulpsIwkD0YSJo8tDKA4qPba/eLUj37NoOq5dvx1NkQQeufQkV/tx\nmaZ065czEAJbtu+CEKtNeii1/SSMzKCBYI6igl/iREssiQde3eUSBx94dRfuPO+EnNod/fRgSm15\nt49p5aadePCimUCo969DKfUUPn963vScj0nQhZ7WfqubHKpP8998B1kwxhGQCR5bMlsEhQ1jvNJv\n//ZpK+544QPHP88eUxnnGePIXS9/4Ah/ANAWS+KGr01ypeJWlWl45JK+jYEitXtoI0Q9gaBA8Mvo\nWjC8oRSdbUBdJw4hBDTP2hoBMDIku7z8KOWitTQFVaY4e8aRrqAMsZvvhjFANxl4p7co59bPFP2/\nK500TGyubURTexJ3ffMEjC3V8GmztWPeFEm4TK6Brt3zbEKETImrUm1zbSNq97Xjv64+FbrJHANt\nAE5r7JNXzsFpk0dntN+WaLJrMk4pAQHB4t/8FRXhAG4/ZyquWf+uUxVw98LpePQNS3jobfsLpQQT\nK8LYsPwUGCbD3qYoVm7qqhbwaj+eWBHO6pczEMl3Xt/F3Qun4/aN7+P6MyYNGW+9bG8h17fmlzgR\n161rJ711/ZYFuZVepZ+DskRRGe5b6Eq2lvdcz7/ykIrrz5gkzN59JN/zX0Wmnn62ubZeZ8NqFSao\nb+lwdUhIQ2Bs8ZOhLipRStDaoeOz1jhGhVVoqozjxozAU0vngoPj3gtmOGPqz/9nN5acOt4lNKe3\n3C45dTx+85c6nDfrSKy7YrZlrUBzr8AGCsdfdqifAwOJEPUEggLCZbDaaXQt2hcFucAYIFOAyhSM\ncyid4ppfbSzZSBockbgBiUqOJ6TJTMhECFY2ZpYFsymUewdKAcPDWzTHrj1fsEWo7fVtWPybtzGz\nuhTXzZ+I+y+ciaBCEYkbrt3zNYtrnPYbLzPofQdjnpVqMd1EQCKeFYEP/WkPLp47DhfOPgpFqoT2\nuAFZIgh5BKzYlXANrVZS7uNXzEZLNInmaBJrt9Th+jMmZQgPqRNsQggkYlUi2c/b3RTB0se34hcX\nzsSSx97JOHav9uNsguFAJN/ZPokblp+Cz9tiaI4mnTYmW1AdCv4+fnmpKjIBpdQlTlSN1KDkGFgg\nZWl3zLXwijHunIOHuxD16/wTZu/+Q4n3/NevSr1STUVbUEdLivVFcVDxtB3oCwzwrML/zpcn+PL6\nQ4FCEZXyCWMcPC09nHGGQzETByJJFKkSOIBxIzVcPPcodCQNrDp/Bio770GrX9+LC2cfhVsWTHXm\nGKn+t3aXQFMkMShTu4fDOTCQCFFPIBAIhhADJYrEDYabn3sfV502wWklWP36XhGUkQIBENcZWqIJ\nZ8E8MqSgVBvoIyscJAooEgEFcURpSfL2qsknjHFIFFizuAbLO1vKmyIJjCkJoqpUA6UEo0Icz189\nDx0JE3UHorjl9+87bamTRhdnTJSzVartbYxgQkUIa7fUeVYEXjx3HJTOxa1twO7V6pf6+hu2NThJ\nuRMqQrjtG1Mxujjo2iEv05QMwcT29bv+jEkoD6vOv4UDclZvQZueWmlzFUP8TMrlnGPR6jddjw8l\nbz1FJjgUZWhoibnEuKJQblVojAFFKsWxlWFXxXWum0KaKnm2O2o5pn37mVrqZ9WfMHv3F0Isz0PG\nuCNKyz4GZeQbmRKcNnm0qwq/L36NQ5lCEJXyTfqmSECmqBwRQAdlqCrT0JE0UVqkIGGYaIkmnbH6\nUFx3Euw3bGvAGz88HZXFQYwKcTy9bC4aWmNoi+kuX73BmNo9HM6BgUSIegJBgZBt0drfi1nB4EY3\nOBhjCMiSI4oYzIRu5PdEEkEZAr8IyBTxlBTPQD+3J6fuJleEA1hx7jQcPSqEgEQQTBElUlteUyfL\n2SapXuEB9s57RbGK73/1OCxftw0V4QCumz8Rqy6YgdZoEhzAzc//vcfqovKQmiFCqjLFyk0f4vZz\npmUIeOuvnJMxwf7hc+/h1gVTsPTxrVi/dI7zb3HdzKgkzNZ+3B29FUOy7ehPrAijNabnLPQNROtv\nf+KXGOfXplCppmL0iGCvAlm6I3tqae6l535W/Qn8Jd/ptweiCVz627czrv++iMNe+OXXOJQpBFGp\nPwgFJGccliiBRAiCioRI3EBpkYKN2z/Dn3Y24b4LZoBSgo+aoo6gB7jvS5QSqLKEG57Zcdj3rkK4\nBw6Xc2CgKChRjxDydQD3A5AA/JpzftcAH5JA0G+YzHsxa+a5bVIwtFBkAiMBfHwgcljtU7kigjJ6\nxuQ8I6GSdz4usNANAMT9eXDOoRv9t+hOrQ5qaI05nnG3LpiCFS/UuoSAXCapdnjAuitmo7E9kbHz\nvuLcaa420R9s2IHt9W342pRKPLZkNmRKUBSQMCqUWV3EGEdbLInysJLRdnvZvPEgBBkCXmN7wvPY\nSzUFDa0xVwvl5wfjeG5bvbNo1U2GIlVym3f71ErLGMf+Q3HPHf31V87BRb/+a86izEC0/vYnflZo\ne1XK5n48pNeBLN3hVxsvIKpECh2v9Fu/iCezicP+iAmKTD03Nf3y7BsKkCzXMhks5Wmez/kAACAA\nSURBVJh9gHT+T6YERaqEh/60x2ml/bi5A0GFQpXdIRhrLrFSwu1KdcYY1lxSg+Xrth3WvasQ7oGF\nICwOZQpG1COESAAeAnAGgAYA7xBCNnLOawf2yASC/oESoEPPTK8rUsSkQNB7/KrYyBXOvYMyhF7V\nBefAw6/twcKaahRBclopb/vG1IE+tIJBloCDcQbd4JY4YXIYnKAk2H+TvmzVQbbYlSoE5DJJtcMD\nFtZUY8ULtRm/QylFRUjFwZiOf3n6b87E+7J543HjMzvQFEng6WVz0RxNugQSu6pt/8E4AOCpt630\n3FJNwcKaaqzdUofbvjE14z01R5NZW2qryjQEFepUFq5+fS9u+vokVzvl41fMxvNXz4NuMN98xez3\nEk0Ynt9BqhCZiygz1H3QKPEW43J9e3GdIWGYkGnX+ZvQTWTsRvTmmHxoUVUk6p1a2ocWBlElUrhk\nm5/4NW+h1FtQoj4JSnKWdF3RqdCFRODpG+uTbWJBwjgACrR2JHHt+u0ZVgR3bKxFRbGKx5bMRnMk\ngY6kCcNk+LS1AwCc6tKvTanE+ivnQOqs3OvLvasQ7oGFICwOZQpG1AMwG8AezvlHAEAI+R2AcwEI\nUU8wLDBM66bHOoNLCbF+FvNNQS7IEhD1qNjI9z0zYTDLxD8lKMNgJmhwCM/YciQgU1z7lYm4ujPl\n1E476+/20kKGcUBTKCTCYTIOlRKoMunXFPBs1UG2f1yqEJDLJNV+3dWv781Y3Ni/Y0+8s/noNLTG\ncMMzO1wVanYF0r3nz8BdL3+IH5w5yfXaaxbXQFMzxcfnttVnVADYnnr3LJoOw+SIJU2nhZJxjru+\neQKCioQjSjWMGRH0fUFgv5dbF0zx/A6ao0nX83MRZYayD5pfnmScAz976UNHFG6L6XhuW/2AbTxw\nzqGlpZZqqgTeh90iUSVSuBBihW3Z3yqHtaET8KnDIN+im2i/7RlKKdZuqXN9Rmu31Hn6ww5WTGZV\n5tkQAry043P8Ycd+rDp/BsaWBEEJwf6DcdyxsRZNkYS1WfbMDlf77YpzpwGAM1Ztrm30JdhpoO+B\nhSAsDmUKSdQ7EkB9ys8NAOYM0LEIBP2OLAHROHdVqJicoOTw7T4EwwjDBIKy5eNhiyKKlH9xmHHg\nvs27MhaDPxFVaA6yRDBCk13pt7JkPS6wyHcKYm/wMvm3ve+ATM+b3k5SU1931Ss7seLcaTiqvAia\nImF0ikDWnY9OW0zPqFCzK5DaYjqaIgmseqVrcdmRNDG21PIySxcfrz9jEiZWhPG7ZXPR1J5AOCAj\nrptYWFONlZt24uffPhH/8dIH+MGZk5xjsUXCfAh6QFc1lZfwueaSGtz/x12u5wtRxsJk3p5kudp3\nFNrGA6XUs7q5L0KAqBIpXDj3Pn/9qvSnxGp/TBWHi1TJt0o9VZY822/F2NRFeUjF9WdMGtLXn8k4\n4roJVZKs+R0lOP34MagZPwqaYm14H4jEYXKO+751IgIyxTVPvusIeoA7VT6VoVJVPNDC4lCmkES9\nXkEIWQZgGQCMGzdugI9GIMiN7s7fgRJjBEOLfIrD3Z2/CiVYcur4zDYpsQPnMCKooj1uwEjpZZMI\nwYjg0JnU+oFXxZEf9Hb+kGryX1qkoERTcNfLH2B7fZvnQqS3k1Sv8AAALkHPxkuASBUWUyf4dgVS\nqhC2fN0251hLNbVb8ZESgu89tT1DQLTDb7xEwnztrNvvZXt9m/N3y0MqjijVUBkO4PozJqF2X/uQ\nXRR2R0/nb8LItO8I9kGM89p4GCj8FAJElcjA0dO5y7gliKRW6pmMg/j03YwsUnEorqMl2pXWHQrI\nGFnkz9ghBOOeGczXX2/nDgRAR8LEgaSOyhEBmJ1hGSVBGe1xA4oko0RToUgUsmRtoth+ejZ2Sm46\nQiQW9ATpSwl7PiCEnALgds75mZ0//wgAOOc/y/Y7J510Et+6davnvx1984v5OEzBMOPju87u7p8P\n606Ufv4ejCXQFjMcMYZxK/SgVJNRooldDUHv0HUTrfEkkobVvih1ti+WBVUoimtC4Ov5q+smPm7t\nQENLzBXQcXRZUfrfHdbY5seDbVLbXxyMJZAwWMb5G5Bp+jjo6/mbTur3pKkSDMZ98Y7L5fu3nxvT\nTextjOCBV3e7WnTsSr30tN7r5k/E+FGhrKEa6RgGw4dftLtSeVcvrsGkyjD2HIj2a1pottRb+28O\noevH1/M3mTRwIJaEacLxNJUkYJSmQlV7v3/f1mEFuBgmXKLe/2fv3sMkuco7z//eiMisyqpuqatv\nMnR1I4FbkvV4W9BdBhs8LJZsr3wZeGa6uZhui2FYyRJGnsGMDPOsH8aL189a7mXwGFALacZjgTTG\ncvfujgZkwyyCwWPZHroFahuBQEhCXTJWX3XpumVmxNk/Mk9U5K1unVmZUfp+niefyog4cc57TpyM\nE3kqM2NDqaANI/25DllDx3wtWfEBaHfuPT87pxfm4pb+e9FQqHXD3el31Wqik+fnVI0TRWGgreuG\nFHXxE6j009zo2bXD8zNzOvliWWfOl7V1/ZCKYaAgqP3zNpFUiROFZioVw/RO4M3j3cF9u3TJRbX/\nwvvf1ONO3cjo2AEG6ZN6X5O008wuk/SMpHdIemd/QwJWz/qhoqbLccMPXUdhbT2wVIVCqDEVdbL+\n3z+T2k3o9aTcS8dGNFKoTYBEgWnruiEm9Jrw1YOF1c6DMw1fv40Tt+rnwV4dp+Xk69MmidPUXLXj\nnWYv9BMQURToykvW675f+YmWN7yr/cmKxerC66e9YjHSZkmnpspKXG1CbrkTetJgfpqYY772jRSL\nqiRzmk6StP+WCoFGit3rd1EU6OUbSl3Lrxn9FP593HBUUuJqnzw1k7as7/zp9isuWa//+72v12wl\nUWhqmPDL46ca0T8DM6nnnKua2fskfUFSKOkPnXPf7HNYwKoJAtMl60v8pw8XrFAItW1s5CVTLtYO\nzoOtljJpd6FvKDu94e3HG1XeHK9MsRhp2zIn8ZoFgWnbhhFef1hVQWC6eHhI1bgs1fvdxcP0O+TL\nSq5fgsC0dX3738dhHMRyDMykniQ55x6Q9EC/4wD6hTczAF7qOA+2ok2wWuhr6Af6HdYC+jH6pT+3\nswIAAAAAAACwYkzqAQAAAAAAADkzMHe/XQkzOyXp+x02b5Z0ehXDIYbBLL+XMZx2zl230p1z0H+b\nDVpMxLO4hWJ6KfXfQYtHGryYBi0eqT/9N2/t0A+DFo80eDEtFg/n3/4atJjyFs+K++8ifXcpZQ+6\nvMcv5b8OXPv2DnXsr479N9eTegsxs6POuQli6G8M/S5/UGJYrkGMedBiIp7F9SumQWuLQYtHGryY\nBi0eqT8x0Q6LG7R4pMGLqZ/x0BaLG7SYiGcwyu6GvMcv5b8OXPv2DnUcXHz9FgAAAAAAAMgZJvUA\nAAAAAACAnFnLk3p39jsAEcMglC8NRgzLNYgxD1pMxLO4fsU0aG0xaPFIgxfToMUj9Scm2mFxgxaP\nNHgx9TMe2mJxgxYT8QxG2d2Q9/il/NeBa9/eoY4Das3+ph4AAAAAAACwVq3lT+oBAAAAAAAAaxKT\negAAAAAAAEDOMKkHAAAAAAAA5AyTegAAAAAAAEDO5HpS77rrrnOSePDo1+OC0H959PlxQei/PPr8\nuCD0Xx59flwQ+i+PPj9WjL7Lo8+PC0L/5dHnR0e5ntQ7ffp0v0MAVoz+izyj/yLP6L/IM/ov8oq+\nizyj/2JQ5XpSDwAAAAAAAHgpYlIPAAAAAAAAyJlVmdQzsz80s5Nm9ncdtpuZ/YGZPW5mx81s92rE\nBQAAAAAAAORRtErl/JGkT0j6dIftPydpZ/3xOkmH6n9XpFKJNVWpKHFSYFI1btweZKYyK1WnIDAV\nQmmuUnteriYaLgSarSQyk4YLQZrOJMWJk5NUjEyVqlMlcSqGpig0BVbLpxBZWkaS1P76/cLAFGZi\naLdPMP+0oR5BUHs+NVeL0bn5+iSJFIXz9Y2TWp6Vau2vz6MQSXEyX/9sTElS26+SOJUKQW2dm69D\nEMyX49fHidNQwWQmVaqN5Q4VrKX9pfk4s22Zzcsfi2JUy9OX7Y+Dj9XXfaacqFA/Bj6fQiZPX8ds\nfr4s366+DX36auKUJE7DxVCbR4cUZA8KgBazs1WdmSmrmjhFgWlTqajh4dUaZvKBNlpcv9qoWk30\n/GxZs5UkLXukGMjqY65f58dBM8k5qVQMNFNOFDun0GpjbVgfVCpxIjPTcME0U57PY91QoKm5RJXE\n1camwBRGptlykuabOKegnl/iauUlTioEpqgprY8p8TEEprlqoqEoUKGeNq6XVQhN1dipmtSvf4Ja\nfOfn5vPzaTeUAk1VpHK1tn8hMKme5uJSoOdn5usUBqbATNW4Vi9/7F6sxJqrxDJTQ7yhTNX69UYU\nzNfTt2faVsOBzs/WlgthoGJomirHigLT5pGizsxUVIkTFcJAm0cKOj1dW44C03Ah0MXDRUXR6nwx\nJUmczkyVVa7GKkahNo0WV+3aoVuvm0HLp1yu6tTUfD5bRosqFld2PqhUYp08P5fmtXXdkAqFcEV5\nobt6fd7Pe/5roe/28/zYS75eSZJouGiannMqx4nCwDQcBen4Xa7Oj2vDhUDn52KVCmHtfXc9vZkk\nJ0VRbZweLgRKEmkus29gUuykYhBoQynSi+Vqet0yWgwb0paKgV6cjdPrjKGCKXHSdH2M9fGV62Po\n1nVDSxovm/vjplKxof/7/tl8zC8qhjo93Z3z+Vpzoa/xVWlF59xXzezSBZK8RdKnnXNO0l+b2QYz\ne5lz7gfLLatSiXVudr6zzFQS1bKtKYQmS2onkKm5WEmSaMNIQafO157PVZ0efuqM9ly2WR//0nf0\nr3/+Sk2Va9uGCqHK1UQz5VgXlSK9OCedfnFOX/n2s7r+DZdKFuj5maqiQBpS7SBUYifnXLrfcCHQ\nuuEojSEKrGWfKHOCy9YjCqSCAj37QlnHnjytn7rqhxQFkiWmSuw0HJmmZufLK4Sm6pwUBdJoEGmm\nkmi0GGiq7NL6T89V05iqFWmuEuvM+bIe+8Hz+vmrX665ikvrUAhN1Yo0HJnKlVrd5iqxRoqhIhfq\n/Gztwt2XWyoEmp1VQ/tLtfVTs7V9fVvOxUGa1wvnEyVJok3rinpuJknLnp6prfex+rqfOV/R574x\nqevfcKlmqkpjCOp5+nbP5leuJhophpqdVUMb+vTT5Vi3Hj6uyXMzGh8r6a7rJ3TFJevXxOAD9MLs\nbFXfPTOlm+85lr5uDh3Yo52bRpm0qqONFtevNqpWE/39CzN6brqi9977cFr2f3z3j6lcTfQrn5mP\n57a9u3T3Q0/qXa+/THc/9KRuufZyfe4bk/rUXzyl8bGSPvHO16hSTfT++x5pqMPHv/QdffHRk/qV\nf3Sp/vGrx3VTpo4fe9vV2jBa1ME//7be9frL9MEjxzuW9y+u3Skn0x986TvpuuZ9Du7bpd/788d0\n6vyc7jiwR39QL3t8rKRD+3fr4w9+N10+uG+XNq8f0l9+56R2/tDFDfn8x3f/mJ6bKjfU5aNvvVrf\n+vvntOeyzQ3H6aNvvVrDhUC/+p++rslzM/rZq7bqlmsvb0jj6/Ken3xlQ9rstluuvTxtq3Z53L5/\nt+75q+9rbCTSL756PN3WKe3USKyXX1Tq+cRekjg99uyLuuHTR1f92qFbr5tBy6dcruqxU635XLFl\ndNlvBCuVWN8+eb4lryu3rsvd5Mha0+vzft7zXwt9t5/nx17y9frYf31M/8c/+VFNnptruF74w382\nocBqk2jZa4tD+3frK98+qYnLNja830zHwWt26qnTL2rXjo16vum6xKd59xsu05b1Q0qc0z//o6N6\n/Ss36cBPvKIhrR8vH3rijA7u26VLN4/o9PmKbr7nmLasG9JvXHdFQ/l3HNijKy9Zv+B42ak/Zq+D\n/Hn6e2em02P+W794Zct1w0rP52tNN17jg/KbetskncgsT9bXLdvJ83MqV53iWCpXnSpVp2qs9JEk\npjiW4liaPDujMAhVyTx/770P65qrXqab7zmmvXu2KwrCdFs1lp45N6uzU5V0/a2Hj2vfxA4lialc\ndZo8O6MoCNMyfPl+vzAIG2Jot0+56tJHth6+jJvvOaZrrnpZus6XU2kqz8cYBWGax1zFNdQ/G1Ol\n6vTMuVndevi4rrnqZWn5Pk+fppKp2zPnZiXVPgXgl325krW0fzVWGme2LbN5+faeq7iGsv16H4ev\n+833HEuPQTaGbBnN+fmymtvQp/cnOEmaPDejGz59VGemyhfWy4E17MxMOR2MpNrr5uZ7junMDK8b\njzZaXL/ayF87+IthX/bk2Zn0At2v++CR49q7Z3v6149Bfvu5qUo6CZatw9492yVJ+yZ2pBN6fvv7\n73tEk2dn0nwXKu/ki2XdVM8vuy27z62Hj+umN71Kk+dm0rRpLPc+3LB86+Hjmjw7o2uuellLPpNn\nZ1rq8oE/fSS9Tmpef3aqkq7zbdOuLs1ps9uybdUuj/fe+7BueOMrtW9iR8O2TmnLVaeT5+e601EW\ncGaqnL558eWv1rVDt143g5bPqan2+ZxaQZuePD/XNq/V6BtYWK/P+3nPfy303X6eH3vJ12vvnu0q\nV13L9ULt/WbQcm1x870P6y27x1veb6bj4L0P6zWv2KRKm+sSn+bWw8d14mytjMlzM7rhja9sSevH\nSz/WV+vvmyfPzeimN72qpfybltCvOvXH7HWQP09nj3m764aVns/Xmm68xnM3LWpmN0q6UZJ27NjR\nsr2a1D4V5iSZa/waqyTFmU+NjRTD2kdYE5c+nzw3o8Q5TZ6b0YZSQbGb3+b38fmMFENNnptRGJhi\n52Sutj1bRvN+tY/Mzm9vt49lPtiWrYcvw8eYzcvXI1uej9HvF1itfXz2zTEFprROiXNyrla+z9On\n8V9P9enjZD6GhnIz8TQcg2S+rGy+fh/f3tXM/tnjEDfVPXsMsjFky2jOLxtftg19ev+i8ibPzajc\n7nvEy7RY//Uu/dDnV1zGU7/7CyveF1jIQv23mri2rxt/TgZttBS9bKOF+m8lTtJrgCw/JjbHs6FU\naPgbZga7hfaRaj8F0W77SDHUiBYvr1MMncrLPu+0PFIM5Vxr23eqS9Imrc/HWyiu5rSd6tkpD9/e\n2W2d0tZ+eiRRr5Wrcc+uHaTVOf+u1Xy6nReWZynv3Xp5bMi//3p9fuylhfqvr9eGUkFxm+OUnV/I\nmjw303bMzY6D/n3qUsfRTtcW2fEyzpTZacxcbLzs1B+z10G+f2bTdbpuyFM/7pVuvMYH5ZN6z0ja\nnlker69r4Zy70zk34Zyb2LJlS8t2/7suodX+Jk4Nj9AsfUyX49q6YP75+FhJgZnGx0p6bqbSkK72\nHfTaVzP9+vGxUu23Z+rl+W3+0bxfcwzt9gmDzCNTD//cx5jNy9cjW56PMZtHFDTWPxuT38/n78vP\ntp0vJ5s+DExRYK3ltmn/bJzZtszm5WOKgsaym2P19cgeg2wMze0eNbdP0NqGPv34WKmhX42PlVSM\nLvwj7ov1X2CQLdR/o/q5KWt8rNTwcwIvdbTR4nrZRgv130IYpNcAWZ3Gg+dmKg1//T+3FttHqv1j\nq9326XKc5rdQeT7/5hg6lZd93ml5uhzLrLXtO9UlaJPW5+MtVpds2nb1XCiPOHEt7dgpbeKkKOz9\n5W4xCnt27SCtzvl3rebT7bywPEt579bLY0P+/dfr82MvLdR/fb2em6mk79GzsvMLWeNjpbZjbnYc\n9O9TFxtH/Vja6drCX5+Mj5XS981S5zFzsfGyU3/MXgf5/plN1+m6IU/9uFe68RoflEm9+yVdX78L\n7o9Len4lv6cnSVvXDakYmcKwdvOFQmSKQqWPIHAKQykMpfGNJcVJrELm+e37d+vBR3+gQwf26Mix\nE6omcbotCqVtY8PaOFpI1x/ct0uHjz6tIHAqRqbxjSVVkzgtw5fv94uTuCGGdvsUI0sf2Xr4Mg4d\n2KMHH/1Bus6XU2gqz8dYTeI0j6GCNdQ/G1MhMm0bG9bBfbv04KM/SMv3efo0hUzdto0NS3IaLgbp\nsi9Xci3tH4VK48y2ZTYv395DBWso26/3cfi6HzqwJz0G2RiyZTTn58tqbkOf/uC+XemLy//uw6bR\nYpe6O7D2bCoVdejAnobXzaEDe7SpxOvGo40W16828tcOt+/f3VD2+MaSPvXLjfHctneXjhw7kf71\nY5DfPjZa0MfednVLHY4cq/3KyOGjT+uOpjp+7G1Xa3xjKc13ofK2ri/qjnp+2W3ZfQ7u26U7vvK9\n9DdyfNn+t3yyywf37dL4xpIefPQHLfmMbyy11OWjb706vU5qXr9xtJCu823Tri7NabPbsm3VLo/b\n9+/WXV99QoePPt2wrVPaYlT7wele2zRa1F3XT/Tl2qFbr5tBy2fLaPt8tqygTbeuG2qb12r0DSys\n1+f9vOe/FvpuP8+PveTrdeTYCRUja7leqL3fTFquLQ7t363//PBky/vNdBzcv1tf//4ZFdpcl/g0\nB/ft0vaNtTLGx0q666tPtKT146Uf66P6++bxsZLu+Mr3Wsq/Ywn9qlN/zF4H+fN09pi3u25Y6fl8\nrenGa9yab2LQC2b2x5LeJGmzpGcl/RtJBUlyzt1hZqba3XGvkzQt6d3OuaOL5TsxMeGOHm1Nxt1v\n58vj7rcXePdb5zRc6Hj32wv610Kn/ivx9Vusiq73X+7sujjaaHFLbKOu99/F7n7r7wi7Wne/dc7J\nMne/Dep3vFvo7rfO3zG3fi1TzN79th7fku5+W0+bvfttUo+9+e63vl2WcvfbtC6Zu99Wfbs23f3W\n5+vvfhsnTlGHu99W40RRvu5+O7Dn30HLh7vfDqQV999O1755vzstd79d3IDc/bbr5952d7+txImC\nYOG7307NxRpext1v48xY2e2731bqYyh3v+2fJb7GO/bf1br77S8tst1J+tVulVcohNqQsxPdcm0Y\n6XcEA2a03wEAGB6OtI0JqgXRRovrVxtFUaBN64bbblt0zF3KGNSU5uJ2eS5nLOty2rbxSBpt3ySS\npA7N1WBFb2yb26rxWynanHn+8qHG/F/exzcIQWDasr4/n57p1utm0PIpFiNt69IxLRRCbRvjAnoQ\n9fq8n/f810Lf7ef5sZea69U8XnWyaV13yt+0yPlxY5vxf+wC3ze364/t+n+7Y75tiGvgdi70NT4o\nX78FAAAAAAAAsERM6gEAAAAAAAA5w6QeAAAAAAAAkDNM6gEAAAAAAAA5w6QeAAAAAAAAkDNM6gEA\nAAAAAAA5w6QeAAAAAAAAkDNM6gEAAAAAAAA5w6QeAAAAAAAAkDNM6gEAAAAAAAA5w6QeAAAAAAAA\nkDNM6gEAAAAAAAA5w6QeAAAAAAAAkDNM6gEAAAAAAAA5w6QeAAAAAAAAkDNM6gEAAAAAAAA5w6Qe\nAAAAAAAAkDNM6gEAAAAAAAA5w6QeAAAAAAAAkDNM6gEAAAAAAAA5w6QeAAAAAAAAkDOrNqlnZteZ\n2WNm9riZfajN9h1m9mUz+7qZHTezn1+t2AAAAAAAAIA8WZVJPTMLJX1S0s9JukrSL5nZVU3JflPS\nfc6510h6h6TbVyM2AAAAAAAAIG9W65N6r5X0uHPuCedcWdJnJb2lKY2TdFH9+cWS/n6VYgMAAAAA\nAAByJVqlcrZJOpFZnpT0uqY0vyXpi2Z2i6RRST+9OqEBAAAAAAAA+TJIN8r4JUl/5Jwbl/Tzkj5j\nZi3xmdmNZnbUzI6eOnVq1YMELgT9F3lG/0We0X+RZ/Rf5BV9F3lG/0UerNak3jOStmeWx+vrst4j\n6T5Jcs79laRhSZubM3LO3emcm3DOTWzZsqVH4QK9Qf9FntF/kWf0X+QZ/Rd5Rd9FntF/kQerNan3\nNUk7zewyMyuqdiOM+5vSPC3pWkkysx9RbVKP6XAAAAAAAACgyapM6jnnqpLeJ+kLkr6l2l1uv2lm\nHzGzN9eTfUDSDWb2iKQ/lvTPnHNuNeIDAAAAAAAA8mS1bpQh59wDkh5oWvfhzPNHJb1hteIBAAAA\nAAAA8mqQbpQBAAAAAAAAYAmY1AMAAAAAAAByhkk9AAAAAAAAIGeY1AMAAAAAAAByhkk9AAAAAAAA\nIGeY1AMAAAAAAAByhkk9AAAAAAAAIGeY1AMAAAAAAAByhkk9AAAAAAAAIGeY1AMAAAAAAAByhkk9\nAAAAAAAAIGeY1AMAAAAAAAByhkk9AAAAAAAAIGeY1AMAAAAAAAByhkk9AAAAAAAAIGeY1AMAAAAA\nAAByhkk9AAAAAAAAIGeY1AMAAAAAAAByhkk9AAAAAAAAIGeY1AMAAAAAAAByhkk9AAAAAAAAIGeY\n1AMAAAAAAAByZsmTemb2opm90OmxhP2vM7PHzOxxM/tQhzRvM7NHzeybZvafllMRAAAAAAAA4KUi\nWmpC59x6STKz35b0A0mfkWSS9kt62UL7mlko6ZOSfkbSpKSvmdn9zrlHM2l2SvrXkt7gnDtnZluX\nWRcAAAAAAADgJWElX799s3Pudufci865F5xzhyS9ZZF9XivpcefcE865sqTPttnnBkmfdM6dkyTn\n3MkVxAYAAAAAAACseUv+pF7GlJntV21izkn6JUlTi+yzTdKJzPKkpNc1pblckszsLyWFkn7LOffn\nzRmZ2Y2SbpSkHTt2rCB8oH/ov1iuSz/0+RXv+9Tv/kIXI6H/It/ov8gz+i/yir6LPKP/Ig9W8km9\nd0p6m6Rn64+31tddqEjSTklvUm2i8C4z29CcyDl3p3Nuwjk3sWXLli4UC6we+i/yjP6LPKP/Is/o\nv8gr+i7yjP6LPFj2J/Wcc09p8a/bNntG0vbM8nh9XdakpL9xzlUkPWlm31Ftku9ry40RAAAAAAAA\nWMuW/Uk9M7vczL5kZn9XX95lZr+5yG5fk7TTzC4zs6Kkd0i6vynN/6vap/Rk6xoduwAAIABJREFU\nZptV+zruE8uNDwAAAAAAAFjrVvL127tUu0ttRZKcc8dVm6TryDlXlfQ+SV+Q9C1J9znnvmlmHzGz\nN9eTfUHSGTN7VNKXJd3qnDuzgvgAAAAAAACANW0lN8oYcc79DzPLrqsutpNz7gFJDzSt+3DmuZP0\n6/UHAAAAAAAAgA5W8km902b2KtXufCsz2yfpB12NCgAAAAAAAEBHK/mk3q9KulPSlWb2jKQnJe3v\nalQAAAAAAAAAOlrJpN73nXM/bWajkgLn3IvdDgoAAAAAAABAZyv5+u2TZnanpB+XdL7L8QAAAAAA\nAABYxEom9a6U9P+p9jXcJ83sE2b2k90NCwAAAAAAAEAny57Uc85NO+fuc879U0mvkXSRpP/W9cgA\nAAAAAAAAtLWST+rJzP5nM7td0jFJw5Le1tWoAAAAAAAAAHS07BtlmNlTkr4u6T5JtzrnprodFAAA\nAAAAAIDOVnL3213OuRe6HgkAAAAAAACAJVnypJ6Z/YZz7vck/Y6Zuebtzrlf62pkAAAAAAAAANpa\nzif1vlX/e7QXgQAAAAAAAABYmiVP6jnn/kv96d865x7uUTwAAAAAAAAAFrGSu99+1My+ZWa/bWY/\n2vWIAAAAAAAAACxo2ZN6zrmfkvRTkk5J+pSZ/a2Z/WbXIwMAAAAAAADQ1ko+qSfn3D845/5A0k2S\nviHpw12NCgAAAAAAAEBHy57UM7MfMbPfMrO/lfRxSQ9JGu96ZAAAAAAAAADaWs7db70/lPRZSf+L\nc+7vuxwPAAAAAAAAgEUsa1LPzEJJTzrn/l2P4gEAAAAAAACwiGV9/dY5F0vabmbFHsUDAAAAAAAA\nYBEr+frtk5L+0szulzTlVzrn/m3XogIAAAAAAADQ0Uom9b5XfwSS1nc3HAAAAAAAAACLWfaknnPu\nf19JQWZ2naR/JymU9O+dc7/bId1eSYcl/Zhz7uhKygIAAAAAAADWsmVP6pnZlyW55vXOuWsW2CeU\n9ElJPyNpUtLXzOx+59yjTenWS/oXkv5muXEBAAAAAAAALxUr+frtv8o8H5a0V1J1kX1eK+lx59wT\nkmRmn5X0FkmPNqX7bUm3Sbp1BXEBAAAAAAAALwkr+frtsaZVf2lm/2OR3bZJOpFZnpT0umwCM9st\nabtz7vNmxqQeAAAAAAAA0EGw3B3MbGPmsbn+W3kXX0gQZhZI+reSPrCEtDea2VEzO3rq1KkLKRZY\ndfRf5Bn9F3lG/0We0X+RV/Rd5Bn9F3mw7Ek9ScckHa0/HpL065Les8g+z0janlker6/z1kv6UUlf\nMbOnJP24pPvNbKI5I+fcnc65CefcxJYtW1YQPtA/9F/kGf0XeUb/RZ7Rf5FX9F3kGf0XebDkr9+a\n2Y9JOuGcu6y+/C7Vfk/vKbX+Nl6zr0naaWaXqTaZ9w5J7/QbnXPPS9qcKesrkv4Vd78FAAAAAAAA\nWi3nk3qfklSWJDN7o6T/U9Ldkp6XdOdCOzrnqpLeJ+kLkr4l6T7n3DfN7CNm9uaVBA4AAAAAAAC8\nVC3nRhmhc+5s/fnbJd3pnDsi6YiZfWOxnZ1zD0h6oGndhzukfdMy4gIAAAAAAABeUpbzSb3QzPwk\n4LWSHsxsW/ZddAEAAAAAAACszHIm4/5Y0n8zs9OSZiT9hSSZ2Q+r9hVcAAAAAAAAAKtgyZN6zrnf\nMbMvSXqZpC8651x9UyDpll4EBwAAAAAAAKDVsr4265z76zbrvtO9cAAAAAAAAAAsZjm/qQcAAAAA\nAABgADCpBwAAAAAAAOQMk3oAAAAAAABAzjCpBwAAAAAAAOQMk3oAAAAAAABAzjCpBwAAAAAAAOQM\nk3oAAAAAAABAzjCpBwAAAAAAAOQMk3oAAAAAAABAzjCpBwAAAAAAAOQMk3oAAAAAAABAzjCpBwAA\nAAAAAOQMk3oAAAAAAABAzjCpBwAAAAAAAOQMk3oAAAAAAABAzjCpBwAAAAAAAOQMk3oAAAAAAABA\nzqzapJ6ZXWdmj5nZ42b2oTbbf93MHjWz42b2JTN7xWrFBgAAAAAAAOTJqkzqmVko6ZOSfk7SVZJ+\nycyuakr2dUkTzrldkg5L+r3ViA0AAAAAAADIm9X6pN5rJT3unHvCOVeW9FlJb8kmcM592Tk3XV/8\na0njqxQbAAAAAAAAkCurNam3TdKJzPJkfV0n75H0Zz2NCAAAAAAAAMipgbtRhpkdkDQh6WCH7Tea\n2VEzO3rq1KnVDQ64QPRf5Bn9F3lG/0We0X+RV/Rd5Bn9F3mwWpN6z0janlker69rYGY/Lel/k/Rm\n59xcu4ycc3c65yaccxNbtmzpSbBAr9B/kWf0X+QZ/Rd5Rv9FXtF3kWf0X+TBak3qfU3STjO7zMyK\nkt4h6f5sAjN7jaRPqTahd3KV4gIAAAAAAAByZ1Um9ZxzVUnvk/QFSd+SdJ9z7ptm9hEze3M92UFJ\n6yT9qZl9w8zu75AdAAAAAAAA8JIWrVZBzrkHJD3QtO7Dmec/vVqxAAAAAAAAAHk2cDfKAAAAAAAA\nALAwJvUAAAAAAACAnGFSDwAAAAAAAMgZJvUAAAAAAACAnGFSDwAAAAAAAMgZJvUAAAAAAACAnGFS\nDwAAAAAAAMgZJvUAAAAAAACAnGFSDwAAAAAAAMgZJvUAAAAAAACAnGFSDwAAAAAAAMgZJvUAAAAA\nAACAnGFSDwAAAAAAAMgZJvUAAAAAAACAnGFSDwAAAAAAAMgZJvUAAAAAAACAnGFSDwAAAAAAAMgZ\nJvUAAAAAAACAnGFSDwAAAAAAAMgZJvUAAAAAAACAnGFSDwAAAAAAAMiZVZvUM7PrzOwxM3vczD7U\nZvuQmf1JffvfmNmlqxUbAAAAAAAAkCfRahRiZqGkT0r6GUmTkr5mZvc75x7NJHuPpHPOuR82s3dI\nuk3S25dbVpI4nS+XVa44BYGUJFIUNqVxUmC1v2EgOSdVY6kQ1Z77/YL6tjiZT1erT+2vc7XnZrX0\niav9LUS1fXwZgbXul9TzCmy+7DjJ1qO+PZhfjsL5MoqF2n4+b19ONZ6vr1lj7H7bXMWpENV2DDPT\nuj5mX6dqPN8Ofr1PU40b11eqtTyisLHcSrWx/c0aY/Ft4vMNAqlcmT8WcxWnoYKldfTxZtvXl+uP\nQXOabLv7/Pw6H1/2ePj6zFUTVROnQhBo6/ohRREfbAUWMjtb1ZmZsqqJUxSYNpWKGh5elWEmN2ij\nxfWzjarVRCfPzykKpUrVqZo4DUeBYudUiZ0KYaDNIwU9PxdrrhrLJBVCUyWuXXO4RKokTmFgKgSm\n2Dk5J21dN6RCIVSlEuvk+TlVE6eLS6Gm5pJ0XEycU2CW5ueXA5MCM1WTWjyFMFAUKC0zSaTYOYX1\nfauxa4ihGJnK1dryXDWpj3+mSpykaQqRabqcKE6cCoEpqsewbihQOa6Nh37bRaVAz8/UlsPA0hh8\n3HH9uEVhoNglDfH5ug4XAs1WanlEoSk002w1SY939vgHgVQIgjSGMLB0/B8pBpouJ2na9FiYJKvn\nW4kVBvNll4qB4sS0abSooH4R5Y97JU7SfOJE2rJuSEFgOjNVVrkaqxiFDfsNkm69btZqPt3Ma26u\nqtPT8/lsHilqaCj/5/F+nnt7XXbe88+eowphoK3ruv++pFyu6tTUfB22jBZVLHavDr3OP0lcX87V\n/tiPFANVE6lcf/8YBqaRYqBy1alcTdJxSE4qRoHKcaLITImUbg+stm22Mj+ulYqBzs/GaX5T5URD\n9folidPZ6bIqcTZ9qA2lWt3btUkcJ+l1SBRYen2yHD7fJEkUOyk0KXaSc66h7ZvL3zAc6dRUuaf9\n+KVqtUag10p63Dn3hCSZ2WclvUVSdlLvLZJ+q/78sKRPmJk556fSFpckTqenZjVTSRQFUrUiDUem\nJJ5/QfsOXE2chqJAc1WnmUqi0WKguWrtonS24uoXhrULWZ9OksLAJKf5C0vNX/hXYqfRYqCp8nwZ\nUWAt+1XrM0hRYGnZU+X5alZiJ+dqMVhSu0AdjkzlSm3b+qFQ5+eSNG9fzkwlSesbBqa5StJQx+HI\ndO58rCiQhhRqKKqdfKRaPaPA0jrNlBNVYqcokAoK0vx8Odn152djOedUKgQyF6TlPjcTN7R/GJji\neD4Wc4Hk5ssuhKZz03F6LJ6fqdbyjIP0eFWT+fS+HUuFQLMV1zZNtt19fpELJSedn4vTdvXHw9fn\n+emK3nvvw5o8N6PxsZLuOLBHV16ynhMP0MHsbFXfPTOlm+85lr5uDh3Yo52bRpm0qqONFtfPNqpW\nE3372Rf1X74xqV+4epvee+/D2rJuSL9x3RW69fDxhng+/qXv6IuPntT4WEm379+tzz/yjK75kR/S\nB/70kTTdwX27VCqGuv3Lj+uWay/Xzk2jad1+7adepR/ZtkEf/9J39K7XX6YPHqnl/7NXbdX7rtnZ\nMP584p2vUaWa6P33zed9aP9ufe6RZ/TGKy5p2PeWa3bq5sy+B/ft0ub1Q1o3FOjZ5yv6xIPf1Y1v\nfJX+5Z98oyXN4a89rU/9xVNp/seeOqOfvHyrTr04t2D9b9u7S1997Nm0zXy6T77zNZqtJA1tctve\nXbr7oSd1y7WX63PfmEzLO7hvl37vzx/TqfNzOnRgT8O2f/+uPapUXUO9btu7S9/9h+e157LNDX3F\nH4s3XnGJ7n7oSb37DZel+WbLPvbkab3uVVt0xSXrlSRO3372Rd3UJp+3/tgOVapON3zmaLrtrusn\ndMUl6wdqYq9br5u1mk8385qbq+o7p1vzuXzzaK4n9vp57u112XnP349N2XNUt9+XlMtVPXaqtQ5X\nbBntysRbr/NPEqfHnn1RN3x6dc/V/tg/deoFXfXyDTo7VW4Yq2/fv1ufePC7DePl3Q89qVuu2al1\nw6GeebEx/e+//dW6qBTpn//R0YZ2+sq3ntWfHJtseP7HN7xOc9VE55rKPLhvly65aFg7xkb03VPn\nG9rk0+9+raYrcUNfOnRgj67cum7JE3u+rT/2Xx/Tu15/me5+6MmG6xjf9ju3rGso/2ev2qpbrr28\noQ/w/rp7VqsFt0k6kVmerK9rm8Y5V5X0vKRNyymkNhPsVKk6JYmpUnWqxKrPkNcecX05jqXZcpKm\nn6vUtk/PJenf2XLSkK5cdZotJ+nybDlJ08ex0nyyZbTbL46Vbsvu4x+Vqqt/Ss7S5Upm20w9ruY6\nZevbHLvfNnl2RlEQptv8I87sNz2XpGUliTXkl21fv97HW6nn6fNubv/mWJrLnp5LGo7F5NkZSdZw\nvLLpfXtlj0G7+vhyfX5+XbZds+krVZe+MZGkyXMzuumeYzp5fm5lvR94CTgzU04Haqn2urn5nmM6\nM1Puc2SDgzZaXD/b6OT5Od10zzHtm9iRjgE3velV6YRWNp69e7any++992Htm9iRTl759bcePq5z\nUxXt3bM9rYOv2+t3bknz8RfCkrR3z/aW8efcVCW9YE9jqJfZvO/NTfveevi4Js/OKE5M7733Ye3d\nsz2d0GtOs29iR0P+11z1Mp04O7No/T945HhDm/n1Z6cqLW3ywSPH0/bIlnfr4eO66U2vSvPPbouC\nsKVeHzxyXNdc9bKWvvLeTLvs3bO9Id9s2ddc9TLd8OmjOjNVTo97u3xOnJ1JJ/T8Nr/fIOnW62at\n5tPNvE5Pt8/n9PRg9Ynl6ue5t9dl5z3/dueobr8vOTXVvg6nunSu63X+Z6bK6eSRz381ztX+2L/m\nFZv09NmZlrHaj7t+OR2H7n1YURC2pP+Xf/INPXNutqWd3rJ7vOX5XNXpRJsybz18XN8/M62T5+da\n2uT7Z6db+tLNy+xLvq399UvzdYxv++by/fjL++veyN2/lMzsRkk3StKOHTsatpWrseKk9rWL2NX/\nJo0f9HOSzNX+NnwFNmn/gcBsuoW4TD7ZMqzNvn6VucZ9PP8Phbj+IUVfj3ZlZOvUXN/mOsaJ00gx\nTPPN1qs5Vl9W7Fz7cjLr03jrGfpy27V/NpZ2ZWePxUgxbMkzm97nkF3fnCYrm182juzx8Ov9Cceb\nPDejavb70Su0UP8FBt1C/beauPavm6WcQF8iaKPF9bKNFjv/VuJEk+dmFAaWxrChVGgbz4ZSoWE5\nu092/Ugx1IjCtA4+TVx/3px/u/JGimHbvJvL7BSrH/valZdNE2Y+zTB5bkbOuY5lL6X+C+3r92mX\nZ/O2TmOyc+37io/Fl5PN16/z+5arccc+V/uqU/s6lKuxVttqnH/Xaj6DGtMg6ee5t9dtmvf8/djU\nkn8X3pd4eW+jcjXu2bl6Kede/x57KeOlH4eSDmPYSDFsWee/uJh9HljncXakGKrapt90Sr+c4+Db\nOjvGduqfS7lG6WY/filbrU/qPSNpe2Z5vL6ubRoziyRdLOlMc0bOuTudcxPOuYktW7Y0bCtGtYvS\nxEmh1f/Wv1KZPmz+r/+6ZeLmv3qZ/Rs1pWtY3/Tclxc1ldFuv9DmtzXsY/P5+Do01KNdGUFjXtny\nmusYBqbpcpzmGzXVs7neaQxNaZrXp/E2ldvc/s2xtCs7eyymy3FDHZvTZ+vRKU223X1+UdAUn7XG\nMD5Wauhb42MlReGFv1wW6r/AoFuo/0aBtX/dDNBX1PqNNlpcL9tosfNvIQw0PlZSnLg0hudmKm3j\neW6m0rCc3Se7frocp3lk6xbWnzfn36686XLcNu/mMjvF6se+duVl02T/6TU+VpKZdSx7KfVfaF+/\nT7s8m7d1GpPN2vcVH4svJ5uvX+f3LUZhetzb5dOpDsXmH2teBatx/l2r+QxqTIOkn+feXrdp3vPv\ndI7qxvsSL+9tVIzCnp2rl3Lu9e8zlzJe+nEo6DCGTZfjlnVW/zH47PPEdR5np8uxojb9plP65RwH\n39bZMbZT/1zKNUo3+/FL2Wq14tck7TSzy8ysKOkdku5vSnO/pHfVn++T9OByfk9PkjaNFlWMaj/4\nHAS1m0EUQqkYWfoI68thKA0XgzT9UKG2fWQoSP8OF4OGdMXINFwM0uXhYpCmD0Ol+WTLaLdfGCrd\nlt3HPwqRKQqlIHDpciGzrVSPq7lO2fo2x+63jW8sqZrE6Tb/CDP7jQwFaVlB4Bryy7avX+/jLdTz\n9Hk3t39zLM1ljwwFDcdifGNJkms4Xtn0vr2yx6BdfXy5Pj+/Ltuu2fSFyHT7/t3picd/53/ruqEL\neQ0Aa9qmUlGHDuxpeN0cOrBHm0rFPkc2OGijxfWzjbauG9IdB/bo8NGn0zHgjq98Twf37WqJ58ix\nE+ny7ft36/DRp/XRt17dkO7gvl0aGy3oyLETaR183R767qk0n9v2zud/5NiJlvFnbLSgj72tMe9D\n9TKb9z3UtO/Bfbs0vrGkMHC6ff9uHTl2Qr//9le3TXP46NMN+T/46A+0fWNp0frftndXQ5v59RtH\nCy1tctveXWl7ZMs7uG+X7vjK99L8s9uqSdxSr9v27tKDj/6gpa/cnmmXI8dONOSbLfvBR3+gu66f\n0KbRYnrc2+WzfWNJd/3yRMM2v98g6dbrZq3m0828No+0z2fzyGD1ieXq57m312XnPf9256huvy/Z\nMtq+Dlu6dK7rdf6bRou66/rVP1f7Y//175/Rjo2llrHaj7t+OR2H9u9WNYlb0v/+21+tbWPDLe30\nnx+ebHk+FJm2tynz4L5desWmEW1dN9TSJq/YONLSlw4tsy/5tvbXL83XMb7tm8v34y/vr3vDljlv\ntvKCzH5e0u9LCiX9oXPud8zsI5KOOufuN7NhSZ+R9BpJZyW9w99Yo5OJiQl39OjRhnXc/Za7367i\n3W8v6N9L7fqvd+mHPr/ifJ/63V9Y8b4YPD3sC13vv9zZdXG00eKW2EY9Of8u5+63/ms9zXe/rSZO\nQdCbu9/W7hbbevfb7L7V2DXE0Onut9U4SdN05e63Ue23jNvd/dbHt5y732bz78bdb/0+A3L324E9\n/67VfLqZF3e/XXn/7XTuzfvdaVfr7rfVOFHE3W/bWuLdb3t27s3e/Tauj8Hp3W/jJL0D/IXe/Xa6\nnKT1y9791o+Pebj7bS/78RrXsf+u2gjknHtA0gNN6z6ceT4r6a0XWk4QmC4aHpKGLzQn9A3HDsil\n4eFI25igWhBttLh+tlEUBXr5htKi6bas8I1IoRBq29hIurxhZIHEq2zj6NLTruvxOL2c4z+2jLg7\nWey4b1k/+J8k6NbrZq3m0828hoYibVsDk3jN+nnu7XXZec9/qWPThSgWI23r4iTbaucfBNaXc/Vq\nvG6y43N2zAsC09aLOg/I7dokCBqvQ1ZiqW3dLl2v+/FLFVOjAAAAAAAAQM4wqQcAAAAAAADkDJN6\nAAAAAAAAQM6s2o0yesHMTkn6fofNmyWdXsVwiGEwy+9lDKedc9etdOcc9N9mgxYT8SxuoZheSv13\n0OKRBi+mQYtH6k//zVs79MOgxSMNXkyLxcP5t78GLaa8xbPi/rtI311K2YMu7/FL+a8D1769Qx37\nq2P/zfWk3kLM7KhzboIY+htDv8sflBiWaxBjHrSYiGdx/Ypp0Npi0OKRBi+mQYtH6k9MtMPiBi0e\nafBi6mc8tMXiBi0m4hmMsrsh7/FL+a8D1769Qx0HF1+/BQAAAAAAAHKGST0AAAAAAAAgZ9bypN6d\n/Q5AxDAI5UuDEcNyDWLMgxYT8SyuXzENWlsMWjzS4MU0aPFI/YmJdljcoMUjDV5M/YyHtljcoMVE\nPINRdjfkPX4p/3Xg2rd3qOOAWrO/qQcAAAAAAACsVWv5k3oAAAAAAADAmsSkHgAAAAAAAJAzTOoB\nAAAAAAAAOcOkHgAAAAAAAJAzuZ7Uu+6665wkHjz69bgg9F8efX5cEPovjz4/Lgj9l0efHxeE/suj\nz48Vo+/y6PPjgtB/efT50VGuJ/VOnz7d7xCAFaP/Is/ov8gz+i/yjP6LvKLvIs/ovxhUuZ7UAwAA\nAAAAAF6KmNQDAAAAAAAAciZajULMbFjSVyUN1cs87Jz7N01phiR9WtIeSWckvd0599Ryy0oSp/Pl\nspKk9rXjJPPt48CkIJDKldrfwHzZkqunS9x8OuekSlUqRFKczOdRjWvrpFoav0/ipCSpbbN6uiSR\norC2rVJ1GipYGlOS1MqRpDCYz8uvnyknKoSmKLQ0fZw4FSJTGNRiyu7nY2jOL7BaPJVqY1v5sv1+\nvj0SV9u/Uq3FXo1rf6Xac2k+Dt9Wvq7SfH2b863GtbQ+tuzx8W2THsf6fnMVpyCo1bdd/j42fwwT\nV1tuPsa+Ttk28zH5Ovr0/hjMVRNVE6dCGGjruiFFUe/nwGdnqzozU1Y1cYoC06ZSUcPDq/IyxRpC\nPwKWL0mcTr04p9lqrKEoUJI4VROn0WKo2fp4EAWm4UKg2UqiOHEKM8tBILlEqtTXFwJT7Jyck0rF\nQLMVpyRxMlO6TzVxKgSmKDDFckqS7HjmFJjJTAqtllc1rsUQhaZK7BTUx8bYOYVm6bLPo1SsjVuV\naq0u1cRppBiqUk3SOIthILPamJfU66j6/iNDgUzS1Nx8/UeKgabL8/X3ZWbH/KRediGUXpiZT+vj\nGoqC2nVRPD/ObhktqlAIW47JmamyytVYxSjUptGigsBa1o+VCjo3U1G5GqtUDFVNnCrVpGVbNo92\nx38pZXXav9+6dd5fq/l0M6+5uapOT8/ns3mkqKGh/I+x/bx26HXZec+/Uol18vxcmv/WdUMt58tB\nL6PXr5t+navL5apOTZW1oRRoulIbS+P62H5xKdDzs4mqceMYOFwINDUX164V6u/1Z8pJes0xl7nm\n4BoeS7FaPWRO0jXOufNmVpD0383sz5xzf51J8x5J55xzP2xm75B0m6S3L6eQJHE6PTWbLlczM3pR\n/UVzbjpWFEiF+ocUw8AUxy5N79NVYun8XKzRYqCpskvzmKkkGi0GqiamuH6BHAVWu4CMnUaLgRJX\ne2FWYqfhyFSuSFNzsUqFQHGldnKpxE5RIFliGooCzdUvuP36sy9U9blvTOr6N1yqqqtdvM9VYhVC\n00VRQVPlpGE/H4OklvVhYDo/G8u5+fYohCZLLN0vqp/0qonTUBTouZlYw5FparZWhySu1d05p3K1\nNtk4GkQqhKbzc7W6OudUKgQqV9SS70wlURRIw0Gouep8e0vzbWNx0HAcnp+pKkkSrRuOVK2oJf+Z\nSqLhyGQuUBzX6lsqBC3H2Ncp22Y+Jl9Hn94fg+enK3rvvQ9r8tyMxsdKuuPAHl15yfqeTuzNzlb1\n3TNTuvmeY2m5hw7s0c5No5zMsWT0I2D5ksTp2//wgm78zDFtWTek37juCt16+Lhe/8pNOvATr2gY\nDw4d2KPPfWNSn/qLpxqWr/mRH9IH/vSRNN3BfbtUKob6s+N/r1989Xj6mvyVf3Rpw/L4WEkfe9vV\nKkSBbv/y43rX6y/TB48cT7d94p2vUaWa6P33zed9aP9ufe6RZ/TGKy5pSHvb3l26+6En9a7XX6a7\nH3pSt1x7uS65qKinz07r/fc9ote/cpN++SdeoZsz9Tm4b5c2rSvq//rCY/rioyc1PlbSR996tf7D\nf39Cv/mLV+n5mWrL+eTjX/pOmra5TP/31uuu1Fwl0U2ZfX3aW67ZqWJkes/dxxrG2Su2rkvfRCaJ\n02PPvqgbPn00TXPX9RPauWWdvnvqfLr+Z6/aql+79nLddE/jscvm+weZeO+6fkJXXLK+4c3eUsvq\ntH+/deu8v1bz6WZec3NVfed0az6Xbx7N9cReP68del123vOvVGJ9++T5lvyvzJwvB72MXr9uOp3D\ne32uLpereuzUlDavi/QPL1R08sW5hvGn03j5vmt26p6/+r4eeuKM7v1fX6sXXox18z3HOl5zcA2P\nxazK129dzfn6YqH+aL6Dx1sk3V1/fljStWa2rFdhbXbepY84VvooV52m5xJVqk5JYmma2XLSkN6n\nmy3X0s5VXEMefp3fz6+PY6XbpueSdLlS33fy7IwkS/PyccSxGvLy62+X1090AAAgAElEQVS+55j2\nTexI01SqTs+cm1UUhJotJy37ZevbvN7XpRorffh8s+n8c5++kqmDr3s1VhqHbysfXzVWWt/mfH29\nmts72zbNx2Hy7IzCIFSSWNv8fWzZ+rY7xr5O2bbJ7p9N7+viT6aSNHluRjfdc0wnz8+t9CWwtP47\nU04HO1/uzfcc05mZck/LxdpCPwKW78xUWTd+pva6uelNr0ovym944ytbxgM/Pjcv+wk9v/7Ww8d1\nbqqifRM7Gl6TzcuT52b0/vse0bmpivbu2Z5O0vlt56Yq6YReWua9D2vfxI6WtB88cjzNY++e7br5\nnmMqV126/w1vfGU6oZeN85lzs9q7Z3u67gN/+oj27tmuctW1PZ9k0zaX6f9Onp1JJ/Sa095878MK\ng3DBcfbMVDl9g+bT3PDpozp5fq5h/d4929Nysscum2823hs+fVRnphrPh0stq9P+/dat8/5azaeb\neZ2ebp/P6enB6hPL1c9rh16Xnff8T56fa5t/N9+X9LqMXr9uOp3De32uPjVVq1eSmJ4+O9My/nQa\nL99778O64Y2v1OS5GVVipW3T6ZqDa3gsZtWmfM0slHRM0g9L+qRz7m+akmyTdEKSnHNVM3te0iZJ\np5vyuVHSjZK0Y8eOhgzK1Vhx5tN52VlDqy8EVvuaijVPKdbTZ9cHVvuUl19lbn5d8z5Ojdv8clzf\nf6QYps+zcUjzX0F1mfWT52ZqnyKspwmsnodzSurlZffzMTTnl613ls/X72eZffzXZ+LEpX+zefg4\nrCluab6+zfn6emW/Du2f+rZpbtORYpju1y7/bGwtsTfF19xmaUy+jvX0vi7+ZOpNnptR1X8H+wIs\n1H+riWtfbjZoYBG97EcL9V9g0C12/eBfNxtKhfR5GFjb11OYGVT9crt0I8WwZdtCaUcUtmwbKbau\nW6hMH7//G2fOCYuV3ZxPp/FwQ6mwYJl++0LxNV+XNJ+nssekIU2cNKzPHq/s84XiLfvfElmkrEpT\nWZ32Xw2rcf2wVvMZ1JgGST+vHXrdpuTf/zJ6nX+nc3g3ztVLOff6n7ZYznjpryOy42ynMTrv5xf0\n3qpN6jnnYkmvNrMNkv4fM/tR59zfrSCfOyXdKUkTExMNPbwYhXKZF2/m26ay2k/EqBI7Feq/USPV\n1rlMep9O9bRDwfxv4JnNr1N9P7+Pc1LVzW9L6svFwOScNF2ufW8+/S03V4tDqr2YfV5+/fhYqfZ9\n/DBI00+X49pv5mR+t6Y5hub8svXO8mX7/Xx7uHq+lbgWu/+rTB4+Dp+3r6uktL7N+fp297Flj49v\nm+xxM6utT1wt1nb5+9j8MczGnj3Gfn22zXxMvo4+vT8G42OlhpPq+FhJUXjhH2xdqP9GgbUvd4C+\n4oPB18t+tFD/Bdq59EOfX/G+T/3uL3QxksWvH/zr5rmZSvo8TtqPB9l/KPnldummy3HLtoXSluOk\nZdt0Oe4YQ7v1Pn7/N8ycExYruzmfTeuGOpaxUJnPzVRUDIMF42t+j9J8nsoek4Y0Tflmj1f2+ULx\nFqPGr5N1KqvQoQ7N+6+G1bh+WKv5DGpMg6Sf1w69blPy738Zvc6/0zm8G+fqpZx7o8A6jtWdxkt/\nHZE4LTpG5/38gt5b9bvfOueek/RlSdc1bXpG0nZJMrNI0sWq3TBjyTaNFlWMLH2EodJHMTKNDAW1\nmzsELk0zXAwa0vt0w8Va2qGCNeTh1/n9/PowVLptZChIlwv1fcc3liS5NC8fRxiqIS+//tCBPTp8\n9Ok0TSEybRsbVjWJNVwMWvbL1rd5va9LFCp9+Hyz6fxzn76QqYOvexQqjcO3lY8vCpXWtzlfX6/m\n9s62TfNxGN9YUpzECgLXNn8fW7a+7Y6xr1O2bbL7Z9P7uty+f7fGx0qSlP4mz9Z1QxfY+xfpv6Wi\nDh3Y01DuoQN7tKlU7Gm5WFvoR8DybRot6s5frr1u7vjK93Rw367ab/J89YmW8cCPz83LH33r1Q3p\nDu7bpbHRgg4ffbrhNdm8PD5W+029sdGCjhw7odv27mrYNjZa0Mfe1pj3of27dfjo0y1pb9u7K83j\nyLETOnRgj4qRpfvf9dUndKipPgf37dK2sWEdOXYiXffRt16tI8dOqBhZ2/NJNm1zmf7v+Mba2Nku\nvkP7dytO4gXH2U2jRd11/URDmruun9DWdUMN648cO5GWkz122Xyz8d51/YQ2jTaeD5daVqf9+61b\n5/21mk8389o80j6fzSOD1SeWq5/XDr0uO+/5b1031Db/br4v6XUZvX7ddDqH9/pcvWW0Vq8gcNqx\nsdQy/nQaL2/fv1t3ffWJ+j+PlLZNp2sOruGxGMvePKFnhZhtkVRxzj1nZiVJX5R0m3Puc5k0vyrp\nf3LO3VS/UcY/dc69baF8JyYm3NGjRxvWcffb1vwC7n7bq7vfXtC/Tdr1X+5aim5YYj/qev8FmvXw\nk3pd77/+7rdz1VhFf/db5zRaaLr7bTGo/U5r0nj3Wz9OVZPauLXSu9/6ccg5J1vi3W/9nXIXu/tt\nnDiVlnD3W6vH0Pbut0NB7fd0k6a73zb9bbj7bf3uvNz9NjWw1w9rNZ9u5sXdb1fefztdO+T97rTc\n/XZxA3L3266fe5d099ukcQzk7rdYoY79d7V6yMsk3V3/Xb1A0n3Ouc+Z2UckHXXO3S/pP0j6jJk9\nLumspHespKAgMF00vMh/FYZXknMfjPY7gBzLyzFuMjwcaRsnblwg+hGwfEFguuTiJQ4eL7HxecNI\n4/LYSPt07ay/gPE4CExb1rde07Vb3y7dUratpKxB1K3z/lrNp5t5DQ1F2rYGJvGa9fPaoddl5z3/\nQiHUtuWceAewjF6/bvp1ri4WI20r1uo12ma8a7dOkjata07Y3bjw0rIqZ27n3HFJr2mz/sOZ57OS\n3roa8QAAAAAAAAB5tuq/qQcAAAAAAADgwjCpBwAAAAAAAOQMk3oAAAAAAABAzjCpBwAAAAAAAOQM\nk3oAAAAAAABAzjCpBwAAAAAAAOQMk3oAAAAAAABAzjCpBwAAAAAAAOQMk3oAAAAAAABAzjCpBwAA\nAAAAAOQMk3oAAAAAAABAzjCpBwAAAAAAAOQMk3oAAAAAAABAzjCpBwAAAAAAAOQMk3oAAAAAAABA\nzjCpBwAAAAAAAOQMk3oAAAAAAABAzjCpBwAAAAAAAOQMk3oAAAAAAABAzjCpBwAAAAAAAOQMk3oA\nAAAAAABAzjCpBwAAAAAAAOQMk3oAAAAAAABAzjCpBwAAAAAAAOQMk3oAAAAAAABAzjCpBwAAAAAA\nAOQMk3oAAAAAgP+fvbuPj6M67H//PTO7K60kg2VZdoxlHkJ4qJOaYCkpgd9NCfRHaaHJL7UDLbgQ\n2kLAbdL0gZI+8Et7c3tfENrSBooNNCUQaC+J3TQptGlyoTRpgDSWQ2jrxBAeEotS28gyWNJKuztz\nfn9oZz27mpW0q30a+fN+vfTS7uzMOWfOnjlz5uzMOQCAmKFTDwAAAAAAAIiZpnTqGWPWGWP+2Riz\nxxjzn8aYX4tY53xjzOvGmGcKf/+7GWkDAAAAAAAA4ibRpHjykn7TWrvbGLNM0rAx5qvW2j1l633d\nWntpk9IEAAAAAAAAxFJT7tSz1r5qrd1deH1E0nclrW1G3AAAAAAAAMBS0/Qx9YwxJ0s6W9I3Iz5+\nlzHmO8aYfzTGvLWpCQMAAAAAAABioqmdesaYHkk7JX3UWvtG2ce7JZ1krT1L0h2S/q5CGNcZY3YZ\nY3YdPHiwsQkG6ozyizij/CLOKL+IM8ov4oqyizij/CIOmtapZ4xJaqZD7yFr7d+Wf26tfcNaO154\n/Q+SksaYlRHr3WOtHbLWDvX39zc83UA9UX4RZ5RfxBnlF3FG+UVcUXYRZ5RfxEGzZr81kj4t6bvW\n2j+tsM6bCuvJGPPOQtpGm5E+AAAAAAAAIE6aNfvteZJ+QdK/G2OeKSz7XUknSpK1drukzZJuMMbk\nJWUk/Zy11jYpfQAAAAAAAEBsNKVTz1r7r5LMPOvcKenOZqQHAAAAAAAAiLOmz34LAAAAAAAAYHHo\n1AMAAAAAAABihk49AAAAAAAAIGbo1AMAAAAAAABihk49AAAAAAAAIGbo1AMAAAAAAABihk49AAAA\nAAAAIGbo1AMAAAAAAABihk49AAAAAAAAIGbo1AMAAAAAAABihk49AAAAAAAAIGbo1AMAAAAAAABi\nhk49AAAAAAAAIGbo1AMAAAAAAABihk49AAAAAAAAIGbo1AMAAAAAAABihk49AAAAAAAAIGbo1AMA\nAAAAAABihk49AAAAAAAAIGbo1AMAAAAAAABipupOPWPMqcaYjsLr840xHzHGLK9/0gAAAAAAAABE\nqeVOvZ2SPGPMWyTdI2mdpL+ua6oAAAAAAAAAVFRLp55vrc1Ler+kO6y1N0paU99kAQAAAAAAAKik\nlk69nDHm5yVdLemRwrJk/ZIEAAAAAAAAYC61dOpdI+ldkv7IWvuSMeYUSZ+tb7IAAAAAAAAAVJKo\ndgNr7R5JH5EkY0yvpGXW2lvrnTAAAAAAAAAA0WqZ/fYJY8xxxpgVknZLutcY86f1TxoAAAAAAACA\nKLU8fnu8tfYNST8r6QFr7Y9J+on6JgsAAAAAAABAJbV06iWMMWskXaajE2UAAAAAAAAAaJJaOvX+\nb0n/JOn71tpvGWPeLOn5uTYwxqwzxvyzMWaPMeY/jTG/FrGOMcZ8yhjzfWPMs8aYjTWkDQAAAAAA\nAFjyapko4/OSPh96/6KkTfNslpf0m9ba3caYZZKGjTFfLUy6EfgpSacV/n5M0rbC/5r4vtUbU1nl\nPavpvC9jpJTrlLz2fCvHMfJ9Kysp71u5RnIdRznPl+NInQlHk1lfnUlHUzlfSdco4RplsjPhWCu5\njlHSNcp7R8PL+Vapwrq5/MzyVEKays68zhbS4Rozk4/hzPKtXGcmjcZIvi95hTDTyZllmexMWnKe\nVd63SrqO+rtTmsjllfdscd9MKFzPt0omTDG8cJypxEw6c/7MtumkqxVdKY1lcjKys/KqM2k0MV2a\nBx0Jo2x+5nM3tI9BXoeX532rng5Xnq+ZfHBUzKdgO2ulVMKRX0h3IMh71xglEzPfRd636k65ynpW\nOc9XT4c7k5fe0f3M+7a4n+V5HywvT2PSdbSqp0OJRC3939WbmsprNJNV3rdKOEZ96ZQ6O6s+THGM\noxwB1fN9q9cz05osnFMShXO7Y4ym80eXpVOOpnJWvrVyjFHKnfnc860SFc4Zvm81OpFVNu/JGCPX\nSB3JmfZFzvOVcIx6Oh2NT5XGnfOs+tIpHZrKKef5SrmOHCN51spayXFm2gjBNselHY1PWWU9f6Zt\n4hj1dBgdzpS2GRKOUWfSkaw0FTrnBvsUrOvbmXN1OE+C9lB5etMpR9O50riTCaOpnJ1Jc6F9kXAd\nrehMFuuopOsoYaRM3ley7LOEY9Td4UgyxbwK2juHp/LyfV+elay1SiVc9aaTGsvklM17SiVc9XWn\n5Dhm1ndQzWdxUa96v93CWQrfDebX6HZL3MPP530dGJ8u1oHNvDbB3MLf/fK0q2lPyhbaBEnXUWdy\n5vzl+VZJZ6ZvIOvNvHYdo55kolhWgu857/tyjSmem1d2pdTRQTselVVdOowxnZJ+SdJbJXUGy621\nv1hpG2vtq5JeLbw+Yoz5rqS1ksKdeu/TzBh9VtLTxpjlxpg1hW2r4vtWrxyelGet3sjkdefjz+s3\nLjpd2bwtvnaMkbVWxhhlsp4ms57u+8ZL2vqetyhTeP07P32mXhvPafil1zR4yko98syIrjrvZO0/\nktcdjz2nq889Rfc/+dKs8EbHs3rie/t11Xkn6/UpX77vq68npQNHZhqg04V0bH3PW1TeLAnS8RsX\nna5lnQnlfWk652l0PKu9r76ui350jUbHc3rkmRFdctZabX1ot0bGMrpo/Sr93qXrZa1VNu/LWquO\npFsMN5ufadA7nqPpnKdM1it+dlw6oSPT0mtHpnXjjmeL4X3kwtP198+MaNPQupK86utJad9YaR78\nzk+fqSPT0uR0Xp1Jp7iPQd5ksl5x+daHduvcN/fpl999iqy16ulMaDLjl+TN1eeeoq/t3a9NQ+uU\ndI06NLMvo+M53fHYc9r6nrfo+HRC4+O+bnhwWOe+uU9b3nVSMeytF5yqbN4v7udk1tMT39uvS85a\nOyvvg/0Ppz3I14HetLZvGdSZq5c1/OQ5NZXX86MTuuHB4WLc27YM6rS+bjpksGCUI6B6QbthbDJX\nUv9vu3KjlqUT2vKX/1ZyPN3x2HP6yp4DGuhN664rN+rOx58vvi8/Z/i+1d79R3TtA7uKYfzl1YPK\nHbG6IRzXlkE98syI7v76y8Vwd788qqFTVur60PH8F1ecramcr0//64u6+txTdNPO0vN2eN3bNm/Q\nymUdenVsQsu7O0v3bcugjut09UePfrcknPA+/egJx+v8H1k9qz55+eAbOrn/uFnLw/kSxL3jWz/U\nu89YXRJ+1Lqf/PJe9S9L6cMXnl4S7vYtg+pIGF3zmV0l2w+/9JpOe9PxJeFu3zKoT4XCvfeqIZ2x\nepkkzfoOFvJZXDqP6lXvt1s4UcdO3L4bzK/R7Za4h5/P+/re/iMldXuzrk0wt/B3/5H3nKqNJ6/Q\nwdD1dNCOuCPURth25UY98p1XdP6Zq7WyJ6WJpKfVkhIJZ9b3fOumDbr/yZf04QtP1+kru+nYQ0W1\n1ASflfQmST8p6V8kDUg6stCNjTEnSzpb0jfLPloraV/o/UhhWdVGJ7KazlvlPWnrQ7u1aXCdEo5b\n8vqVsSm5hf+HJnK6ccez2jS4TmOh1wnH1Q0PDuuC9Wt0w4PD2jx0onzf6IYHh7VpcJ1u2vlsZHg3\n7ni2uO7IoYxcx9V0zhZfB+kYm8jpUNlfOG7fn7l7LAjzgvVr5HkqpiVonEvSpsF1yhX2OUhL3lPx\n75WxKSUctxheOM6E42rkUKZYAQXhXV+IpzyvpOg8GDmU0aGJXMk+JkLbBctHxjK69t1vLoYbzqdg\nu5t2PluMO+G48jwV9z3Iu+D7CcILhx3sczhfgzwrz/uotAf5MDKW0fUPDuvA+HQtRbG6cpvJFvcn\niPuGB4c1msk2PG4sHZQjoHpBu6G8/r/hod3Ke5p1PG0aXFd8H5xXgvfl54zRiWyxUyJYJ+G4xQ69\ncLibh04sCfeC9WuKDfxg+aGJnH7z898pnivLz9vhdW/c8axGDmV06qrjZu/bg8PKeZoVTnif3rdx\nILI+Ofukvsjl4XwI4t48dOKs8KPWvf78U7VpcN2scGf2aWrW9hesXzMr3OvLwr32gV0anchGfgcL\n+Swu6lXvt104S+C7wfwa3W6Je/gHxqdn1e3NujbB3MLf/bmn9Wtf2fV00I4In5dueGi3Ng+dWFhv\nSrm81WgmG/k9B9fZNzw4rNcmqfdQWS3dvW+x1n7AGPM+a+39xpi/lvT1hWxojOmRtFPSRwsz6FbN\nGHOdpOsk6cQTT4xcJ5v3FPyANzKW0fJ0Uo4pfd2Vcov/w+uFX3vWamQsI7/w33VMcdnydLJieOF1\ng+V5/+jrcFzlwmF61paE6VtbXMd1TPGgl1TcRjqalrCulFsSXliQzvLwgnjK88rzZ+dBEIakyLwO\nL5dUEm44n8LhBut49uiDwuG8C76LILzw62Cfw9sF65TnfVTay7+TvOdHfl/Vmqv85n0bHbdvBSxU\nI8vRQupfoF3NVX6DdkPUsVN+Pi0/j0S9D58zsnlvVriV4nJDkYXbH2HB+To4VwbK3wdhdKXcivWC\nYypvtzydjIx/ZCxTbAfMly9dKXdWe6XSuuE2WNQ+lC+zFdJWHm4271UMdyGftYtmtB/aLZyoY6cd\nvxvMbb62Q6Pbv3EPP+f5Db02wdwWWvd6/uzraSn6vBScF8P9BFLlcxrXg5hPLXfq5Qr/Dxtj3ibp\neEmr5tvIGJPUTIfeQ9bav41Y5RVJ60LvBwrLSlhr77HWDllrh/r7+yPjSiVc+VbyrTTQm9bhTG7W\n68msV/w/mfWKn4Vfu8ZooDctp/Df821x2eFMrmJ44XWD5Qnn6OtwXOV/4TBdY0rCdIwpxu/5VgO9\n6eI+B9uE0xL+m8x6JeGF/4J0locXxFOeV64zOw+CMMr3MbxdsFxSSbjhfAqHG6zjFvY7nPfB8nB4\n4dfl+xnOs/K8j0p72EBvWgm3Pre3z1V+E46JjptHTFCFRpajhdS/QLuaq/wG7YaoY6e8HR2cR+Z6\nHz5npBLurHArxeWFIgu3P8LCbYWo83Z5mJNZr2K94NvK2x3O5CLjH+hNF9sB8+XLZNab1V6ptO7h\nTG7OfShfZiqkrTzcVMKN/A4W8lk7aUb7od3Cict3g7nN13ZodPs37uEnXaeh1yaY20LrXteZfT0t\nRZ+XgvNiuJ+g0vccnBe5HsRcaqkN7jHG9Eq6WdKXNDMu3ifn2sAYYyR9WtJ3rbV/WmG1L0m6qjAL\n7jmSXq9lPD1J6utOqSNhlHClu67cqJ3D+5T3vZLXa3s75RX+r+hO6rbNG7RzeJ96Q6/zvqdtWwb1\n+J5XtW3LoHbs+qEcx2rblkHtHN6nWzdtiAzvts0biusOrEjL8z11JE3xdZCO3u6kVpT9heN2nJkJ\nIoIwH9/zqlxXxbTcdeXG4sG/c3ifkoV9DtKScFX8W9vbqbzvFcMLx5n3PQ2smBnTJhze9kI85Xkl\nRefBwIq0VnQnS/YxH9ouWD7Qm9a9X3uxGG44n4Ltbt20oRh33vfkuirue5B3wfcThBcOO9jncL4G\neVae91FpD/IhGLdiVU9HLUWxunKbThX3J4h725ZB9aVTDY8bSwflCKhe0G4or/+3XblRCVezjqed\nw/uK74PzSvC+/JzR153SvVcNlYSR9z1tK4+rcM4Nh/v4nle1vex4XtGd1J984KziubL8vB1e97bN\nGzSwIq0XDrwxe9+2DCrpalY44X364u6RyPrk2z8YjVwezocg7h27fjgr/Kh1tz/xgnYO75sV7sw+\ndc7a/vE9r84Kd3tZuPdeNaS+7lTkd7CQz+KiXvV+24WzBL4bzK/R7Za4h7+qp2NW3d6saxPMLfzd\nP/n8Qa0ru54O2hHh89K2Kzdqx64fFtbrVDIxM7FK1PccXGdv2zKolV3Ue6jMWGvnX2uxkRjzPzTz\niO6/SwruFf5dSSdKkrV2e6Hj705JF0ualHSNtXbXXOEODQ3ZXbuiV6l59ltHck0w+61RZ8Icc7Pf\n+r5VZ5vMftuRcIrpDsw3+23e89U9z+y3jpGcxc9+u6ifTKLKL7OWoh4WWI7qXn6Bcid/7NGat335\nlkvm+rju5bfa2W+DCaQWO/ttvjBb7Hyz3+YLsx5GzX7r+VZuaPbboA1T7ey3wT4F61ordXc4Vc1+\nG447mP3WLTxeNNfst1N5f9Zn5bPf5r2ZdZbA7Ldt235ot3CY/bYt1fwFVGo7xH122mbNfhvUgcx+\nW7OG1r3MfosGq1h+F1w6jDG/Mdfnc9yBJ2vtv86ViMI6VtKvLDQ983Eco+Vd9fkFo7c7YmHUsgU4\nPj3/OgtSIf7lyfo+ktC/rHIeLu+qa1QLV77vNX4X7aizM6G1dOJhkShHQPUcx6i3uzP6nF+HsKPO\np+Xn0UpthBOqOJ6Xdc5e1h2xrBqV8mQxbZq56qioz8rzqr9Ce6dSu6XSdzDfZ3FRr3q/3cJZCt8N\n5tfodkvcw08kHJ2wvF4XkainhXz3KxbYruB7Rq2qqX2WNSwVAAAAAAAAABZswZ161to/bGRCAAAA\nAAAAACxM1Q/jG2PuN8YsD73vNcb8VX2TBQAAAAAAAKCSWkbY3GCtPRy8sdaOSTq7fkkCAAAAAAAA\nMJdaOvUcY0xv8MYYs0LVjc0HAAAAAAAAYBFq6Yz7E0lPG2M+V3j/AUl/VL8kAQAAAAAAAJhL1Z16\n1toHjDG7JF1QWPSz1to99U0WAAAAAAAAgEoW3KlnjOmUdL2kt0j6d0nbrbX5RiUMAAAAAAAAQLRq\n7tS7X1JO0tcl/ZSkH5H00UYkCgAQXyd/7NGat335lkvqmBIAAAAAWLqq6dRbb639UUkyxnxa0r81\nJkkAAAAAAAAA5lLN7Le54AWP3QIAAAAAAACtU82demcZY94ovDaS0oX3RpK11h5X99QBAAAAAAAA\nmGXBnXrWWreRCQEAAAAAAACwMNU8fgsAAAAAAACgDdCpBwAAAAAAAMQMnXoAAAAAAABAzNCpBwAA\nAAAAAMQMnXoAAAAAAABAzNCpBwAAAAAAAMRMotUJAADgWHPyxx6tabuXb7mkzikBAAAAEFfcqQcA\nAAAAAADEDJ16AAAAAAAAQMzQqQcAAAAAAADEDJ16AAAAAAAAQMzQqQcAAAAAAADEDJ16AAAAAAAA\nQMzQqQcAAAAAAADEDJ16AAAAAAAAQMzQqQcAAAAAAADETFM69Ywxf2WMOWCM+Y8Kn59vjHndGPNM\n4e9/NyNdAAAAAAAAQBwlmhTPZyTdKemBOdb5urX20uYkBwAAAAAAAIivptypZ639mqRDzYgLAAAA\nAAAAWOraaUy9dxljvmOM+UdjzFtbnRgAAAAAAACgXbVLp95uSSdZa8+SdIekv6u0ojHmOmPMLmPM\nroMHDzYtgUA9UH4RZ5RfxBnlF3FG+UVcUXYRZ5RfxEFbdOpZa9+w1o4XXv+DpKQxZmWFde+x1g5Z\na4f6+/ubmk5gsSi/iDPKL+KM8os4o/wirii7iDPKL+KgLTr1jDFvMsaYwut3aiZdo61NFQAAAAAA\nANCemjL7rTHmbySdL2mlMWZE0sclJSXJWrtd0mZJNxhj8pIykn7OWmubkTYAAAAAAAAgbprSqWet\n/fl5Pr9T0p3NSAsAAAAAAAAQd23x+C0AAAAAAACAhaNTDwAAAAAAAIgZOvUAAAAAAACAmKFTDwAA\nAAAAAIgZOvUAAAAAAACAmKFTDwAAAAAAAIgZOvUAAAAAAACAmG0LYvIAACAASURBVKFTDwAAAAAA\nAIgZOvUAAAAAAACAmKFTDwAAAAAAAIgZOvUAAAAAAACAmKFTDwAAAAAAAIgZOvUAAAAAAACAmKFT\nDwAAAAAAAIgZOvUAAAAAAACAmKFTDwAAAAAAAIgZOvUAAAAAAACAmKFTDwAAAAAAAIgZOvUAAAAA\nAACAmKFTDwAAAAAAAIgZOvUAAAAAAACAmKFTDwAAAAAAAIgZOvUAAAAAAACAmKFTDwAAAAAAAIgZ\nOvUAAAAAAACAmKFTDwAAAAAAAIgZOvUAAAAAAACAmKFTDwAAAAAAAIgZOvUAAAAAAACAmGlKp54x\n5q+MMQeMMf9R4XNjjPmUMeb7xphnjTEbm5EuAAAAAAAAII4STYrnM5LulPRAhc9/StJphb8fk7St\n8L8muZynQ5NZ5Xwrx0jppCPPl6bzvvK+1XGdrjxf8nyrnG/l+VY9Ha4cR/K8meVWUt63co3kOo5y\nnq/OlKOprC9jJNcYSZLjGBnNhJ10jRxjivH0dMzE41srBeE5kmscJdyj6fULaTNGSrkzn+U9Ff97\nvpXjGCUL74N1gzQkEzP/c/mZdAdx+daqu5CGXN5XT6erqawvxzFynZl4paP7K0lu4bNc3iqZMLPW\nSYXiSiaMcvmZPEwV9t1xjqbDDeWNMVJn0pHvH92fbCHPrJ3JR98v3W4mf2f+Z0L5HqTLC63vF77L\ndNJR3rMl4Sm0Tvn7YB9sxDpBHnYmXa3s7pDjBKlqnKmpvEYzWeV9q4Rj1JdOqbOzWYcplgrKEVAb\n37cancgqm/dkjJFrpGTCUd63yuV9pRKu+rpT854PwuGEtwmW+74vY4yyni/ft3KdmfOn78+cK6dy\nfsnxe2gqp5zny3WMUo5RMmk0OX10nWAb31o5xhTbE8H5d+Y8OxN+3rdKJ13lPV+5wvbHpR29kZk5\nJ+c8Wwx3edrRRFbKer483yrpGCUK583uDkcT00fDt1ZKJZyScINzrGetXGPkGMm3klM4n+cL5+6E\nY4rhpBKOsqF0B/Hkfauk6yhhpEzeL+ZNuK4L4gvedyQcTWa9mfw1kpXRqp4OJRJO5Pc1nfdkJM00\nr6LXreV7b4Z61fv1Cmd6Oq/XJo+Gs7IrpY6O6sPJ5TwdGJ8uhrOqp0PJpDv/hoiVRrdb4h5+M7Sy\n/oqzoK4Lnws7kkfzb2oqr/Fcvtg/kHCMOlOOxqc89aRcTeePnjNTCUfWSsnEzLVvR+F9eFvHSJ6V\nUo6j4zoSmvTymsrOhNGVcpUNrZtOOToyNXMOTDpG6dTMufaNzMw6nQlHVkE/hrPgc142m9fBiaPl\nfVna0ZHM0Xj7u1NKpRLK530dGJ9WzpsJf0VnMvbHSaMs9lzXlFy01n7NGHPyHKu8T9ID1lor6Wlj\nzHJjzBpr7avVxpXLeXp5bFKvHZnWfd94Sb/z02cq51u9PpnT1od26/LBAb1341pN5zyNjmd1445n\n1d/ToVs2vU0dyZkDIZP1NJn1dN83XtLW97xFmaynva++rsFTVuqOx57T1ve8RUYzDe+OpKs3Mnk9\n+p1X9PPnnKQ3MnltfWi3zn1zn3753acok/UkqSS849MJdRS+pJw3k7Y7H39ev3HR6ertSmpiyqoz\nYTQxZTWd82St1fKupF6fOrpukIbj0gl1yNXEtKfJ6XwxrmC/fvviM3Tjjmd1+eCALt6wRr7vq6cz\noXxOstYW91eF/enpTGgy4yvhSI7nlKxzXDohvxBXwpHy09JrR6b1xPf26+fPOUlJ12gy42tyOl+S\nN3c+/nzxewj2Zzpv9eh3XtGmoXWy1soYo0zWK24nSUnXyPhGo+O5Yr4fn07I8RxN57zi+sYYjY5n\ntffV13Xe6auKF0vh/Yp6n3SN8tMqpje8TpCHI2MZDfSmde9VQzpj9bKGntympvJ6fnRCNzw4XIx3\n25ZBndbXTYWHBaMcAbXxfau9+4/o2gd2FY+dO684W7m8r1//3HcWfD6ICufeq4Z0Wn+Pnj84rtu/\nulcfvuA0jU/nS84zt27aoK/t3a9L3z4w6/h95JkR3f31lzXQm9btl52l5d0pXXPftzQyltFF61fp\nwxeeXrLNn13+dh2XTuiP/2mvrj73FN3/5Eu6+txTdNPO0rZBOI6x8YyWd3dq60O7i+H+9sVn6uCR\n6VnrvnzwDZ3cf5zueOy5iuFetH6VfvWC04rhBft4/5Mv6Zf+x5vVmXT0K3/97Vmf/eoFp+nR77yi\nd5+xWs//90zbK7xvt23eoE9+ea/6l6VK9jsqvruu3KgHn/qBnnxxtBj+Ry48XWeuXla8cIn6viqt\nW235aUbbQapfvV+vcKan83rutdnhnL6yu6qOvVzO0/cOjM8K58xVPXTsLSGNbrfEPfxmaGX9FWdB\nXRc+F4bz75TeLu2fnC72QxTLx5Ub9d3/el1nnnD8rHNWR8LIdRx9978Oa8OJK2ZtG5yfrjnvFPUv\n65AkffC+b+ncN/dpy7tOqngOvG3zBp26qlv738jqhgeHI9sC27cMznvOy2bz2ntwdnkPt1OC8v/9\n0QldX1jvjp/boJP7j4v1cdIo9TjXtcuYemsl7Qu9Hyksq9qB8WmNHMroxh3PatPgOiUcV7m8LRbw\n920cUC5v9crYVLEQX3/+qXIdV3lPemVsSocmcsXtxwqvL1i/Rjc8OFxcdmgiV9xm60O7tXnoxOLr\nkbGMrn33m4thlYeXcNyZOwI9FdNWTGthWfD/lbEpuaHlwbpBGoKwRg5lSuIK9it4/b6NAxo5lJHr\nuPL9wi/Zof0N9sf3jUYOZYr5Fl4nHFfCcYv5HOx7sG153oS/h2B/gjwL3gdxBNsF4XmeSvI9HE6w\nfvBdXrB+TXEfy/cr6n2wD1HrBPkmaeb7fGCXRieyiy/pcxjNZIsHcxDvDQ8OazTT2HixtFCOgNqM\nTmSLFzTSzLEzNpErdugFy+Y7H0SFc+0Du3RgfFrXPrBLmwbX6bXCj4rhdW7aOXM+jTp+Nw+dWHz/\n65/7jkYOZYrrbBpcN2ubjz78jF4Zm9KmwXW6aeezxf/lbYNwHKeuOq7YhgnC3Vc4z5eve/ZJfcVz\nc6VwNw2uKwkv2MdNg+v0m5//jg5N5CI/C9oHN+082vYKr3fjjmd1/fmnztrvqPi2PrRb1777zSXh\nX//gsA6MT8/5fVVat9ry04y2g1S/er9e4bw2GR3Oa5PVhXNgfDoynIV+J4iHRrdb4h5+M7Sy/oqz\noK4LnwulUP5lsiX9EMFnNzy0W+ee1h95znIdV/sOZXT2SX2R2wbnpxt3PKt9hzLaV2gPXPvuN895\nDrxxx7PK5m2xrEa1BRZyzjs4EV3ew+2UoPxfH1ovaDfE+ThplHqc62LXLWqMuU7SdZJ04oknzvo8\nX7j1dGQso+XppDw78whukEl+4X2wjiQtTycV/AjRlZrpDQ22D1771pYsk1TcZmQsI7fwJgjTdUwx\nrPLwPGtLwgg+c0zh0dTQ/66UW/K+PA1BWOVxBfsV3u9iWIU8KN8u+Kwr5UauE44rWC+878Gy8rwJ\nfw9BGoLtgvfl24XjK8+78vWDdIT3sXy/ot6XpzcqD8Pvs3lPizVX+c37NjLevG8FLFQjy9F89S/Q\nzuYrv9m8N+vYCbcVAvOdD6LCGRnLKO/5s9oW5eu4jqm4PPw+fL4Kn+vL1+nS0fZQVNugJH1ldcdc\n6fR8O2+4leIJlof3ofyzIB+CtlfUeuVpqxRfuH0WrJP3/OI6lb6vqHXnUimcerQdpOa0H5ZqOGit\nhVy7NfJ7jnv4zdDo+ivOFlL3znVeDfdDhD/zKpSb4nXqHNtGnUfnaz+Ux1kxzfOc8yqV9/J2Svl6\nlfY3TsdJo9SjDmmXO/VekbQu9H6gsGwWa+091toha+1Qf3//rM8TjtFk1tNAb1qHMzm5xsi30kBv\nWpLkFN4H60jS4UxOvlVxeXj74LVjTMmyyaxX3GagNy3PtyXxeL4trlcenmtM8S/YJkiD65iS/0E8\nwfvyNAThlMcV7Fd4v4thFeIN72/4syDc8nXCcQX/w/seTkc4b8LfQ/BZsF3wvny7IDy3LN/D4YS3\nDb6j8vDmel+e3qg8LBbI3rRSicU/6jFX+U04JjLeBLe9owqNLEfz1b9AO5uv/KYS7qxjp5bzQVQ4\nA71pJVxnVtuifB3PtxWXh99PZo9eaIXP9eXrBJ+F16m0fnndMVc6XcfMG26leILl4X0o/yzIh6Dt\nFbXeQuML8i4cfsI92vyt9H1FrTuXSuHUo+0gNaf9sFTDQWst5Nqtkd9z3MNvhkbXX3G2kLp3rvNq\nuH8g/JlbodwUr1Pn2DZ8Hg3OpfO1H8rjrJjmec55lcp7eTulfL1K+xun46RR6lGHtEun3pckXVWY\nBfccSa/XMp6eJK3q6dDAipkxV3YO71Pe95RMGN115UYN9Kb1xd0jSiaM1vZ26rbNG2aeH3/iBXm+\np4Qrre3t1IruZHH73sLrx/e8qm1bBovLVnQni9vcdeVG7dj1w+Lrgd607v3ai8WwysPL+55cV3Jd\nFdNWTGthWfB/bW+nvNDyYN0gDUFYAyvSJXEF+xW8/uLuEQ2sSMvzPTnOzAQR4f0N9sdxrAZWpIv5\nFl4nHFfe94r5HOx7sG153oS/h2B/gjwL3gdxBNsF4bmuSvI9HE6wfvBdPr7n1eI+lu9X1PtgH6LW\nCfJNUnFchL7uVB2L/Gx96ZS2bRksiXfblkH1pRsbL5YWyhFQm77ulO69aqjk2OntTur2y86q6nwQ\nFc69Vw1pVU+H7r1qSDuH92llT2rWeebWTTPn06jjd8euHxbf337ZWRpYkS6us3N436xt/uzyt2tt\nb6d2Du/TrZs2FP+Xtw3Ccbxw4I1iGyYId13hPF++7rd/MFo8N1cKd+fwvpLwgn3cObxPf/KBs7Si\nOxn5WdA+uHXT0bZXeL3bNm/Q9idemLXfUfHddeVG3fu1F0vC375lUKt6Oub8viqtW235aUbbQapf\nvV+vcFZ2RYezsqu6cFb1dESGs9DvBPHQ6HZL3MNvhlbWX3EW1HXhc6EUyr90qqQfIvhs25Ub9eTz\nByPPWZ7vad2KtL79g9HIbYPz022bN2jdirTWFdoD937txTnPgbdt3qBUwhTLalRbYCHnvP7u6PIe\nbqcE5X97aL2g3RDn46RR6nGuMzb0KGijGGP+RtL5klZK2i/p45KSkmSt3W6MMZqZHfdiSZOSrrHW\n7pov3KGhIbtr1+zVwrPfuoVZV+ea/db3Z2aJjZz9tjBbLbPfMvttxECxi/ppIar8LoXZs9B6CyxH\ndS+/gZM/9mjN4b58yyU1bxsnteZR3PKngWWhIeX3WJj91vNnzmuNnP02X9in4BwbpMuJmP02WDf4\nrJbZb72y+IL31c5+GzxqNte6tXzvEdq2/cDst1iAmstvpbo37rPTLoX2+zEy+23d695mzX7rhc6V\n1cx+Oz7lzfQjOJVnv83mfSUaOPtt3psJn9lvK1vgua5i+W3W7Lc/P8/nVtKv1Cu+ZNLV6uPT869Y\ni+7GBNssjcqWhot5vi9UZ2dCa6ncsEiUI6A2jmOKs8k1Ipxawz8h4nju7aopaRUt64xe3l1huSQt\nr3MaaomnHnVdo7/3ZqhXvV+vcDo6ElpbQydeuWTS1dp6F3a0nUa3W+IefjO0sv6Ks/nqus7ORGTH\nVd8817YLrfY6lZjzOnlFxGeVzvcLlUoltDZVuk/HRYSZSDg6YXlp50Pcj5NGWey5rl0evwUAAAAA\nAACwQHTqAQAAAAAAADHTlDH1GsUYc1DSDyp8vFLSa01MDmloz/gbmYbXrLUX17pxDMpvuXZLE+mZ\n31xpOpbKb7ulR2q/NLVbeqTWlN+45UMrtFt6pPZL03zpof5trXZLU9zSU3P5nafsLiTudhf39Evx\n3wfavo3DPrZWxfIb6069uRhjdllrh0hDa9PQ6vjbJQ3Vasc0t1uaSM/8WpWmdsuLdkuP1H5parf0\nSK1JE/kwv3ZLj9R+aWplesiL+bVbmkhPe8RdD3FPvxT/faDt2zjsY/vi8VsAAAAAAAAgZujUAwAA\nAAAAAGJmKXfq3dPqBIg0tEP8UnukoVrtmOZ2SxPpmV+r0tRuedFu6ZHaL03tlh6pNWkiH+bXbumR\n2i9NrUwPeTG/dksT6WmPuOsh7umX4r8PtH0bh31sU0t2TD0AAAAAAABgqVrKd+oBAAAAAAAASxKd\negAAAAAAAEDM0KkHAAAAAAAAxAydegAAAAAAAEDMxLpT7+KLL7aS+OOvVX+LQvnlr8V/i0L55a/F\nf4tC+eWvxX+LQvnlr8V/NaPs8tfiv0Wh/PLX4r+KYt2p99prr7U6CUDNKL+IM8ov4ozyizij/CKu\nKLuIM8ov2lWsO/UAAAAAAACAYxGdegAAAAAAAEDMtKRTzxjz68aY/zTG/Icx5m+MMZ3GmFOMMd80\nxnzfGPOwMSbVirQBAAAAAAAA7a7pnXrGmLWSPiJpyFr7NkmupJ+TdKuk2621b5E0JumXmp02NJbv\nWx08Mq1XxiZ18Mi0fH/O8R4B1KhVxxrHOAC0BvUv4ozyi6WM8o1GS7Qw3rQxJiepS9Krki6QdEXh\n8/sl/YGkbS1JHerO96327j+iax/YpZGxjAZ607r3qiGdsXqZHMe0OnnAktGqY41jHABag/oXcUb5\nxVJG+UYzNP1OPWvtK5L+WNIPNdOZ97qkYUmHrbX5wmojktY2O21onNGJbLEyk6SRsYyufWCXRiey\nLU4ZsLS06ljjGAeA1qD+RZxRfrGUUb7RDE2/U88Y0yvpfZJOkXRY0uclXVzF9tdJuk6STjzxxEYk\nEQ2QzXvFyiwwMpZRNu+1KEWtQflFozXyWJur/HKMo921c/178scerXnbl2+5pI4pQbui/kVczVf3\nUn7RzhbbdqB8oxlaMVHGT0h6yVp70Fqbk/S3ks6TtNwYE3QyDkh6JWpja+091toha+1Qf39/c1KM\nRUslXA30pkuWDfSmlUq4LUpRa1B+0WiNPNbmKr8c42h31L+IM+pfxNV8dS/lF+1ssW0HyjeaoRWd\nej+UdI4xpssYYyRdKGmPpH+WtLmwztWSvtiCtKFB+rpTuveqoWKlFown0NfNJMdAPbXqWOMYB4DW\noP5FnFF+sZRRvtEMTX/81lr7TWPMDkm7JeUlfVvSPZIelfT/GWP+n8KyTzc7bWgcxzE6Y/UyfWHr\necrmPaUSrvq6UwwQCtRZq441jnEAaA3qX8QZ5RdLGeUbzdCS2W+ttR+X9PGyxS9KemcLkoMmcRyj\n/mUdrU4GsOS16ljjGAeA1qD+RZxRfrGUUb7RaK14/BYAAAAAAADAItCpBwAAAAAAAMRMSx6/BQAA\nwOKd/LFHa9ru5VsuqXNKAAAA0Gx06uGY5ftWoxPZthq0tB3TBADNRD0IVI/jBnFG+cVSQDlGq9Cp\nh2OS71vt3X9E1z6wSyNjmeL04mesXtayyrcd0wQAzUQ9CFSP4wZxRvnFUkA5Risxph6OSaMT2WKl\nK0kjYxld+8AujU5kSRMAtAj1IFA9jhvEGeUXSwHlGK1Epx6OSdm8V6x0AyNjGWXzXotS1J5pAoBm\noh4Eqsdxgzij/GIpoByjlejUwzEplXA10JsuWTbQm1Yq4bYoRe2ZJgBoJupBoHocN4gzyi+WAsox\nWolOPRyT+rpTuveqoWLlG4x70NedIk0A0CLUg0D1OG4QZ5RfLAWUY7QSE2WUYdaaYyMPHMfojNXL\n9IWt57XNfjqO0VtWduvh685R3rdKOEarejqWXN5j6crnfR0Yn1bO85V0Ha3q6VAiwW9HWLh2rJuB\ndkf7AXFG+cVSMF/7Jer6WtKSv+ZGc9CpF1I+a81F61fp9y9ZL9cxx8yBdizN3OM4Rv3LOlqdjKJ8\n3tfeA+O6/sHhYt5v3zKoM1cvo2MEbS+f9/W9/UcovwDQZLQfEGeUXyx1UdfXD/ziOzWd94+Ja240\nHp16IeFZa85et1xXn3uKrvjLbx5TB1qlmXu+sPW8hnaAVXt34FK8m/Dg+LT+/pkR3ffBd8h1jDzf\naseuH6rvvDdrzfL0/AEALXRgfFqfeuw53Xzpei1PJ3U4k9OnHntOf/Det+kEym/RUqy76ulY+mEJ\nqJeDFerfP3zv26puP1BHodnqWX4roVyj0Xzf6uXRCf1gdFJdKVeTWU8n9XXp5L7uyOvrH4xO6uYv\n/kfkNXdfd4ryiqrQqRcSnrXm+vNP1U07n21651artWLmnmov4pbqRZ/rSJectVbXfOZbxf2668qN\ncvmRErFgdfW5pxTrzYHetG7dtEFGttUJaxtLte6qp1b9sATEma1Q/6rK+pc6Cq1Qr/JbCeUazXA4\nk9X+N6aKHXUDvWndtnmDlnclI6+vu1Ju5DW37/uUV1SN7oKQ8Kw1y9PJY3Ja6lbM3FPpIm50IluX\n9eMi51ltfWh3yX5tfWi3ch6dImh/1mrWDyE37XxWPsW3aKnWXfXUih+WgLirV/1LHYVWaHT7gXKN\nZshkPd24o7Qc37jjWWWyXuT19WTWi7zm9qwor6ganXoh4VlrDmdyx+S01K2Yuafai7iletGX923k\nfuXpFUEMWCmy/OKopVp31VMrflgC4s6z0e0H31bXfqCOQivUq/xWQrlGM1Qqx56Nvr4+qa8r8prb\nVgiH8oq58PhtSHjWGt/3dfcvDOpDnz06aOuxMC11K2YeDC7iwhXYXBdx1a4fF0nXidyvJM/fIgY6\nluhxWU9Lte6qp6DhW/7YyVI/9wKL0ZmMrls6ktXVLdRRaIV6ld9KKNdohkrluDPpVLy+ljRr2ehE\nlvKKqtFbUCaYEXX18Wn9yJuO0xe2nqdv3PQefWHrecfMs+xBHqzt7VL/ssZPKV/t3YGtuJuwGVb1\ndGj7lsGS/dq+ZVCrehhHCu1vqR6X9UQezS/c8D3Wzr1ArVZ2d0TWLSu7q2s/UEehFepVfiuhXKMZ\n5ivHUdfXUcsor6iFsXW6tbkVhoaG7K5du1qdDNRBTGe/XVSEUeU3n/d1YHxaec9XwnW0qqdDiQR9\n72iIupffNjku2xp5VDd1L7+tdPLHHm16nC/fcknT40RR29a/1FFYgJoLRKW6t9HljnKNgoa2HaiH\n0WAVC8Ex8/gtB0d7C36paNT6ceE4RknXkbVWSdehjCJWlupxCQDHCupxLEWUa8QJ5RXVOiY69ZjK\nHHFAOQWWNo5xAI1A3YI4o/xiKaAco5WOiU698qnM+3s69N+vT6m7w1U6mWiLu/ZacSchdy+2l9GJ\nrL75wkH99bXnyLdWjjF6fM+rWtnTwa81iIXg8fGc5yvJ4+OzlJ+LRsYyuvaBXfrC1vM4xkM4NwHV\nof2AOBudyOrvdu/TfR98h1zHyPOtduz6oX753W+pW/nlvIJGG53I6vav7tXNl67X8nRShzM53f7V\nvbpl0wZ5vuYte5RRLMYx0akXnsr87HXL9Vs/eYZu2vls2/Sit6Jnn18T2o/rWA2eslJX3Pt08TvZ\ntmVQrhPfcS9x7MjnfX1v/xFd/+DRGcO3bxnUmauX0bFXED4XBUbGMsrmvRalqP1wbgKqR/sBcWZk\ndclZa3XNZ75VLL93XblRRvUpv5xX0Ay+7+vqc08p6WO484qz9errU/rQZ4fnLHuUUSzWMXGlFUxl\nLknXn39q8WCTjt4pMTqRbVn6Kt290Yg0+b7VwSPTevX1TM1xBmG8Mjapg0em5fs0Gushk/V1x2PP\n6eZL1+vh687RzZeu1x2PPadM1m910oB5HRif1qfKyu+nHntOB8anW520thE+FwUGetNKJdwWpaj9\nNPN8CCwV9Ww/0MZDs03nfd35+PMl5ffOx5/XdL4+7V/OKwvDsb84ntWsPoaxiZz+/P8vrZtv/+re\nWWXvWCmjlLHGOSbu1Aumhr72gV1ank623Z0Szbp7I/wrwJ984Kya4uSXhMYxRrN+4bl10waRrYgD\nIxtZfuv1S/tSED4XhevPvu5Uq5PWNribEahepfaDqbL9QBsPrdDo9i/nlflx7C+etXZWOVvZk4os\n275f2mF9LJRRylhjHRN36jmO0Rmrl+kLW8/TQG+67e6USCacpqQp/CvA4UxuVpwXrV8lY8ycvefH\nyi8JrWAjfuG5aeez4kcMVCuf9/VfhzP6weiE/utwRvk6/do9F5/yO6/wuegbN71HX9h6Ho2ZMqmE\nq4vWr9LdvzCoh687R3f/wqAuWr+KuxmBOVRqP9gq61/aeGiFRrd/uUt+fhz7ixfVfunpTESWbc/O\n3jaqjKZT7pK5s40y1ljHRKeedHRq6DXHz/QKBwdOq++U8H2r8am8btu8oeFpCv8KsP2JF3TrpqNx\nXrR+lT5y4em67O6ndN6t/6z33/UN7d1/ZFblcSz8ktAqnj/7F56RsYy8GFfgaL5gbLvL7n5KP37b\nE7rs7qf0vf1HGt6xR/ldmOBctLa3S/3LOujQK9ObTuojF56uTzyyR5ff87Q+8cgefeTC09WbTrY6\naUDbslaR9W+1tS9tPLRCvcpvJcFd8u1y7deOOPYXL6r9IlUo22W/uESV0Qd+8Z3a/8a03n/XN+a8\nNo8LylhjHROP34aF75Ro5ewy4Rlurvqrf1N/T0dxtpzJrKfVx9X/Yi/4FWBkLKNv7zusP/6nvfrE\n+96mU1f1KOEYXXb3U/POyhgO4+x1y3X9+aeqrzulpOvowJEp5fJ+W8/Y084zCyVcRxetX6VNg+uK\nsybtHN6nhHvM9L2jDg6MT+vvnxmZNYvcivPerBOWp+cPoEauY/Sh/+tkbR46sSRet02Or3bRznVQ\nOxjL5IqTrUgz56LrHxxmhmBgDo5j9AeXnqkL1q8pmf3WqfL5W2NMsY0XGOhNy1T7HC9QBWMUWX7r\nVera5dqvnYWv7wLczVidsUyuOLZ0cB332pFs5LVdeb5GlVErq1u+8O+zZtP9o/dviGV7iDLWWMdc\np5509E6JVoka225kLKMPfXa4uM43bnqP1F3feMvHczo4CDAEHAAAIABJREFUPq03Hd+pgeVpvfp6\nZkG950EYt391b3GMgP6eDv32xWfoxh3tM6NwlHZ/ln9lV1IfvvB03RCaPXTblkGt7OIOFSxcwlHk\nLHKNnoC2u8PRpW8fKIl325ZBdXfQKR1o9zqoHfBLLlC9rpSJnP22K1VdveIa6dZNG2aN/+RSPaGB\nulJOhfJbv/ZDq6/92h1j/i5e1Oy3f3b523XjxWfqmvtK28bLO2d3wZSX0f2vZxY0Hl9cUMYai6ut\nRaplFpf5xraL6rWux2wxc43ntNDxJoIw/uC9bytWMteff2qxQ0+q/Ix8q2e8afdn+V+bzEXOXvfa\nZK7VSUOM5DyrrQ/tLinnWx/arVz5AB51NjHtFzukg3hveHBYE9PxbHw0QrvXQe2AsY+A6tWr/nUc\nR/c/+VJJO+T+J1+S43C5gMaZzEaX38kaZm9GbRjzd/GiZr/96MPPaORQpviE282Xrtd0ztOB8el5\nh8WJCi9qPL64oIw1Vkvu1DPGLJf0l5LeJslK+kVJeyU9LOlkSS9LusxaO9aK9C1UrXddRI1tF+6F\nL++1rufdHZV+qaqm99xxTMkMPwuZUbgd7lBp9ztAmD0U9ZBv0dh2jKk3v3avg9pBbzqp7VsGi4/g\nDvSmtX3LIGPqAXOoV73f153Sr//PM7iTAk3VqnYLSnE3Y+183yrr+ZHluCvl6ux1y/VbP3lGyTXe\n9i2DOnP1MiUqPEoTNZtu1Hh8cUIZa5xWPX7755K+bK3dbIxJSeqS9LuSHrPW3mKM+Zikj0m6qUXp\nW5BKd13MN/bPXGPbpZOzx3mYK56+7lRdxmeqdryJ8D4EdxuWj7NnjJHvWzmOWXBeBeNN+b4vz85U\naPUa+6Ldn+X3rfS1vftnjYV2ct8prU4aYiTpOpHlvNFjM7pO9FhMjKl3VDAz2nxjqxzLosak+dRj\nz8V2DBmgGRJ1qn8dx+jUvi49fN05yvtWCceon7HH0GD1Kr9zyed9HRifVs7zlXQdrerpqNiZAlRr\ndCKrlw5ORJZjxxh9cvMGvZ7J6eZL1+uxPft14frVmsp52n9kSmuOT0fWsclEdHueNiOiNL02M8Yc\nL+ndkj4tSdbarLX2sKT3Sbq/sNr9kv5Xs9NWrVrvuiif4SY8tl3UbIiV4vF9X3v3H6nbrDjVzMoY\n3oftT7yg2zZv0EXrV+m3fvIMfeKRPdq8/SlddvdTxfQsJK+Cu/l+7wvP6vsHJ+adibda7T77VdI1\nxbHQLviTf9E1n/mWLjlrrZIMZoMqrOxKatuWwZJy3oyxGZMJo7uu3FgS711XblQyQfkNMLPr/LJ5\nT1/Zc0Af+uywLr/naX3os8P6yp4D3M0IzCHp1qf+zeU87T04ocvveVo/ftsTuvyep7X34IRyOY4/\nNE6j2w/5vK/v7T+iy+5+Sj9+2xO67O6n9L39R+Z9/BFYqGze06cee163btpQUo4/c807lE65uuYz\n39Lm7U/pE4/s0ZZ3naSdw/u0eftTM3VsxDWu71tN57xZxwVPLqCSVtypd4qkg5LuM8acJWlY0q9J\nWm2tfbWwzn9LWt2CtFU1M2E1d36Vh3taf09Nd8WF4/GsarpTsB7K7+xLp1z9wXvfVnEG3YXkVXA3\n382Xrp81hkA99qvdZ7+qNBbaw9ed0+KUIU7CYzMGdzrd8dhz+oP3vk0npBpX5efyVnc+/nxJvHc+\n/rw+/jNvbVicccPMrvNr9zuqgXaU8+pT/x4Yn44c2+zh687R2t6uRiQdaHj74cD4dOS593MfepdO\nWJ6eZ2tgfqmEq4Pj0/rjf9pbLMeTWU9dqYQ+eN9Ts67tbr50vb6y50DFa9zRiay+f2BCf/NvP+DJ\nBSxIKzr1EpI2Svqwtfabxpg/18yjtkXWWmuMibwtyxhznaTrJOnEE0+sGEk1nXPhbaoZ9y1qHLoH\nfvGdsrJ6ZWyyGK+kiuFKMwfuq69nKqaz0nh3lZ61X8wdDdXkW/lz8a+MTVZMz5rj05H70JtO6uCR\naWXznrzC/ixkjL5atfpZ/rnKb6UxRfKMKYIq5DxfX9lzQF/Zc6Bk+e9fsvhfpOcrv9Hxrl90vEsF\nY+rNr5Fj6i20/QC0o7nKr7WKrH//96XVdYrQDkEjzFf3eg1uP+QqjHWW9+p3p14t152Ih4W0HcLX\n6h/67HBxXPSDR6Yjy97yUJsmqh2YzXvqSrmRx8XHf2Z2m3Eh5a+RQ1yh9VrRqTciacRa+83C+x2a\n6dTbb4xZY6191RizRtKBqI2ttfdIukeShoaGIlsZtU7KUO0YeVF3q+1/Y1pX3fVk6QDDPanIcL/0\nq+dp/xvT86az0h1moxPZut7RsNjJLOa6wyJqH3rTST1/cLwY330ffIcGetMlY/TVY7/ayVzlt9KY\nIgkqWlShkWPqzVV+WzWWX5wYE32MG8MxHmjkmHoLaT8A7Wqu8luvMU1ph6AR5qt7G13uGt0+aYfJ\nANE4C2k7OI7R6uM69Jlr3qnDk1mNTmT1x/+0V9eff2pk2TucyZW8L7/GTSVcTWa9BV0PL6T8Bevc\n/tW9syZlpKwuDU2/2rLW/rekfcaYMwqLLpS0R9KXJF1dWHa1pC/WGkelzrnRieyc29VyF0V4HDrP\nj34cdioXHW4m6y04nVHj3dV7jLha8y1QbXoOZUrj+9Rjz+u2zRu0c3jfrDEJFrJfvm918Mi0Xhmb\n1MEj04seg6/ZOhKO/uqDQ7rvg+/Qw9edo/s++A791QeH1MFAvqhCqsLYSqkGj82YMNJtm0uP29s2\nbxBD6h3lGmnblRtLjvFtV24Uw2YexZh6QPUcI/3FFWeX1C1/ccXZqvYabVVPR+SYrKt6eNQLjeM6\nRndvKT033r1lY90myuhKOZHtoq5UfdrXi71+wtKQyXrKZPOaynk6tb9bf3rZWXrTcR2RZW/n8L7i\n+6hr3L7ulE7q65rVro5adyHlL1hn0+C6yCGuKKvx16rZbz8s6aHCzLcvSrpGMx2MnzPG/JKkH0i6\nrNbAa33EabFj+VSK161wd4a3yMdn6z1G3GIfDZsrPVG/Ijz4Sz9WEt+39x3WJ7+8V3decbYSjtHn\nPvSuBd8avBR+Jct6vt7I5HXzF/+juA9/dvnbtayjVYcp4mgi6+nBp35QMovyvV97Ub9ywVu0soHx\nZvK+PvnlvSV3WH3yy3v1Zz/39gbGGi8dyZkLiPAxvu3KjcXlYEw9oBaetZrK+SV1y5984Cz5trof\nN5NJV2eu6imZ/XZVT4eSSY4/NI4xkm9nnxvrdRP7xHR0u+jXfuI0La/DUJEMrQFJSqdcaUL62N/+\ne7Ec37Z5g05Y3qlbfvZHlXQdHc7k9OBTP9CmwXX6/UvWK51KRF7jOo7RyX3dWt6V1MPXnSPPSp1J\nRyu7Fz6hZrj8Bes0cogrtFZLriSstc9Ya4estRustf/LWjtmrR211l5orT3NWvsT1tpDtYYfXBSE\nLeSioNY734I7xIJtyuNNp9zIcDuTtaUzrJoZa2tNfz3SU/4rQn9Ph/K+nRXfwfFppRKuVh+f1gnL\n0wver3r9StbKu/2slT768DMl+/DRh59RzG44RIslHKPertKO4N6uRMMfn0o4Rv3LSuvK/mUpHtsK\nmcz6uqFsMpwbHtqtySwz8AXafZZyoB1ZK336X1/UzZeu18PXnaObL12vT//rizW1H5JJV2t7u3RS\nX7fW9nbRoYeGy3k28tyY8+rTAE4lXB3OZPXiaxM6eGRaL742ocOZbN1+LKr1uhNLS96fXY5v3PGs\nXjw4qZxndfk9T2v7Ey/owvWr1dedUsJ15h27fkV3h9Ycn1Y66SqX9wtj4pUeFwspf8E6wRBXc62L\neFqStwBVmlhivouChd75Fh6MMhhH79oHdqm/p0O3bd6gG3eUPqe+PJ3S8nRqVriSakpnPYXvcKuU\n/nqkJ/wrwtnrluu3fvIMffLL39WtmzbMeq6/lvjq8StZq+/28yoMUO3Rq4cqrOxK6dK3D+iaz3zr\n6C/eWwa1squx9UpfOqUPX3h6cebEIN6+NJ0xgWYM1h13jmN0Wn+PPvehdynn+Uq6jlb11PaDFXCs\ncBzNGifp1k0b5HATMGKg0e3f3nRSH7nw9IZMwCTVft2JpSWXj27jdaVc9S/r0EXrV1U9nt1Crk0X\nUv6CdW7/6t66XXujvSzJTr2gc+5Lv3qeMtmZWVU7F/hL43yzo5YfXPd98B3F28VHxjL65Jf36hPv\ne5tOXdWjdLK0UzAq3Ho+PluL8B1uQfpvv+ztWrO8U34V+Taf8CNV159/arEyOXgkq5svXa++7pRO\nWJ7Wm47rrGn/6/HIVrUTpdRbvQa6xrFtNJMrdqxJhV+8HxzW5z70Lp3QwEe5RzPZyHgfvu4cre1c\nkqeaqjGZyPx835ZMoBTHoRSAZvN9zRon6aadz+rh685pccqA+TW6/TuWyRU79KSZ4+P6B4fr1r6v\n93BIiKdkIrqNN5n1dGgiq9+/9K264t6nq7rOXMi16ULKX7DOH71/g3zfr2qIK8TDkr6S2P/GtC6/\n52m9+5NP6GfvelJ79x9Z9OOU5QdXV8qdNS7cNZ/5llyjBT02Wo/HZxcj6g63rOfr5+qcb+FHqsLP\n839732F96LPD2rz9KVlra97/ejyy1eoxMTqTTuQA1Z2Mt4UqtOpusHyFX9rz3Gla1N+dijzG+/mF\ntIgBx4Hqcac/4swxmjVBXj3vNG1G+77V13NovYRjdPtlZ82aMG5lT0oJ1+jAG1NVl8OFlt2FlL9g\nnWqHuEI8LMnbJ3zf6r/fmKrbXVfhx23LJ7cInk2v5g6xcHjz9ZBXs24tyu9wu/78U3X/ky8VB7v3\nrdXrmZxGDk8qnYwezHMhaS3/FaHeA6HX45GtVg/QPpXzNfzSa/rra8+RtVbGGD2+51WteOuapsSP\npSHRojs+K8XLmHpHHZ7KK5fLlQxCv//1SR2eyqufcasktf7HFSCO6nmnUzab18GJbLGO6u9OKZVa\nkpcLaBO+Vcm1x+FMTvc/+ZI+/jNvrUv4rW7f10OjrwexeJmsp//3H76nP7v87VrZ0yHXMepIOspk\nPeU8q46Eo4vWr9JX9hwobjPQm5YxRvtfz8izKrl7TpKcCpNtxqnsojmW3C1AweOx/3U4U5cLgyC8\n99/1DZ136z/rhQMTJQNMbn/ihQVNN10pvPff9Y2Kd8JVs26tou5wu/rcU/SJR/boln/8niTptz7/\nHb37k08sOq3BLwRrjk/XfSD04JGty+5+Sj9+2xO67O6n9PzB8aryqtUDtDuOdNqbjtcV9z6tH7/t\nCV1x79M67U3HMyYOqtLTGX3HZ09nYwtSd0d0vN0dFOBA0rVKJpO6/J6ZY/zye55WMplU0uVumgAD\njgPV60xVuNM/VV39m83mtffgREkdtffghLLZfCOSDUiSujocffjC0/WJR/bo8nue1ice2aMPX3i6\nuurUfuhNJ7W97Pio55h6jdaM60EsXirhqn9ZStN5X1s+/U195G++rX2HJnXlX35TP/Gn/6Kfv/dp\n/eoFp+mi9askHS2H93/jRX3/4IQuu/upku/3lcOTOnBkqqp+Bhy7jK1yuvt2MjQ0ZHft2lWy7OCR\nab3/rm/o5kvX6xOP7JnVs13tnXpBeOFJHn774jNKJpN44BffqZ7OhHJ5f95fT8rDmytd1ay7GOFf\nfyTp8ntmnve/+xcGF5yHB45M6WfvenLBaa33L071yqsq07Won8jKy+8rY5PFvA8M9KZnxiTr7VpM\nVDiGvDI2qT/8+//UpsF1xV+8dw7v08d/5q3l5aju5fer//mqLli/puRO0//51jWU3wKO8flVMWFR\nXctvq538sUebHufLt1zS9DhRVPf694EnX9LmoRPlOkaeb7Vj1w911bmnVFW31LOO4s6iJa3mLzKq\n7q2i3VKTg0em9XtfeHZW+H/0/g1NGTN7sZp1PXiMaFjbwfetRsYmdcVffnPO6+jPXPNOGc0MuxTU\n269nchqdyGr7Ey/o2/sOF9f74H3/pv6eDl1//qlank5qMuvprHXHa0U33/sxqmL5XXL30weP7mx/\n4oW6zO5S/ijQt/cd1ie/vLc4+HC1DZVqHi1q1mNI4clBXhmbLMYZHvturvh932pyurq0zjchSbXq\nlVf1Tlc1Ko1Jxpg4qEbet/rKngMlt/dL0u9fsr6h8Rpz9E7T8OyLhmu4IsYdnB8DjgPVy/tWd3/9\nZd399ZdLll95zslVh1OPOqqKznmg4e2WbN6LDP/jPxOPYR0YliIeHMfIdcy819Gj49Na9X/Ye/fw\nKqp7ffydmX3N3rkRdgKSKJdyMWIwRJBAiyinqBXxaACtIoIKiWjp11OV9rR8tYf2+4jUckotJtAK\nCqIg2KPFXxWLUnu4iMaopamBImjCJQkhO8ne2deZ9ftjZ1Zm9swk2WTvXNf7PD6SZGatNTNr1qz1\nWe/nfVNssJp4zByfhaVbP1bNm3/1bhUqqt3gOVAjy+Jt5bSMg6tuABw9emkM/QADLqgnp+5UVLvx\nq3eruu2sqqfDUO8JtFFsYw/+KMvLz0lDyawxyHBYwHEcJEltFJFIDQijHVRlnV3VC2zwBnHqgrfL\n1xVr++wWAWGJdMiE7Oxe9YcdYxPPofg7IzU77cz9liEWmHgOc3IzNTvSie5HhAAfVtViy5Ipqv47\nMmNUQuvtT2C6g11Db26uMDD0R8Rr/mD0/Yh1jOqKYyMDgwwTz+HpuRNwY+5wSISAb2P6x2veYjEJ\nuu9Hf5F1GAiagIMFyr5mM+s/t9agCJuZR1Akuq7lcrahRKAZjz893QCO43CmsbXPrmcZegcDLqgn\n66Ite/kTVFS7sWZvJTYvvvaSAnrR5XWH8Rdd3vr3qnD/9FEaJqFyFzPedcvoaAdVWaesF6hMNdar\nPxgWsWH/CawtysNLh051el2xtM/ltGrSnfXK6+he9Zcd4wy7BXOvyVbt2LywqAAZdqabwNB12C0R\nbZqHt5er+pE9Rm2lWGEx8bh10ghV/91472RYTExTT0aGPeJ+G/1s2DvOwMDQHcRr/pBht+h+P2It\nhzGLGGKBw8qjYNRQFdM/npq8aTaT7vuRZusfy+BErQcZ4g9lX3M5rZp19Lr5eUiyCPAFRVhMvO44\nKT/vFLugGo/n5GbiB7PHYWHZ4T69nmXoHQw4TT0g/qys6PLS7WY0B0LwBSNuuDazgKEOY6dVvfPr\nPAH6UsrQ00fozrUYnduZNkOsLDm5PJfTimfn59GPZmdld1ZeV3X95DIlSdI4B3V2vRkOS3f6CtPU\nY+hz6E1NvURq4gwEnHX78PRbxzT36Ol5E3FZmr3zAgYJQiERdZ4Add/MdFph1roDM029boJp6vUq\n+uT4G695CNMAG/CIu6ZePDQhjXDW7dNdc+0qLuw3397+kHHUT5BQTb1zTT7VGJqfk4b//N6VGJ5m\ngygRiBJB6YGTOPRVA3YVF+r2y53Lp8FuEeAPSao54xCHpcM1NsOgwODR1APin7qjLE+SCE43eFHb\n7O+UPSYfr8cSS7GZurSLeanX0hE7rbMd1FjrVO4gXfQGDcvuKmNO2b7OdP2My7TTMo2uV5KkPsXg\nY3pbDPEAz0HDll1blIdEd2mul+rtTwiJkoFukNRLLep7CIVEfFnn0TCFJmQ69QJ7DN1AdwKJLCDY\nt2A0/saqaRovbV/GLGKIBWaB02X6m4X4TCBCoqQ/vxb7z7eXyVL0bUgSQdX5FljNWvZdUJRw9ya1\n3vSJOg8EDppxct38PDy6owL1ngB2FU9Tjeu7SwoZA5rBEAMyqJdINHiD+LqhFavfPEZfLJfTivNN\nfjisAuxmk2r3xEhXZFdxoaE+Qjx2Y/TqXf9eFZ6eN5HWFe2m47AKqG8J6NbbGXtPKWxudF0dtUnJ\nrjPS9dPT6uuKbouRFoVI0Kc0X+KlZcMwuCER6Gp0yOY+iQLppXr7E3pL77A/oc4ToAE9INKPHt5e\nzhjLDAwdIF7jr5HuZ6xjFM9zGOtyYldxIUKiBLPAI9NpnNHCMLgREglWvPKpqv+ueOXTuM0f4tWv\nGRiM0OANYtm2T7BlyRTVPC+aXSePzWtunwie5zE+KxlvrJgOf1v23/kmPz1OlNTjeoM3qNuPjTT2\n+gK7sy+0YbCABfViRDAsIskiqGi1j9803lBDzoglZhE4lC4qQImCjVDapu8QD/ZYdL35OWm4f/oo\nLCw7DJfTit/dk4/WoEjZhnNyM+FKHqdqj1wvgC5p3MnptUa7s+eafIZtUh471uXU6PptOaiv1dcV\nxqPRjjEh+jvSvbXjYTPQQrMlWAuNYWBB7CUX5d6qtz8h2a7/jifb2Tsug7mAMzDEDtFgPiPFKLEj\n8BzWFuVpGH+xBj8kieBEvafPZEIw9G0kOlPFYeV19WzjpdnHwCCvu9/5+znVPM+IXTdyqAPpdjMA\noMETVI2VsgOu2xdSnVt64KRmfC5dVICn3zqGfZV1hmv33hqD+4um/UDBoBzNJImgviWAM42tqG8J\nQIrho2ExCWgNRthoAFAya4xmd3TZy5+gwRukx8vHyshOtyMoEmzYfxyr5+Zi5/JpWD03Fxv2H0e9\nAfNMLi+WdirrVbazotqNkEhoYA4AigpyaEAvul4lG65k1hjVedHt43kO47OSsfcHM3Bw1Q145aHr\nkGo3Q5JIh21SltXoC9Ed3v+++xqMcTnx9LyJusdyHKd7f+0WgT7jBm8QY11O/HFFpE1/XDED47OS\nDZ9Nb7lJ+YOSLkPFH+w/6QEMvQ+B138nEr0j3Vv19ie0+PTf8RYfe8dlmFg/YmCIGYLBXIiPMf9W\nlAheOnRKNTd96dCpmIPqRlkUsc5lGQYHjMb9eGWqeAMS9n5Wgy1LpuD9H12PLUumYO9nNfAG2LeX\nofuQJELXo+OGp6jmeTK7TonIzwSNvhAdK11OK8ruK8BzCyYhGJbw5M3jcaEloDq3otqNlw6dws7l\n0/DhkzdgV3FhJHbQEqTnnm/yw+0L9okxuC+0YTBh0DH1uhs1znBYcEVGEnWz6UzzrSOWmJ620k9v\n1dd9iJU9Fl1vhsOiYhemt/28sCAby2aOhtnAgUeuV/6b8nrldNg0u5lq5vF8JC22ptGvYSGOz2xn\n4LmcVoxxOfV3liVJtcM7JzcTP701V7dei8Ch7L4C/OYvx1FUkIMMhwUj0myobQpg2baOn7HSiVg+\nNzPZSndOehoiIZg+OgPLZo6mQsGbP/wq5p12hsENm5nHlqVTUHPRhyRL2ybEEDts5sTu4SRZ9OtN\nYkxTirBE4HJasXpuLk2/LT1wkulmKmAx8dj+0FSExYg+pEQAkwBYmYsyA4MhzAKHLUuuRU2jv338\nTbfBbIotKGIz8/jhv41D8bb2+VvZfQUxfz+Y+y1DLEj0vIXjgJnjs1SaffHW/E10miFLY+ybkOMK\n69+rwtqiPKQlmVVzvOPnmvHikmtxRjk2D7HDYTUhJIoQOA7/fdc1SHdY8E1DK/aU1+CWq4djWKoN\ndrOgYZgunTGKau5tf/A61LcENRmDZYsKMNRp6fUxmH0HehaDLqjXFQ22jsDzHEZmOJCWZMbO5dNA\nAEMNOfl4pd6cPBAb5cWbBb7D8rqK6HrlHQSZbfdNQyuKvzOSCtOunpvbYb3RGncup9Uw7bjOE9Cw\n/kq2l2NXcSHGZyXjrUdn4Jzbj+qLrZ1q3ckpul/VezX1yqnAB76sxSM3jMUjOyJ6HFuWTFFpHho9\nY1nzJXoC21vU4CSzgEWFV2iEgu1MHJ4hBogS4PYG6TuQnW7H+oWTkGpLbLA6FCb69VoH3WfGEDYT\nr5EvWDc/DzYWsKLgOaDFF8bDbfpK2el2vHDvZCSzfsTAYAwCuFtD3R73eS4SWF9z+0S6ALWY+JiD\nH0Zaxr2VCcHQtyGKiZ0/JFrzN9FphiyNse9CGVdIs1uwePpIrNlbSZ/Tq8uuw/kmv6Zvu70hSITA\nZubxf3Z+Rkksj944lupLZqfb8bt78vHMnVfDZhYwxGFB6YGTqKh2AwBOXfBi5eyxmr5d3Lbm7u0x\nmH0HehaDbiXR1ahxdIpuOCyp0jnT7BaMSE/CZamRgVWmx+o5fMmORSPSk+BKjggFyyyx6PMyndZO\ny+sqlPUOS7HRctPsZmzYfwKLCkfRgUPO09erN91uRtl9BRHGXZvGnd4gsuzlT+D2BTt0meJ5DqIE\nFG8vx4b9J7C2KA9zcjNRdl8BdpcUYsdD10FSaMPIKbryscp65VTgySMzaEAPgErzsKNnDACNvhAN\n6C0syMaWJVNgNfE41+RDONyztPxAWMLz759Qpb08//4JBHq4HQz9G0FRwua/faXqR5v/9hWCCXZ5\nC0pEv17GQqOQCDTyBU/s/gLsFrXDH5Lw26hx8Lfvn4A/xMZBBgYjxGv8bQ1KWPfOl/R7ERQjP7fG\nKANiNMdl7rcMekj0/IEANL1x5/JpKLuvAC5n/AzxEp1myNIY+y6UcYXZuVkaaS2OAx7b9bnq2T22\n63MMdVrwo9c/RzBM6PFP3DQBz79/QnXsIzsq4A2KmF96GItfPIrZuVm07g37T2Dk0CTdNS8hpNfH\nYPYd6FkMuq3vrkSNo3dE5uRmYuVsfRMJIyZeZzsnHZ13KeV1huhy6z0BiFJ78K2i2o1fvVuF1XNz\nMWFYMpIsJvrSnaj34Dd/iQxScnprSNSK2rqcVlz0BmE1uMcmIRJDlgfAmkYf3qw4o2LZZafbseOh\n6+j5crpvTaMPv3q3CusW5GlSgaNToJWOucr69XYG5LYsLMjWsORKFxVgQlYyTD3EouE4aMxA1hbl\nIUZJHIZBDt6gHyV6M7e36u1PMNrwCCU44NqfwMZBBobYEa/xN17vX6LmsgwDE4mePyRZBF2WvN0S\nH8ZQotMMWRpj34UyrnBZqk3Tj0sXRQLIyudX0+iDSCJyLDYzr2L2rS3KQ31LkLLx5HVu9L8BoN4T\ngK2DuMb4LHuvjsHsO9CzGHRMvY6ixjI771yTT7VCXMPoAAAgAElEQVQj0pGJBKDPxOsKjM671PJk\nGBmByOUOb2MXCjyvEeBcs7cSprbjeJ6ju0P7KutQvK0c80sPY0HZEZgE9bkAsHL2WFRf9GH74VPY\neO9k1T1+YVEBMtt2xZQGFbNzs1Qsu5pGH37xdiVlBsoBOrl9J9vScIH24J3yGADYX1mrqd9oZ0Bu\ny7KZoylrUW5HyfZy1HkCMd377sAoPYBJ6jHEgt7qR6z/dg5mJtI5WD9iYIgd8Xpv4vn+dXcuyzB4\nkOhxPywRXZZ8vPRsE22819eM/RjaoYwr2MyCph+XbC/HytljVedkp9txvsmPlbPHUqkR+fhVe75A\nyawx9Ng5uZkY4rBg5/Jp2LJkCjU/kte2rg4y/PrCGNwX2jBYMOiYekZRY6Dd+vm5BZNUEe/OzDD0\nEG9B066W1xXdBfke1Lb4NNbYa4vyVG5TRrtDAgeNAciooQ7UNvtR9rfTaGwNY8uSKdTwIT3JTBlv\nShMPvXu7r7IOa26fiD+umAFJklB2XwFNkd1TXo3SRQUo2V5OU4G3HDxFr8PltOKOySNoGqtsfnFZ\nql33fsltEXjOMGW4pyASLfuxptHHjDIYYgIh0O1Hie5GrP92DoHnOh1zBztESb8fiawfMTAYIl7j\nr8TGcYZeQKL7XShswJKPk7yNkSlivNIME10+w6VDGVfwBcO6/eyKjCTKpstOt+O5BZPwh//9Cj++\n5Urd4+XnKmvsKbPIyu4rwEc/uRE8zyc0w4+h/2HQBfUAUE07OUjW4A2CgNDBMjp9MyRKhtRWZbDN\nbhEQlgiIRHDBG+yy+UJnATtloG766Awsv34MWoNhmAUeLocFbn+Ynqu8DkBrEqGsi+M4vHTolMql\n56VDp/DLO/Jo3dHpyvk5aVg5eywCooSsFCveWDEdobBE6444rtmxq7wGu8pr6L3644oZqvuvHID0\n7i3P87S9ZhOPncunQSQRh6whdgs9124R8Is7rgaRCHYVF4IQgrs2HUFNo486C8v1GxmhZKVY4Qvq\nt0NOGe4JCAozE2UbeJZ3xhADrGZ9Kr41wYYrrP92DokAH1bVqjY8dn/yDUYNHd3bTeszkNmM0f1I\nYP2IgcEQ8Rp/eTaOM/QCEt3vEi3Yn+jASk8FbpjD7qVBZqOddevHC5p9Iayem4vMZCucVhOCooSf\nzb0KhBDd4zNTbNi5fBpcyVYsfvGoak1fvK0cb6yYrjF+7IrZpx7YMx84GHTpt0B7kOyOjQcxY+0H\nuGPjQbQG2hlpStOI/Jw0JNtMWDdfayKRbjfTch7dUYGq8y24c+MhfFbTRAN6QMeCpnptqaptoSmz\nQLtA6vTRGVhUeAWWbDmK69cdwNNvHcOXdR7D65Ahswqj63r6rWNYOXsc1uytxF2bjmDN3ko89t3x\nqp0fJa04PycNT948HqvfPIaZzx7AvOcPosETxPBUO1zJVgx1WHFFRpLuvYreTYpOBTZKh66qbcG8\n5yPtvWfzETR4gioq7xCHFZnJNmSl2nFZmp1er971G937ec8fxG/+ckKTsluqSBnuCfA8NGYla4vy\nwA/Kt5ThUpFsFvDCogJN+ntygoN6ZhOneYc23jsZZhObHMiwmTnMvSYbS7d+jBuf+yuWbv0Yc6/J\nhs3M7pGMFDuv239T7GwgZGAwQrzmD06b/vvntLH3jyFxSPT8N9WqPy9KtcZvXpToNMNEl9+V9SiD\nMSSJwG7mUBrVz9bNz4PDKmBPeTXu2HgIS7d+DFEieOXwKbhbg5rjN947Gc/vP4G7Nh1BfUtAd03b\nGhDj8lzYMx9YGJRMPT0XoVMXvDRaLptGrLl9IsZmOXH3piNwOa2U0dYaFJGVYsVFX3s5q+fm4ond\nkfTPMS6HPo1cknDRG4AvKEIkBLa2RXZHzDqgPQV22czRlIILRLT+Ho7S+lNeB9DOrBMJwflmv6ou\nmckmM9z0IvTy7tBbj86ALyhSFpxeW3mew8gMB9KSzNi5fBp4ngMhACGRXQC96H9H6dDR7dW7N9GI\nZTdO2Q9kVuHWpVNhFjiYBR6ZTmuPmWQAgCTps3hGZozqsTYw9H80+IL4bZv7lszA/e3+43jqtqsw\nwpa4IT8UJjTtXa73+fdP4KnbrkpYnf0NvqBk+Gzg6O3W9Q00+yQ0enzYuXwawhKBiedwsq4ZQ5LM\nSLb1dusYGPomJAm6mRexjr8ev/EYlWrv/Hx1mxgDhKFrSPT8t97bwbzIMiiXwhoYOex2tOZiaEeD\nNwh/SILTKmDN7RORZBHg9oXw7DtVcCVbsHruVfjxLVfSvr14+ih8c7EVB748G8lGkwg4joM3EMLs\n3CycqPPQ7LfoNS1BZE0/LMXWrTGVPfOBhUE5kunpxG3YfwJliwpQ3BYkq/cEMCzVBg6RTi5TXmV8\n9JMb4Qu1azSk2c1wOa14/KbxqL7o07yEc3Iz0RIIo/5CQOW+tP3B6zpllsmBqmjdNz09OuV1uJxW\nldvT7pJCXf26p24jGJGe1OE9q20OwBvQ1wpQtpXnOQxxWCHZO9f2U56jHDzknYOu1BeNWHQnovuB\nnDJ8cNUNlPXXk0iy8JTFI7f9hUUFSLKwHXKGriMsEeyrrKNBexk/vTW3V+r9WYLr7U8wcpZk69x2\n2Mw80p12uoEkj4M2MxsHGRiMwPMGY0uMr40Yp3G8K/rODAwyzAKHWyeNUM1/48n0Z/OTzsEcdruH\nYFiE3cyjJSBh6daP6e/zc9Jw//RR+P7mI6qxmRCC72/+CADwwLdHo9kfVo2XctabUlde/v1/7Pwc\n9Z5At8dU9swHFgblLFnPRajeE8DwNBv+uGIGDq66AX9cMQPjs5INHYdEAsqKAyJOrCtnj8WqPV9g\nw/4TGhr5z27NRfVFn8Z9SVmGsnyZWSZJBAIPlC0qgESgOjba9TX6Op6/J19VX4M3eEnuSXIkP5bz\njaL/einI8nVe9EYce882+WKuT4msFCt2Lp+GD5+8AW+smI7xWckAoHEE5jh9J0qul7RjWoOShnn5\n8PZytAZ7zqyDof/DZOCwmmgzBqN6mbNrO4wc/limQzv8oXam0M7l07B6bi5+u/84/CE2DjIwGEGS\ngBPnm7Bj2TQceGIWdiybhhPnmyDF+NrEy6E71jkgw+BGSCRYEeUCuuKVTxEKx+fjyOYnnWMgOOxK\nEtGs9XoKFpMAUSIQJWB3SSHK7itAfk4aSmaN0Z/3gUN+Thq2LJkCf1jC+SY/XG2STzWNkXiB1Sxg\neKoNa26fiL/8x0ysuX0inn2nChXV7riMqd155r15rxn00a2gHsdxWRzH/YHjuD+3/ZzLcdyD8Wla\n4qDUiQPaddzS7BaNXoHRsYQQVfCu9MBJXJ6RpErflRclO5dPg8BzSLIIhsy6zjTlfvY/xxAIiSpN\niD3l1RqNCOV1AGp9OaVWYHRdHUGO5MdyfizRf0kiON3gRdX5Fty16QjOtDEjY22vkQafkWaAwOlr\neAi99I03dH1kAyVDDLCZ9TWREs106q16+xOYs2Tn4NvYjEqt1/unj2LaogwMHcBm5lEwaiju2XwE\ns9YdwD2bj6Bg1NCYx994aZsxBghDLEi06znT/O0cRuvd/uKw29v6cOl2M+o9QSzZchTzSw9jzd5K\nPH7TeAxLsen2bW8gTHXqr193AKvfPIbHbxqP/Jw0ekwoLCHNbsGwVBvcrSEs3foxKqrdqnK6M6Ze\n6jPv7XvNoI/upt9uBbAFwE/bfj4OYCeAP3Sz3LgjWttjrMvZJRchPc23dLsZdZ4A6j0BGrxLs5vB\nc5EXwuW0omTWmLbfceA5DhIhurnxSmadJEkQFRp0SifbmkYfbv3t/6L4OyOxp6QQIYlAlAicVgFv\nrJgOIhHVuRkOi66+nEXg8dryaZDanGSHOjoXW5XLUQYrMxwWXJZmN8znN3LNFUkksq+83w3eIL5u\naMXqN4+hptGnYiA6rQJeXRbRGjALHLKSjfUDjHaGdxUXan6//r0qPHXbVVSD5rJUG2xmAa1BESKJ\n9JeeThExdH1kO4kMMcAfkrD3sxqNNs3i6YnVZlQyrDR6cQwAIg5/c3IzUVSQQ+/RnvJq5iypgETi\now3GwDCYEK9xP17afIl2G2UYWBB4/W9jvFzPmeZv5+gph91Eobf14Rp9IZS0SV+tm5+HYSk2iASw\nm3nMyc1UpX5np9uRYjNp2rtqzxd45s6rsegPR+l4KT+X883+uI+pl/rMO1pvG2n0MyQe3Q3qDSWE\n7OI47icAQAgJcxzX57bhuqvtodR8k8ta/14V1hblYdWeL1C8rRzZ6Xa8/MBUvPzAVNQ2+6lpxpM3\nj8eCssNwOa14el4u1s3PU2nqycw6AJo26untHT3txrxrglT7T643EJY01zfW5aT6cnJbHtv1meqY\noY7OBzqlTl1FtRtr9lZi8+JrOxToVJ4Tre0Xff+DYVHFYiw9cBLP35MPDkBrUMQjO4506bkZ7QyH\nREn1e1nf4Od/+gfunz4KLx06hfunj8LDbdT/3tJ+MQuRncQVinawnUSGWCHwHGaOz1Jp06wtykt4\ncJgQ6GrW/N+5bNIsw27h8YPZ42iavcxmtDPdTAqZqdddbTAGhsEEQ02yGFMP4qXNF4u+MQODzeDb\naIvTtzFeWpEDHdEa5/0Jvc0ODoZFuJxWPDUvF76giPtePKrqy0Bkjiz/bBY43fYOT7NjTm4mHvvu\neDpe8jyHYSm2hIypl/LMje71WbcP80sPMw3VXkJ3g3pejuMyABAA4DhuGoCmbrcqzohn9F5ZVn1L\nUMNau+ANYPGLkcmQ7IgrM+2efqsS//m9K/FaWzqu7Azr9kUcczpy5AUiwah1CyZhyZajquOULLfo\n61NG4Dtyru0IlxLJjz5HWbfLacX5Jj8cVgF2swlmE69iMVZUu+HxhxESieF1RRtryJoCersYZoFX\n/V6pb1DfEsRzCydh8YtH49I/uoOQSPD252d6nGHFMLAgSkRXv2Pn8mkJrZfj9N8/RkJrh89AN3Pn\n8mnM/bYNjKnHwBA7jDTJYh3348XU43kOY11O7CouREiUYBZ4ZDo7zwxhGJzwJ/jb2BOZMMztuXMk\n8h71NjvYYhKwcvZYNHpDmrXrw9vLsWXJFDz47dGqLBa99n7T0IqnbrsKw1Ptqntzqay6RNxzo3st\nr8V7ax092NHdLZD/APAWgDEcxx0E8DKAH3TlRI7jBI7jKjiO29v28yiO4z7iOO5fHMft5Dgubtt5\n8Yzey5H4svsK8ONbJgAAfvn2P0FIJF0zFFY74irrrah2Y0HZYZh5Du7WEBaWHcajOypQdb4FZ92+\nDvX28nPS8OTN4+FuDWqO09Pqk69PGYHv6R0Mvbrzc9Lw+E0RDYGZzx7AHRsPwuMP44qMJOr0AwA2\ns9DhdclQ5vU/uqNCVYa8U5DptKo0AzIcFlW5BD1/b/TA86AMqxuf+yuWbv0YM8dnMYYKQ0wI95I2\nI2egUcmCeu0wejZhpkNCITOFmKYeA0PXEa+xRXbojn7/Yh3HJYngRL0HC8sO4/p1B7Cw7DBO1HuY\n5hKDLhKtKW236Gv+xoslzzTGOkei71FvawJmOCwYOTQJaUlm3b7sCYRx16YjKN5Wjn2VdbjgCerO\nmTfsPwHRQAJKXlcrtf87QqLuud69XluUh9IDJ1XXzDRUexbdYuoRQj7lOO56AOMBcACqCCGhLp7+\nQwD/BJDS9vNaAOsJIa9xHFcK4EEAL3SnfTLMJl6jddcaFGG3xB69t1sEmkrqclqxcvZY/GrhJPAc\nh3BYoo6qctqnXiRbJKBpqc/Oz8PSrR9j9dxcXb29Eek27CouhEQI7t50RHWc7KqTmWLtdHeiOzsY\nHaUvA+hwB0DpMlvT6NO4ALmcVnzd0IqrRiTDYXFE9P4kApPAo+p8S6dtVjInaxp9ePadKqy5fSLG\nZDphN7e3R7m7Ed2ebxpa+4T2iyTpO2MmmmHFMLBg6oEdaT0QxrDqFEbPJtHOxP0JbBxkYIgd8Rpb\nCAE+rKrVZAyMzIgtY6C39a0Y+hcSzaTzhwhO1zfjteURjW6B51DxdQMyHEPjUv4Fb0C3v7+xYjoy\nk21xqaMnkEgmXaLHhN7UBJTvm1XgkWwz6/Zlp9Wk+jnJIoDngC1LpqA1GJGhenL3F6j3BGAS4hNs\nNrrnbz06A6KES75Peuvqp986pjLxYBqqPY/uut/eCWAeIkG9cQBu4zhuNsdxmZ2clw3gVgC/b/uZ\nA3AjgN1th7wE4N+70zYZkkTg8Yfxu3vy8eTN4+nu4+o3j6G2OXYL5rBEaEBPZpzNfu6veOqtY/iy\ntgVPv3UMa4vyMCc3E06bSZc5Rgih5zf5Qqhp1Hd6ffmBqTjXFMDCssPUEXZ/ZS023jsZc3Iz8fhN\nkev5j52f69aj3J3ozg6G0aDg9gU73AGQg4HyPclOt6vYizJr79WjX+NErRdFpYfx7bUf4J7ffwR/\nSNSw9/TaHM3CrKh2Y+nWjyFwUO1iKHc3ZF0CuT1KF2O5nrJFBT2u/cLcbxnigVS7/o50qj2xVCeH\nNaKJo2R4/GD2ODisjGIlw2nTfzZOG7tHMtg4yMAQO+Ll7plht2DuNdmqjIG512Qjwx7bfKi39a0Y\n+hd4A6Z/vOIxZoHDFUOTcfemI7h+3QHcvekIrhiaDEuMmpNG8If0+7s/JMWl/J5Aopl0PTEmxMpk\niweU9w0cYDVxun05KEr05433Tsa6d7/Ebc8fxNKtH8MTCMMfElHvCaB0UQEynfHZ+NC75y6nFefc\n/m4/5+h19WPfHd9vnZMHCrqrqfcggEIAH7T9PAtAOYBRHMf9FyFkm8F5/w3gSQDJbT9nAHATQsJt\nP9cAGNGdhil3Gxa/eBTP3Hk1fvzG37u9QyCn166em6tiExQV5KCkTQ+iviVIGXgup5UyV1qDIrJS\nrBAlYOXssVi15wvKvNNzljUJHBZvPISaxnZH2Nm5WXj+/RN44qYJVBBZj6GWbjdrdlsudQdDHhRk\nZqDMwvEHRVWwb/roDJgFHtWNrTALPEw8h/XvVaGoIAcpNhO2LJmi0reTWXvR97Km0YfFLx7FW4/O\nwBCHGTuXT0NYIrqaLEYMRLtFQH1LABwiLsGyW7DdLGBIkgVZKVbsXD4NBNBxMeYwxGHBuSZfj+70\nGLp/MRYPQwxo8kkoP3UBO5ZNAyERpuz7lecwJGk4nAncMPYGJN2d8CFJGUhLSly9/Qkev/E9SrX3\nduv6Btg4yMAQO0JhAjNP6HzJxHNo9gUQCse2UGvwBQ1dzEfYur5k6G19K4b+hURrqQbDUkLdbwXO\ngGnYjz5biWbSWUyC7re9v48JDd4g1r8XWUOGRAKJEN2+/F+3T8TBVTdAlAgueoOob2nXn5OzEV5b\nPg12C6/JeHP7gvAFRYiEwGYWMNRh1Ryjx7DkdPrlytljqdmmXH93n3N/d04eKOhuUM8E4EpCSC0A\ncByXhYiu3nUAPgSgCepxHDcXQB0hpJzjuFmxVshx3HIAywHg8ssv1z1GmS763IJJqGn0wSzwcdkh\nkCcq0Xp5yp8rqt246A3SgFvxtnJ63MFVN2B4qh2jhjpUDL1Ve77QOMuea2rX2ZOPs5p47Kusw4Pf\nHq3LUDu46gZkOCyG6bKX8sLKA3G0I5rSnXdhQTYWFV5BTTyy0+14bfl1mnOevycfZfcVoHhbOb1n\n0fcSaHOtDUu42Brq0LVYz2Et4kAcwP98Wo2ia3PQ4AlSw5I5uZlYOXscDcDOyc1E6aIClGwvR/G2\ncvr3BWWHDevsDjrqv6l2ffevRDOsGAYWOA4YOywV92xud42Ol7ZdR/3XbGrfCZfrZe7NatjMPEa6\nUlT36IVFBbCZ2TsuI8nABTEpDozPrswfGBj6Kjrqvyl2HhdbeWpKJr83KTHOH5j7LUMi0NnYm2Iw\n/421/xoh0a7qdouAdfPz6FojO92OdfPzLknmqbeQaCZdqlXQX+NY+/496qj/SpKk6lvF3xmpuc7f\n3ZOPrxta8aPXP6e/e27BJDzz5y9RUe1GTaMPFzxB3P67gxqJq9MNXtQ2+1V9S7ku7UgiS2hjwCr7\n/eUZSQl5zv3ZOXmgoLvDWY4c0GtDXdvvLgIw0tabAWAex3GnAbyGSNrtbwCkcRwnBxmzAZzRO5kQ\nsokQci0h5FqXy6VbgVLbQNa1k5luMvJz0rBlyRSIhKC+RZuGK0mR359pbFX9XZ6oyG6tMqLLV/6c\nn5OGsvsKsLukEFzbyjrJKmgYertLCrGruJC+qHIAEYgE7d6sOIOsFJvu9QDtu6BGuy2yK030dV70\nRq7zm4te1LX4Nfciw2HBz27VsunCEqFtWDZztMZ5zR/SunA+uqMCLqcVf1wxA9np9g6vRak9WHZf\nAZ5bMAnnm/xw+9qvQ7k7cHDVDfjjihlw2kxY9vInmH/t5TjT2D4Q5uek4YmbJtCAHhCxF9+w/zh2\nFRfi4Kob8PS8iaq/d3TvLgUd9d8mn777V5Ov/9D3GXofhOhrkpE4ZFB01H9DYX33xViZIgMZ/pD+\nO96fUnQSjVYDF8TWQPfvUVfmDwwMfRUd9d9mg/lDc4zzByNNSynG109vbhavzVGG/ofOxt5mn4S9\nn9Vgy5IpeP9H12PLkinY+1lNzP3XCJLBvCjWfm2ENLsFWSk2rLl9InYun4Y1t09EVooNaTGmrfcm\nlGtOGfFk19Z7g7pjVH2c1leJREf9V1SwTHcun4b5116OvZ/VYPXcXPzlP2Zize0T0eIP04AeELn2\nH73+OUpmjQEQuc/nm/30b8te/gQXvAGcb/bj64ZWuo5V/v18s58y9IzW/DzPq9q2em4u6lsCCXnO\nRnEThp5Dd4N6BziO28tx3P0cx90P4M223zkAuPVOIIT8hBCSTQgZCeBuAO8TQu5FJIV3ftthclkx\nQ5IIWgPt6aKyrt2e8mqa4y47ySodWJX55OGwhH+eb9bkm4fDEhq8QQxJMuOqy1KoMy0A7CmvRqnO\nz0rtu/mlh7Gw7DBON3gh8FCdbxF4DHVaYVJwtZU6ePk5abhj8gis2fsPrC3Kw6enGzT6KaWLCpBu\nN3d5t0WSCE43eFF1vgV3bTqCmc8ewJ0bD9F7Ib+g55p84DitQ6wvGKb3VOA5lVZe2X0FEHh9V9mQ\nKMGVbMXw1MhugvLZyNcSrT2o1EI851YHHqM1FOQUaYHnqIOurN8naxgqsa+yDoQQjEhPAiH6ek49\noQPTW66lDAMLokEfluIR1euoXtZ/OwVzv+0c7B4xMMSOeM0f2DyEoTfAccDM8VkqLceZ47PikmEA\nJL5f8zyHkRkOTByRiux0OyaOSMXIDEe/CmIn2j12oH7bhSjHcLnvlh44iQZPEEu3fmyYLZhmNxs6\nx7YGRNS3BOg6Nvrcs24fqmpbOlzzZzgseOy741Va1yPSbKp4hTJ+cKlg7s99A91Nv30EwJ0Avt32\n8ycAsgghXgA3xFjWKgCvcRz3CwAVAP5wKQ1q8AZx6oIX2el2lMwaQ5lhJbPGIMVmwtalU2Ez8zT9\nCVDnk2c4LDjbFEmZVf59/XtV+OG/jUPxtnLqejsuy4ldxYUghMBiiujYKfPJ0+1mPD1vIha2pXIC\nEYHK2mY/Fr8YMdtYv/Aa2C0CZYdF02qVOepyWoWs2bfu3S9VOfsb9h/HL+/I67KWSYM3iK8bWrH6\nzWOae/HWozNQ29zOeNyyZIqmzAueIF49+jVWz82lWnlyEE6pF2jUDvn6fnlHHiRJUt3LDIcFDd4g\n1R5Utq94e3mHuf/y9YsSoYxKpX5fR23qTR2Y3nItZRhYMNJ24eM1Ozaql/XfTsHcbzsHu0cMDLEj\nXvOHeJXTUUpYfwp0MPQMjDIM4uV6zubXnSPRumgD9dsuGvTd1XNzaSaa/P/oax+Rbsdry6fhv/70\nD41z7PlmPzIcFlz0BnXPbfAG8X92foZdxYWG61a9Z0pAsGFvpW784FLTZ5nbed9At5h6hBAC4CsA\nYQB3IBLI+2cM5x8ghMxt+/dXhJCphJBvEUIWEEICl9KmYFikbqYZDgtqGn2oqHajeFs5bnv+IP7t\n1381ZJQEwyIavEHUtQQ0fy8qyKEBPdn1dsbaD7Cw7DCa/WGk281oDoQQDEeELAkIeJ7TML9KZo2h\nNNqKajcCYVGV7ulyWnG+yY8ad4S+CkR2T6SocjguwjAr3laOuzYdQfG2cuyrrAMHAkKIJgofvdsi\nSQS+UNhwB8DXZoLhclrx6rLrMDbTQcuUU5fHZTnx5M0TYBF4SETCC4sKsOqWCVi1JxKwHJZi7bQd\nPM+1fTR4CBzAcRx9Dul2M9UeVMLltCIYFinFNxyWVJTfdLsZmxdfi92ffIMR6Tasm9/eF/RchpVt\nSvROVUfgeQP3Lya3xRADeB54bsEkVT96bsGkhPejRLvXDQTYLfrut3YLe8llOKz694i5KDMwGCNe\n8webmddlccSq+xmLDAwDQ/QaB4hvhkG8+rURJInggtePQFhEWCIIhEVc8GrljPo6EukeazXxug7d\nVlP//rYbZXhlOCwoPXBSky0ItPc/ixDJcltxw7c098Vu5mE38xjtStLct+cWTELpgZORrDQOqnXr\nnNxMvPLQdfAFwzjr9kEU1TnmobCkGz/oTkYaczuPD7qbwnxJTD2O48YB+H7bfxcA7ATAEUJiZefF\nHRaTQN1Mn52fpxu9VjqwKn9vMQk0oBT9dzkopOfUuv69Kjx58wTUtwQ0QpYZTouqLKUpRH5OGoan\n2VU/yyw3uYyXH5iqaqMcVKy+6NO0sfg7I3GuOYCHt0eCj2tun4iRQx1wWAQMVbjGyjuo55v8tNzo\neyG2pb4+NS8XvqCIuzd/pGEWupxW/Of3JuDVo1/j/umjcOJ8E66fkEXPaw2K2HLwX9TRNzPZistS\n7RrHnqraFqx/r0ojYisH05Ttk1OnZdZitPGFfN5YlxMPzfwWOBCk2sxU/0/PZXhYio22qVcdfAin\n65j083kTE183w4CBiedhM/NYc/tEJFkEtD9dSLAAACAASURBVAZF2Mw8TAmPDrP+2xm8AREH/lmr\nciZ+89Ma/PvkERji6O3W9Q0QAqTaI6x6notoIVlMXFw0IRkYBiqIpO8e+nSM7p48D1ijvh9WMx9z\ncJAt8hhiQaKZ/hIBrCZO3a9NHOIVc/MEg6htDmpMIGxmHik2xlQCAAIOb39+BluWTIHAcxAlgt2f\nfIOHZn6rt5vWLZhN+jGFzBQbnls4CXaLgMfnjIfTZsJry6dF5K0IQVgimPr/3qdBunXz88BzHNy+\nEOxmHv6QhP/aW4kHvz0af/jfr+i6NcNhwQsHTqKi2h3JwuF5um6VJAn1niDu/f1Hqn6497MalP3t\nNLLT7djx0HVxz0hjbufdRzzY7ZeafvslgL8BmEsI+RcAcBz32CWWFVdkOCx4ddl1CIQJrCaOOpsq\nb1Cm02roytXgDdKIujLA5Eq2Ijtd63oLRFh81Rd9mjTW9e9V4Rf/fjXKFhXgN/uPo6ggB5kpVtrx\nfzRnHBWsdDmteHZ+HpZu/VhVxtcNrQCAV49+jbVFeQiGJcqEW1uUh5cOnUJRQQ4yHBYMT7XRYFdN\now9Lt36M7HQ7dhUXqjqEvIMqB9+Ujk1zcjPxs1tzIXAcVs4ei0ZviF5XTaMPF1uDWLOrkgY4H9v1\nOQ10rp6bi9MXWjXn1bcEqRioSeBVQTS5LUbBUvn+yfbbK2ePVQmGFhXk6BpbKCm/sh24XI7sMvzy\nA1NhEjica/Kpgne95eDDc8APZ49FXZvNuUXg8cPZYxnTiSEmhMISHtlRofm47opTGosReA5YOmOU\nxv2N9d928ByHv59twrjhKXTh/fezTbizILu3m9Zn0BqU8Iu9lSgqyKH3aE95NZ667Sqks8AnA4Mu\nLCYeT948AdUXI+O+RYj8bImRBdMakLB0y8ea78fO5dOQnhRLe9gij6HrMHEcyhZNRl1LkAbdMpMt\nMMVJNiQYlrB06ye6/ToeaPGJuiYQO5dPQ4otLlX0e2Q4LPj3yTl0nduTmVCJhInnNOvo//xeLkRJ\ngigRbP3frzBrQhbOuP0Y7XIgJBIEQiJq3GrTjG0PTMXxOg/2lFfjyZuvxMOvRNbGssHGvso6AJF+\nu/3B63DL1cNxRUYSXbu6kq046/Zp1sQPby/HliVTUPa306hp9OEXb1ei7L4CKjMWj+fA3M67jwZv\nEOvfq1JtzK1/ryqmtOhLDerdiYjJxQccx72DiIttn1i6SRJBky9MmWRPz8uN2pnhO2RjyaKS8o2V\nGWbDU2zYvPhanG/y67L4olN683PScP/0UbjzhUOYPjoDj944Fite+RQupxXr5udhy8FTuCIjCQ3e\nIH53Tz5ag6KuiUNSmx36vso61LcEsW5BHg2wvVlxBo/cMBaP7IiUu/7ua3R3RsNR1Ft5B7Wm0Yef\nv1WJJ28ej20PRLQGL7aGcM/vI6y8Xy2chAtRqcjKoKb8b+X/95TX4OEbxsDdGrkWPfahMvIstyU6\nWKq8fzLrcNRQB/go8w29IKtyN1gZ+VaWk5ok4Kw7gMUvHu0zei8cF9nJkoOhMj07wVJoDAMMhmLE\nCaY6+cMSnn1H/UF69p0q/Pfd1yS03v4Es8DRb4H8jm+8dzLMAnvJZXAc8OC3R9OJLE0fZ7eIgcEQ\nAh9x146ePwgxBsLjJWbPFnkMMcFg/tttO8c2JNqkYaCaQMQTvZoJlUD4giKefacKz9x5NcZlOVHf\nEsSiPyiYcvdORordhHt/377efGFRAY6fa6Zl1DT6UNcSwJq9lXROqLc2lo+tbfZj9ZvHsHnxtaq/\nhURJ93gl43VfZR3W3D4xrs9hoD7bnoQkSZqMxbVFEc+BruKShktCyP8QQu4GMAER19r/AyCT47gX\nOI6bcyllxgt1ngCNUpfMGoPfffAvBNuCWkFRwjN//mebzbOxbsDwVCueuu0qTBiWjMvS7Lgs1Q6z\nWcD4rGRMyklVudZmp9uRmWylhgxAJCD17Px2pt/s3Cy6iKuoduPZd6rw5M1XIhAmeHRHBVr8YTyx\n+wua9qtEa1CkZVdUu3Gy3kuPmZ2bhUd2fEqvNSwS1fn5OWl4vY2l981FL+paIvoOMlVYRrM/jNaQ\nCImARu4rqt045/aprgsAFftU/lv+f0iUcMvVw1HbHECyLeLoUzJrjMZOe/17VVRXRd7NVZYLgBpb\nyG3ZsP8ETl3wUhMAGSFR0twzeTdYkgjON/vppLKi2o2lWz/G//v/KtHsEzVmKL2t9xIWiWaHpWR7\nOcIimxQwdB1yGosS2el2CAmODpt4DvWegEqno94T6PciyPFESCT0WwBE3vEVr3yKEHvH20FAA3pA\n+y42S79lYDCGLyjpzh98wa4vCIB2MXslLkXMXrnIO7jqBvxxxQxmksFgCMP5bzg+A3+8+nVvlT9Q\nkEjNvt6CLPsl8Bx8IYlmlgFtTLlXPgUhnIY9d/PVw2kZ8jpYnhOKbZJR0Wvj6GOj162yvFj08UqX\n54jEFuL+HAbis+1JhCWia7gSy8ZAd40yvISQHYSQ2wBkI+Jau6o7ZXYXyij1Zak2lc30mr2VuH/6\nKMOopyQRnG7w4p/nWnDXpiO4ft0BLCw7jBP1HkhSxPhiiMOKK4enqCYql6XacUVGEtbNz8Oc3Ew8\nftN4FesuOtJeUe1GgyeAFn/kGNnqWs/E4YqMJFp2drqdim5GpwKn2c3Y9NeTVEwzPycNT8/LRViS\ncPemI5j57AHcufEQTjd44fGHVW3dU14Nd2sI55r8qnY+t+84hqdZVQKde8qrqYi5UgD0+XvykWwz\n4fKMJKz985ewmjh6LR09A3k3N1pEVNYwBNq1Ble/eQwXvUF6XH5OGpJtJno/5Hu2efG1SLebUVXb\ngrNun266dL2OGUpv672EDHb6QmynjyEGcAaGFYlmfJoFTlcEmbHQ2mEkBk5YxIqCMR4YGGJHvOYP\nKXZ9o5oUe+zLBbbIY+gqEj3/TbQBk8th0S3fxZipAx7yOnZ4qt1wbclxwEKFzIqSPSfP0UsPnKR/\n8wbCKFtUoGuwEX2sct2a6dQaVL6wqAC7P/lGdT6blvc9GJm4ijGMgZeafqsBIaQRwKa2/3oNShMM\nm1nAw1GsiFV7vsCu4kLNeTKr6+uGVrx69GtNTvMzRXkQJRjSSkdmOJCWZMZTt12FuzYdweq5ubQd\ncqTd5bSiZNYYpNnNyHBaUX2xVROJ5zlg2wNTIZFI6m1WmxhDWpIZO5dPg0giH6c3VkxHKCyp6jj0\nVQMAYMuSKbCZBfyrzqPR+fu6oRWr3zym0vBTauJFpxZbTQJ+ve+fqvux97MavPHwdIRECTwPPD1v\nIkAIFm46gmfuvBr1ngC+bmjFy4dP42dzr9Iw4pTPQN7N/eUdEYrpruJCKiAvt0XJ2jvb5Mee8mqs\nnpuLCcOS8cu3K7F0xihse2AqREJwwRNEVooVjb4Q1erTS5fWM0OZk5sJs8DjTGMrREJgMwsY6ui5\niajAcyj+zkjMv/ZylYhsvISCGQYHCAFOnG/CjmXTIBECnuPwfuU5jMyIQRDpEhASCdxeP3Yun4aw\nRGDiOZysa2bpVgrwnL4YOMdy7Cl4nsOc3EyNph4LCDAwGCNe84dmn4TyUxc0348hScOR3EvaYJJE\n0OANsrSuAYxEz3+9AQm/3X9ctZb57f7jeOq2q5AWh6mRxWLC2AyHav6TYbfAYonbMpuhj0Jex1Y3\ntiIkSni9uBBDnRaIhOB8kx8vHz6NkEiwbOZo7CqvASBnlPHYXVKItCQLNv31JI0PtAZF+EMSxmQ6\n8Ms78hCWJGxdOhVWE4dAmKDFH0LJrDEoPXAS9Z6ASqfUZOIxISsZu4oLERYlCDyH9/5xDpNHZmDn\nlcOogdIv78jrpbvFYASTgYmrSej6xsOAG23kKHXJ9nJ4AuEusSJk3TVvIIyhTosqp7n4OyPx89sn\n4qzbrzHcUKYSyCy+M8FWFetu1Z4vUHrgJNXNUwppPnnzBKqv9/w9+fAp/i7XkdVmKjHEYQWitFEk\niVDNEpk198TuL7CrvKZtoNDm4idZBKqnd9EbRE2jD5nJVk2bXU4rnrx5PBo8QeyrrKMCnUCEOTfv\nmgClGMuinTWNPjy37zg18Lh/+ig0ttXR0TPQM6ZQXpvcPgAoPXASj980nqb03j9dLcy/tigPobBE\n2R77K2ux8d7JKg0rV7IVmz48qTJDmZObiSdunoCT9R7NM+iplJEkC4+512SrRGRfWFSAJEv/tntn\n6Fk4rTwKRg3FPZuPqPqRM0470kZIsfNId9qpWU93GB4DFTKLMlozg8X02mE18bq6g9YYBf8ZGAYT\n4jV/4Dlg7LBU1fdjbVFezO638UI8HAEZ+j4cBv3XEaf5rygRzVoGAH52a25cyg+HJfyrwataJ5Yu\nKsCErGSY2LdrwIPnOdhNPFJsJjT7w7hPoddeuqgAf/7iLG6ddBmAdvYczxHMLz2Mg6tuwB2TR6jW\nnqWLCpBiNcNk4iNZhEEv6loC+OFrn9Fj1s2PGCik282qtphMPC5LixCFJIngujEupm3aD6CMXyn7\nQaaz68adAy6op4xSS4R06r4VDkuobfFTVtcYl5Oy+xYWZOPWSSPw5bkWDeMt2mEViLw8nELzjeeA\n15ZdBwIOPAe62AVAPyy/+Per8dRtVwFQ/92oDiWihSkdVkEVnfeF2pl8+TlpKJk1RuW+KzMEnVYT\n1ez71bsRoftxWU7c94ejWD03V8OayEq2qjQDXE4rwhKhx6XYTHjipgmQCKFly8cuLMjG8uvHICwR\nnHX74HJY0BIMwxcUNew45bXJZchtXLdgEgLh9vxz+fqsJh5hhW7g7NwsPP/+CdXu3Af/PI8fzh6H\n37Tt2mU4LBiWasOJ2nZmo1yeNxDG+Wa/yrE3UfAFjXcSowO6DAxG8HSwI52aQLJes08ydH/rLYZH\nXwMhoBsS8rN56dAp+g1giLg3R4/Zz79/Ak+ze8TAYIh4zR8kAl1dn0txCY0Hw67BG6QLUrk9nc2N\nGfofWjvov/FwPRcMGODxYgIq9dyBdk3AXcWFNMDCMLAhEqCuJajJ9tuw/zi+P/UKWAQef31iFgSe\ng8cfAsfxNFPjid0RMo18Xn1LAMNTrRAJ4A9FTD7lgB4Q6V9P7P4Cv1owCal2S5fjBIzp3HcRzbI0\nCTwyndaYNgUGXFAPaI9SK9leehHqcFjCl7Ut8IdEylT79V2T6EuzbOZoLN36MZ5bMEkVGAS0eezy\nbuL696oo627LwVOU9adXxr7KOjx1m4QR6Uk409h6SRpvMsstejdzTm4m/u9tuSrWnMzAkxl9Mrsv\nKEqUPVJR7caavZV46YGplOmmZE3Myc3ET753pUbv7vWPv9awK+QIs/wMpo/OwKLCK7Bky1EVO+5C\nS8CQHedKtqK2yadit9R7AuA4oNln7LD78gNTsXnxtfAGwqrdOfnY3+w/jqKCHOpuDLSzGDtz7E0U\nOA66zjeMxcMQC3qrHzEttM6RbOPxg9njaPBT3rFNtrGdfBkcb9B/2S1iYDBEvMZ9Q12fGHU/48Ww\nC4bFPqd/zBB/JHreYkkwA9zIdTQsxmZUw9B/IRGiyfaT+/EVGUkQCcEv367Evso6ZKfbUbaoAFuX\nTgEhBC6nVbPuLF1UgA37j2NfZR12lxTqa/UBXY4TMPR9KFmWl3R+HNvSJ5GVYqVadDYzr9JIk3dW\nZN21imo3zrS9TLKIpZLR1hHjT7mbuLhwJH78xt/xzJ1X0xe0szJkF9jov9stAupbApAkCSIBCCG6\nkXZl/fk5aSgqyIEoRVghT9w0gVLaXW00zm0PToXAcXDYBARCBL/5i3qHrL4lQJluSrfGooIcnL7Q\nqtG7Wz03V+PqWLK9nDqeybsEP//TP2g9QxwW1Fz0YfWbxzB9dAaWzRwNgedgEjjUtjn1WkwCOJ7T\nsFtafCG4W0PUYTd6Z3nxi0fx9soZ8PpNKj3DcZlOSouWA33Z6Xa8XlxInX71yuuJnWESxx1yhsGL\n3upHsvubRg+C7QhStPglNHp8Gt3BIUlmpLDNfACAJLFxkIEhVsRr3DdkNMUYXYkXw85obqycfzP0\nfyR63hISCd7+/Ay2LJmi0uy7f8bouJRvjoMeFkP/hsUkwG4x6Wr571w+DV/VefHTW3Px01tzUd8S\ngC8kIi3JjCQrj3ULJsHdGsTqubkoPXASFdVuGp/YV1mnqwOfnW5Ha1CkY+GlMqOZZunAwYAN6hnt\nEg51tE8m5J0VpZbcc/uOUyabbCmt/LtRTrpyN9Es8HA5rRie1v4CdlaG7J6jbO/LD0xFbXMA69+r\n0kT+o3c85fqVLDNZF68pitEWzYob63Lise+O19QtM92Ug0ia3Yxn/vwlvRbZgTfa4Rdo302VdwnO\nultV17G7pBBJFoEy+JZu/Zi2WdnGlx+YqmrfnNxM/GxuLpKsAtbNz6PuwUpMH52BupYgWgNh/OH+\nAgTCBCte+VSXMelyWuENhjHEYTYsryd2ho2cMSXmjMkQA3qrHyW3uSZqWGhMU4/CZtbXHbSZ2T2S\nEQ8HMAaGwQYxTuO+04BN7IyRTRwvhp3e3JhpQg08xKv/GsEscLh10giVZt/GeyfDHCcbUNn9Nvq9\nYe63gwcZDotmzQy0Z6zIJpXKNe6c3EzNeLu2KA+/ercKFdVumkmmF0NYNz8PWSk2ZDgsl8yMZpql\nAwsDNqjXlV1CeWcFULvOJttMeGPFdPAAHaR/9W4V1tw+ESOHOuCwCBiSZKGRbbtFULm1un0hrJw9\nFt80tKp2PCVCsPHeyRjisMBi4hAKE1Q3tsLcljc91uXEruJChEQJZoGHwHNY/OIhFeMv+lpkJ1cA\nGpZZTaMPz75ThV/fNUnzN6VmXJ0ngLEuJ/64YoaKEZiWZIY/ZFZdQ1aKDfWeANXey0y2qhx8lYPZ\nnNxMcByHM42tsJgEzU5cgzcIi8Bj+fVjaEru6rm5dLCTr3Xxi0fx1qMz8NajM+ALiiBtv3/xf7/C\n0hmjMDzVpql7+fVjUH0x4mT8k1uuxIMvHVUxJqOdiJdsOUoH26wUbXk9sTNs5IzJs/xbhhjAcwbu\noQnuRy0+Y02cFKapBwDwh4x1BxkiEAwYn8wFnIHBGEKc5g8ev/EYlRoDmzheDDue5zRz40ynlS04\nBxji1X+NEAxLmmyiFa98Grdvr9sfxt7PajRMwGEzvwWXmbFKBwN4noPFpM/YlNpSbJ+dn4cmX4gy\n8ooKcjTjrZz9tmZvJZzWSJimotqNlw6dwqvLpoEQAoHnwPOAwEeMNOo8AXgDYRXTryvMaKZZOrAw\nYIN6XdklzHRasXXpFNRHa7rddy3GD4tEqdPsFo1oIc9zNLItB4K2HDylcrv99V2T8MIHJzV6dD+Y\nPQ7bDp3CrZNGqLQdti6dglCYYNm2yMtV/J2RuPu6KzSMP+W1SJKkaocRy6zJF1L9zUgzbqzLiRP1\nHlXE/tVl12Hl7HEo2V6O6aMz8NDMUZTJWLytHHNyM2nef7Sb7MrZ47Cw7DAt65WHrlO1rfTASTw1\nLxcmgaO/N2L8hcISLraGsOzlT/DCvZPhSrZSrbxXl11H2yTXZRE4JFkEFBXkoEHhwFt64KTGaVjW\nKqhp9OH7mz9Cfk5ap8zMRIA5YzLEA2aB09WOideOtBHCCXaXGwhguoOdw2LiNY7lG++dDAtzEGRg\nMATP688fYnWtjdcYFS+GnSQRzbyUMUkGHuLVf42Q6G9vMCyi7G+nUfa306rfL54+Ki7lM/QP8Bw0\n69F18/NgN/N4/KbxKqbo2qI8quWuRE2jDxkOC9YWRTTvgUhg8NEbx2L74VOYOT5Ls9YuMWD6dcaM\nZpqlAwsDNqjX0S6hnD8uSRIcFhOW7P6YBsWGpdggEqC22Q+X04pGXwiEEDhtJoQlgtoWPziOoxMM\nJbOsviVI3VQtAo9brh5OFyb5OWlU2+6lB6bi/jZdNyDyAlW3acvJv5t/7eU4faGVMv6i2WWtQRES\nQNshs/LWLZikuu6SWWOw8YN/YemMUZSBJjP2lE47Hn+YugAr23XG7cfjr38eid63GYcoz2sNihiR\nZsXT8yaCA6G7XhzH0YCeXNZX9V5V2yqq3dj4wb/w1G1XaRx5oxl/YYnQ4GVqkgUn6zz0OJ7j8Myf\nv8Tqubm4LNUGm1mAwHNoDYqUyah0z/X4w/jxG39XMQaj2/XSoVPYVVxoqGGYCDBnTIZ4ICSShO5I\nG8FIU48xrNrBdAc7R2tQxPbDX6sYD5s//AqP3vit3m4aA0OfhSTFZ/4QrzEqXq6LjEkyOBCv/muE\nRH97B4r2I9NX6x4CYQnPvlOl6sfPvlOFDd/P19WM3LJkim6/SbWbse7dL/HUbVfhb0/eAJ4Dfv6n\nf6CoIEdVTlFBjsZ1Wcn066z/daffsr7S9zBgt77lXUI5vVbe3Uu3m1FV24Lff/gvnG8O4Iw7Yh7x\n1LwIm+S+F4/i3379Vzz11jF8WduCOzYexKM7KlB1vgV3bjyEGWs/wFm3T5dZVlHtRvG2cswvPQyO\nAy7PSFIx41qDIlxOK0w8p3qBAGii9QLPYcP+E7g8Iwkb9p/A8/fk48mbx2PN3krctekIXj36NXXt\nlVFR7cYTr3+OskUFquu+f/ooPLH7C6x8tQLr5uchw2GhTjtr9lbimT9/ibAk4VyTX1Vefk4aXMlW\n+jvZOES+zrs2HcGG/Sdwxh3AwrLDKHzmA9y16Qia/WEQHX2MDftPaNr22HfHI9NpRWnb72VHXvkY\neRfiXJOfttnjD2HD/hNYW5RHU3/rPQGUHjiJZn8YS7d+DEII0h0RM4495dX0WACwmdX3WtYqiG7X\nsBQbRqQnwZXcM6ke1jZ3LvkZr9lbiUdvHBs3dy6GwYF4uRfGCnmnXfkexXOnfSDALHDYeO9k1T3q\nCRZlf4KJ53DoqwZ8d/2HuPG5v+K76z/Eoa8aWHCYgaEDyO6hyvnD/dNHIdbXxmwyGKNMsb9/sp5y\nd+ZRjEkyOBCv/msEmQEe3a/jxQBPt5vpOkYuv3RRAdLt5riU3xOQ9dXu2HgQM9Z+gDs2HkRVbQsk\nlknQJUht5mf1ngBdIxdvK0e9J2CodR0UJbwQ1W/WFuVh3btf4v7po/DzP/0DnkAYJp7Dvso6TTab\nUXabHAPpjBltFCvp7DzWV/omBixTT94llHXYeB4gJOKquv69Kvz4liux+MWjWD03Fytnj4U/JFHG\nXX5OGv27ns6bktkVEiVdZhkhoA6yMjNuy5IpWDl7rK52GgFUvxMlgnpPAI3eIOo9Acouk1lyE4Yl\na5hvAOBKtsCVbMX/rJiOQDhC2y3eFkmdfeTGb8Fi4kEkgpWzx9Jov3x9sguwXN6P5oyjLMGaRh81\nDlHWt+qWCZpdgmUvf4JdxYWaY+s9AYxIt2nSmU0mHhOykunvbWYBbzw8HSFRoow/+Tm9dOgUfnzL\nlVTXb938POS0fTzrWwL0mnwhCRs/+BceueFbWDl7HDa0aX1lOCwY1qbBp2Q+8hxH65T7yrkmX4/u\nPogSgSvZjNeWT4MoRTQTBJ4wgXiGmBAv98JYkeid9oGAkEjg9vo17rdM9L0dJp7D+oWT8Niuz2k6\nyfqFkxibsY9h5I/fvqTzTj9za5xbwgAAIMCJ803YsWwaJELAcxzerzyHURlJMRUTChN8erpBU853\nrxoec5PiweQYKAwohk4Qp/5rhJCo36/nTLwsLuU3+kJ0nSHPfzbsP45f3pHXbxiljBXbPTR4gzDz\nHMoWTUZdSxBJFgGtQRE5Q2yQCMHukkL4Q2JED4+LZJMNdVhgs3DYuXwagiKBWeDgDYRRVJBDU2gr\nz7XQNXV0Nptedlt2uh2XpdkxLMXW6Xh7qYxq1lf6JgYsh0KSCNy+IM65/fj5n/6Br+pb8fRbx+AL\niSgqyMHFNp210gMn8a1MB2Wk5eek4al5udSMAVBHwvNz0pBiM+GFeydjTm4mnDaTLrPs53/6B2xm\nHmWLJmOMy4maRh/8IRGXZyTBGwipGC1zcjOp86r8u92ffIMtS6fALEQWODazQJlqe8qrEZaIiq2W\nn5OG14sLsXL2OPzhbydxtsmPuzYdQV1LgGrhnXX78NSbx1DnCVAWofL6lIy1/Jw0DE+zq+rY/OFX\ndKdLri8rxaoaTNB23wQO2Lz4WszJzUTZfQV4e+W3sbukEGca/VhYdhgz1x3AwrLDOFHviexumHhc\nlmZHdnoSOI5DSJTazDUiuxv7K2sxcmgSigpy8Myf/4m1RXlwJVsgEeDuzR9h9f8cQ86Q9muKpGuN\nxe8++Bda/CH85HtXIj8nFcNTbeA5YOvSKSrm418qz6GuJYCf/+kfqG0OoOp8C2oafTh2pgmnG7w9\nsvtgMXHwBCScqPXgfJMfJ2o98AQkWC5hh5xh8MJm4bFy9jjVjvfK2eNgsyR2uDfaaWeakO1Is/MY\nnu7A8bZ3/HitB8PTHUhjDsEUZhOHK4Ym4bXl0/DXJ2bhteXTcMXQpEtiCjEwDBbYrTxmjMvEyToP\napv8OFnnwYxxmbBbYxtbzCYOBaOG4p7NRzBr3QHcs/kICkYNjfn9ixeT41KZJAz9C/Hqv0awmTlc\nG9Wvrx01FDZzvIw4RNS3BFW/q28J9itGKWPFdg/BsBgZJzkOrx79Gm5fCMk2E8yCgNc++hrzSw/j\nx2/8HQAiklFvHsMFTxBPvP53vFFeA56LGLqcbmilZhf5OWlYPTcXIVHCyw9MxaenG1Txgz3l1RqG\n6ObF13YpoCfjUhjVrK/0TQxIpp48mTjf5MfqN49h9dxcvHToFO6fPgrVF30qnbWKajeCIqGMtJJZ\nY9DoDaHR2x79VjqmPn5TxIra5bRi3YJJ1DVV3p2RnVRrGn24+rJU3HBlFqovRso+2+RHqt0MX1DE\nq0e/pucMcVh0teqSrSase+dLrLjhW3BazZRdt3puLr5paFWx1ZxWEy54gnhs12fYsmQKFeOsawlQ\nJ1j5Xjy6owLP3Hm15voqqt3U1XZcVCstrwAAIABJREFUlhOnL7SqnG7T7GYIHIc9JYWo9wRR3xKA\nJxDWd6zieYx1OfHDfxuH3/zlOO6fPgp1zQGVbmB0ZF/PWnvHQ9dhTm4m7pl2OThwyHBYsK+yDvUt\nQTw7P49eZ02jDyfr23X2dpXXICfdrjL5WFR4BdUae235NBUz866pV2Dxi0exbn4efEGRtlMWOU1L\nMmOII7G7D8EwwYWWgKbuFOuAfE0ZEoRQmGjYsyXby7G7pDCh9TJNyM7hCRi/4w7mEExR2xykjnDZ\n6Xa8sKgAI9LY7i8DgxGCofjMH0QRuu63rxfH9v2IF5MjXtp8DH0b8eq/RvCH9OdFu2Ls10awWXg8\nefN4jUFCojdT4wnGiu0e7BYBnoBI17xK05ff3TMZR0+7IzJZbZlxxdvKUby9HM/ceTWSbWbc+/uP\n6PFri/LwZsUZ3J4/QlNOkoXH1qVTYTXxsJkFpNvNPT4+mg1cfs1MLqpXMSDv/gVvAMte/oTq1KXZ\nzVRccsP+EyqdteLvjISpTb9ubVHEKCPJIqgYarLOmzJltaLajRZ/SKMx1+AJ0EDR7ZOzUbK9nJa1\np7waNjOPIQ4zls5oZ7Q0+drLKT1wEm5fCEkWAcGwhMWFI/Hojgo88frnlF2XZjfTMus9ATT7w3j4\nlU/p9crad0BEL87U5gQrn1vT6MNz+45rrk8O7K3ZWwkOkXvy3IJJVB/gR69/DnAAx3Mo2f7/s/ft\n8VFUadpPVXVXd3V3buTCLUEChkDAYAgyIawOyoi6oC6CqBBAnIUAIjuuIu7O8Mks6y4YXccb1xkB\nURQE56fiKjgq4yyCQERQIwERMGGQhJCQW6cvVfX90V2Vqu6qJJVU59Kc5x9D233q1KlTb516z/M+\nT3HYOAGBm3p9QS4SnSyq3T4Ubi3G7LEDsWzXccQ7tGv/pcx+6CIw2WXDxVoPfjspC9UNPvzX/5ag\nl5OV+3lZ4WornauyLyNS47Hg9WIku2xYPCFDZR5AoZmJuWD8YLmtPrF2OWm7flYunrt3JJp8AnzB\nUuZIwieIqjLv8mo3lu48Dh8pvyUwAI9fkOfv9vl5WD8rF8kuG7wRnsM2S8Ddi2UCjxWWCfybaEI2\ng9zjrcPtFfBSsIxp+/w8LJ+chZc+OQm3N/IxmICgp8IniNi0/4zqvtm0/4zh2OLlBc11mo83dv+Z\nyeQwQ5uPoHvDrPmr277OvPYbnNd68Pq0n+1eX895thNWbMfgF0R4/EKYmUV5tRsPb/sKT9yeKb9X\nDklxISctPvDeGWfHw9vU5nbLdh1HYVC6K7Sdi7Ue/Op//gqaApJjAhJWnR0fLTSlqi6UkthEJqVr\nEXUUIEEQ0ejhVQy0GrcPiU5WZnSt23caD9+cgaPnqjB5ZCp+rGxAZb0H7x49j0U3X4vLQR07JUON\npigMTm7OSuekxSOOs4Zlqhu9PCZmpWBOfjr8wYdIebUbz+4pxYLxg8FQFFKCu5RvzQ9oO1hoWsUE\nlJxpX3zgevSN5+Q2LtS4VcYQUv8yUlyq8wWa9fmOltWAF0Q0enlVPb6SlZfoZDGglwPvLMqHzx8s\ne4WI5BgWNiuNlXePkLUBbBYaPr8gHy90nBq9PPrGB2i/Xn/AGKR/8Ny0xku5C6RcBErmIo/u+Bov\nPZADB8sERUJZvDJjFB7e9lWYlkCoay0vivKY+kMe6MrfxnNWNPkC46P8jXJ3ZF1BLpJj2k5nbg/0\nDA6I8CiBEdgs2jvGZglC68HLC6h1+1U77X+473q4CNNUBrnHW4dUxq2Mv6unZpMybgKCFkDr3DdG\nPXgYHZdQo2sfwuQgMAKz5q8ezJrXetBLGhpNhnclCCu2Y/D5BbAMJecblEh22eCyWVTr8tVTs7Hl\nizNgqHDzzPJqt6apZnm1G33jOUzMSulSBqXby2u6/L48Iwdwdlm3rnpE3dO1qsGLM5caZAaaxJCT\nGF4AsKO4HCve+w4Tsvpi4RvF+PCbC3hlxijccV1f/Nf/liAhqG+nZKglulhYGFpuY8H4wbK2mzKR\nltaLw+8mZWHZruOysQTQ7Iy78I2vQFEUaJoGBcBls4BjKawvyFUxAReMH4zzNU1yWTAAPLf3JF6e\nkYNeDhZrC3Ll/lUEDTmk8633+FUZ9B2HziG1V+DFfldxGZ67d6SKlee0WZDksiHJaQNrYQLBnKHw\n20mBUt25mw/jvg0HMXfzYTy46TCooNGHdDypH3/6vx8xONkJt5dHZZ0HVguNJRMywAvAkgkZmuO1\nflbAHaqyzgMAsgbfH+6/Xh6LijqPnCydMqo/Ep1WvDkvD1l9YzTddJOdLKwMDYai5DFVXgsAKnZi\njdsHm4VB0bRs1Df5VdcBaKbpVzWo9TLMhjW46FAiNYEjOx8EhiDosMEinTgSReA3279WHfc3279G\nhE13exRYxTNEQmoCBysTdY/idkNZxi0xNrZ8cYbMIwKCFiCKCFu3LNt1HEbDvlWHgWE1uA4hTA4C\nIzBr/uqBZWi8MiMHmx68Advn52HTgzfglRk5cmVBR8HQFApvHIiPH70Jnz72S3z86E0ovHFgj3Nt\nJ6zY9kEQRFAUBTvLoHesPWydt2RCBha+Ec7G++2kLDCM9rufjxc1PxdF4LeTsiBCbPe6XhBEVNZ5\ncL66EZV1HsPtsBZG0+WXlGp3LaKOQuH183JJ6LJdx/HsnlIsmZABB8tgfUEuCoOaCpLFdLLLhrtz\n+uOVz07hiduHynptT9yeia0PjQEvioi1WVDV6JOTUst2HUc8Z5W/q8xUx9gs8AfZGJKxhFT2mZrA\nYfPcG1BV78W8rUeQ7LJhxV1ZaPTy2LT/DJ64fah8w8cHbdCV5wIEdgI2/u1HLLr5Wqy8ewSSXAE2\nXdG0bCzdGTjfontH4ql3v1P166PjFzD9hjT8x90jUO/xh7HvBEHEqcp6zHst0K8nbs+Eg7Vo7hJI\nJhjzXjuCZ/eUYuXdIzCktws1bh9mKDQBXntoDNKTnKhr8mFAokNzvHrH2OTj3pebikcmDMFLn5zE\nv/3jMFUJ8X9PHYHHb8tEVb0X929UHGPuGBXDMN5uwblgkNq0/wyW3TFM81pU1nuQHGPDOwvzIYoi\nGn081n52GgtvHoy4VsqEIwULQ2HtzFFy4E9N4LB25ihYzNqqJLgqwIs6bLAIZ0WELjpuT4LLTmFd\nQa6s7SOxgF12co9LoGltxgZN8p4EBLowK+6zVgpJMTbVGjEpxgbWoKEAYXIQGIHe/OVNWj9YGICh\naVUlwbqCXJiVg+BYGpOvT5V1viUtWK4HaeoRtA+SHvyXpysxOj0JL35yUn5vl+bCwCSH5vy+3ODF\n2n0/YG1BrkpHePXUbGz46+mw9eKamaPwzEffY29JhVwendk7xlDyVUu/3mg7Uql2aBukVLtrEXVJ\nPSl7HFoSylpoDOsbq6IV+3hBxcqaPXagzGB7YOOXAALMsRV3jZCTXS4bgzfn5YGiIH+3cGsxgMC/\n/7xoHKx0ILt+qqIeoijizaCFut1CgxeBFR8FDCuGpLhwtqpRfshMzU1D4Y0DMW30ANitDH6oqEdy\nDAuaArY+NAYWhsYDGw9i1T3XYfG2oyivdmP9rFys3F2iMtlgaMgZdAmpCRzu/8U1ECHiwU2Hwyjo\nOwrHyjenpGWx9LahmJiVgqm5afKibFdxGWiaVlG0OZZBk09A4dZmEdpklw3nqhoxpLcLl+q94ILl\nv5Ju4ILxg5GawMHjF+SxnTSyH2a/egjLJ2eBFyCXJC8YPxic1YIfKxvkscpJiw9o4TV6AzsjMXZU\nu32oqPeg7LJb/p50TXcUlwMANj14Axiags1Co3eMHZZgQvNiXRPuuK4vzl5qBMd2jVisjxfx0qen\nVIvglz49RYwGCAyBprTLTKgI1y/qHZcmdZMyat0CXgzqxUn3+IufnMRTdw5HDDHKAAAIgjZjY/v8\nvC7uGQFB9wVjUvxt9AjYefgnTBs9AAxNgRdE7Dz8E2bnpyPB0fZ2WAuDh8YNwPB+seAFEf0TODw0\nbkC71lGCIKKqwUtKAqMYevOXMWn94PYKmkYZ2+fnmZJkdnsFTYMZs9oHAL9fQEW9Bz5egJWhkeIK\n6KkRdC0kPXilSaVEYEl0sugda8f5oHxW6PyuqPOgss6LJi+PN+flwePnUdPog5WhsORX18JC03hr\nfp58zf/j/e+wt6QCQPvNh8wwMTJSqh0avxM4K6rdPhLPI4CoiwZS9lhZOtsnzo54jg2jFae4bHL2\nPCctHi67RVUuMDErBU/cPhRuX0Ab7qkgq+6BjQfxyLajYaUFG2ePRgJnRX2TH6/MyMETt2fi4W1H\nceMzn+HpD0pQWe9FdaMXc/IDJhkVdR7ZwAIATl6oxeTrU1G05wQuN3gwKMWJxbdkYOnO47j5ub/i\ncoMXyS6brLMHACkxNlk7r3BrMVZ9eAJX3D7dvkl6g0pIug/S5/3i7JiTn46dR37C4lsyZEOPlbtL\nsGTCECRwVnks+8ZxuFjrwd9r3GF6eMvf/RYv/OUU+ifYwQXZhBOzUvD4bZnYVVyGmkYfLlxpksuN\nJbOKeM4Kt9ePl4NjuHJ3CX6+0iSPldT+yt0lmLbuAFa89y1OXKzDlDX74fELqjFVGoLsKC7H3M2H\n4fEL6BvHyQm9s1UNqKhtwoBEBxwsg9UfntA1/4gkeFHE3pIKFZ15b0kFYToRGAJNI2z+dgbTyW6l\nsTakHH5tQS7s1qh7zLQbfkH7HueJpp6MrmKaEhD0ZFCUdtw3mhOhKOCmzN6Yu/kwbnnur5i7+TBu\nyuxtuJ1YlsHA5Fjcv+Egflm0D/dvOIiBybGIZY0l9SRWyZQ1+zFu9WeYsmY/Si/WER3SKEOk1y16\nerZmPXsj3b7fL+DExTpMX38Avyzah+nrD+DExTr4O8HEj6BlSHrwSpNK6Z182roDEERR871yXUEu\nPim5KOvH3/jMZ3hw0+Ggqy2NsstuTFt3AP+w+jPM+tMh1DT6UFmnloFqTxWZWSZGbSnVDo3fv/3z\ncfl9ncRz8xF1TD0j2WOLhYaTtSA1gcOC8YOxeNtR5A9KlNlcVobGDxX1AIBldwxFdYNPZoCVV7vx\nzEeB0tPBKS5w1sBxqhq8mP3qIay65zo8+c438o0zNTcNC14vxqYHb5BZCDVun6yxVF7txu3X9UXR\nnhOYk5+Oyw0+uH0CHn/7mNyGg2WwZEKGrLNXXu2Gy2ZRZf8XjB+MNZ/9gLnj0uXy4Uv1XvSOtaHa\n7ZP1BsNYaIp+2K0MFr7xFZZPzlI5xia7bKis8yCWs4CzWuTznffaESyfnCX/foHCsWdCVm88u6cU\nc8elIy2Bw/+7czju3xBgGy7bdRyr7rkOqQkc4jkrqhq8ssZdozfAAJS0waSxKrxxIGaOTceMjQdl\nduKQFBdmvXpIfoBKpiBSsvPZPaV4fvr16BtvhyCKcNoYXGrwwOcXQFEUzgXZkqvuuQ4+XmzR/COS\nMGunneDqhiA0a5JJbLAtX5yJOOOzydfsWiozTYMsNIIALDpi3T1NdyeSIHGQgMA4lFqUHYn7etpm\nRpmylxq9usyl/gbMk8xglRB0f0R63aJnlGHWszfS7VfUezSZhjsKx6JfPNfKrwkiCdYSqO6StNtD\n54Bf0H6vjLFbMCGrd1i8XfjGV9g8dwyW7gy/3ivvHoG5mw+r2pfYz21lNEv97YxqtND4LeVCSDyP\nDKKSQmFE6DPJZcPG2aPRJ9Yu6+tJO5QXawPssA+/uYDesTYVAwwIZOLnbj4MJmgrLTm+lle7YWVo\n1XfjuYBOW73Hr9KKk0w5pOAvWWE7WAYUoGqjycdjQKIDH35zAWtmjkJqAocmH6/K/g9MdGBOfrrM\n7ntw02HwggifX1DpDSp3CzbPvQFuHy/3Q+qj1GdAzb676Zl9cnZdOl/JNENK0Cm1AfeWVOCBjV/i\nH57Zh/PVbpltmOyyyezIRi+PXcVlsrFJgtOK5CALURqrgUkcJl+fioraJtmhVmI8St/b+PmP6J9g\nVzEVk2NYcCyD+zccxL+8+TVO/lyPe9Z8gXGrP8Pfa9zydX1u70lNkxSJ6RlpdBXDiiC6ILmHKhm2\nc/LTI+4eqsdC85MdOBnkHm8dZIwICIzDylBhlRWLb8mA1aAmr1lMWb8Oc8no88AsVglB94akpRq6\nbjEr7kf6uaLHlDVrv07PXdffg9x1oxVSheDOIz9h/azcsDmwPsRU8rG3jyEpxoZtB8+q3pcllFe7\nQVPQ/HxAoiOsCi/RyRpiNEv91WrHbITGb73zJfHcHEQdU6+tmWrl9/rG2dDg4cNcT5t8PHy8GKa1\nJum8Sdl2TlFOIGXAa9w+WY+uX5wdcY6A+26Dx69ikf3+vRL8+z8Ow1vz80ABshW2ksWXPygR824a\nBLuVwfkaN+64ri9e/vQUiqZlI97BYvex83jjn38BmqJAU8Cvt6h3NaVdVj29QSdrweb9P2JG3sCA\nXiAgn4PU18cmDsGyXcdV2n1SsJC08p7dU4qiadnoF8/Jv/PxgmpHoMbtk9mGSyZkYPG2o7IxxyO3\nZOClT09ham4arAwNzkKrxkoQKSx8vRjLJ2eprpWyn5J23uIJ1+Kt+XkQBBEWhsb09QdkvUClM2hV\ng1ceZ+l6rLgrS9ZBlHQrOqPeXxCAz0svykxRXhCx88hPGJiYHvFjE0QPzGJsGIUeC424HTajq1iU\nPQkkDhIQGIePF/HV2Spsm5cHUQw4MX5acgG3Du9rqB2zmLJmPQ+oLtKIJehcRDruR/rZG+l1l1VR\nTSUhNYGDxST3XoL2Q6oQnDNuEBgK2PrrMRAEgKaAn2ubcKqiHlu+OINND96AK24fUmLtOPZTFWbn\np0MENK+rIGp/fqHGLWv19Yvn0Cc2UEVWWefRZTRLVXXKvEhGsgs7Cseq9Bkj8Z4bygpUvq8rz4vE\nc3MQVdGgrZlq5fcWbzuK7y/UocYdcGhVMtNcdgt6Oa0yO66X0ypr5Um7Scvf/RYXa5vtoKUM+Fdn\nq7D4lgzsKi5DbZMf/7n7O7w8IwcxIbp9lfUeuOwW9Imxg6YDjL/UBE5m8f1pTi4Kxl6DuZsPY8mb\nR8FZaQxIdKCyzgtBBF4/cAZTR6fh7zVuPLDxIHy8voOUnt6glaEwaWR/zPzjl7jxmc/wH7u/w9qC\nXJk5NzErRWbWSey4XcXl4EURv3//O9XuFACs3P2d/LtQncJdxWUYmOTAi5+cksdbMib5f+9+h6m5\naRjWJwYpMQHm5DqFRpfEXFy377TqWilZggDwxY9VaPDw6BfHYUCiE6Ji5zl0lyCULQlA1k2UdCtO\nVdZ3Sr2/dB2UWjaTRvY3vNNOcHXDztJ4ZMIQ1Y73IxOGwB5hFzaHTVtTz2GLqsdMh9BVLMqeBBIH\nCQiMw26lkZuehBnBtcuMjQeRm55kWNOUY7XjuFEXT7PaYXQYUCQcRBciHfcjzQSM4bTXXTGcOQdI\nCXkfkjTZUlykZLE7gKYp9Im1gxdFVNR6MGfTIdz83F+xdOdxPHF7JhbdfC2K9pwAL4h448AZDEyK\nwX0btPX51xXkghf4sM9fuP96PLf3JFbuLoHTZpETekDLjObQvMjZqgacqqxX6TNG6j03lBW4q7hM\nrjSUzovEc/MQVUy9lrQ3lJlqmqLk76265zos3XkcyydnIY6zyky856aPxKoPv8fDN18Lu4XGHdf1\nxUObj4Rp5ZVXu/H8x6VYcdcIiKII1sIgI9mFOeMGYfr6A1g+OUvlrvvkO9+o2G6NXl7WuztxoR7n\nLtXJFta/f68ELz6Qg19vOSjr+K14rwT/c99Imam2fHIWzlc3yVp/kq6DxH7rE2sHw1BgKAoXrrjR\nN86GHYVj4ecFWILZ+Yt1TSrtvHiORZLLiqfuHA6KAp66czhOXqxXsePm3TQozOVnSG8XZv3pkPzZ\nM9OyMXfzYSS7bHhlRg5SYu3geREUFUhmVgc19JTCoit3l8i19ZV1HpVTpEXBqFP+VmIJhuobSsFO\nuVOgZFBKu2lfn7uMO67rh7eCmjH3bzjYJfX+Pl5UXYfyajcWvfEVcX0kMIQmr4DiM5fCGBu9hvc1\nzYVNC40eAbu/Lg/baTfqmhjNEEXCQmsNJA4SEBhHk68F900DcCueH4Iogm7n84MXKJytrMVb8/PA\nCyIYmsLRc1XoE5tiqD80TWsyoJ6ekm2oHYLujUjH/Ugz9erc+uufWBOc7S0WGkN7x4S9vxH32+4D\nmqYgisBjCi388mo3lu48jh2FeVhx53DwooiCsel4YGPze72kz5/Wi8Ppyga8/3U5CsYORBzHyvHT\nytAARLw0IwccSyOBUzPr9HTyKEW+Q+qPpCPfGe+5oT4HFEVh77d/D7tPhvS+1tTjXq3o9KQeRVFp\nAF4D0BuACGCDKIovUBTVC8B2AAMBnAUwXRTFaiNt62WqBUFA6cU6zHvtCJJdNvzPfSNRXh1wUZWc\nZNftO42n7srCKzNyAAR2jRbdfC0avTx+//53WHbHME2tvJy0eMzJT5fLO6Xa9Fi7Rdalk5J4/YLH\nKq92o3BrsdzG/mU3AwgYYazYfQI5afHygyfUUeloWQ3+dfsx+RziOat8njlp8aAoES/PyAGFAOPs\nvz/8HnPy0+XS2Sduz5TLT6W+KrUCp+em4p9vSsfZS43y93YuGIsXPzmFZ6ePlL+n5fKzfX6e6jPJ\nzTZ/UCI4lsHZSw1YuvO4nOQDgKJp2WH9ker6vX4ee0sqZPvu6bmpWDNzFF7+9BQsDKX6bWW9B33i\n7EiN58IoxNJOwbzXjuCTkotYfEuGvHiYmJWCRyYMwdR1B+Rz7ap6f0FHy0Ykro8EBkBTQEafOMwI\nLho6S5NM6ZqoOi7ZgZPhsNGYfH2qaowIm1ENvTjYme63A5/8oF2/O7tqksk9ISBoG8y6b8x6fsTZ\nmt1vlbEuzmZMjD3RyeLRWzPlF9NI6j8RdB0iHfcllrxETDB7fdIZ6x+LhSamGN0cevPY4xdht1Ko\nqvXCz4e/18/dfBjb5+fJuYFbhvUBAKz68AQevy1TNW83zh6NBE6dfFO+5yq/x2ho84X6A0h9jNR7\nruRzAARcnEenJ6nuk3UFuUgI5jIIOoauYOr5ATwmiuJXFEXFACimKOpjAA8C+EQUxVUURT0J4EkA\ny4w0rMxU56TFY8H4wUh0svALojzRl0/OAi9AdryVnGSPltVg28GfsORXGTh1sR5Om1Xldjv/psFh\nOnMAVE6vQHPGe0fh2GBdvCgn0pQOsRKUjjOSa6uUJAOAv/zrL8N+U1nvgU2h3ccyNCZmpWDpbUNx\n6mKDrPEnHVPq3/LJWdi0X71T9fzHpXjqzuHyMebdNCjwXUUWv6rBi8p6Dy7UuOXvabn8KF1ngeba\n+dA2k102xNitmP3qISS7bCialh2kLQOxdovKmVbZ3qmKejAUhafuHI77NjS73/aLs4NjLbBZKFQ1\neMN0FEN3CpS/VTrnAgEdxc5yBQoFTbRjCEyA0EWaema5JkYzGj36bBrCZgxALw4S91sCAn2Ydd8I\nJsXxyoYW3G/Ztr96hK7fWtLKJui5iHTcjzRLnqx/CAD9eXz2UoP8b2+I1rz0nRq3T/670cvDywu6\nOYZQVp1enKwKqYgDwt/VpWN2xntutdun6eJM3G/NQafTA0RRvCCK4lfBv+sAfA+gP4C7AWwJfm0L\ngH8y2raUqZ6YlSJrv01bdwAXrjQpSkutcHv9WD01G4lOVnaDnZiVgrtz+uPnKwHHW7ePl7PZOWnx\nMjNM0pmT6sElYwslyqvdYChg4+zRoChKZpOFar8pdxwTnSyuSXSE1dDbLJSmjkJy8Fx3FZehb7wN\ni2/JwBW3Dy9+cgr94+2yc6xSQ65fnF1TU4JjafkYDE2FZfGlfr924Kzc/42f/xhWF5/Wi8PGWera\n+XUFubAwlGosH78tU2bxAYFF5KxXD2Hp28dwurLZmXbFe9/K/cpJi8cTt2eiMBgMpLLbdftOo7bJ\njwc3HcKNClfeUG0A5U6BnnOupKMYeg06a1fYylBhY7pm5iiiJUVgCJHWjtFDKKsYgLwBQBCA7hgR\nNq4Mu44WV6Q1IQkIejLMum/MYkyZ5X4LNK/f+ic4kBzTOcZlBJ2LSK9/ObaZJS9p9k2+PtWwxqMe\n9FyjybP96oHfL2jG4TUzR+HDby7AwTKId1g1cwFF07Kxbt9p+e9ezsD39HIMWqw6rTip5XR7TaKj\n09xvQ0HczCOLLtXUoyhqIIAcAF8C6C2K4oXg//oZgfJcQ5Ay1SvuGiGXwwJq9pWPF3Cpnsebh87h\nyTuGyW6wkv7b8slZYBkaiS4bLtV5ZEbf4m1HkT8oESvuGg6aolTOqsqM9/TcVMz/5WA0+QUkOlk4\nQxJkNAVsfWgMGJqCnWWQ5GxeoAxIcCCOs2D7/DxQVGDnJ+CMY9fUUcjsHYOnp2TDxwtY8d63WHrb\nUFTWe+DlRZmBKLHlkl02xDlYLAzRrFi26zh2FI6VtRpEUQzL4h8tq8GWL85gxV0jwFDAjsKxYCjA\nwlByXxmKgl8Q4bRBboe1MEjgrLhY1yS3Ke06rLrnOtW/JSahVJ4rsYzcXh7vLMyHjxdwX7CMQ3lO\n0nVrbRdDAmthdJ1zF4wfjDWf/YCHb74Wb84L6BgIooheTmunLCJ9vIgPjp3X1OQgIGgrusphlaEp\nFN44ENNGD1DNX4a8gMmQNE9Dd0gZwkKT0eTV1yaKpCYkAUFPRpNJWnhmMabMdEMXBDHMvZEk9qIL\nSvdm5fw16t6shyafqMkc3VE41pT2LbSOO22kd1MJugUEQcTFuiYA0Fy/3HFdX9BUIOlWdG82ahp9\nKJqWDStDo388BztL4aUZOeAFESxDw8pQ+O2kYbLWf+i8AoDKOk+rsVCPwQegS9jPetp/ncESvBrQ\nZUk9iqJcAHYB+I0oirXKEkNRFEWKojS3NyiKmg9gPgAMGDAg7P8HhCqbd0yU7KtN+8/AZbeAAvDw\nzdeirskn67JJzDFJW89moWS0n+1zAAAgAElEQVRXVCtDI9llw0M3DsSleq+sx5aawGHz3BuwcdZo\nzNt6BPmDElEw9ho8uOmQ/P/fnJcnJ6Aevy1czy7JGUg8CYKIn6obcbG2CZv2nwnTftg4ezQye8eE\nlZUmOllcuOLGnPx0FO05gdVTs1Hf5JcZiFu+OIOXZ+TA7eVRrWDHSZA02yStBr9fgNvHh2ndPfqr\nTNlpR3IPljQKV9yVhUYvH3Zumb0D+nY2C43+CXbVWErXRKlRKOkPKvUDJM07j685u79u32n5nK64\nfYay/olOFulJTlVbq6dmY9mu4+gXZ5d1FB/e1qwDs35WLmLt5gS8luYvTTTJCEwAHUHtmJbmbyLH\naurFJXJE+0hCIsdibUGu/HJBxigcetpEZuQ9W1s/EBB0Z7Q0f60MhVEDE1VaeO1hOkmMKeU6tz3t\npLhsmrHOqFuncr3Z0nqYoHujtdhr1vzVQ6Q1q5McVs35nuQgWmHRgJbmrxSjGjx+9Iu3a65fBic7\nUVnnUWmMPj99JKwMBb8g4OcrvDrGzRqNeIcVz3x0Qn5Hlf5f0bRsLN52FJX1njbFQmWlmhJdUe6a\nwFllM1CiqWc+qK4Q4acoygpgN4A9oij+T/CzUgDjRVG8QFFUXwD7RFHMbKmd0aNHi0eOHAn7vLLO\ngylr9qO82o31s3KxcneJytF27rh0DOjlkLXVFowfrNJWy0mLV303NcGBHyrqkdbLISfsJKQmcHj3\n4Xx4/CJEUZTZZJKm3/B+MSi77AZFUXhc4Ygj/Vbp9Prt+StY/u63WD45S+7zgvGDZZfckWlx6OW0\nhZ3rFbcPD246JBthpCY48MDG5nMb1jcGMzZ+Kber1wcJfr+Ay41eCKIIvyBCEEQVqzB0fFmGlvXy\nlFqG/eI59Im1o6rBiz9+/gNm5A0EQ1M4dbEey9/9FvflpmJKbqoc5HYuGIu6Jj/ePHQOU3PTMCjJ\nAY614P4NB8P6/vqvx+DJd75RuRFLx05N4GQDEY5l4BdE+PyCvBtxqd6De9Z+If/midsz0SfODpah\ncTLYt9bGSJrKLc3P1hA6f89XN8rzR3ns7fPz0J8IbhG0EQbmEZm/nYzz1Y34+LsLuCWrr8qZ+Nbh\nfckYBdFV81eJrjDKaO8xexqImYiMbhl/z1c34vfvf4epuWky03tXcRmeunO44Rjl8fhxqdELvyDC\nQlNIcrCw2YxxCZTrTQktrMkIOg/tnr9asTfS64e/17ix99u/45asviom4MQR/Uwxn/h7jRs/XLyC\nwSmx8nw/XVGLa3vHEXOL7gdTY68Uo5ZPzsKIfrG681jr81X3XAcfL2q+d0pValaGgo8PvI/7eBEb\n/noaO4rL5e+9t3gceAFdzmRuC6O6ss6DP37+Q1hFzz/fdC2J522H7sXtCvdbCsCfAHwvJfSCeA/A\nHACrgv99t73HULrASJpyyS4brAyFOfnpWLrzOJ67d6QqaVbb5JN3J4+W1WDVh9/jiduHouyyGzWN\nXgxMCjxUlDedlBC6cMWDBa8X47WHxqh045btChznz1+dx8KbB7fIKPP6mzX8JMbak3cMla2xJcZY\nPKe+Sbx+HnVNPpnhtmn/Gcwdl461M0dh4RtfYd2+07JT7iclF/HKjFF4eFvzDqxWHb3FQqOXg0Vp\nRR0KtzZn0197aAxcdgvcXl4ukc1IcaEyqEunPG9l+xnJLvzTqDTM/OOXSHbZ8Oz0kcgflIhfDk3B\nf7z/HVZPzcbnpRcRy1nQO9aGOfnp+Lz0IvrG2XHF3aTZd7uVUTH+JHbj56UX0Se2v5ywDXX7fe2h\nMQCAV2bkwOsXYbfScknyuw+P63RXICW6g+sjQc9HV7kom6mhFK2INBshGkBcwAkIjMOs+MuLIirr\nvKrPKuu8xjX1/AJOXWoIY2QM7R0Di6XtJYlmazCRUt7uiUivH1x2CrnpSapn79qCXLjs5lx7m4VC\nLxcnJ26k+W6zkLkV7ZBi1MkLtcjqG6M7j7U+tzI0rAxUxBRpM8XHC/j9+99pVt6cqqjH0bIaJLts\nuHClCS/85SSm5qYh0cnC7fWjXxxnKM52FG1lVAuCoMlkFASh0/oazeiK8ttxAGYB+IaiqK+Dn/07\nAsm8HRRF/RrAOQDT23uA0BpySbvN4xflG0PpSislfyRn2EQni/7xdtQ0+uXs+Vvz89A/npNrwaUE\nVpNPwNKdgUWL5Air1Imrcftwx3V9cfZSY4t15KyFkXXnatw+LFMk9IDADV+4tRjvLMpHSoxdboOi\nKNQ0+rBkQga2fHFGTlomu2xYefcIXJvigscvyEYgr3x2Sj7H5Bgb+sdxYQsaQRDx9ytuOaEHBMwl\nLtY2Yfarx1E0LVvl6MsGdQVbculRXg+aojD/l4Nl1mNlnRcvPJCDGRsPYstDY7Bs13FsevAGWeNQ\nq+994uxYMiEDi7cdlbX1ivacwJN3DMPsIONS0uhT9udcVSPePHQOv/6HQWj08nh0R/PuyM+1TfK5\ndEW9P6OjZUP0tgiMoKtclK06GkpW8sIkw8eLclkbEIhJi974ijjkKdCTXcCvFrYdQfeDWRp2doYO\n2wwtmpYNG2PsBbGi3qPpcrijcKwh5pKZGkyklLf7wkwNRi3UufWd52Ptrfy4DfD4BO35Tp7tUQ8p\nRt2V0193/aI3v2vcPrAMjYlZKWHJuzUzR2HuuPSw99hluwLv3oVbi7HsjqF44S8nw367flYuhvWJ\n7bS4VtXgleOq1E8tfXtexyXaLG3Lqx2dntQTRfH/oE8dnGDWcaQackEQsXH2aDR4/KhratZf4wUR\nT77zjSohJJUbVDUEygWU5bKrPzyBl2dcL9e2PzZxiMzEk74jOcJ6/YLMZBuU5ICFofGv24+F1cWv\nD9aRV9Z5QEFEWi9OZp39+6QsTVag1y/gp8sNsFsD5bAMBSQ4rYixWzE1N01uv7zajbmbD2PngrGw\nWWhVsmtvSQUA/RKGqgavyhUWABaMHywHFmnsyqubNQifnz4SFEXp7qgqa/oFQURZdaP83aNlNfDz\nAsqr3agNauQxNCW3/9z0kWF9L7xxIO7/xTUyC5OigKm5abI2Yk5aPAYnO8P642AZTM1Nw2NvH1Nd\nOwDyuYTqCXaWKxBNU2HHLpqWTRabBIZAUQiLNWZpkrUEhqbw/PSReHRHM7v4+ekjiVGGAn5BRP6g\nRMy7aZBcerDx8x8Jm1GBrpq/BJ2DjiQ+SemuPszSwvMLYthL5NKdxw0nJ3y8oDI9q3H7sG7fafh5\nY4wMZeVNR9dkVQ1ePP9xqapPz39ciqenZBsu/SKMP3PBWmjN+cuaxDaKNBPQp9O+z8RnO5lz3RNS\njKIpSnf9YmUorC/IRWEIczmOs4CmKKy4azimrz+oiruL3vgKW4MVgEqUV7sxONmJiVkp6BtnV737\nS/+/cGtxp0oUtJVRLZJKjIiiS91vOwMSa+/n2iaU/lwnZ8olw4bHb8uElxfCstxbNG4kr1/Eli/O\noGhaNvrE2WUmntSmVOP+6MQhMvNvTn46GJqSXXalxUSjl0f/BDtOVdbj+Y9LMSc/HVu+CJTO/ts/\nDlNl9XPS4vHUXVlwe3mVyObG2aOR6GKx5rMf8OQdwzStr6savGAZGoKINt1wgfPkVY7BAOQyZgAq\nc4ujZTXYdvAn/PrGdDA67k+hO6o0TcEawoiTWI4VQcdh6d9Hy2rCzDBy0uJxU2ZvXKz1yLsbZZfd\nSHSyqGrwqj4L7U+jl0ef2MC18/FCmMvvms9+wH/+03XYPj8PvAjYrbTKoTiS8PoFPPOResH5zEel\neOH+6yN+bIIogqjtfrsiwu63vCjCaqGx8u4RcLAB5rHVQpPycQWcLIOCsdeoSg/WzBwFJ0ucvyQI\nOvP3/0V4/hIQ9GT4eBEfHDuv7RptpB2Tkh+cldFk/NmtxmKdnntje9ZkghC+1m9P6Rdh/JkPt5fH\n6wfOqebvxs9/xOJbrjWl/dB3DiBYSWCQgaoHXWd7k+YDmXPdF1KMKqtuBCVSuuuXFz45ieWTs9An\n1o54hxVPf1CCvSUVcoIv2WVTzZ/yajd4UdScV2WX3fiXXw2BNWiY2db3+0ihrYxq4n4bWUS917a0\ns8FQkJlwEuV1yYQMLNt1HCxDh2W5f6oKlMtKWDB+MP77w+8xJz8dTT5BLqeV3FOl737xYxX8fGCn\nU8qer/4w4F5TWe9B4dZiPPb2MfSJs8PLi5j32hH5e3tLKvDAxi9x87N/xYWaJrmvC8YPRnWDT7V7\nmuyy4ecrTeAFAf/yqyFY9eH36OVkVX0GgF3FZUjrxSHGbgn7f3o3EmthYLMw8vEByKXBAOREpoQJ\nWb3x6y1HsPTtY6qxaGlHNcVlw7qCXPm7O4/8hLUFudhVXIaXZ+TA6xewNvj/pUSf8lpI4/rkHcOw\nbNdxvPjJKfRysthVXKb6LLQ/16Y4kehi5Yet8hwnZqXgyTuGwRNcOKbGc0iJsXfaA1NK/hZuLcZ9\nGw6icGsxKus9hOlEYAgWhsbDN18LNrhYZYP/tpi0eNWDKAKLtx3F3M2Hcd+Gg5i7+TAWbzsKQkJr\nhscvaJbfevxET0QCa9Gev2YxNggIohEWmsI/ZvcLSpoEKi3+Mbuf4fJFC01hYlYK1s/Kxfb5eVg/\nKxcTs1LatQ7RYvy1B1KlR/8EB5Jj2r/Jqlf6xRt8RumVmlU1eFv5JYEeGJpCjduLHy81oLLOgx8v\nNaDG7TVt/ctQUK33pSSzWXK2LENrts+atO4ic657g6YpcFYGVprSXn/TFCrrvCjcWoyfa5sw849f\nypVnUqn2kgkZqjZTEzhcqveGvceunpqNFz85hcKtxbAwtOa7f2ckygRBRGWdB+erG8HQwMbZo1t9\n/5dYjW3JExAYR1Qz9UJ3NiZmpeD3dw3H9vl5oGkKTb4AXbTe4w/Lcn/4zQUVVTbRyWJvSQUq67wo\nujcbS98+LlNsn91TipV3j8DAJCecNgY+f6CUVGK3lVe7VSy91AQOfeM4XLjiVn1Pif/63+9RdG82\nVt49AtckOuRFGoAwQ4qJWSn43aQsOFgmjN776K2ZGNjLiXqvL+z/6d1IiU4WDR4/Ht3+tdxnQRTx\n3L0j8djbx7Bu32lVmai0S6B3nloLMIuFxtDeMdhROBZ+XoCFoZHksOI//+k6VNZ5UPh6MfIHJWLz\n3DFwsHTYtZCOJ7H4pFLdh2/OQF2TX7M/AxMduNzoAx2kR1sZGk9/8D2WT85Cvzg7BBFymW9X7IKR\nsjMCM8CLApp8gqwHmprA4bl7R4IXI5s44onRS6vQKwHiSeZTBkMBDE2r5u+6glzTXr4ICKIRvChq\nxn2j8ddqobD4lozwMl6Dgv++oKSKElKFRFfBrNIvs807CALl45rzzqTA36RTCfMHkyphRFFELGdV\nVSrEclbTygrJnOv+SHLZcKm+CTRFqeLw2pmjUO/x4/HbMvHsnlLNd/7yajcGJDpkFpsUvwcmBkw6\n35qfh/PB6sBn95TiaFkNAMjuuKGl65FOlGkxR197aAzeWZQPn1/QZVSbybwmCEfUJvUEQcTF2ibV\nzkZlnRcnfq7H4BQnWJqBk6VUTDBl0mzKqP4yVVYyZpDKQU9XNmiW08ZxFvRy2lAZbE9Zmnu0rAaF\nW4tlHTuapmQaqvJ7EirrPejlZBHHsfD6eZkpV17tDjOk2FtSgZILdfjzonEY1jdW82aJt9jgYq3Y\nUTg2GARopLi0dzxpmoLDxsisMQkTs1Kwo3AsRFEExzLyzUsphEG1zlMPFgsdLpjc5JeTdzuKy7Gj\nuBypCQHLbum8lMdTXrsdxeU4VVGPontHavZnR+FYzHvtCJZPzsKu4jIsvW2ofI7rZ+Vi5e6SsF2w\nztQkEHXKzp4iZWcEBiAICDPZeeztYxE3Y9AzeqFJVlqGXglQpFmUPQlNOoLjxEyEgEAfomhO3Pf5\nzTHz6Y5lVqyFwcSsFFk/u8btw67iMsN9MqsdgmZE2kTKoqiEkWCmEQdN0zj84yXcktUXgiiCpih8\nWnIBk0ammtJ+d7yfCNSgaQo+XsTCkHm88I2vsOnBG2SDC613/sBaGVh1z3WwMjRq3D786f9+lPU+\nK+s8qvgu/UZ6z3favM2yURYaFobChSvuiCXNtJijs189hD8vGof+CY5Wx6mz3quvNkTlm4QgiDhb\n1YBGH69K1D1+WyaWv/stbnpmH6as2Y96jx8bZ4/GruIyFb11yYQMLN0ZKIct3FqMaesO4D/e/w7r\nZ+XKJbdF08LLaeO5QFZcopeGthuaPW/te/FcwKG2bxyHaxIdMrVbL8uvNKQILVMQBBGnKusxff0B\n/LJoH6avP4BTlfUQdBgiSU5bGEX20Vsz0SfWjv4JDvRy2pASE/i7T6zdFDqt3y+gwRvOmiyvdsPt\n5eXzUh5PuhbSsSvrPaApbRqwtEu7bt9pzMlPR9GeE/K4tzSmnYVYjsYjE4Zg5e4S3LfhIFbuLsEj\nE4YglovK25QgQugqNhhDU5plAqR8vBnJTlaWFQACY7S2IBfJpPRARqQFzQkIohGCSUxpXu/5YbCd\n7lhmlcBZsSRkjbVkwhAkcNYuaYegGbrzzqS4L7GZlPPRTCZgvN2C3PQkzNh4EOOL9mHGxoPITU9C\nvN0c7kx3vJ8IwqFXsSJVBMZzVuwqLgtbB66ZOQpvfXkODE1h1YcnsHJ3CR69NTMsX6B1/WmaQi9n\n4P04NZ5DVYMXd728H+NWf4Ypa/aj9GKd7rt+e0GYo90TUcnUq2rw4lxVIwDostukrPJ7i8fh6SkB\noVyJhaZ1U+4tqcDKu0fIbDElUy00Ey7RS0Pb7cj3BiY6Ee+wYvv8PIiK85LQ2o6NMquekxaPBeMH\no8Hjx8+1TegTG64bZ4QiaxadtqLeI2sVtnRuocdTXguOZeAXRDgFMWw8qxq8Mtvy2T2lWDB+sDym\n0nG6ches1i3gbGUt3pqfB14QwdAUjp6rQi9HImLsndYNgh4OpcmOBDMFm/WgZ3Cw4q4RET1uT0JN\nkx/FZy5h27w8iKIIKrib3yfWjmSDAvLRCr35axajgoAgGkGbxJTWFfw32E53LLOqdvs0WcBGKzLM\naoegGZE2mjDLSEYPlQ1eLAyZEwtfL8aOwrHhFUntQHe8nwjCoVexIlWV9U/g8LvJw/HGAfVa+eVP\nT2FqbhqW7jyO7fPzdPMFrV1/Pe1Fs2MTYY52T0RlUs/r5+FgGawKGlQs23Vcl4nl9vJhVNHKkHJc\nILg4ouk23xRtpZca+V4vpw1wBlh3G2ePDnNBamnHRsqqh+rxtaQdZ4Qiawad1scLsrmFsn/rCnLD\nzk3rePruUAFdP2mnY95rR3C0rAYrd5dg4+zR6BsXeOAaHVOz4RdEPPJWuJD0X5eO77Q+EPR8uGw0\n1hbkygtMiQ3mskWW8clQ0HQWJFpozRAEARl94jBj40HVGBl1X4xm2K3a89duJYxlAgI9uOw6cd9u\n7L6RNIdD43h7cgfdrczKLHYJYamYD47Vnr8ca5477U2ZvVXO86unZpu2WaSnIek3UUOyu91PBOFw\naqy/V0/NxpYvzqBoWjYaPH40enms/9tZ4G9nVb/99T8MkueQ1nVuy/XvrNikfJ/uqndmgnBEZVKP\ntQRESpW6dykxtjZnlUMnq2RE4fXzqKzzdPnuSHt2bKSsuhZjsbO14/RgZWhNrcKUNrqdtbZD0dq4\ndfUuGGGoEJiBeo+A3V+Xa+5Ix7UsddEh0DStydR7ekp25A7aw6DnvrijcGwX96z7oMmnP38JCAi0\nUd8k4KWgDrQUf1/65CSeunM44gwQhURQUcu4NotdQlgq5qPJqx335+SnA86Otx/pSgKil0sAAI1e\nUY7DKTE2uGwWeHkBS28biid2HkdlvQebHrxBc65IWnsdiSOdFZsIc7R7IiqTeolOVtagW7rzOAq3\nFmNiVgrWFeTKlPmWssrKySoIAi41eDHjj1+2ymzrTBjdsZESlQ0aTr/dZYcxxWWTr5FkbrGuIBe9\nHG3L/Ldlh6KlcevqXbAUl01zpzLFRXbmCNoOvyBi/d/OBnYCFZiRNzCix010snj01kyyc9cCzHJf\njGaIIjTn76yxJKlHQKAHvyBib0kF9pZUqD7/3aQsQ+0kOax4ZMKQsHVIkqPn68WZxS4hLBXzIejF\nfZM2cyJdSaB8f1FWGZH1+9UFUdSOw9vn58mOtU0+Xs5PhLL5OhpHOjM2dfU7M0E4ojKpF6pBx4uB\nkp5eHKvSYfMLoq47jDRZK+sCZhjdkdlmBFKi8ufapg5n8QVBRFWD1/TsvMVCY2jvGOwoHAs/L8AS\ndOi1WJp3ulo6dugORU5aPJZMyAAvit2CYdkarFYGGYlObJ+fB78gwkJTSORYWInWFoEBWGhK05kv\n0oxPmqaQkexqk8P21QrC8GgdtA5jmcwjAgJ9mMUUuuLhNRlTfW66Fslsz35lUD6jlGtMo7HFrHYI\nmqEb9w1qOeq3H9lKAouFRkaSev2e5GBV7y8E0Q+9NV5KjA2v/3oMbBYGsZwVvWPteGdhPnzB8mya\nAlbcNaLDcYSsw69u9OwndAtQatApkRxja0F7LZx9F03aGTRNyc6x7c3iGxm79sBioXVFZVs7tnKH\nItllwxO3Z6p2QroDw7Il+Hw8TlU1hO2QD01xkcQeQZvBsbQm08IsbRo9SA7bkYoN0QDC8Ggddiul\no6lH5hABgR4kZ+3Q+8aos7YgCJraY9Gg+2nWM4o868wHG3SnXfTGV/KYrpk5CqxJVLpIVxL4fDxO\nXiLr96sdiU4W6wtyUaiYB0XTsvGvO46hst6DomnZ+M1bX6Oy3oONs0fDZqEx+9VDpsUREpuublA9\nuexn9OjR4pEjRwz/rrLOgylr9odl0rXYd0a+210Rym5L4KyodvvaxbTryvFoy7GV53rfhoNhrL3B\nKU5wVotZrL0ONRA6f89XN+L3738XxrB66s7hYWYuBAR6+HuNG9PXHwi7TzRc2Eydv9EQKzsDkWI6\nRwvOVzfitS/OYNroAWGaeiFx0NT5q8TAJz/oSNMEEcLZVZO6ugtmwvT4+9s/Hw9bPzw9JdtQ/DXw\n/Og0mBUzzXpGkWcdgA7MX63Y+/caN1a8923Y/F1x1wjT5l0kn71k/d6jELG1AwBcbvDgWNkVpPXi\nUHbZjRc/OQUAWDB+MBKdLOI4q6yvt/LuEZi7+bD8247GERKbrgrozt+oZeq1BCPsu57OrDCbWdeV\nzEUjmnnnqxtVCb22Ov52JSgdzQ+Tqg8IrhJ0lW5bNLGaIwmiQ9IyKAqaTCESBwkI9OH185paTk/d\naSz+djfdTzPXsMT9tvtCT4vsqTvNm3eRfPaS9TuBhHiORZ84O2oafZi7+bDmO+jqqdl4dk8pHKya\nxdnROEJi09WNqzKpZ0TXKNThRanFJ/3t8wuqv7sT+6I1R1glBEFEjdsLt5cHL4qwWxkkOdW1+B3V\nhOrITpmRYyu/25Ljb6KT7TasGVHHneupO4d3SX8Ieia6SreN6MURmAESBwkIjIOitDXJKINZBdbC\naGqytieOm8GMMrKGbQ1mut+aNUYEAXTG+sHvF1BR71FpjZmleSfqONtvn59nSvsEPQdS3uBS0OlW\nYuwlu2wor3bLc2Pl3SNgs9BYPyvXtDhC1uFXN67KpJ5R9p20u6PcMVRqtnVn/ba2Zu0FQcTZqgZc\nrG1q8TwSOKumw1MC17ozWkd3XI1cN+V34zmr5hgIghBRfUCjoGntnT6a6OwSGEC83aKprRRvj2y4\n7+msZoLuARIHCQiMg6GA1VOzO+zuGW+3aGqyGn1+mMWwM5N5YtazMYGzYsmEIe1aBxNoI9LrB79f\nwImLdWHXbGjvGFMSe4IOw1XowRJXBO2HIIioqPNg+bvfhrHzjpbVoLzajfRkJ2gKWPzmUdPiCFmH\nX92I+qSe3k6hkn3X1h1E5Y7h8slZcvJL+Tegv5PYFVpKbc3aVzV4ca6qUQ5AeudR7fbhxU9Oomha\nNvrE2sGLIi7Ve1Hr8aGXpeVd047uuLb1uknj3MthxY7CsRBFUXMMeBGm7QCbAUEgO30EHUdlg1fT\nvTBx3KCIaiK1N65ebYgkWyAaQOIgAYFx8DoM1xV3jTDUTmWDV056AYH7b+HrxYY19cxi2JnFQATM\nezZWu31ycggInNuC14uJblUHEOn1Q0W9R/OamaUVSevMU7Pcewl6FrTm27Jdx7F8chYKtxYjNYGD\nlabg9gkqBl9H4whZh1/diOqknt5OYUayq11GEcodQyX7S48JptxJbG3XMlIJv7Zm7b1+Hg6WafU8\nvH4elXVeCCIwS+HYs74gF/Fcy302Y8e1NU0MrXF+7aExmmOgpx3TVdoDvKDdH57s9BEYAAURtwzr\no9Ike+7ekaAQ+XlE9OJaRqTZAtEAEgcJCIyDZSg8flsmzlc3Bf9N4/HbMg27h/p5QfP+8/PG3G/N\nYtiZxUAMQNTW6zT4bCS6VZFBJNcPfkFnXpvk6kzpzFOS07s64dOJo/GcVXbEbfT6UbSnFI/flqli\n8HU0jpB1+NWLqH6L0NopfP7jUpRW1GHKmv0Yt/ozTFmzH6UX6yAIrT/UJdYbANS4fZp/Swhlw+nt\nWlY1eOVEVHv61BqUWfv9y27GnxeN0yx/YC0MGr18i+chCCJ4QcSSCRlhTIrC14tR1eBtsS/K8dNq\n3wxojfPsVw+hd6wtbAw6oz9GwNCUZn8YsiogMABRBB57+5jqHnjs7WMgOZGuR6UOW6Cy3tPFPes+\nIHGQgMA4BBG40ujD8ne/xX0bDmL5u9/iSqMPRpeRuvefwU1ms9ZXSgbi9vl5WD45C1u+OAO+Hc8z\nPd0zo2PU3daOBK2DoSL7XBF15ilZd12dsDK05nxLibFh+eQsPPNRKeZuPoKpuWlYtus4FowfLH+H\nxBGC9iKqmXpau2lTc9NQuLU4LLnWFrqrkvW2bt9pFE3LxtKdx1V/67HhWtrZM1MIWAttydonOllc\nk+ho8TyqGrz4zw9KsHKFLRIAACAASURBVOyOYe3apexIrb8Wk1Hqk/IzrXFOdtng9gb6pmRBdjft\nAZoGnrt3pJyQkRhWREuKwAh8goj8QYmYd9MgucRo4+c/wm/CJgFBx+DlA6UWyhK5dftOw2eQBRPN\nIHGQQA8Dn/ygXb87u2qSyT3pfvDxAv5S8nNYaens/HRD7VhoSpNxZDGY1DNrfcXouIq2h6nHC6Jm\n/DXKAu5ua0eC1hFpJp3dQmsyZe2EgX9VItnJhunPP3fvSPxc24R4zooF4wdj3b7TSImxqRh8JI4Q\ndARRndTT0pNLdLLtps1rOeG+syhfdr+V/tYqn21J2647UPlpmsLARCfiHVZsn58HXgTsVlrlfuv1\n89hbUoHZYwe2y12nvbX+eiW1Hr8Qvqhysaq+5aTF44nbM3HfhoOaZc/dSXuAAgW7lcbKu0fAwQaY\nk3YrDQqEoULQdjhYBgVjr1GVGK2ZOQocS3b/uho2Cx1mqlQ0LRssWfjLoHXiIE3iIAGBLqwWCpNG\n9g+L+1aDsYWmaU1tvqenZBtsx5z1lVn9AQBWL/4yRseoe60dCdoCyhTNST14BQG1br/KGOEP912P\nGDsxT7naIAgifrjUgBc/OYnlk7OQ6GTRN86OS/UePLztqCr2JLlYTMxKQUqMDdvn56FvHEfiCEG7\nEdVJPa3dtJQYG1ITOCS7bFgwfjDiOSsavXybX3jbW6uewFmxflauzBJUZuSrGrydbkGtp+HXy2kD\nnNq/kRKTz+09Gbbj1dbdhfaMnxaTUcvU4/mPS/Gf/3Qd1hfkojC4O7JkQkaLJibdSXtAECEHfAmp\nCRx2FI7twl4R9DR4/QJe/vSUavH68qen8NSdw7u6a1c9RBFh8WjpzuN4m9zjMnhB1I6DxCiDgEAX\nPr9oStxPdLJ49NbMbsNCM7M/gk78bc8aqzutHaMFkTQTZChg7rj0sIRu+7QZwyGKFH6z/WvV3PrN\n9q/J+v0qRFWDF89/XIqpuWmI56yoavDCQlOyyy3QHHuevXcknrxjGP77w+/x9JRsktAj6BCiOqmn\ntZuWwFnx2kNjcLG2KazMtDWjh/ZCEEScqqzHC39pztqnxNjQL5iR72wqf2umHXpQ9vPZPaVYefcI\npCc54bAxKkaf2dBiMoaaeuSkxWNOfjruWfsFkl02uW80jS5nQbYVgo5xh0hEOQgMgNIpVyKSZF0P\nXuceF8g9LsOvY5RByscJCPShF/fbsyyzWdRMWVs7mMTtXWeGwkxWnN4ai8TfrodZ80UPTX4Bz3xU\nqkp6P/NRKf5w//Um9J7MLYJmCIIQFou3PDRGc35QAOqa/Hj01kxSdkvQYURtUi90x0dJaXXZLZj9\n6nGVtsbPV5rQO9YWYKq14ziCIIAXAVEUwxYdSqbZ3pIKAAHmgZIt1plU/ksNnnZp+HWkfNbI7lvo\n960WOozJKJl6SJ8tGD9YDqDl1W7M3XxYZrnpsSCVx+FYBn5B1C2f7gzYLAwmZqXIuzs1bh92FZcR\n0VQCQ1AKNivLTDqDqRfJnfZoAE1Rmvc4RTKuMhiaQuGNAzFt9ACVNphRoX4CgqsJeiYQ2w0yXKsa\nvNh+6Jzq/tt+6Bz++aZrDTHTJLaK8jn0/MeleHpKdpcx3PTiL03ib5cj0triFppCcow6aZIcwxrW\nitQDBWg/201pnaAngddYg1+u92rOD+ldtneM3dB7MVlbE2ghKpN6re34+PwBsfLHb8tUZdLXF+Qa\nYutJx3n+49KwrLzyeG3RzOssKr8giGj0tF/Dz2g/je6+6ennhTIZr01xqkRI9bQSGQqaLMgEziof\nJ9llC9NZMXOHsK2IszF4ZMIQLFQIq64tyEWcjST1CNoOmtZhbERYti3SO+3RALuV0rzH7VYyPhLs\nVhqTr09VaYOtLciFnSW6gwQEehBF7aoEo0QhCqKmNh8FYw1psVVWT82GIBgzBTLzucIyFBbfkoFF\nb3ylOjfWrBpMgnYj0triMRyt+eyN4cx5rthZ7fbJc+vqA63Bmv7Dfddj6e1DMXeTOq6yFgq/f/87\nPHprpqH3YrK2JtBCVEYbvR2fGrcXlXUeAMCSCRlhu5qFrxejqsFr+DiSJXV5tRs5afFYPjkLDR4/\nfq5tgiCIshadEqkJHDiWQWWdB+erG1FZ54HQxvIiQRBVv/P7Bc12Qr8nZfrPXGrQ7E8kGGF610Jv\nnLW+P/vVQ+gda8OfF43D/mU348+LxsFmZWQR0u3z8xAXdA4KPSeapmV2ofTbzN4xqHb75OMsGD9Y\nU3fPyFwwA5UNXnlBIPVj4evFqOzkfhD0bAiCNmPD4LuUYRi9169GuL2C5j3u9hL3WwlNPu0xaiJj\nRECgC4qC5hrIKAnN4xfkpBcQuP8WvfEVPH5j9x+vwxzkDSYZlYy/7fPzsHxyFp7/uLRdzxWzzo3A\nfOi9J5n1XlLn1n6u1LnNufZNOs928ty6+sALYljs+832r1F+2R0Wey7VebG3pMLwezFZWxNoISqZ\nelo7PskuGy7UNKHw9WIku2x4dvrIDu8KSceJ56xyQi+U/bdx9mhkJLvC2GIBXT+P4cx7aMZ+YlYK\nlkwYorLNlo55qrI+rP1YuwUvfnIqzOhifUFuROr5je6+6X3f7eXRP8Ehf3a+uhF7SyrkcuactHhd\n8w4tdqHyONL1a2sfIwU9LSmeaEkRGEBXzaPu4OLd3UH04loHGSMCAuOgKIStgdqjpWrW/SeapBFs\nFuMP0Nc05YnuWZcj0trikX6ukOcWgQReZy44Qgw5y6vdsAadt9vzXkzW1gShiMqknqTBpnS4TXTZ\n8OCmQ7Lm2oUad5scZ1uqY5d2lmrcPqQmcCpdt5y0eCwYPxgNHj8q6j3ISHaptOhEiJi95gtN/QjJ\nEVfrmKF6eFNz0+SEnrKdHYVjNTP7OwrHorLeg2f3NGudNHp59I23AwAq6zy6NfvtqemXxkg5zhOz\nUkBRFM5XN+qOaWvXJfR7R8tqsOWLM9hROFZT1zC0/xRFyb+Xrl9rx4w0LDSl2Q+iJUVgBF01j9p6\n717N0Ls2Zun6RAPIGBEQGIdZWqpm3X9mPQ+09Km2fHEGK+4aYagdAGAonWcj0dTrckRaWzzSzxXy\n3CKQYGHCdeBTEzg0etVJuNQEDikxNqyflduitnIk1tZEoy86EXXlt4Igor7Jj1dm5OCJ2zOxcncJ\n7ttwEDWNXtUN8dzek1g9NVume2vtCkmsuClr9mPc6s8wZc1+lF6sk8tbpZ2lXcVlWD01W9Z1kxh7\nK3eXYNq6A5i+/gBOVdYj0cmif4IDyTE2+PyCZuZdEATdY2rp4emxzHy8dvuSxlxlvQeFW4vx2NvH\n0CfOjlibtcVzbW0s9CCNkTTOErNw+voDLY5pS9dF73uP3pqJPrF2eYxDE3rK/q9471usK8hFagKH\ndftOo2hay3OhM8CxNNYG+yT1Y21BLjiiyUFgALGc9jyKNUk7Rg8JnFW+p6TjrivIRQJnjehxexLs\nVu1rY7eSe1xCjF17jGLsZIwICPSQ5GDxyIQh8pp35e4SPDJhCJIcxtYxZsWotq7lWoOkT6U8rzn5\n6WiPDB5robFm5ihVnwK6ViS2dAdIVTVaa/iOItLrIodNu32HjcytqwmCIIKixLC58Pz0kUhwWlWf\nFU3Lxr/uOIaVu0uw+JYMXW1Ps2Kpso/teZ8n6P6IOqZeVYMXs189hFX3XIcn3/lGTmxVNXh1mV0M\nBdm5tqrBK2es2+LG1DfOhqfuHA4rQ8HHi2GMPb3f6WXeeRGyeUOoMy8vQNbDk36nZJlNz03FvJsG\ngaEp3V0jpcaclKFP4KyoqG/ZEbe9zlShu28URWH6+gO6zsNt3a2Tvvfe4nFwe3nwogi7NbBrobUD\nIfU/f1Bi8xgxFN5eMBaCIIJjGbyzKL9L3W/dXgEvBXUCpR3plz45Gdhpd3ZqVwh6MGrdAuI5Gtvn\n58EviLDQFASRR61bQIw9csetdvvw/tfl2PTgDSrX0t4GXROjGU0+AdX1btW1OV1Ri14OkviUUNck\nYLfGPJqdn45YrvXfExBcjahy+zTvmznjBqGfre1LfbNiFE1TGJzoULWT3I51lZY+VXtcfQHA6xfw\n8qenVGuslz891S5neMJ06Vmodes/V8xYFzV6BBSfuYRt8/IgiiIoisKnJRfQy9EXCuUggihHVYMX\nJy7U4+DpSrz20BhYaAoMTYGiAkzhbf/8C/CCCF4E3F4/FowfjHX7TmPRG19h+/w8CIKo+75rFou1\nOzqTE5iDbpXUoyjqdgAvAGAA/FEUxVVG25Bqz60MrUpordt3Okxv5NFbM5Hismlqz2X2jmmxjl0Q\nRJytasDF2iZs2n8Gc/LTseWLM1g9NRs2C637Owl6+hGiKOo78zqsYXp4u4rLsLYgF7u/Llc5lk3M\nSsHaglyVE5OWxpyUsW/w+Fvsc0dq+pXHO1/d2KrzsBGH3VBdwtceGgOPX1BpDv5uUhZEAPmDElEw\n9powV8VhvWNg6QY7tX5BVOkESvjtpKwu6hFBT4TLRuOnah8Wvq6e5wMSIps4EgQBN2X2Vt1f7dU+\nilbYrTQSXBzu23BQdW0IU68ZvCBi/d/OYv3fzqo+nzl2YJf0h4CgJ4CCiFuG9VHF3+fuHWnYtVY3\nRhmsGPD5eJRWNoS5gQ5NccFqbXvZmJ4+VXs0YnmdNdbvJhtbYxE3yp4HmoLm+oQ26dFrtVAYNTAR\nMzY23zdrZo6C1ULmw9UEr59HkovFjUNSwFoo1DT6VZr36wpyYbPSKhfc1VOz8eyeUly40oTaJr9m\nHDHyXtwazNQpJehe6DZvEhRFMQBeAXAHgCwAD1AUZTibEapzJ0HJzNNzQQXUrjItuTFVNXhxrqoR\nS3cel91v95ZU4Nk9pbpOrMr6d2XmXdkf1sLoOvNSFKXSw9s+Pw8PjLkGaQl2zM5PV7l67S2pwEuf\nnMT2+Xmq9kMDhcRgk5iMen02y5mqpfMz6uSjxR48V9Uof5aTFo85+emY8ccvceLnOsz/5eAw57OF\nrxejot5j6LiRgsSuVIJochAYRb1H24Wt3hPZB7ZZbofRDF1nVx9ZTEnQjYNE94qAQBeiCDz29jFV\nbHns7WMw6gFhlvt0Rb1Hsx2j6y1Jn0qJ1AQOFsb46wujE1uMauoRN8qeB0FnfWJWHsPnFzWdlX1+\nsgC6msCxDEQAT77zDb77e12Y5v2C14vDXHCX7TqOJRMyVO/jkQRZq0cvuhNTbwyAH0RR/BEAKIp6\nC8DdAEqMNCIx4J7/uFSTmdcn1q5KbLXEQOsbx+m6MV24EnCyKa92q3TtjpbV4Imdx3WdWJXQyrwn\nOlmkJzlb1MOb99oRFG4tVjjasrjibgz7zd6SCvxuUhYGJOrXbkrnr8VkVPbZLGeqls7PqJOP1rWT\nrgkAVRn0un2n8fz912se1893jxdqq4XCmpmj5IUB2ekjaA+6yoXNLLfDaAZxyGsdNE2haFo2lu5s\nfhYVTcsmDBiCdmPgkx+0+7dnV00ysSeRg8+k2GJWjDKrnRSXDesKcsPYLiku46wVhqY0HYKNbpwS\nN8qeBzMZn1ogz3YCIDAPpHc4Pc17LRfcAYkOPL7jWKfEEbJWj150p6RefwBlin+XA/iF0UYkBtzT\nUwJU0pbcUIGWXWVaqmNnLQwavbyKFahM7LXmxNpS/x027T5p6eFJ7Vp13HZa282Uzv9oWY3MAEx0\nsugXz6kSoGbV9Ld0fu1h/YW2I10TrWQrL4jtGqPOgp8HPjh2XlMTh4CgregqFzbifts6iENe6/D4\nBTzzkVrv5ZmPSvHC/dd3ddcICLotGJ3YYnSNZlaMMq0dC42hvWOwo3As/LwAC0MjxWVrl2QKQ9Oa\nTrpPT8k21A551vU80CbdH3ogz3YCACoTzNDcAKDvgnuhxo2jZTWdEkdI/IpedI9shgFQFDWfoqgj\nFEUdqays1PyOxIDrHcehXzzXopNSa64yem5MiU4W1yQ6UDQtW3a/basTa2tIctp0+6TXH2k3M9R5\nsrXdTOX5Hy2rwcrdJXDaLGGMxpbGwihaOj8j0Lp21yQ65M9CS7DX7zsd5nzW3h3f9qKl+ZvisuHO\n61Mxd/Nh3PLcXzF382HceX1qp/aPoOeDY7Ud/sxwUW5p/prt0BWNSHKwmg55Rh0qoxl2CyO7s9+3\n4SAKtxajst4DmwkLzrasHwgIuitamr+clUbRNPU6tGhaNjiDep1mxagUl02znfasZywWGv3iOQxI\ndKJfPNduDeREJ4tHb81UOek+emumKWtP8qxrGV0de+0W7fvDbpKediKnfd8kcmRORAPaOn+VUlVS\nBVzoO2e/eHvYPHxu78lOiyMkfkUvqO5Ct6QoaiyAFaIo3hb8978BgCiK/633m9GjR4tHjhzp8LHb\n62IlCCJq3F64vTxomoIYdNA1wwmrPX3y+wVU1HsM72Z2hYuXWcfUagcIaJ4IgoBLDV4Ubm0u23hz\n3i/A0HSHd3yD6NAgac3f9l5DAgIJgiDifE0jPH4RNBXQkrFZKPSPd4TeY6bPX+II2Do8Hj8uNXpl\nR8gkBwubAXfKaIcgiDjxcy3mK+L2hlm5GNonNuLzV0JHyjUJogsRLL81df4Kgoizlxpw7nIjHGyg\nkuSaXg4MTHIajsFmxSifjw+sZ4LtpLhshkwyIoFIrj2vsmddu0/WrHc3IxAEEWcu1eOny275/hjQ\ni0N6ksu069bU5EeVu/m+SeRY2O3k2d4NEbG1Q6iJzsSsFPx2UhYoBNjU/5+9u42S47rvO/+7Vf0w\nPTOgMBgMaAkDPojhw/JkQQkzcRI6q6XFRMtjee09CyiSQwSKnFABGcuPoansObtJXmRXNFeRZTkE\nLDhWBIPxE5A93mPJjn2kcO1YJ7JmKAmxKT6Y5gOGVghgMCA5Mz3TXVV3X3RXT/Vzz3T3VNXM93NO\nH0xX37r3f2/dvrfqortrT8FVcT1QoMqn+lzHKOMYecFg1g56xfiVam0PVJJGm29Iut0Yc6uk1yV9\nRNLf246Ct3pXGccx2jeWl9r/ZN22xhT+b+Z2lNWvQZXZLp9w29SekYHdBnw7bPUYAiHHqSzgxTFh\nxzGWpE0+n9FBFvHachyju77nhlSN20DcHMfolv1j2lPI9v2+GdQYlc26Ojgx2nc+gzTsc08kk+MY\n3bp/XDcUckObV0ZGMjrIIt6u1stPVd0wEmOAVYxfO1NiRh9rrWeM+TFJ/1GSK+lXrLV/FnNYSDkG\nLuxG9HukGf0X2DzeN0B7vD+wHehniEtiFvUkyVr7ZUlfjjsOAAAAAAAAIMkStagHAAAAJMFWf19x\niL/FBwAAUIdf4AcAAAAAAABSJjF3v90KY8wVSa+2eXm/pKvbGA4xJLP8YcZw1Vr7wFZ3TkH/bZS0\nmIinu04x7ab+m7R4pOTFlLR4pHj6b9raIQ5Ji0dKXkzd4mH8jVfSYkpbPFvuv136bi9lJ13a45fS\nXwfOfYeHOsarbf9N9aJeJ8aYOWvtLDHEG0Pc5Sclhs1KYsxJi4l4uosrpqS1RdLikZIXU9LikeKJ\niXboLmnxSMmLKc54aIvukhYT8SSj7EFIe/xS+uvAue/wUMfk4uu3AAAAAAAAQMqwqAcAAAAAAACk\nzE5e1Pt83AGIGJJQvpSMGDYriTEnLSbi6S6umJLWFkmLR0peTEmLR4onJtqhu6TFIyUvpjjjoS26\nS1pMxJOMsgch7fFL6a8D577DQx0Tasf+ph4AAAAAAACwU+3kT+oBAAAAAAAAOxKLegAAAAAAAEDK\nsKgHAAAAAAAApAyLegAAAAAAAEDKpHpR74EHHrCSePCI69EX+i+PmB99of/yiPnRF/ovj5gffaH/\n8oj5sWX0XR4xP/pC/+UR86OtVC/qXb16Ne4QgC2j/yLN6L9IM/ov0oz+i7Si7yLN6L9IqlQv6gEA\nAAAAAAC7UaIW9YwxP2WM+TNjzJ8aY37NGDMSd0wAAAAAAABA0mTiDiBkjDko6ccl3W2tLRpjflPS\nRyT9u1gDayMIrBZXSip5vnIZVxOFrJaKZZU8X4WcKy+wKnuBchlXk2M5OY4ZWFn95rcb9NJmYZog\nCORbyVobe/uurXlaLJbkBVYZx2iykNPISGLepgAwdIyDAIA0Yd7CoNCXsBVJ6yEZSQVjTFnSqKS/\njDmeloLA6vk33tZDZ+e0sFTUB+4+oB+//w6dPDevqfG8fvaBO/Xo+YtaWCpqeqKgMydmdeeNe7a0\nUNRYVr/57Qa9tFmY5jN/8Lw+eu+teuzCYI5XP9bWPL24uKKHz83XYjl1fEa3T44xmAPYFRgHAQBp\nwryFQaEvYasS8/Vba+3rkv5vSa9J+q6kN621vx9vVK0trpRqC0aSdHTmkE5W33wn77uttqAnSQtL\nRT10dk6LK6WBlNVvfrtBL20Wpjk6c6i2oNcu7bbFXSzVBvEwlofPzWuxyLEGsDswDgIA0oR5C4NC\nX8JWJWbJ1xgzIemHJd0q6bqk3zLGHLfWnmtI93FJH5ekm266advjlKSS59febJK0t5CtPY/+HVpY\nKqrk+QMpq9/8doNe2ixMM+jj1U2n/usFtmUsXtDxDtbAtknC+IudbZjjIP0XadZr/73lk1/aUv6v\nfOqDW9oP6Ganj72cv+9s29l/6UvYqsR8Uk/S35b0srX2irW2LOk/SLq3MZG19vPW2llr7ezU1NS2\nBylJuYyr6YlC7fn1Yrn2PPp3aHqioFzGHUhZ/ea3G/TSZmGaQR+vbjr134xjWsaS4WvWSIgkjL/Y\n2YY5DtJ/kWb0X6TVTu+7nL/vbNvZf+lL2KokLeq9JulvGGNGjTFG0v2SvhNzTC1NjuV05sRs7U13\nYf6STh+f0fREQaeffklPHDtcey38jbbJsdxAyuo3v92glzYL01yYv6THjw7uePUVdyGnU9V+FMZy\n6viMJgscawC7A+MgACBNmLcwKPQlbJWxNjkf5zTG/EtJH5bkSfqmpH9krV1vl352dtbOzc1tV3h1\nuPttsm3T3W/7Ogit+i93PMI2Gnj/BQahx3GQ/os0G1r/5eu32AZb7r87dezl/D01En/uQF9CB237\nb6J6iLX2n0v653HH0QvHMZrak6/b1vh8mGWhs17aLIntOjKS0UEGbgC7GOMgACBNmLcwKPQlbEWS\nvn4LAAAAAAAAoAcs6gEAAAAAAAApw6IeAAAAAAAAkDIs6gEAAAAAAAApw6IeAAAAAAAAkDIs6gEA\nAAAAAAApw6IeAAAAAAAAkDIs6gEAAAAAAAApw6IeAAAAAAAAkDIs6gEAAAAAAAApw6IeAAAAAAAA\nkDIs6gEAAAAAAAApw6IeAAAAAAAAkDIs6gEAAAAAAAApw6IeAAAAAAAAkDIs6gEAAAAAAAApw6Ie\nAAAAAAAAkDIs6gEAAAAAAAApw6IeAAAAAAAAkDIs6gEAAAAAAAApw6IeAAAAAAAAkDIs6gEAAAAA\nAAApw6IeAAAAAAAAkDIs6gEAAAAAAAApw6IeAAAAAAAAkDIs6gEAAAAAAAApw6IeAAAAAAAAkDIs\n6gEAAAAAAAApw6IeAAAAAAAAkDKJWtQzxuw1xpw3xjxnjPmOMeZvxh0TAAAAAAAAkDSZuANo8FlJ\nv2etPWaMyUkajTsgAAAAAAAAIGkSs6hnjHmHpPdJ+geSZK0tSSrFGRMAAAAAAACQREn6+u2tkq5I\n+oIx5pvGmF82xozFHRQAAAAAAACQNEla1MtIOiLplLX2vZJWJH2yMZEx5uPGmDljzNyVK1e2O0ag\nL/RfpBn9F2lG/0Wa0X+RVvRdpBn9F2mQpEW9BUkL1tqvV5+fV2WRr4619vPW2llr7ezU1NS2Bgj0\ni/6LNKP/Is3ov0gz+i/Sir6LNKP/Ig0Ss6hnrf1vki4ZY+6sbrpf0rMxhgQAAAAAAAAkUmJulFH1\nCUlPVe98+xeSPhZzPAAAAAAAAEDiJGpRz1r7LUmzcccBAAAAAAAAJFlivn4LAAAAAAAAoDcs6gEA\nAAAAAAApw6IeAAAAAAAAkDIs6gEAAAAAAAApw6IeAAAAAAAAkDIs6gEAAAAAAAApw6IeAAAAAAAA\nkDIs6gEAAAAAAAApw6IeAAAAAAAAkDIs6gEAAAAAAAApw6IeAAAAAAAAkDKZuAOISxBYLa6UFASB\nfCtZa5XLuJocy8lxTNzhbUlYp5Lnb6ku/e4/CEmIIU7r656urpbkBVYZx2j/aE75/K59mwLYheIc\nB/uZg6L7ZjOOMo5RsVSfTy9pAADpwvk7Nos+g0HalT0nCKyef+NtfeYPntdH771Vj124qIWloqYn\nCjpzYlZ33rgndSfWYZ0eOju3pbr0u/8gJCGGOK2ve3rh6ooePjdfq/+p4zO6Y/8YgzyAXSHOcbCf\nOajVvk8cO6yf+73ndWV5XWdOzOr2qXG9eGW5Y5rdMt8BwE7B+Ts2iz6DQduVX79dXCnpobNzOjpz\nqLagJ0kLS0U9dHZOiyulmCPcvLBOW61Lv/sPQhJiiNPV1VJtcJcq9X/43Lyuru6O+gNAnONgP3NQ\nq30fPX9RJ++7rZbP5eX1rml2y3wHADsF5+/YLPoMBm1XLuqVPF8LS0XtLWRrb6bQwlJRJc+PKbKt\nC+sUtZm69Lv/ICQhhjh5gW1Zfy+wMUUEANsrznGwnzmo3b57C9na32U/6Jpmt8x3ALBTcP6OzaLP\nYNB25aJeLuNqeqKg68WypicKda9NTxSUy7gxRbZ1YZ2iNlOXfvcfhCTEEKeMY1rWP8NXsQDsEnGO\ng/3MQe32vV4s1/7Ouk7XNLtlvgOAnYLzd2wWfQaDtisX9SbHcjpzYlYX5i/p8aOHa2+q8PdzJsdy\nMUe4eWGdtlqXfvcfhCTEEKf9ozmdOj5TV/9Tx2e0f3R31B8A4hwH+5mDWu37xLHDOv30S7V8Dozn\nu6bZLfMdAOwUnL9js+gzGDRjbXo/5jk7O2vn5ua2tC93vx38/oOQhBg2oa/AWvVf7oSEbTTw/gsM\nQo/j4FD6L3e/mFzpzwAAIABJREFUxTYZ2vh7yye/tKU8X/nUB/sJCbvLlvvvTj134Pw9NRJz7kuf\nwRa07b+7tuc4jtHUnnzcYQxUv3VKQpskIYY45fMZHWRAB7CLxTkO9jMHtdx3bPNpAADpwvk7Nos+\ng0HalV+/BQAAAAAAANKMRT0AAAAAAAAgZYb2mU9jzPdI+l5JVtI3rLX/bVhlAQAAAAAAALvJUD6p\nZ4z5R5L+RNL/KumYpP9ijPnRYZQFAAAAAAAA7DbD+qTeo5Lea61dlCRjzKSkr0n6lSGVBwAAAAAA\nAOwaw/pNvUVJb0eev13dBgAAAAAAAKBPw/qk3p9L+rox5rdV+U29H5Z00Rjz05Jkrf3XQyoXAAAA\nAAAA2PGGtaj3UvUR+u3qv3uGVB4AAAAAAACwawxlUc9a+y/Dv40xE5KuW2vtMMoCAAAAAAAAdpuB\n/qaeMeb/MMbcVf07b4z5qiqf2HvDGPO3B1kWAAAAAAAAsFsN+kYZH5b0fPXvj1bzn5L0P0r6P3vJ\nwBjjGmO+aYz5nQHHBgAAAAAAAOwIg/76bSnyNdv/SdKvWWt9Sd8xxvRa1k9I+o6kG/oNJgisFldK\nKnm+chlXk2M5OY6pbQ+CQL6VrLV1r/eSR/ja9WJJxZIvx5GsNW3zapWPpJ73TxLPC3R5eV1lP1DW\ndXRgPK9MZjDrw53ae6t5TBSyWiqWm453uL2fsgZtbc3TYrEkL7DKOEaThZxGRob105fYqcplX5eX\n12v96MB4XtmsG3dYQE/iHAfD+cMPAvmBlR9Y5TOOvMDKC6yyrqOca1TyrQJrZSRlXaOyb2WtZEzl\nkXEqc2LZD1qef5Q8X9mMo4xjVCz5MsbINZLjOImYiwBgJxn2vML5O6T217HR/pF1jDKuo2LZV8Yx\n2j+aUz5PX0F/Bt2D1o0xf1XSG5K+X9I/jbw22m1nY8y0pA9K+leSfrqfQILA6vk33tZDZ+e0sFTU\n9ERBZ07M6vapcb14ZVmf+YPn9dF7b9VjFy7WvX7njXvqFu1a5XHnjZX7fbyyuKI33lrTF/745Y55\ntcrn7I9+ryT1tH+SeF6g5954WyfPzddiPX18RnfduKfvhb1O7d1rOzTm8YG7D+jH779Dv/CVF+ra\nONwerUfcbb625unFxRU9HInp1PEZ3T45xokBelYu+3ru8nJTP7rrwDgLe0i8OMfBcP6Inh9Mjef1\nsw/cqUfPb8zPpx48os999UX9/rOXNT1R0JMPHtEvRp5/+kP3aCTr6J/8+2+2PP+IznFPHDusn/u9\n53VleV2PHz2sL37tZf3U37kzkfM/AKTRsOcVzt8htb+OvXVitKl/ROf+U8dndMf+MRb20JdBf/32\nJySdl/ScpM9Ya1+WJGPMD0j6Zg/7/7ykn5UU9BvI4kqp9qaSpIWloh46O6fLy+t66Oycjs4cqi3w\nRF9fXCl1zWNxpaTFlZJeXVzVo+cvds2rVT6vLq72vH+SXF5ery2ESZVYT56b1+Xl9b7z7tTeW83j\n6MwhnTw339TG4fYktflisVQb8MOYHj43r8Vi8voBkuvy8nrLfjSI9ygwbHGOg+H8EZ0vTt53W21B\nrxbPU8/o6Myh2vNHGp7/zG99W9dWym3PP6LbHz1/USfvu00LS0U9dqFyPhD3XAQAO8mw5xXO3yF1\nuI5t0T+ic//D5+Z1dZW+gv4MdEnYWvt1SXe12P5lSV/utK8x5gclXbbWzhtj7uuQ7uOSPi5JN910\nU9v8Sp5fe/OEFpaKKvuBFpaK2lvItny95Pld8wjTjObcnvJqlc9ozq2l6yWWpAjbL2phqSjP73sd\ntmt7byWPsG0b2ziuNu/Uf73Atm7bgBtHo3fD7Ee9jr/AVsXZf8P5Izo/tJsr9hayHZ+Hc3x0W7v5\nM9w3WnYS53/Ei/EXaRV33x32+TXn7ztbv2sP7fpHdO6nr6Bfg/6kniTJGDNpjPkFY8wzxph5Y8xn\njTGTXXb7Pkk/ZIx5RdKvS3q/MeZcYyJr7eettbPW2tmpqam2meUyrqYnCnXbpicKyrqOpicKul4s\nt3w9l3G75pHLuMplXK2W/J7yapXPasnvef8kCdsvanqioIzbf1fq1N5bzSNs28Y2jqvNO/XfjGNa\nty1fwcImDLMf9Tr+AlsVZ/8N54/o/NBurrheLHd8vlrym/ZpN3+G+0bLTuL8j3gx/iKt4u67wz6/\n5vx9Z+t37aFd/4jO/fQV9Gsoi3qqLMpdkXRU0rHq37/RaQdr7T+z1k5ba2+R9BFJX7XWHt9qAJNj\nOZ05MVt7E4Xfaz8wnteZE7O6MH9Jjx893PR6eAOLTnlMjuU0OZbTzZOjeuLY4a55tcrn5snRnvdP\nkgPjeZ0+PlMX6+njMzownu87707tvdU8Lsxf0unjM01tHG5PUptPFnI61RDTqeMzmiwkrx8guQ6M\n51v2o0G8R4Fhi3McDOeP6Hxx+umX9MSx+vn51INHdGH+Uu35kw3PP/2he7RvLNv2/CO6/Yljh3X6\n6Zc0PVHQ40cr5wNxz0UAsJMMe17h/B1Sh+vYFv0jOvefOj6j/aP0FfTHbNysdoCZGvOn1tq/2rDt\nv1pr//se979P0j+11v5gp3Szs7N2bm6u7evbe/dbI9shr+53v+28f5KEd7/1/ECZ3X33274OUKv+\ny92zMAg93v124P0XGIQex8Gh9N/o+YEXWPnWKu9W7n7rB1aZTne/rQblGMnl7rfobGjj7y2f/NKW\n8nzlUx/sJyTsLlvuv3GdO3D3W1QN9dyXu99iyNr232H1oN83xnxE0m9Wnx+T9B973dla+7Skp/sN\nwnGMpvY0fzql3fbN5BG+tm8sL41tPZ9e90+STMbRu/YWuifcgs0cm83k0S7PfssatJGRjA5yEoA+\nZbOuDk50veE4kEhxjoODmIM2nX/KzgEAIG2GPa9w/g6p/TkE/QPDNtDeZYx5W6r9Z/VPSvrV6kuu\npGVJ/3SQ5QEAAAAAAAC70aDvfrtnkPkBAAAAAAAAaDboT+rdZa19zhhzpNXr1tpnBlkeAAAAAAAA\nsBsN+svdPy3p45I+HdkWvRPH+wdcHgAAAAAAALDrDOaWpRt+2RjzPdba77fWfr+kf6fKb+n9qSo3\nywAAAAAAAADQp0Ev6p2WVJIkY8z7JP1fkr4o6U1Jnx9wWQAAAAAAAMCuNOiv37rW2mvVvz8s6fPW\n2guSLhhjvjXgsgAAAAAAAIBdadCf1HONMeFC4f2Svhp5bdALiAAAAAAAAMCuNOiFtl+T9P8ZY65K\nKkr6I0kyxvwVVb6CCwAAAAAAAKBPA13Us9b+K2PMVyS9U9LvW2vDO986kj4xyLIAAAAAAACA3Wrg\nX4m11v6XFtteGHQ5AAAAAAAAwG61I3/nLgisFldKKnm+CjlXVlZrpUC+tRrJuto/lpfjmJ7Tbaa8\nXMbV5Fiuab9e0my2bmE+klrmvZUyBxVnp/yvF0sqlvyhtPMw9t1Oa2ueFosleYFVxjGaLOQ0MrIj\n36YYolLJ05WVjX40NZZTLjf8flQu+7q8vF4r98B4XtmsO/Ry0yQtY1GckjAOel5Q6ct+INcxchwp\nCKRCztXeQv0xC49pEAQyxqjsb/48IqpTH4mW5VvJWtu1H23mvAEA4hCOuWU/UNZ1dGA8r0xmcD/9\nPux5JQnzFpIjCKzeLK5rtRTUzh/oG1wnDNOO61FBYPX8G2/robNzmhrP61/80N1aLfl69PxFLSwV\nNT1R0JkTs7p9alwvXlnumu7OG/d0PNGNltduv17SbLZuYT5nf/R7te4FTXlH69drmYOKs1P8ryyu\n6I231obSzsPYdzutrXl6cXFFD5+br8V56viMbp8c27WDPzavVPL0/JXmfnTn1NhQF/bKZV/PXV5u\nKveuA+NM2FVpGYvilIRx0PMCPffG2zoZieHxo4f1xa+9rI9936268YYR3TI5VvvPs+ffeFuf+YPn\n9cj3/xUVt3AeEdWpj0iqlfXRe2/VYxe6l9Muv3zG0Ylf+RP6IYDYtRpzTx+f0V037hnIwt6w55Uk\nzFtIjiCwev36qpZWy/rFr77YNF/v1r7BdcJwDfrut7FbXCnVTl5P3nebrq2UayfYkrSwVNRDZ+d0\neXm9p3SLK6Wey2u3Xy9pNlu3MJ9XF1db5h2tX69lDirOTvm/urg6tHYexr7babFYqg10UiXOh8/N\na7GYrDiRbFdWWvejK0Pu75eX11uWe3l5fajlpklaxqI4JWEcvLy8Xru4DGN47MJFHZ05pEfPX9Sr\ni6u1YxYe06Mzh7S0xfOIqE59JFpWeIHQrZx2+b26uEo/BJAIrcbckwM8fxj2vJKEeQvJsbhS0rpn\n9chTz7Scr3dr3+A6Ybh23BJxyfNrnWVvIStJteehhaWiyn7QU7qS5/dcXrv9eknTi1b5jObcrvXr\ntcxBxdkp/3bxDqKdh7HvdvIC2zJOL7Bt9gCaxdWP6L/dpWUsilMS+lG7+XNvIauFpaJGc27tmIXH\ntJ/ziKhufSQaRy/ltMtvNOc2baMfAohDuzHX84OB5D/seSUJ8xaSo+T5ckzn+Xo39g3eJ8O14z6p\nl8u4mp4oSJKuF8taLfm156HpiYKyrtNTulym88dBo+W126+XNJutW6iX+vVa5qDi7JT/MNt5GPtu\np4xjWsaZ4etQ2IS4+hH9t7u0jEVxSkI/ajd/Xi+WNT1R0GrJrx2z8Jj2cx4R1amPRMvqtZx2+a2W\n/KZt9EMAcWg35mbcwVymDnteScK8heTIZVwFVh3n693YN3ifDNeOW9SbHMvpzInZyu8xPP2S9o1l\n9cSxw7VOFP52zIHxfE/pwh+U7qW8dvv1kmazdQvzuXlytGXe0fr1Wuag4uyU/82To0Nr52Hsu50m\nCzmdOj5TF+ep4zOaLCQrTiTb1FjrfjQ15P5+YDzfstwD4/mhlpsmaRmL4pSEcfDAeF6nG2J4/Ohh\nXZi/pCeOHdbNk6O1YxYe0wvzlzSxxfOIqE59JFrW40d7K6ddfjdPjtIPASRCqzH39ADPH4Y9ryRh\n3kJyTI7llM8YPfngkZbz9W7tG1wnDJexNr0feZydnbVzc3NN29vf1VYayTo93P22Pl033P12c/Fv\n3P128O08jH076CuDVv2Xu2dhEHq8++3A+y93teqOu9921+M4OPD+G9X/3W83N79FcffbXWFo/feW\nT35pS3m+8qkP9hMSdpct9992fTc65ma4+y2GZ6jnDqFWd7/1Ayt3l/cNrhP61rb/7sge5ThGU3sa\nVn3Htp5uS+VtIU0/ZbXatpUyBxVnp/z3jeWH1s7D2Hc7jYxkdHCXDvQYnFwuo4NDvNNtO9msq4MT\no9tebpqkZSyKUxLGwUzG0bv2Fron1OCPaaf8Bjmv0w8BJMVmxtytGPa8koR5C8nhOEYTYyOa2ML1\n7k7GdcLw7Liv3wIAAAAAAAA7HYt6AAAAAAAAQMqwqAcAAAAAAACkDIt6AAAAAAAAQMrwi54AAADA\nLrbVu+ZK3DkXAIA48Uk9AAAAAAAAIGVY1AMAAAAAAABShkU9AAAAAAAAIGVY1AMAAAAAAABShkU9\nAAAAAAAAIGUSs6hnjDlkjPlPxphnjTF/Zoz5ibhjAgAAAAAAAJIoE3cAEZ6kn7HWPmOM2SNp3hjz\nB9baZwdVQBBYXS+WVCz58q3VSNbVvkJOS8WySp6vXMbV5FhOkrS4UlLJ81XIufICq7IXKJdxNVHI\nNqV3HKMgsLV9ottbxdBrumisY3lXkrRWCmqx7x/LN+3bLX/PC3R5eV2SlbWSlTTaUMfNxt6tXRvb\nMGzj68WSyl4gK8kLrIIO9dpqO/ZikHn1a23N02KxJC+wyjhGk4WcRkaS9DZFGsTVj9bXPV1d3Sh3\n/2hO+Tz9N4r3eHdxtlG57Ovy8nqt7APjebmuU5sjjDFyjeQ4TtNcsdm5pDH93pGMrqyUVPYDZV1H\nB8bzymScupiyrqN8xsgYqVgK6t5rb5X8tnPuZuPslKbTuUCv9W+VVlJi5mIA22vY4/6w8y+VPF1Z\n2ch/aiynXG5w+SfpWgXtlcu+3lwra90L5AdWrmPkGCmwkmMkK6OMI5V9K786p+eyRmul+vm627nI\nVs4xktBnwnWIxvMc9C8xVxLW2u9K+m7177eNMd+RdFDSQBb1gsDqlcUVvfHWmh49f1ELS0V94O4D\n+vH779DJc/NaWCpqeqKgsz/6vVr3Aj10dk5T43n97AN3dkx/5sSsbp8a14tXlvXQ2bm67XfeuKfp\nRPr5N97uKV001qnxvP7FD92t1ZJfi6XVvt3y97xAz73xtn7hKy/oo/feqscuXGyq42Zjv31qXK8t\nrbZt11b5n/3R75Ukvb1WlqSu9Wp1LHtpx177xaDy6tfamqcXF1f0cKR/nTo+o9snx7joR8/i6kfr\n655euNpc7h37x1jYq+I93l2cbVQu+3ru8nJd2aePz2g06+rEF/6ktu3xo4f1xa+9rJ/6O3fW5orN\nziWt0p86PqPPfeUF/f6zl2tl375/rOl99bkfea/GRzL62Be+UbfvK1fe0q/88Wsd5/Re4uyURlLb\nc4FezoM65Z/PODrxK38S+1wMYHsNe9wfdv6lkqfnrzTnf+fU2EAW9pJ0rYL2ymVff/n2mt5cLeuR\np55pOmf46L236g+ff0M/eM9BPRx5/Yljh/Vzv/e8riyv68yJWd02OdqyP+0tZPQjZ76+5XOMuPtM\nuA5xsuEc664b97CwNwCJbEFjzC2S3ivp64PKc3GlpFcXV2snupJ0dOZQrWNJ0sJSUa8urtbeACfv\nu61r+ofOzuny8nptn+j2xZVSUwy9povGevK+23RtpVwXS6t9u+V/eXldJ8/N6+jMIT124WLLOm42\n9svL6x3btVX+ry6u6tXFVV1bKfdUr1bHspd27MUg8+rXYrFUG8DDWB4+N6/F4vbHgvSKqx9dXW1d\n7tVV+m+I93h3cbbR5eX1prJPnpvXq9dW67Y9duGijs4cqpsrNjuXtEr/cHV+jpbd6n31iV/7phau\nFZv2fe/Nk13n9F7i7JSm07lAr/Vvl8eri6s9tx+AnWPY4/6w87+y0jr/KwMav5J0rYL2Li+vq+zZ\n2oKeVH/O8NiFizo2e1NtQS98/dHzF3Xyvttqx7Vdf1r3bF/nGHH3mXAdovEcq/INQvQrcYt6xphx\nSRck/aS19q0Wr3/cGDNnjJm7cuVKz/mWPF+jObfWkSRpbyFb91xSXZrG11ulX1gqquwHLbeXPL8p\nhl7TNcbRGHurfbvlH8YZrUe7OvUae9kPOrZruzaOPnopv5dYOu2zHXn1olP/9QLbMhYvsEOJBTvT\nMPsR/bc/tFF3cfXfTmWP5tymbeHcFs4Vm51L2qXfW8jWPd9MTH5gu87pvcTZKU2717wez4M65d+q\nTsOai9Noq+e/QNy2OvYOam5Me/7bfa2Cer2OvV5g5Ri1ndsXlopyHdNx7u807zd+wG4r5xhx9pl2\n6yWeH8QU0c6SqEU9Y0xWlQW9p6y1/6FVGmvt5621s9ba2ampqZ7zzmVcrZZ8TU8UatuuF8t1zyXV\npWl8vVX66YmCsq7TcnsuU3+Cmsu4PadrjKMx9lb7dss/jDNaj3Z16jX2rOt0bNd2bRx99FJ+L7F0\n2mc78upFp/6bcUzLWDJ8tB6bMMx+RP/tD23UXVz9t1PZqyW/aVs4t4VzxWbnknbprxfLdc83E5Pr\nmK5zei9xdkrT7rVMj+dBnfJvVadhzcVptNXzXyBuWx17BzU3pj3/7b5WQb1ex96MYxRYtZ3bpycK\n8gPbce7vNO83rhFv5Rwjzj7Tbr0k4yZqOSq1EtOKxhgj6d9K+o619l8POv/JsZxunhzVE8cO1zrU\nhflLOn18pvZ8eqKgmydHdebEbOV73k+/1DX9mROzOjCer+0T3R7+8HM0hl7TRWM9/fRL2jeWrYul\n1b7d8j8wntfp4zO6MH9Jjx893LKOm439wHi+Y7u2yv/myVHdPDmqfWPZnurV6lj20o69GGRe/Zos\n5HSqoX+dOj6jycL2x4L0iqsf7R9tXe7+UfpviPd4d3G20YHxfFPZp4/P6OZ9o3XbHj96WBfmL9XN\nFZudS1qlP1Wdn6Nlt3pffe5H3qvpfYWmfb/56mLXOb2XODul6XQu0Gv92+Vx8+Roz+0HYOcY9rg/\n7PynxlrnPzWg8StJ1ypo78B4XtmM0ZMPHml5zvD40cM6P/eaTjW8/sSxwzr99Eu149quP+Uzpuc+\nkMQ+E65DNJ5jHRjPxxbTTmKsTcbXfowxf0vSH0n6r5LCz2H+b9baL7fbZ3Z21s7NzfVcRv1dWqWR\nrJOSu99KY/nK+mvl7reV2Pu5+62Rra34d7tTXre8u7XrDr77bV//Bdeq/3JnTAxCj/1o4P2Xu992\nx3u8u7j6r5SMu996fqAMd79NxJ36hmgo/VeSbvnkl/rJekte+dQHt71MxGrL/bdd3+Xut50l8U6m\nKTW0sVfi7rfdhOsQjec56FnbA5iYKwlr7X9Wn2+0bhzHaN9YXhqr3z61p3mFuNW2Tq85jum4z1bS\ntYq16fkm889kHL1rb6Ht61vJezPtGrVvbOsr872243bn1a+RkYwOcoGPPsXVj/L5jA6yiNcR7/Hu\n4myjbNbVwYnRpu2DnN87pW81P7eLqWnO7fG910ucndJ0Ohfotf7t0iZlLgawvYY97g87/1wuo4MD\nXMRrlKRrFbSXzbran93CV1wb5vN+zkVCSewz/axDoDOWRgEAAAAAAICUYVEPAAAAAAAASBkW9QAA\nAAAAAICUYVEPAAAAAAAASBkW9QAAAAAAAICUYVEPAAAAAAAASBkW9QAAAAAAAICUYVEPAAAAAAAA\nSBkW9QAAAAAAAICUYVEPAAAAAAAASJlM3AEMWhBYvbVWUmCtyp6VrW53HaOsK3n+Rlo/qLzuBVau\nkVzHkbWVba5jZKppnIa/g8CqHFj5gdUNI67KvlTyA+VcI8cYrXuBjJFyrlMrQ5E4XEd1sYW8wMp1\nJNdU4shmjKSNtG617DCeqFblhGnWvUAjWUeuU6m/H1TyLnsb9dhbcLVW3tjeKrZc9bWsa5RxK387\njlHJC+RF8oi2V1gHSSqWKu3immq9IvXNuKrlFwT19Y0ew7D+riMFQXP93cjxKWQdrZU3jsW6Fyjr\nGllbKdsxUiHrqORtxLxerUsh61Zi9APlMq4mx3JynMZWH7y1NU+LxZK8wCrjGE0WchoZ2XFvUwxZ\nXP2I/tsdbdRdXG0UBFZvFte1WgpqZWcj83q4LZ9xZGVq80IQWC2ulBQElTR+YJV1HeWyRmulQMYY\nuUZyHEfvyLu6ulqWka3NRRnHKONUynAdo5Hq3OVbK9dUYij7Vr61coxRzjHKZIyKpY00xkjWSqN5\nR6Xyxtyecx251fk1nN+9wCrrGGVcR8Wyr6xT2T+w0g0FR28VN+o6mncUBNJaeWObU51/Jws5LRZL\ntbIdR3JkamVnHaOxEUfLa4GCauxh2pGsI69aJ6NK2dHjHT3+U2M55XKtj3+57Ovy8not7YHxvFzX\nqR0P30rW2q7zeHgMS56/rXM+gIphj/tpz7/VWJetXqukpYxh5x/3OF4u+1oqlpVxK9e8XmA1lnPr\nzh/CuW/NC5RxjAo5R+tlq5Jfmf8z1evRwFoFVspmjGywcd2q6lzpOEYjGUc35DN6a92rldFY3p6C\no+urvlxjNJJzVMnd1uIbyTgyxvR9vdtr28d9jHayHXUlEQRWr19fleNIq6VAq+uepMrJ497RrN5c\ns7K2skRU8gIVS75WS76+8Mcv65Hv/yu1RbCRrKN81lXJC2StrfvbGKPF5ZIePX9R9757Uv/ofbdq\ncbmkp597Qz/yN27WW0VPv/jVF/XTH7hDjjEqljZWEUeyjsZHMlotbsQWaozjhkJGeblaWfe1uu5p\nJFt504XxRIV1iZYTpnmr6OmZVxb1A/e8S8trgdbLvrKukbcuXX17XY+ev6gPz0zrgcPvVMaRvHW1\njO3p597QB+85qC99+3Wd+L5b9OZaoCAItO5ZPfLUM/rx779N771ln4IgqLVX1jXKqxLH4nJZn/vK\nC7X6Rev7jkJGXiAFQeXip1jya/UN6xWt//hIRl5ZTccyTLO4XNLz331TM7fu1+e+8oJ++gN3qORZ\nfenbr+vo7CEtLpf0hT9+Wf/sB+7SSsmvxfxW0dMjTz2jqfG8fvaBO/Xo+YtaWCpqeqKgMydmdeeN\ne4Y68KyteXpxcUUPn5uvlXvq+Ixunxzjoh89i6sf0X+7o426i6uNwvOHpdWyHnnqmVrZX/gHs1r3\nrE5G43nwiH7n26/rfzlySLdPjevFK8v6zB88r4/ee6seu7Axbzxx7LB+7vee15XldT1+9LD+8Pk3\n9IPvmdbnvvKC/uHferd+5re+3TLtqeMz+txXXtDvP3tZH7j7gH7s/bfXxfTZj7xHNxSy+tgXvlHb\nFuZ/7K/dVJvbo+03//JVHbllsi6faJmf/tA9+s5fXtfMrfvr2v4LH/trWi8HdfV//OhhffFrL+sT\n99+h3/nWgt5354364tcq83mx5NfK/sDdB/SJ+++oyy/c99EH7tLymqdTT/95U7tF6x8+v3NqrGlh\nr1z29dzl5aa+sn88q3/+23/WlG+7eTwIrJ5/4209dHZuW+d8ABXDHvfTnn+7se6uA+MDWxQbdhnD\nzj/ucbxc9vXq0qpcR1peD/TwuXnd++5JHf+bN9fNu08+eET5jNEnL/yppvbkmubIJ44d1mjOlZX0\nuxf/su66tdU5xtSevAJr9aP/bq5leaeOz+g7r1/XL/ynl/TEscM6cENexVJlTh/U9W6vbR/3Mdrp\ndtTXbxdXSlr3rILAaOFaUddWyrq2UpbrVD5NV/asPL/yabXXl9Z0baWsR89f1NGZQ1qqpg3Th2ka\n/359aa3W+R9637trz4/N3iTPlx556hkdnTmkTDXttYZ8G2MLH41xZBxXvq9a2rDsMJ7oo1U54WuP\nPPWM3n8gBqtKAAAgAElEQVT3O1XyKp9cfH1pTRnH1cK1Yq0eP3xkWgvXirXtrWI7NnuTHnnqGR2b\nvalWB9dxawPHvbdP1baFMYV18H3p4XPzdfWL1jcs1420mdvQftH6B4FpeSyjx+f9d7+zVmamGuex\n2Ztqr4fbozGHdTl53221tpFUOdZn57S4Uhpu/y2WagN7WO7D5+a1WBxuudhZ4upH9N/uaKPuYuu/\n1fOHcB4Iy15YWqstaNXiqc4nD52d0+XldT10dk5HZw7VTrbDdI+ev6iT992mhaWiHrtQmUfDeSlc\n0GuVNkwjSUdnDjXF9BO//i0tXCvWbQvzj87t0fZ7/93vbMonWubP/Na3a/NmXf2vFZvq/9iFyhz6\n8Ll5HZu9qfZ8qTq3h2nDNK32XbhW1Cd+7Zst2y1a//D5lRbz7+Xl9ZZ9xfPVMt928/jiSql2kdEt\nLYDBG/a4n/b82411l5fXB5L/dpQx7PzjHscvL6/rUvVaOqznQ+97d9O8+8hTz8h1XJ2877aWc+Sj\n5y/q2kpZSyvlpuvWVucYl64V9frSWtvyHj43X7lGr6a31tTm9EFd7/ba9nEfo51uR300oOT5cozk\nW6vR3Maqv2OqX52NLAKHry8sFbW3kK3LJ0w3mnOb/h7NubXO6Dqm9tytJgzzC9M25tsYW6gxDr/6\nKbQwbZhfq4XsVuVE8w1s5Ws+YR5hDGE9gurzTrG5jqn9G6ZzjGp5+IFtaq+wDq3qF30eza+xvtE6\nhWkqX0Fqrn/0+ATW1h2LMPbw9b2FbF25YUyStLeQrf0djbcU/e72EHiBbVmuFzR+GRpoL65+RP/t\njjbqLq42Cs8fGsuOzpXReMI5sewHtTmlVbpwnovu00va8O92aRvn6sY5rvE1a1u3a7TMVmna5RfG\nFa1T+Fqo13p2ShM+b3X82/WVwNpNzeMlz49lzgdQMexxn/zjL2PY+cc9jnvBxrV0dJ2gVUyOUcs5\nM3wezu+N163dzgXaledX2zgse9DXu722fdzHaKfbUZ/Uy2VcBbbym22r1a/Wrpb8yjbHKLCqPcLX\npicKul4sN6UP0zT+He4jVRaywud+UPnue5hftIy6OBpiaxeHa0xd2sZ4WtWlMf4wHseYWv3DvKP1\ncKrPO8XmB7b2b5guzF+qtG9je4V1cI1pql/0eTS/xvq2qr9rWh/L6PFxImWGcUaP1/Viua7caF2u\nF8u1v0PTEwXlMoP97YpGGce0LDfDR5KxCXH1I/pvd7RRd3G1UXj+0Fh2dK6MxhPOiVnXqc0prdJd\nL5ab9uklbfh3u7SrJb9pW3SOa3zNmNbtGi2zVZp2+YVxRevUmLZTPaNzcae4wuetjn+7vuIYs6l5\nPJdxY5nzAVQMe9wn//jLGHb+cY/jGWfjWjq6TtAqpsBW5sdO8/tqyW+6bu2UtlN54QePwrIHfb3b\na9vHfYx2uh21qDc5llM+Y+Q4VtP7Cto3ltW+saz8wFfWrfzYZMaVMq50cGJE+8ayeuLYYV2Yv6SJ\natowfZim8e+DEyN64tjhyvfA//Avas/Pz72mjCs9+eARXZi/JK+adl9Dvo2xhY/GOLzAl+uqljYs\nO4wn+mhVTvjakw8e0Vef/a5yGaNsxujgxIi8wNf0vkKtHr/9zIKm9xVq21vFdn7uNT354BGdn3ut\nVgc/8PXkg0c0PVHQ1168UtsWxhTWwXWlU8dn6uoXrW9Yrh9pM7+h/aL1dxzb8lhGj89Xn/1urUyv\nGuf5uddqr4fbozGHdTn99Eu1tpFU+87/5FhuuP23kNOp4zN15Z46PqPJwnDLxc4SVz+i/3ZHG3UX\nW/+tnj+E80BY9vTEiE43xlOdT86cmNWB8bzOnJjVhflLevxo/bzxxLHDOv30S5qeqPyW3Pm512rz\n0qc/dE/btGEaSbowf6kpps9+5D2a3leo2xbmH53bo+331We/25RPtMxPf+ie2rxZV/99hab6P360\nMoeeOj6j83Ov1Z5PVOf2MG2YptW+0/sK+tyPvLdlu0XrHz6fajH/HhjPt+wrGVct8203j0+O5XTm\nxOy2z/kAKoY97qc9/3Zj3YHx/EDy344yhp1/3OP4gfG8DlWvpcN6nvnDv2iad5988Ij8wNfpp19q\nOUc+ceyw9o1lNTGWbbpubXWOcWhfQQcnRtqWd+r4TOUavZreGFub0wd1vdtr28d9jHY6YyNfkUyb\n2dlZOzc3V7dty3e/jdx1tte73waB1Z4dcPfbILB6xy68+61rKjfg6OPut33991Kr/sudMTEIPfYj\n+m8MaKPu4uq/Le9+mzFyNLy731bm/Ya73+YcrZU27hjb6e63jXeVjd79NqjG0enut2tlv3K3veqc\n2unut3411oHf/dZU8gvz3yV3vx14/w3d8skv9ZP1lrzyqQ9ue5mI1Zb7b7u+m/a703L32/jz73Ec\nH9rYu5m734bzfXj327IfyHEid7+VVRDU3/3Wrc6fm7/7bVC55uXutztB28bacVcSjmO0d3Rw/3Ox\nm7xj2HmMDaCAHW5kJKODXOCjT3H1I/pvd7RRd3G1keMYTYyNaGKTc5XjGE3taXPe0SKvd7VZoOq2\n35bSbMGekd7T9nKc3lHommRL+UpSNuvq4MRo0/a2x6ONjscQwNANe9xPe/7txro0lTHs/OMex7NZ\nVwfCRcptvObd3+Wc4oZWc/qA4+u17eM+RjvZjvr6LQAAAAAAALAbsKgHAAAAAAAApAyLegAAAAAA\nAEDKsKgHAAAAAAAApAyLegAAAAAAAEDKsKgHAAAAAAAApAyLegAAAAAAAEDKsKgHAAAAAAAApAyL\negAAAAAAAEDKsKgHAAAAAAAApAyLegAAAAAAAEDKZOIOIMoY84Ckz0pyJf2ytfZTW8mnVPK0XPbk\nmPrt62WrbKay0TFSYCvbM64UBGEMkrUb/wZWtXyMkfxAcp2N556/kVc0XaNwP79ajutslCNV/naq\n28Lnnl+JLRQto1EYb/TvML3jVOrn+ZXXsxmp7FX+DdOG+3p+ZXur/IOgklepXPm3sQ5hHcOyw/qG\n+2Xc+rKiMUfTh+0bzTuav1SJP9o20XaMxhMe2zD/8HXHSGV/Y/+wXZ1q/qWytO4F8gKrrOPowJ68\nMpnhr4GvrXlaLJbkBVYZx2iykNPISKLepkiBuPoR/bc72qi7uNooCKyWVtdVLAfyA6usY2SM5DqO\nvMBKsrU5zJiNOSyfcVTyrVwjGWPk+YGMI1lrZK1VLuNq70hGV1ZKKvuBMo7R+IijYslq3QvkOqZS\nliOVPausa1T2ba3+WdfIWsm3Vp5f2ZbPOlorB7W0YSy+tXJNJe7ASlnHKJc1Kq4HkomeaxiV/Y2y\nsxmj1dJGvQs5R6ulQO8oOCpW58PwtT0FR28VA2UzRmWvPs6yb5XLOCr7Qa2sINiIq3a+5EiOjLzA\nVudZU4tvspCrO/4jOUfrpUDlwNbi9W3lWIxW4wyPSWPbjeYcrawHdcerkHPkB0aTYzk51ck/CKyu\nrqxrrezX2s/IaGo8L8cxWlwpqeT5ymXcuv1a9aFe0wLYMOxxP+35b8fYMuwyPC/Q5eV1lf1AWdfR\ngfHtubYatvDYj+YceYFUql4/uo5RPuMol6lckxZLQa1/FHKOltd8jWRd+YFVOQhqc4+10vhIZe7K\nuU71dVuZg10j1xhZVc5NJgpZvbleqs3FQWA1knW1vzp3lUqerqxs9Ms9BVdBYLWyvhHL+Iij5bVg\nU8e8Md8wj/D5gfG8sll3xx7zYSiXfV1eXm9qw14l5krCGONK+jeS/o6kBUnfMMb8v9baZzeTT6nk\n6WqxpExDh3yz6CnjSHm5yjimeoIuFbKO1sqVv13HyPdt7d+wUcPX1suB8pnKG9YxlTdnmFc0nWx9\nTOteZb+VUmVFL59xtO7ZWtrwTRouMvmBVbEcaCRjFPiVfKNlNArjjf4dPcleK1fys9ZqPO/qejHQ\nWM5RYE3lZLvaFsVyZbsX1JfjmI0LjaVVXxlHGnHcujqEdVyvDiphfcu+VcaRRl1XZX+jrGjM0fRh\n+/qBrWvLMH8vkJbX/bq2ibZjNJ7w2Ib5h/FmjPT2elCrX9iuWdfID6S31ny9uVrWI089o4WloqYn\nCjp9fEZ33bhnqAPR2pqnFxdX9PC5+Vq5p47P6PbJMS760bO4+hH9tzvaqLu42igIrF65uqI33l7T\no+cv1sr++Q+/R1nX6N/8pz/XR++9VY9d2Hjt8aOH9cWvvawfe//t+tK3X9f7/7vv0UjWaUr7gbsP\n6BP331Gr0wfuPqCf+Nt36B//6kYdP/N379E7RrO6MHdJH7znYN38c+rBI3KM9I/PPVPXJvMvX9WR\nWyb1i199sW1sH/u+W7V/T15//MJl3f4979AXv/ayPv6+2/STv/GtWtonjh3W/j15nf/Ga/qlP3ql\nNueVymUVy3ldeXu9rk1OH5+RawKVA1MX55MPHtGXvv26fvCeg5Kkz3WI6x/+rXdrJOvon/z7b9Ze\n+/SH7tG//c9/oU/cf4d+51sL+qU/ekX/+H+4Rf/ze6Z1MtIfnjh2WIWcq9+9+Jf6wfdM17Xrj73/\n9vq2Oz6jp7/zhn5jfqFW9ifuv0PzL1/VX79tSnfeuEeS9Pwbb+uhs3NNcf7sA3ep7Fk99Ksbr505\nMas7b9zTdOETBLYpn3ZpAWwY9rif9vy3Y2wZdhmeF+i5N96uG8u349pq2MJj/8qVt3T3u/bq2kpJ\nP/Wb366br27ZP6qry+Wm/vGd16/r0ORY3fwanadu3JPVtdWSFpdLdWk++5H3yHWMfvfiX+pDf+0m\nrax7Wi35dWnO/P1ZvXtyVC9cre+XTz301/VW0WuKJZwneznmpZKn56809/dw3g6f37F/TC9eXdlx\nx3wYymVfz11ebmrTuw6M97ywl6QW/V5Jf26t/QtrbUnSr0v64c1mcmWlJN+XSp6teyxcKyrjuLXX\nfF/yfWl1PailWSsFdf9G81krBfJ9aa0UaK0UaHU9qMsrmq7xEe4XlhktJ/x7dT2oe172rMqRfFvV\nqTHuVrGH9St7Vp5f+bRi2bNaL2+UGe4bbm+MP8xjdT1Q2bMKAtNUh2i9ovUN0zeWFf07mj7aBq3a\ncK0UNLVNq32ix7axzZfXNo5FtF1X14NaHcOLAklaWCrq5Ll5XV5eH2yPb7BYLNXezGG5D5+b12Kx\nNNRysbPE1Y/ov93RRt3F1n9XSnr12mrtpDgs+yd/41u6tlLW0ZlDtcWp8LXHLlzU0ZlDeuSpZ3Rs\n9ib9zG99u2XaozOH6up0dOZQbUEvzOunfvPben1pTcdmb2qafx5+6hldfrvU1Cbvv/udeuSpZzrG\n9uj5i1q4VtT7735nbVu4oBemDdMcm72ptu3kuXnd+I5RXbpWbGqTk+fmdUMh3xRn2A4PP/WMri6X\nOsYVtlX0tZ/5rW/X2iqM5djsTbULgmi8SyvlSlkN7drUdufm9cNHpuvKDtvuobNzWlwpaXGlVLuQ\nbYzz0rVibUEvfC3cr1UfasynXVoAG4Y97qc+/20YW4ZdxuXl9aaxfDuurYYtPPbvvXlSr10r1hb0\npI35yvPVsn/ce/tU0/wanafKvvT60lpTmp/49W/V5sBL14q6tlJuSvPQr87p6mpzvyx7tmUs4TzZ\nyzG/stK6v0fPIR4+N6+rq6UdecyH4fLyess23UxbJemjAQclXYo8X5D01xsTGWM+LunjknTTTTc1\nZeIFVlaSafi03GjOlV/9rqexGx+mCxrSRTXmYxvSh6+3Kq8xn6DHMkOO2fhUW6tYumlMHy64e4GV\nY1T7pGJjma22N8VlbVMdom0TrW+79K32bWzfdvk3tk239K3yjT5tbFfHqPamCi0sFeX5gfrVqf96\ngW1dbi8dBqgaZj+i//aHNuourv5b8nyN5tyWZY/mXI2q9Wt7C1ktLBXlOqZt2jBNu+fRcsJ8Wr3W\nuC2wti6GdrGN5lzZLmnDsqPbvMC2bZN2x6lTO7SKq1N7SurYHo2vtaubrZ77RfMP26NU/V2SdnG2\ney3cL6rk+T2n3Ypu579AUvVy7TbMuTHt+Q97bNmOMsp+MLRrq2Hr5dzX7zBfhnN143a/Tb8J56lO\nc3A4B4bzaK/zdLtr3Og82e2Yd5r/u5WflmO+3QYxhiRpUa8n1trPS/q8JM3OzjbVNOMYBQ2/xSZJ\nq6XK76RI9b/lFv22rFF1Maz6b/T32Yyaf9MuLKcxXaNwv6ChzDCtbdjPSpXfpYkU1vj7clFhvNG/\na7/5E8lPkvJO5fdm8tG8q/82bo8KYyz7Vtnq7+JE4w7rGJYd1tezG+mjZUVjjqaPpotGEn2tsW1a\ntWOreBpfr+3fcOzKvtX0RKHuzTU9UVDG7f+DrZ36b8YxrcvlazvYhGH2I/pvf2ij7uLqv7mMq9WS\n37Ls1ZKvkh+0fO16sazpiYL8wLZNG6Zp9zxaTphPq9eipicKcoypi6FdbKslX6ZL2rDs6LaMY9q2\nSbvj1KkdWsXVWKdoe0rq2B6Nr7Wrm6lO8tH8w/bIVX+ct12cOddp+Vou0/x1mFzG7TntVnQ7/43T\nLZ/80pb2e+VTHxxwJEiiXq7dhjk3pj3/YY8t21FGts1YOohrq2Hr5dzX7TBfhnN143a3Tb8J56lO\nc3A4B4bzaK/zdGBbp43Ok92Oeaf5v1v5aTnm220QY0iSWvV1SYciz6er2zZlaiwn15VyGVP3mN5X\nkBf4tddcV3JdaTTv1NKM5Jy6f6P5jOQcua40knM0knM0mnfq8oqma3yE+4VlRssJ/x7NO3XPsxmj\nbCTfVnVqjLtV7GH9shmjjCvls5W/89mNMsN9w+2N8Yd5jOYdZTNGjmOb6hCtV7S+YfrGsqJ/R9NH\n26BVG47knKa2abVP9Ng2tvn4yMaxiLbraN6p1fHJB49oeqJQ6YjV3wA4MJ4fTE9vY7KQ06njM3Xl\nnjo+o8lCbqjlYmeJqx/Rf7ujjbqLrf+O5XTzvlE9cexwXdk//+H3aN9YVhfmL+nxo/WvPX70sC7M\nX9KTDx7R+bnX9OkP3dMy7YX5S3V1ujB/Sb/09+vr+Jm/e48OTozo/NxrTfPPqQeP6MCeXFObfPXZ\n7+rJB490jO2JY4c1va+grz773dq2n//we+rShmnOz71W23b6+IzeeHNVh/YVmtrk9PEZvVVcb4oz\nbIdTDx7R/vFcx7jCtoq+9ukP3VNrqzCW83Ov6XRDf3ji2GFNjGUrZTW0a1PbHZ/Rbz+zUFd22HZn\nTsxqciynybGczpyYbRnnoX2V3yaKvhbu16oPNebTLi2ADcMe91Of/zaMLcMu48B4vmks345rq2EL\nj/03X13UTfsqc3njfJVx1bJ/fO3FK03za3SeyrrSwYmRpjSf/ch7anPgoX0F7RvLNqU58/dntX+0\nuV9mM6ZlLOE82csxnxpr3d+j5xCnjs9o/2huRx7zYTgwnm/ZpptpKxN+3DJuxpiMpBck3a/KYt43\nJP09a+2ftdtndnbWzs3NNW3n7rfc/TZMP+S73/b1X3Ct+i93xsQg9NiP6L8xoI26i6v/Ru9+G1TL\n7nT323Dub333W1NNW3/3W696x9nw7rclL5DjVO7o6jiV33jt5+63gbVyqp+O92393W/DO+KGd7/1\n/I2yB333W88PamVV5uCNuMLt4d1v/fBGYKb+7rfhza9a3f02qP6sR9Pdb6sxhfuO5io34TLq7e63\n62W/FqeGe/fbgfff0FY/NReHuD6pxycL+7bl/tuu76b97rTc/ba78E6onh8oE9+dUId27hu9+60f\nWDlOf3e/XV2v3DE2vPttEFhlqne/lSQnRXe/jfmYp0KPd79te3AScyVhrfWMMT8m6T9KciX9SqcF\nvU5yuYz25RJTtZ1nJO4AtkFMdRwZyeggF/joU1z9iP7bHW3UXVxt5DhGk+PDG/zftbdQ9/wdhTYJ\nh2BitHuafWMN+1Sft2qSPUOeI5uO/1jrdNJGnFt9Xaoc+wMdKjW1p7f/LXcc03Na9LcAyQLbzjLs\ncT/t+W/H2DLsMjIZp2ke3Al6PvYNc1HjnNuo13OEyUz7uSuXy+hgizWRvQ3nBJs9H2mVb6s8duox\nH4Zs1tXBXk7W2kjUlYW19suSvhx3HAAAAAAAAECSJWpRDwAAAADQH75mDAC7A4t6AAAAANABXxcG\nACRRYm6UsRXGmCuSXm3z8n5JV7cxHGJIZvnDjOGqtfaBre6cgv7bKGkxEU93nWLaTf03afFIyYsp\nafFI8fTftLVDHJIWj5S8mLrFw/gbr6TFlLZ4ttx/u/TdXspOurTHL6W/Dpz7Dg91jFfb/pvqRb1O\njDFz1tpZYog3hrjLT0oMm5XEmJMWE/F0F1dMSWuLpMUjJS+mpMUjxRMT7dBd0uKRkhdTnPHQFt0l\nLSbiSUbZg5D2+KX014Fz3+GhjsnFPYUBAAAAAACAlGFRDwAAAAAAAEiZnbyo9/m4AxAxJKF8KRkx\nbFYSY05aTMTTXVwxJa0tkhaPlLyYkhaPFE9MtEN3SYtHSl5MccZDW3SXtJiIJxllD0La45fSXwfO\nfYeHOibUjv1NPQAAAAAAAGCn2smf1AMAAAAAAAB2JBb1AAAAAAAAgJRhUQ8AAAAAAABIGRb1AAAA\nAAAAgJRJ9aLeAw88YCXx4BHXoy/0Xx4xP/pC/+UR86Mv9F8eMT/6Qv/lEfNjy+i7PGJ+9IX+yyPm\nR1upXtS7evVq3CEAW0b/RZrRf5Fm9F+kGf0XaUXfRZrRf5FUqV7UAwAAAAAAAHYjFvUAAAAAAACA\nlEnUop4xZq8x5rwx5jljzHeMMX8z7pgAAAAAAACApMnEHUCDz0r6PWvtMWNMTtJo3AFh+wSB1eJK\nSSXPVy7janIsJ8cxcYe1rWgDALsd42C6cLx2Fo4nAAwfYy0GKTGLesaYd0h6n6R/IEnW2pKkUpwx\nYfsEgdXzb7yth87OaWGpqOmJgs6cmNWdN+7ZNQMcbQBgt2McTBeO187C8QSA4WOsxaAl6eu3t0q6\nIukLxphvGmN+2RgzFndQ2B6LK6XawCZJC0tFPXR2Tosru2ddlzYAsNsxDqYLx2tn4XgCwPAx1mLQ\nEvNJPVViOSLpE9barxtjPivpk5L+92giY8zHJX1ckm666aZtDxLDUfL82sAWWlgqquT5MUU0HJ36\n725pA6QX4y+GbZjjIP138Ji3ts929F+OJ4ZhM333lk9+aUtlvPKpD25pP6CbYYy9jLUYtCR9Um9B\n0oK19uvV5+dVWeSrY639vLV21lo7OzU1ta0BYnhyGVfTE4W6bdMTBeUybkwRDUen/rtb2gDpxfiL\nYRvmOEj/HTzmre2zHf2X44lhYOxFmg2j/zLWYtASs6hnrf1vki4ZY+6sbrpf0rMxhoRtNDmW05kT\ns7UBLvxtgcmxXMyRbR/aAMBuxziYLhyvnYXjCQDDx1iLQUvS128l6ROSnqre+fYvJH0s5niwTRzH\n6M4b9+j/eeT7du1dgGgDALsd42C6cLx2Fo4nAAwfYy0GLVGLetbab0majTsOxMNxjKb25OMOI1a0\nAYDdjnEwXTheOwvHEwCGj7EWg5SYr98CAAAAAAAA6A2LegAAAAAAAEDKsKgHAAAAAAAApAyLegAA\nAAAAAEDKsKgHAAAAAAAApAyLegAAAAAAAP8/e/cfHMd533n+8/T8AAYALYIgwJUJUpRl/TjtLmUL\nWG9iJy5ZrnUpkTfOFRlvEtFynCxlUvlp52Q7V3e3ydWmyooqpSR2TMZaxyeFSmIveamk7JzLLis6\nZ+3brAE5VnKK5B/6Rei0AglCFgEMZqa7n/tjpps9Mz2YATCD6Qber6opYnqefp5vP/10f3sezkwD\nKcOkHgAAAAAAAJAyTOoBAAAAAAAAKcOkHgAAAAAAAJAyTOoBAAAAAAAAKcOkHgAAAAAAAJAyTOoB\nAAAAAAAAKcOkHgAAAAAAAJAyTOoBAAAAAAAAKcOkHgAAAAAAAJAyTOoBAAAAAAAAKZPtdwCNjDHP\nS7osyZPkWmun+xsRAAAAAAAAkCyJm9SreYe19uJmKvB9q4Xlsnzfl2cla63y2YzGhvNyHNOtONFG\nsB/Krhf2v6SmZUnaJ3Exb1V85bKrC8tlub5V1jEaH84rn0/qYYqk6ucYBjarVHJ1ceXKeXDvUF4D\nA5wH+8H3rX6wWtJKya/LSz8oeZxfEsZ1fc0vlVTxfOUyjiZGBpTNrv8LOZWKp/mlUri/J0YGlMtl\nehAxAOwM0fd3OcdoIOdoteKTQ9E12/Iq2fetnnnlsh78yjN6/1uv1UfPPam5xaImRwt66O5p3bhv\nFwfPFgj2w/FHZsL+f+Tn36KS69ctS9I+iYt5q+Irl109c2FZJ8/Mhm2fOjalG8eHmdhDx/o5hoHN\nKpVcfedi83nwhr3DTOxtMd+3eunVFS2uVHTvo0/U7Y9PfPU7+vJT85xfEsJ1fT39ymWdiBw3p49N\n6aZ9u9Y1sVepeHp6fqnp+LtpYoSJPQDYgLj3dw8cPazf+dIzurBUIoeiK5L4m3pW0peNMbPGmHs2\nUsHCclnHH5nRkakD4YSeJM0tFnX8kRktLJe7GS9aCPZDtP9fWFhpWpakfRIX81bFd2G5HJ7wg7ZP\nnpnVhYT0DdKhn2MY2KyLK/HnwYsrjN+ttrBcVsm14YSedGV/HJk6ED7n/NJ/80ulcEJPqu6XE2dm\nNb9UWnc9ccffeusBAFTFvb+77+yTOnHbdeRQdE0SJ/V+xFp7q6Qfk/SLxpi3R180xtxjjJkxxsxc\nuHAhtoKy62lusajdhVx4AAXmFosqu16vYkdEsB+ihvKZRO+TuJi7Gd9a49f1bWzbrm+70jZ2hl6O\n4U7Ov8Bm9PI8yPhdn7LryTGK3R+7C7m650nJ4dvZWuO34vnxx43nr6sNrkPQC5x7kWabHb+tzqtB\nHiWHohsSN6lnrX2p9u+8pL+Q9JaG1z9trZ221k6Pj4/H1pHPZjQ5WtCrxYomRwt1r02OFpTP8hWC\nrfrp7D8AACAASURBVBDsh6iVspfofRIXczfjW2v8Zh0T23aWj2NjHXo5hjs5/wKb0cvzION3ffLZ\njHyr2P3xarFS9zwpOXw7W2v85jJO/HGTWd9lPtch6AXOvUizzY7fVufVII+SQ9ENiZrUM8YMG2N2\nBX9Lepekf1xvPWPDeT1097TOzZ7X/UcOhwdS8Nsvwc0a0FvBfoj2/zVjQ03LkrRP4mLeqvjGh/M6\ndWyqru1Tx6Y0npC+QTr0cwwDm7V3KP48uHeI8bvVxobzGsgafequW5v2x7nZ8+Fzzi/9NzEyoNMN\nx83pY1OaGBlYdz1xx9966wEAVMW9v3vg6GGdfvz75FB0jbE2OR+pN8a8QdVP50nVm3j8qbX2t1uV\nn56etjMzM7GvcffbZNjmd7/dVNBx45e736IbOhzDXR+/QDd0ePdbxu8W4O63PdP18Rvc/db1fGW5\n+y16a8Pjt92599DHvrihep//+J0bDQk7S1+uHbj7Lbqk5UBJ1GyBtfZZSbd0oy7HMRrfxf8s9lur\n/ZDkfdPPsZPPZ7WfSTxsEuc/pNnAQFb7udNtIjiO0ejQoEaH6pePk6cSJ5t19PrdhfYF28jlMtrf\nuMMBABvG+zv0WqK+fgsAAAAAAACgPSb1AAAAAAAAgJRhUg8AAAAAAABIGSb1AAAAAAAAgJRhUg8A\nAAAAAABIGSb1AAAAAAAAgJRhUg8AAAAAAABIGSb1AAAAAAAAgJRhUg8AAAAAAABIGSb1AAAAAAAA\ngJRhUg8AAAAAAABIGSb1AAAAAAAAgJRhUg8AAAAAAABIGSb1AAAAAAAAgJRhUg8AAAAAAABIGSb1\nAAAAAAAAgJRJ3KSeMSZjjPmWMeYL/Y4FAAAAAAAASKJsvwOI8auS/knS6/odSCd832phuayy6ymf\nzWhsOC/HMYltuxfx9rMPtpty2dWF5bJc3yrrGI0P55XPJ/EwBZpxLkA3VCqe5pdK4XlwYmRAuVym\n32GlTrePx07qS9I5IEmxbIVubS/HHwBsXnBOLrmejCRjJKl6Ts1mE/e5qi2x0/LyVkrUbIExZlLS\nnZJ+W9KH+xxOW75v9cwrl3X8kRnNLRY1OVrQQ3dP68Z9u3o+QDfSdi/i7WcfbDflsqtnLizr5JnZ\nsC9PHZvSjePDTOwh8TgXoBsqFU9Pzy81nQdvmhhhYmEdun08dlJfks4BSYplK3Rrezn+AGDz4s7J\n9x85rIe/8Zx+5Z036KZ9u3bcxN5Oy8tbLWmj6fckfUSS3+9AOrGwXA4HpiTNLRZ1/JEZLSyXE9l2\nL+LtZx9sNxeWy+GFtFTty5NnZnWBvkQKcC5AN8wvlWLPg/NLpT5Hli7dPh47qS9J54AkxbIVurW9\nHH8AsHlx5+SPnntSR6YO6MQOPafutLy81RIzqWeMebekeWvtbJty9xhjZowxMxcuXNii6OKVXS8c\nmIG5xaLKrpfItnsRbz/7II3WGr+ub2P70vXtVoYItLTW+OVcgG7o5XkwSdcPvdbt47GT+pJ0DkhS\nLN2yFedfrkPQCzvp3IvtZyPjt9U5eXchVz2neqn4/FJXbce8nCSJmdST9DZJP2GMeV7Sn0u63Rhz\nprGQtfbT1tppa+30+Pj4VsdYJ5/NaHK0ULdscrSgfLb3X1HYSNu9iLeffZBGa43frGNi+zLLR5KR\nEGuNX84F6IZengeTdP3Qa90+HjupL0nngCTF0i1bcf7lOgS9sJPOvdh+NjJ+W52TXy1WqufUTJKm\nYLbGdszLSZKYEWWt/Q1r7aS19pCkn5b0mLX2WJ/DWtPYcF4P3T0dDtDgu+Fjw/lEtt2LePvZB9vN\n+HBep45N1fXlqWNTGqcvkQKcC9ANEyMDsefBiZGBPkeWLt0+HjupL0nngCTFshW6tb0cfwCweXHn\n5PuPHNa52fM6vUPPqTstL281Y23yPlJvjLlN0v9krX33WuWmp6ftzMzM1gTVAne/3dF3stnURsaN\nX+5+iy3U9fG7g88F6KIO777Z9fG73XD32+TEEiOx51/ufosObHj8tjv3HvrYFzdU7/Mfv3OjIWFn\n2bJrh+g5WZIcI1nufpvkvJwGLTsrkbMF1trHJT3e5zA64jhG47v6M9u+kbZ7EW8/+2C7yeez2s8k\nHlKKcwG6IZfLaP/oUL/DSL1uH4+d1Jekc0CSYtkK3dpejj8A2LydloM6QZ/0zs6cJgYAAAAAAABS\njEk9AAAAAAAAIGWY1AMAAAAAAABShkk9AAAAAAAAIGWY1AMAAAAAAABShkk9AAAAAAAAIGWY1AMA\nAAAAAABShkk9AAAAAAAAIGWY1AMAAAAAAABSJturio0xA5KOSDoUbcda+7/3qk0AAAAAAABgJ+jZ\npJ6kv5T0A0mzkko9bAcAAAAAAADYUXo5qTdprb2jh/UDAAAAAAAAO1Ivf1PvG8aYf9nD+gEAAAAA\nAIAdqeuf1DPG/IMkW6v7A8aYZ1X9+q2RZK21h7vdJgAAAAAAALCT9OLrt+/uQZ0AAAAAAAAAarr+\n9Vtr7QvW2hckXS3pUuT5oqR/1u32AAAAAAAAgJ2ml7+pd0rSUuT5Um0ZAAAAAAAAgE3o5d1vjbXW\nBk+stb4xZs32jDGDkr4maaAW21lr7X/oYYwh37daWC6r7HrKZzMaG87LccxWNL2ltsN2ttqGjW5b\nkvrEdX3NL5VU8XzlMo4mRgaUzfZy7h3bUaXiaX6pJNe3yjpGEyMDyuUy/Q4L4hjvxE4Zv5vJPWkb\nR+vZ1iTl5DTpVr916/hjPwLYyVzX14Wlksqer4xjVMg58nypWPFSkbeRLr2c1HvWGPMruvLpvHsl\nPdtmnZKk2621S8aYnKT/Yoz5v6y1/7WHccr3rZ555bKOPzKjucWiJkcLeujuad24b9e2ugDZDtvZ\nahuuHx/Rdy8srXvbktQnruvr6Vcu68SZ2TCW08emdNO+XZz00bFKxdPT80s6GRlHp45N6aaJkW05\nMZImHOPt7ZTxu5nck7ZxtJ5tTVJOTpNu9Vu3jj/2I4CdLC5PP3D0sIbyGf3mXz2lC0ulROdtpE8v\nR9EJSW+V9JKkOUn/WtI9a61gq4Kv7OZqD7vGKl2xsFwOLzwkaW6xqOOPzGhhudzrprfUdtjOVtsw\nv1Ta0LYlqU/ml0rhyT+I5cSZWc0vlbY8FqTX/FIpfEMmVcfRScZRInCMt7dTxu9mck/axtF6tjVJ\nOTlNutVv3Tr+2I8AdrK4PH3f2Sd1abmiE7ddl/i8jfTpySf1jDEZSQ9aa396g+vOSnqjpD+01v5d\nw+v3qDY5ePDgwS5EK5VdLzzoAnOLRZVdryv1J8V22M5W21Dx/A1t21b3yVrjt9U2uJ7fk1iwPbm+\njR9H/ub/f6QX59+dhGO8vZ0yfjeTe9I2jtazrdvhOqVX1hq/3eq3bh1/7EdEJencC6zXRsZvqzw9\nlM9oSJnweVLzNtKnJ5/Us9Z6kq4xxuQ3sq619k2SJiW9xRjzLxpe/7S1dtpaOz0+Pt6VePPZjCZH\nC3XLJkcLyme3z1d9pO2xna22IZdxNrRtW90na43fVtuQzfCxbHQu65j4cdSFrzz14vy7k3CMt7dT\nxu9mck/axtF6tnU7XKf0ylrjt1v91q3jj/2IqCSde4H12sj4bZWnV8qeXi1WwudJzdtIn16OpGcl\nfd0Y878aYz4cPDpd2Vr7qqS/kXRHzyKsGRvO66G7p8ODL/jtj7Hhdc9JJtp22M5W2zAxMrChbUtS\nn0yMDOj0sam6WE4fm9LEyMCWx4L0mhgZ0KmGcXSKcZQIHOPt7ZTxu5nck7ZxtJ5tTVJOTpNu9Vu3\njj/2I4CdLC5PP3D0sPYM53T68e8nPm8jfUzkBrXdrdiY2LvWWmt/a411xiVVrLWvGmMKkr4s6X5r\n7Rfiyk9PT9uZmZmuxLtT7tK1HbYzQXe/3VTHxY3f4I6Grucry52RsEEd3r2w6+MX7XGMt7dTxm83\n7n6blnHE3W+bdH38cvdbbKEN78h2595DH/vihup9/uN3bjQk7Cxbdu0Q3P224vlyIne/Xa14qcjb\nSKSW47dnd79da/JuDVdLerj2u3qOpM+3mtDrNscxGt+1/WfLt8N2ttqGjW5bkvokm3X0+t2F9gWB\nNeRyGe0fHep3GIjBMd7eThm/m8k9aRtH69nWJOXkNOlWv3Xr+GM/AtjJsllHV6coTyPdejapV/vU\n3Uck/XNJg8Fya+3trdax1j4p6c29igkAAAAAAADYDnr5mc9HJT0t6VpJvyXpeUnf7GF7AAAAAAAA\nwI7Qy0m9MWvtZ1T9jbz/21r785JafkoPAAAAAAAAQGd69vVbSZXavy8bY+6U9P9J2tPD9gAAAAAA\nAIAdoZeTev/RGHOVpF+X9AlJr5P0oR62BwAAAAAAAOwIXZ/UM8YMSjoh6Y2S9kv6jLX2Hd1uBwAA\nAAAAANipevGbeg9Lmpb0D5J+TNLv9qANAAAAAAAAYMfqxddvb7bW/ktJMsZ8RtJ/60EbAAAAAAAA\nwI7Vi0/qBTfIkLXW7UH9AAAAAAAAwI7Wi0/q3WKMea32t5FUqD03kqy19nU9aBMAAAAAAADYMbo+\nqWetzXS7TgAAAAAAAABX9OLrtwAAAAAAAAB6iEk9AAAAAAAAIGWY1AMAAAAAAABShkk9AAAAAAAA\nIGWY1AMAAAAAAABShkk9AAAAAAAAIGWy/Q4gYIw5IOkRSfskWUmfttb+/kbr832rheWyyq6nQj4j\n17eyvpVnJWuthgcy8nwr17OyklzfKmOkjOOo4vnyrNVgLqM9hbwWixWVXU/DAxmVXStjqvUH6/m+\n1VVDGS2t+nJ9q8GsI2OMKp6vfDajseG8JOnVYlnFsifHkfIZR65nVfGtPN+qkMto78iAHMfI961e\nLZZVcX3Z2va4vpUfxi1V3Ct1B+u8tlpWqeLXxTWYz2h0MKcLy2VJVhljpFoHB3UG2/laqaJi2ZNX\na0eSVsv1fbFUrsi3VhV37dhb1RP3PLo9uwezurBcVsXzlcs4mhgZUDbbPPcc7F/f98O+jtbvupH9\n6kgZU92vjiNZa8IxsFL2JVlZW+2Tgcj+CsZPtJ97bXXV1UKxLNe3yjpGY4W8BgcTc5giJfo1jhi/\n7dFH7fWzjxrbzmWN5FdzSaW2bDDvaLVczbWOMcoYybPSUN6oVKmW832rjGNkjGStNDEyoFwuI9f1\nNb9UCnPcUN5RqVK9dnAcya+1lXWMBnOOSq7V3qGcFooVlV1fGcco5xgVBowuF/2wfq/WXiHvqFj2\n5flWuYyjfM5otVzNr6OFXN31zErZb8q15bKrC8tXtn9XIaOR/JX815jjB3MZ7R0eaJsfo9dkm8mp\n3apnO+rWcdOtehrH0vhwXvl8/+LpZl2lkquLK1fq2TuU18BA+s/j5Cdgc1zX14Vajs9nHTmOUcX1\nwxztGMm3klO7bsg5Rr6tzk8M5hxdNZDTUrmilbIfHodDeUdLJU+OMSrkM9pdqM970bycyxhVPLvm\nebdS8TS/VJJbu04YyBqtVvx15dSN5uLteu5MgiT1oivp1621TxhjdkmaNcZ8xVr71Hor8n2rZ165\nrOOPzGh8ZEAfueNGffbrz+n9b71WHz33pN76hjHde/t1Kru+imVPK2VPn/36c7r3HW9UsezpvrNP\nam6xqHfdPKFfeecNOnFmVm99w5j+/duvlbVWxphwvfvOPql/NzWp2/6HfTp5ZjZsL6hjcrSgR37+\nLZKkV15b1We//pw+/K4b5BijhaVyXbmH3jet6ydG9OLiii6vVsLtCdqJq/uhu6d1/fiIXn6tqGLF\nq4trbrGoD/7oIb37TZP6xFe/o3vf8UaZhjqD7fzIHTfpwuVS2M5v/sTNTWX+l3ffrIwjrZR9XayV\njYv9lddWY+uJex7dniDWk2dmw3pPH5vSTft21U3sBfv3wa88U7fPgvqj/Rbdr41j4NgPX6NPPvbd\ncFl0f5VcX8cfmanr5xv37erpm4fVVVffXViu2/5Tx6Z0/dgwF1XoWL/GEeO3PfqovX72UVzbf/xz\n07q86upX//zv6+L5xFe/oy8/Na/J0YLuP3JY3/3vP9Dbbphoyo33Hzmsh7/xnH75nTfohr3D+u7F\nZZ2Ibttdt0qSPhGTi04dm9LiUlGXRgp16zz43lu0ezivB770dOw6X/j7Of3R3z6vydGCHjh6WL/z\npWc0vitfdz1z7Iev0b2PPlGXa984Nhzb9/te52vv8KAk6fmF5TDHd5ofo9dkm8mp3apnO+rWcdOt\nesplV89caK7nxvHhdU3sdfN80K26SiVX37nYXM8Ne4dT/eaU/ARsjuv6evqVyzpRmw/4jz/5z7VS\n9vShz3+76Zrg/W+9Vg9/4zl94G3XqpDP6FN/8z396juvV2XE18WlStNx+Pg/vaLPzc7pgaOHte91\ngzo0Nhx+mCbIy48//YruvGV/XW5vPO9WKp6enl+qqz+4TriwVOoop240F2/Xc2dSJObrt9bal621\nT9T+vizpnyTt30hdC8vlcKCduO063Xf2SR2ZOhBe+B5/+xvketJLi6u6tFwJX1+s/T23WJQkHZk6\nEF5IH3/7G/TS4qoyTqZuvbnFot5z65WJqKC9oI65xaJeWFjRCwsrYTvZWh2N5Y7/yYzml0p6YWFF\nl5Yr4SMoF1f38Ueq65Rc2xSXJB2dPqiTZ2bD7WusM9jO85eKde3ElSm7Vr5vNBcpGxd7q3rinsfF\nGq33xJlZzS+VYvdv4z4L6o9uY7RM4xi499En6pZF91cwfqL9vLBc3shw7NhCsdy0/SfPzGqh2Nt2\nsb30axwxftujj9rrZx/Ftf3S4mo4oReN58jUgfD5R889qdtvvjo2N370XDX3nDwzq4sr5fCaIqzr\n0Sd0cakcm4tOnpnVdROva1rnQ5//tuYuFVuuc3T6YPj8vrNP6sRt1zVdzwQX/UG5E7U+juv7slv9\nH/mF5XJdjg/KtMuP0WuyTtfpZT3bUbeOm27Vc2E5vp4L693nXTwfdKuuiyvx9VxcSfc4JD8BmzO/\nVArz7InbrtP85XI4oSfVXxME/9539kktLld0ZOqA5i+X5XqKPQ7fc+tkmNNfWFgJ8140Lx+dPtiU\n2xvPu/NLpab6g+uETnPqRnPxdj13JkUip0WNMYckvVnS38W8do+keyTp4MGDseuXXS8cMLsLOc0t\nFsN/JSlTm0Ueyle/qhm8HvwdaFxnKJ+RY+rXkyTf2qb2ohrbCepoLDe3WFTF88Py0eWt6g7WiYsr\niDu6fY11BvU2thNXpvpRYds29lb1xD2Pi7WxXtfz65YF+7dV/dF1o2Ua92fjskCr7Su7njZrrfHr\n+jZ++30roFO9HEeM382hj9rr1/ht1XarfBDNN3OLRdk1cmOQZ1pt21A+oyHFr7uRdTKR/ymPy5Ut\nc22LtjzfhvlvI/kxek3W6Tq9rCettuL8u13rSWpMSdLPcy+QZJ2O34rnr/leOnjeODcR5HOp+j47\nbh1rbfj3UD4T5r2y64V5ea3cHmh1nEfjbZdTN5qLt+u5MykS80m9gDFmRNI5Sb9mrX2t8XVr7aet\ntdPW2unx8fHYOvLZjCZHC5KkV4sVTY4Wwn+l6m/P+Lb69cyVshe+HvwdaFxnpew1rSdVf1Onsb2o\nxnaCOhrLTY4WlMs4YfnGduLqDtaJiyuIO7p9cWUat71VX/hWyhjTNvZW9cQ9j4u1sd5spn6YBvu3\nVf2t9mvj/mxcFt1fcXHks/WTrRux1vjNOiZ++3f414qwPr0cR4zfzaGP2uvX+G3Vdqt88GqxUvfc\nrJEbgzzTattWyl7L/L6RdbzIBXLQflz+67StjGOUz2aUz2Y2lB+j12SdrtPLetJqK86/27WepMaU\nJP089wJJ1un4zWWcNd9LS/XXBMG/QT5fKXvKmPjj0NR+Ez8oH+S9aF5eK7cHWh3nwTVNJzl1o7l4\nu547kyJRk3rGmJyqE3qPWmv/z43WMzac10N3T1d/J+bx7+uBo4d1bva87j9yuPq97689q2xG2j86\nqD3DufD10drfwYA7N3tep49NhevsHx2U53t1602OFvSXT8zpVK1c0F5Qx+RoQdeMDemasaGwHbdW\nR2O5h943rYmRAV0zNqQ9w7nwEZSLq/uhu6vrDGRNU1ySdHbmRZ06NhVuX2OdwXYe2FOoayeuTD5r\n5DhWk5GycbG3qifueVys0XpPH5vSxMhA7P5t3GdB/dFtjJZpHAOfuuvWumXR/RWMn2g/BzfQ6JWx\nQr5p+08dm9JYobftYnvp1zhi/LZHH7XXzz6Ka3v/6KB+/6ff1BTPudnz4fP7jxzWY0+9HJsb7z9S\nzT2njk1p71A+vKYI67rrVu0dycfmolPHpvT9+dea1nnwvbdock+h5TpnZ14Mnz9w9LBOP/79puuZ\nT911a1OubdX3+azR2HBeY8P5uhwflGmXH6PXZJ2u08t6tqNuHTfdqmd8OL6e8fXu8y6eD7pV196h\n+Hr2DqV7HJKfgM2ZGBkI8+zpx7+viV35ar6OuSYI/n3g6GGNDud0bva8Jnbllc0o9jj8yyfmwpx+\nzdhQmPeiefnszItNub3xvDsxMtBUf3Cd0GlO3Wgu3q7nzqQwwcc5+81Up6AflnTJWvtrnawzPT1t\nZ2ZmYl/b0N1vI3dJDe5C09Hdb63VVYX13P3WKJ8x4d1vfb92B7lu3/22dme64O63RlZOR3e/lYYH\nqvO91bvUXumLxrvftoq9VT1xz+Pufut6vrLrvvvtlfpb3/3WVO90G7n7rVH1k5uS6vZXB3f12dR/\nLcSNX+48hm7ocBwxfvuAPmqvX+M3ru1e3f02yHFxd78N7pLXePfbilvNYdG73wZ30tvo3W8bc+36\n7n5bvTbg7rcbktjzL3e/bW+73sFxHf2z4fG71ns3STr0sS9uqN7nP37nRkPCztKTa4dA7+5+W833\nbe9+mzWquNz9dhtr2clJ6sW3SXqfpH8wxvx9bdn/bK39641U5jhG47sG2hfsQKf1XFVY+/U9wwPS\ncPt6HMdUy66D4xjtHmq9zut3twlO0p5sTHwNz3dn144rjL1NPWv1Qyexdmv/7h5q/Vq3xs96DA5m\ntZ83+Nikfo0jxm979FF7/eyjjtvuIJfHyWadjnJco6tjJkNeN9ii8Br5NprX4vJfPp/V/jUmXlrm\n+Da6lbO7eW233XTruOlWPe3G0lbH0826Bgay2r8N34iSn4DNyWYdXb2BHB81mstotCHHNj6PWm9e\nzuUy2j+6xhvgDmw0F2/Xc2cSJKZXrbX/RZucPQcAAAAAAAB2gkT9ph4AAAAAAACA9pjUAwAAAAAA\nAFKGST0AAAAAAAAgZZjUAwAAAAAAAFKGST0AAAAAAAAgZZjUAwAAAAAAAFKGST0AAAAAAAAgZZjU\nAwAAAAAAAFKGST0AAAAAAAAgZZjUAwAAAAAAAFKGST0AAAAAAAAgZZjUAwAAAAAAAFKGST0AAAAA\nAAAgZZjUAwAAAAAAAFKGST0AAAAAAAAgZZjUAwAAAAAAAFImUZN6xpg/NsbMG2P+sd+xAAAAAAAA\nAEmV7XcADf4PSZ+U9MhmKvF9q1eLZVVcX1aS61v51mowl9He4QH5vtX8UkmSlbWSlTSQzWhsOC/f\nt7q0UlbZ8+X5ViMDGTmOtFLy5fpWhVxGkmStVT5r5PnVNj3fyjbEEW13TyGvxWJFZdfT8EBGK2Vf\nWUdyjAnLl9zmNrIZI9ezchwjP6aNuLb2Dg/IcYxc1w+3JZ8xqnhWxkiZWpuV2jrDAxl5vmT9anur\nlWocuYyjiZEBZbOOfN/qcqmspVVPrm81nM+o7Nm6PhwZyKjs2rr23Fofer5U9nw5RpKMMkYyxsha\nq4pvlXGkjHFqr9f3p1t73VpT6/eMdg9m9VqpIterru/V+m3PUF6vlSoqlj3lskbWr25nPmPkGBPW\n6/pWGSMN5R0tlfywXzKOCfdDdPu3yuqqq4ViWa5vlXWMxgp5DQ4m7TBF0vVrHDF+26OP2utXH7mu\nr0vLZZV9X75vlXGMjJGyjiPX81WpxbOr4Ohy0Q/jG8o7WilX84i1kmetsk59/vB9q4Xlsnzfl2cl\nx0jZSL7JOkYjg46WVq8831VwtLRazdMZx8hRtW5rJceRfP/Kv14t3kLekespvIbJZRwN5oxWK1a5\njFE50l4ua+S6Nsx7GcdoeMDRculKmcGcI2OkYvnKMsdIvpXyWUcVz2owZ1QsV9sbyDpyfRvm0L1D\nOf2g5KnsespnMxot5LRYrKjkejJStX+NkWuliucrl3E0PpzXq6tu0zpl11Mu6yjrGBXLXngtcGG5\nHK4bl7ODvg/qGxvOy3HMusskXbeOm+1aT7frAoBGq6uuXiu7YQ7OOqaaK2u5N+MY5SLvkQezjqyk\nci0HGyPJSoN5RxVXKnueCrlM3XvTobyj5dKVXBXMa8TlwbjcFi0fzDlUPH9duc91/ZZtbqQcNn8d\nkqhMZq39mjHm0Gbq8H2r5xeWdXm1IklaKXu67+yTmlssanK0oD87/q/1g6KrP/jqd/T+t16rj56r\nf63k+rpwuaT7zj6p8ZEBffzIv1DJtbr30Sc0PjKgj9xxoz779ef0Gz9+k1Y9R9ZalV1fxbJXF0e0\n3XfdPKFfeecNOnFmVm99w5iO/fA1+uK3X9LP/NA1YfnXim5TGx9+1w1yahNfxpimNuLamhwt6KG7\np/XGvcN6YXFFFy6X9PjTr+jOW/brk499V/e+440ykXUa2yvXtjWo6/SxKd04MaKLKyVdXKroZGQb\nPvnYd8M+fOsbxvTv336tFpbKYXv3PvpE3fLPfv05vf+t1+rhbzxXF8dnv159Xsg5Gshl6vozeD26\nrz74o4f0sz98SKWKp4Wlcl0/f+SOm8JtPjJ9IIznZ37omrDeoM7/7d/erBcXS/rEV78Ttl+K2f6b\n9u3akhPQ6qqr7y4s6+SZ2bD9U8emdP3YMBed6Fi/xhHjtz36qL1+9ZHr+nr+0nKY/4O2P/mzI9uu\nTwAAIABJREFUb1bF9fWhz3+7Lp5PfPU7+vJT83rXzRP65XfeoE/EXFME+cNxjJ555bIe/MozYQ5s\nzLdBPY3bPfvcRf3mF57W5GhBD773FuWyjj71N98L64lr0/N9/eKffqtu2cxzF3XrobG6/Papu27V\nF7/9km67aZ9+50vPaHxXvimGz37gX6lU8XUisuz+I4f18Dee0y/dfr1euHhZh8Zfp5NnZsPriWhO\nbqzv9LEp/UGt79bq3y/8/Zz+6G+fr7t+Cl5/4Ohh/c6XntFbDu3Wu9802VR/NGf7vtUzr1zW8Udm\n6q6Rbqztl07LJF23jpvtWk+36wKARqurruZeK9ZdR7zr5gn98u3X62RD7v3kY9/VhcvlupwZ5Nev\nPfNKmNuC99yNufvM//OCvvHsgh5637RyWaOf++w3W157RHPbIz//Fq2UPZ2Iydmd5j7X9fX0K5fr\n8nLc++VOy6E71yHbrkcXlst6YWFFl5YrurRcCQeqJM0tFlVyrU6cmdWRqQPhhXD0tfOXiuE6J267\nThknEx5IJ267TvedfVJHpg4o62RUca1cT3ppcTVsL67dI1MHwgF9/O1v0L2PPqGj0wflegofrdp4\naXFVmdq/jW202sbjj8xofqkUbsvR6YO699EndGTqgBYb1mlsL4gjqOvEmVnNL5XkegovhIJtiPbh\n8be/QS8trta117g8KN8YR/A842Sa+jO6XhDX0emDqrg2rDfaz9FtjsYTrTeoUzI6WRsLQfuttn9L\nxm6xHPZx0P7JM7NaKJa3pH1sD/0aR4zf9uij9vrVR9GcGW17cbkSTjhF46nmkGreOdnimiLIHwvL\nZR1/ZKYuBzbm26CexnZuv/nq8PmHPv9tLS5X6uqJa/PScqVp2e03X92U34JrkfvOPqkTt10XG8Pc\npWJ4/RIsC9q+99En9OZrxsJ1guuJtbbpRKTv1urfo9MHwzoa2w/iPTp9MLb+aM4O+r7xGmlhubyu\nMknXreNmu9bT7boAoNFCsdx0HXFk6kA4oSddyb1Hpg405cwgv0ZzW/Ceu3H9429/Q/X1P5nR+UvF\nNa89oq+9sLAS5tS49jvJffNLpaa8HPd+udNy6M51SOr+a8oYc4+keyTp4MGDTa+XXU9D+Uz4POic\ngGOqy3YXcrGvDeUz4fLdhVxYPngerOtZG35VNNpeXLvRtjKO0dxiUZmGWde4NoJ4gn9badyOucWi\nXN+G2xK0ubuQa9teq7psZJ1ofdFlje01Lo+2Fa0/eB7Xn3H7Kui76L4KtiVYpzGeaL3hPvRtU/ux\n2x98x7oL1hq/bi2epvb9Vl+6Bpr1chwxfjeHPmqvX+O34vlNOUVqzjNBPEHeiOa1VvnDWtuUAxvz\nTav1rbV1z4fyGQ0ps2abjdcLQT1xZRuvD9az/XOLxTCPxm1Dq/ii1wCt6g/y9lp1RK81oq9Fc3bZ\n9WLLlF1vXWWSYCvOv9u1nm7XhfVp994NSLJOx2/0vXegXR5cKy9LapnnghzZKudHrz2iGuc5NpL7\nKp7f0fvlTsuhO9chqfuknrX209baaWvt9Pj4eNPr+WxGK7WvWK6UPU2OFupe9600OVrQq8VK7GvR\ndV4tVsLywfNg3Ywx8u2VdRof0bqjbXm+1eRoQZ5vw/VbtRHU3aqNVts4OVpQ1jHha0GbrxYrTes0\ntteqrowxTdvQuF2N7TUuj7YVjSN4Htefcfsq6Lu4fo7GEP07Wm+4Dx3T1H7s9me6d5isNX6zjmnZ\n/0CnejmOGL+bQx+116/xm8s4sfm0VY59tVj9iY9oXmuVP/LZTFMObMw3rdY3kd/dnRwtaKXstW1z\npeGnOoJ64spG83lcfWtt/+RoIcyjcdvQKr6g79aq36tNtKxVR/RaI/paNGcHfd9YJp/NrKtMEmzF\n+Xe71tPturA+7d67AUnW6fiNvvcOrJXDWr3W+D56rRzZKudHrz2i4uYAGtdtl/tyGaej98udlkN3\nrkO2Xa+ODed1zdiQ9gzntGc4pweOHg47aXK0oIGs0eljUzo3e173H2l+7cCeQrjO6ce/L8/39Km7\nbg2fP3D0sM7NnpfrV2/EkM1I+0cHw/bi2j03e16nj01Vvx/9tWf1qbtu1dmZF5XNKHy0amP/6KC8\n2r+NbbTaxofuntbEyEC4LWdnXtSn7rpV52bPa7Rhncb2gjiCuk4fm6r+qGVGOtWwDdE+fOhrz2r/\n6GBde43Lg/KNcQTPPd9r6s/oekFcZ2deVC5rwnqj/Rzd5mg80XqDOiWrU7WxELTfavu3ZOwW8mEf\nB+2fOjalsUJ+S9rH9tCvccT4bY8+aq9ffRTNmdG2R4dzevC9tzTFU80h1bxzqsU1RZA/xobzeuju\n6boc2Jhvg3oa23nsqZfD5w++9xaNDufq6olrc89wrmnZY0+93JTfgmuRB44e1unHvx8bw+SeQnj9\nEiwL2v7UXbfqWy8shOsE1xNrbdPpSN+t1b9nZ14M62hsP4j37MyLsfVHc3bQ943XSGPD+XWVSbpu\nHTfbtZ5u1wUAjcYK+abriHOz53UqJveemz3flDOD/BrNbcF77sb1H/ras9XX3zetA3sKa157RF+7\nZmwozKlx7XeS+yZGBpryctz75U7LoTvXISb61Y5+M8b8maTbJO2V9Iqk/2Ct/Uyr8tPT03ZmZqZp\nead3vzWqfoJLUt0dYYI7xvp+9c6w2+nut4650mY37n4b7cPhmLvfev6V+suer4yRbA/ufuv7tX6u\nu/utI+vb1ne/daSh3Kbufrup/96NG7/cmQ3d0OE4Yvz2AX3UXr/Gb9zdbx0jZXpw99uMUV2+Wevu\nt9ZWrwHWe/db37fKdvHut0EbQZsDWUflDd79NvhKSfTut67nK7vBu98G66bo7reJPf9u13q6XdcO\nt+Hx2+q9W+DQx764oXqf//idGw0JO0vXz71R0bvfBtcR4d1vrVXGXLn7bZAzu3X327g8uNbdb13P\n1+Am7367Vu5dTzl0fB3ScuckKpNZa3+mG/U4jtGe4dazwI5j9PrdhZavTbxusGn56NDm4xrfdSWm\n3V2or51s1ondlo1wHKOrCgO6Kr7b+mIsF/+R1D3ZAWm483qu2oJ90anBwaz2c4GJTerXOGL8tkcf\ntdevPspmHU1c1VnObEyto21yjuOYumuAVhpzbJdS+LrEXp+0y6lrvD6er9+XnfTDeEN+b1on0l6r\n67lAJ33f6f5Jsm4dN9u1nm7XBQCNBgezW/IfBdE83W5eozG3rVW+U9ms01EdnZbD5q9DyGwAAAAA\ngFTa6Cf8JD7lByD9+PwjAAAAAAAAkDJM6gEAAAAAAAApw6QeAAAAAAAAkDJM6gEAAAAAAAApw6Qe\nAAAAAAAAkDJM6gEAAAAAAAApw6QeAAAAAAAAkDJM6gEAAAAAAAApk+13AAAAAAAApMWhj31xw+s+\n//E7uxgJgJ2OT+oBAAAAAAAAKcOkHgAAAAAAAJAyTOoBAAAAAAAAKcOkHgAAAAAAAJAyTOoBAAAA\nAAAAKcOkHgAAAAAAAJAyiZrUM8bcYYx5xhjzPWPMx/odDwAAAAAAAJBE2X4HEDDGZCT9oaR/I2lO\n0jeNMX9lrX1qPfX4vtVKuayyZ5VxJGslY6qP4G/fr/7r+VKmYVozWOYYyapaVpIc58rfYVu29pqR\nXE/K1XozaCeoQ7rSpqmVdUx1/SDGoI1o2WD5lT66Une0nWB59LXodkaXV1wpm6lvL9ovwfKg7Whb\nnn8lbqlaT7RcNAZrr/RZsJ1xcQblguW+rbYRvB633dKVPgxej6s7un+D2IPyjpEqXjW+bKa5Tyuu\nVHJ9ub5VznE0sWtA2Wzv58BXV10tFMtyfausYzRWyGtwMDGHKVKiX+OI8dsefdReUvvI960Wlssq\nu57y2YzGhvNyHNO2rDFG+YxR2bPyfSvHSIN5R6sVq4rnK+sYZR2jsufLMUaDOUerFT/c/lzGyFrJ\n9W01J2UcZR2p4tkwzwb/etYqY0w1p1sp5xjlc0bFki+ZaM41qni+Mo6plskaLZd9eb5VzjHKZowq\nntXIoKNi2arkXik7NGD0WtEPrwc83yrjmOo21erI1LbJl61dB1g5tbiCGDIycn2rSmQ7K57V8ICj\n5dKV7R8acFSpWJV92xRf0FdBm7msUcW14bqFvKOVkl93nTCQdWRl6vaf71tdXC5pteKF/WdkND4y\nIMcxG9rv7cp2W7eOm6TV47q+5pdKqni+chlHEyNbcz0GAJ0IznVDeUeuL5Vr7x8zjtFA7VxlrVXF\nu5KbdhUcLS57GspnqnnQ88PcY620u+BoqWQ1kDNhPhzMOvKtVK5dNwxkHe3KZ3Vx5cp5djDnqOxa\njY8MSJIuLJVUjuT6wZxRyb0Sy0bPqY3XOEN5U5e3x4fzyuf7f92WJpvNdUnq7bdI+p619llJMsb8\nuaT3SOp4Us/3rX6wWlKx4msg66jkVg8oR7WLXiNVastKtTJuZKKu5Prhwef61QtmScpljFYr9TNs\nbm1mK+sYFSu+hvOOXN9cuZg1CuuueFfiKJarB6Lr2zDGoA3Pv1LW8+rbC5ZlajOFQTvBtgXPZeu3\nM7rOUsnTYNbI90zYnh8pH8RR8aptOkZSbaKt5F6JW5IKOaeuXDQGz7NhnwXb6dvmOD3fhu15/pUT\nXfB6tO4gFkkqVqqxBP0S1wfBvnT9K7EH5bNGulzyq28IskbGOnV9urTq6QcrFd376BOaWyxqcrSg\n08emdNO+XT29kFxddfXdhWWdPDMbtnvq2JSuHxtOxBtapEO/xhHjtz36qL2k9pHvWz3zymUdf2Qm\njOuhu6d1475dTZM2jWXfdfOEfun268Oc8sEfPaR/+6ZJnYhs4wNHD+t3vvSM3nJot979psn67b/r\nVjlG+uCZJ+qWfeHbL+ntN+7Tw994Tu9/67X66Lknw9fvP3JYD3/jOX3gbddq764Bff0787r+n12l\nh7/xnO55+3X6tc/9fV3be3cN6Ow3X9Qf/e3zYf2zzy/oX71hrz74J1di+cOffbMyjqM/+Op3mto8\ndWxKn/jqd/Tlp+bDsqsVX7/+n7/dFNcv/MgbNJhz9It/+q2mbXr3myY1+9xF/eYXnta7bp7QR+64\nSRcul3Tf2Sfrys4+v6Cpa/eGfdXYz0FMj//TK/rc7FzY9i/dfr2++O2X9JO3HtCN+3ZJUtO+Dcp+\n5I6bVHGtjv/J+vf7WmW7rVvHTdLqcV1fT79yue5Y2YrrMQDoRHCue/7Ca7r59bt1abmsD33+23X5\n9dDegi5eruhkQ26yvqf512xd+SD3/PI7b9DBPQN68VJJJ8/ManxkQB+548a6PPiJn3mzRgaz+sBn\nv1lX7+xzF/UjN0yo5Pp1+fuBo4d1zd4hLVwu18Wy3nNqXK5rzP+njk3pxvFhJvY61I1cl6SMuF/S\n+cjzudqyji0sl7VS8uV50mrZV9m1Wi37Win54b/BsqBM9BEsW1q9Urbs2rq/g4fnSZ4nlV2rimtV\nqti6NoM6om0GsQXrB+WDNqJlG9uL1h23bdHXGusJlldcq0qt/aC9aPlgebSe4Hk0bs9TU7loW9E+\nC7YzLs5oe0HZ6OuN+y54BOXW6oPo/m0sv7RaXRb0R2OfVlwbvimQpLnFok6cmdX8Uql7oz1u/BbL\n4QVw0O7JM7NaKJZ72i62l36NI8Zve/RRe0nto4XlcngBG8R1/JEZLSw3x9VY9sjUgbqccnT6YHjh\nFtR139kndeK263R0+mDz9j/6hOYvl5uWHZ0+qI+ee1JHpg6Ek2vB68Hy+84+qblLRd1+89XhsmBC\nL9r23KWijk4frKv/9puvDt8QBMsvLVd04sxsbJsna8ujZYMJvca4fv0/f1uXliux23TyzKxuv/nq\nsO/OXyqGb2Qa44v2VWM/BzG959bJurbvrbUT7L+4fRuUPX+pGE7orXe/r1W227p13CStnvmlUtOx\nshXXYwDQieBc9+ZrxvTipWI4QSddya+uZ8JJtGD5yTOzGhsZbCof5J6TZ2a1tOqH59ETt13XlAd/\n+c++pblLxaZ6b7/5ap2/VGzK3/edfVKep6ZY1ntOjct1jfn/5JlZXdiC3LdddCPXpW761Bhzj6R7\nJOngwYN1r5VdT65vq1+btTErR8SV6WS9aFlJMrVPurkdrmhr66ynrW5xTPXTaBsRjVtaXz+tp6zp\noGwn5aLtxpW3at0fjlF4UAXmFotyPb+p7HqtNX5d38a3u9UDBanWy3HE+N0c+qi9fo3fdsquFxtX\n2fXalt1dyNU9zzgmtq7dhVzL14bymaZlQdnG+qP1Betaa9csO5TPVD/pHlkWrBM1lM+0bbOx7Fpx\ntdomW/ttj6C+uHoa42sVU1BXtO2gnWD/rbUtG93va5XdiK04/yatnorn9+x6DFtnM+deoN86Ofd6\nvm2Z8/yYXBqcD9fKkdHX18rdjcusbR2L1yqWdZxTW+W6aP7n2nZ9upHrkvRJvZckHYg8n6wtq2Ot\n/bS1dtpaOz0+Pl73Wj6bqX5905jwa5zZhkewLChT95ppLptp+Dt8mNrDMfKtmuqPazNoI+PUx5iJ\nKdvYXlM9a7TRWE+wrPrbdq1jjFseF3dc38W1Gd3O2L5obN+sHUNTLG36ea3yGXOlPxrX9600OVqo\nG1uTowVlG3+AcQPWGr9Zx8S362zN7/Fge+jlOGL8bg591F6/xm87+WwmNq58NtO27KvFSt1zz7ex\ndb1arLR8baXsNS0LyjbWH60vWNcYs2bZlbJX959ck6OFcJ2olbLXts3GsmvF1WqbTO2Hbl8tVlrW\n0xhfq5iCuqJtB+3ks5mW+3attjvZ72uV3YitOP8mrZ5cxunZ9Ri2zmbOvUC/dXLuzTimZb5wYnJp\ncD5cK0dGX18rdzcuM6Z1LJlWsazjnLpWzmzcPnSmG7kuSVnxm5KuN8Zca4zJS/ppSX+1ngrGhvMa\nGnCUyVR/hDqfrf5w89CAE/4bLAvKRB/BspHBK2XzWVP3d/DIZKRMRspnqz/MPJAzdW0GdUTbDGIL\n1g/KB21Eyza2F607btuirzXWEyzPZY1ytfaD9qLlg+XReoLn0bgzGTWVi7YV7bNgO+PijLYXlI2+\n3rjvgkdQbq0+iO7fxvIjg9VlQX809mkua/Spu24ND67ge+0TtR8d7ZWxQl6njk3VtXvq2JTGCvme\ntovtpV/jiPHbHn3UXlL7aGw4r4funq6L66G7pzU23BxXY9lzs+frcsrZmRd1umEbHzh6WKcf/77O\nzrzYvP133aqJXfmmZWdnXtT9Rw7r3Ox53X/kcN3rwfIHjh7W5J6CHnvq5XDZ7/27NzW1PbmnoLMz\nL9bV/9hTL+uP3lcfy57hnE4fm4pt81RtebTs7/7ULbFx/e5P3aI9w7nYbTp1bEqPPfVy2HcH9tRi\nbCj72FMv1/VVYz8HMf3lE3N1bX+q1k6w/+L2bVD2wJ6CHnrfxvb7WmW7rVvHTdLqmRgZaDpWtuJ6\nDAA6EZzrvvXCgg7uKejB997SlF+zGatTMblpYWm1qXyQe04dm9LIoBOeR08//v2mPPiJn3mzJvcU\nmup97KmXdWBPoSl/P3D0sDIZNcWy3nNqXK5rzP+njk1pfAty33bRjVxngq8lJIEx5scl/Z6kjKQ/\nttb+9lrlp6en7czMTN0y7n57pSx3v+353W839V8QceM3qXd9RLp0OI4Yv31AH7XXr/HbTlfufmut\nHG387reeb5Xt4O63jpG8hrvfBnfEDe5+63q+HKfF3W9rd5EN7n5bdq+U3czdb51IDO3ufhvUs5G7\n3wbPC3lHK2VfRleuX9a6+22p4oVxqrd3v03s+Tdp9QR3BHQ9X1nufpsUGx6/7c69hz72xY1WvWHP\nf/zODa23mVg32iY2rWfn3ujdbz3fynHWvvvtq8ueCrW737q1/N/J3W+DO9d3evfbSiTXR+9+G1xP\ncPfbZOgw17Ucv4nqbWvtX0v6683U4ThGI4P8Dx7SaXAwq/28wccm9WscMX7bo4/aS2ofOY7R+K7O\nri/WU3YrjA51UGY4fvlVheZluwZbVNKijvXa3UG8ndrTQUyOYzTRcqOUiv3ereMmafVks45evztm\nEAJAAmz0XPe61ilHkjRce71dPtw/0Lrtq3t07ozLdd3M2zvRZnMd/9UFAAAAAAAApEzy/iscAAAA\nAACE0vT1ZImvKANbJVG/qbdexpgLkl5o8fJeSRe3MBxiSGb7vYzhorX2jo2unILx2yhpMRFPe2vF\ntJPGb9LikZIXU9LikfozftPWD/2QtHik5MXULh7Ov/2VtJjSFs+Gx2+bsdtJ20mX9vil9G8D1769\nwzb2V8vxm+pJvbUYY2astdPE0N8Y+t1+UmJYryTGnLSYiKe9fsWUtL5IWjxS8mJKWjxSf2KiH9pL\nWjxS8mLqZzz0RXtJi4l4ktF2N6Q9fin928C1b++wjcnFb+oBAAAAAAAAKcOkHgAAAAAAAJAy23lS\n79P9DkDEkIT2pWTEsF5JjDlpMRFPe/2KKWl9kbR4pOTFlLR4pP7ERD+0l7R4pOTF1M946Iv2khYT\n8SSj7W5Ie/xS+reBa9/eYRsTatv+ph4AAAAAAACwXW3nT+oBAAAAAAAA2xKTegAAAAAAAEDKMKkH\nAAAAAAAApAyTegAAAAAAAEDKpHpS74477rCSePDo12NTGL88+vzYFMYvjz4/NoXxy6PPj01h/PLo\n82PDGLs8+vzYFMYvjz4/Wkr1pN7Fixf7HQKwYYxfpBnjF2nG+EWaMX6RVoxdpBnjF0mV6kk9AAAA\nAAAAYCdiUg8AAAAAAABIGSb1AAAAAAAAgJTJ9juAncz3rRaWyyq7nvLZjMaG83Ic0++w+qbT/qDf\ngLVVKp7ml0pyfausYzQxMqBcLrNt2wWwOa7rV49dz1fGMco6Ro7jkF9ThPMv0iw4B1U8X7mMo4mR\nAWWz3fvsCe8dAGxnTOr1ie9bPfPKZR1/ZEZzi0VNjhb00N3TunHfrh2ZZDrtD/oNWFul4unp+SWd\nPDMbHiOnjk3ppomRnr7B61e7ADbHdX09/cplnYgcu/cfOayHv/GcPvRvbiS/pgDnX6RZ3Dno9LEp\n3bRvV1cm9njvAGC74+u3fbKwXA6TiyTNLRZ1/JEZLSyX+xxZf3TaH/QbsLb5pVL4xk6qHiMnz8xq\nfqm0LdsFsDnzS6XwzbRUPXY/eu5JHZk6QH5NCc6/SLO4c9CJLo5f3jsA2O56+kk9Y8zzki5L8iS5\n1tppY8weSZ+TdEjS85Lea61dNMYYSb8v6cclrUj6OWvtE72Mr5/Krhcml8DcYlFl1+tTRP3VaX/Q\nb8DaXN/GHiOub7dluwA2p+L5scfu7kKO/JoSnH+RZq3OQa7nd6V+3jtgKxz62Bc3vO7zH7+zi5Fg\nJ9qKT+q9w1r7JmvtdO35xyR91Vp7vaSv1p5L0o9Jur72uEfSqS2IrW/y2YwmRwt1yyZHC8pnd+bX\nJDrtD/oNWFvWMbHHSLbHXzHpV7sANieXcWKP3VeLFfJrSnD+RZq1OgdlM915m8p7BwDbXT++fvse\nSQ/X/n5Y0k9Glj9iq/6rpN3GmKv7EN+WGBvO66G7p8MkE/y+w9hwvs+R9Uen/UG/AWubGBnQqWNT\ndcfIqWNTmhgZ2JbtAticiZEBnW44du8/cljnZs+TX1OC8y/SLO4cdLqL45f3DgC2u17fKMNK+rIx\nxkr6I2vtpyXts9a+XHv9v0vaV/t7v6TzkXXnaste1jbkOEY37tulv7j3bdyJSZ33B/0GrC2Xy+im\niRF97p4f2tK7IParXQCbk806umnfLn3+gz9cd/fb3/4fD5NfU4LzL9Ks8RyU7fLdb3nvAGC76/Wk\n3o9Ya18yxkxI+oox5unoi9ZaW5vw65gx5h5Vv56rgwcPdi/SPnAco/Fd/C9qoNP+SHO/bafxi+TK\n5TLaPzrU9Xrbjd9etQt0A+ff1rJZR6/fXWhfEH3D+Rdp1cm5t9fnoDS/d0B/ce2ANOjp12+ttS/V\n/p2X9BeS3iLpleBrtbV/52vFX5J0ILL6ZG1ZY52fttZOW2unx8fHexk+0HWMX6QZ4xdpxvhFmjF+\nkVaMXaQZ4xdp0LNJPWPMsDFmV/C3pHdJ+kdJfyXp/bVi75f0l7W//0rS3abqhyT9IPI1XQAAAAAA\nAAA1vfz67T5Jf2GMCdr5U2vtl4wx35T0eWPML0h6QdJ7a+X/WtKPS/qepBVJH+hhbAAAAAAAAEBq\n9WxSz1r7rKRbYpYvSHpnzHIr6Rd7FQ8AAAAAAACwXfT0N/UAAAAAAAAAdB+TegAAAAAAAEDKMKkH\nAAAAAAAApAyTegAAAAAAAEDKMKkHAAAAAAAApAyTegAAAAAAAEDKMKkHAAAAAAAApAyTegAAAAAA\nAEDKMKkHAAAAAAAApAyTegAAAAAAAEDKMKkHAAAAAAAApAyTegAAAAAAAEDKMKkHAAAAAAAApAyT\negAAAAAAAEDKMKkHAAAAAAAApAyTegAAAAAAAEDKMKkHAAAAAAAApAyTegAAAAAAAEDKMKkHAAAA\nAAAApAyTegAAAAAAAEDKMKkHAAAAAAAApEzPJ/WMMRljzLeMMV+oPb/WGPN3xpjvGWM+Z4zJ15YP\n1J5/r/b6oV7HBgAAAAAAAKTRVnxS71cl/VPk+f2SHrTWvlHSoqRfqC3/BUmLteUP1soBAAAAAAAA\naNDTST1jzKSkOyX9p9pzI+l2SWdrRR6W9JO1v99Te67a6++slQcAAAAAAAAQ0etP6v2epI9I8mvP\nxyS9aq11a8/nJO2v/b1f0nlJqr3+g1r5OsaYe4wxM8aYmQsXLvQydqDrGL9IM8Yv0ozxizRj/CKt\nGLtIM8Yv0qBnk3rGmHdLmrfWznazXmvtp62109ba6fHx8W5WDfQc4xdpxvhFmjF+kWaMX6QVYxdp\nxvhFGmR7WPfbJP2EMebHJQ1Kep2k35e02xiTrX0ab1LSS7XyL0k6IGnOGJOVdJWkhR4DWQiYAAAg\nAElEQVTGBwAAAAAAAKRSzz6pZ639DWvtpLX2kKSflvSYtfYuSX8j6Wit2Psl/WXt77+qPVft9ces\ntbZX8QEAAAAAAABptRV3v230UUkfNsZ8T9XfzPtMbflnJI3Vln9Y0sf6EBsAAAAAAACQeL38+m3I\nWvu4pMdrfz8r6S0xZVYl/dRWxAMAAAAAAACkWT8+qQcAAAAAAABgE5jUAwAAAAAAAFKGST0AAAAA\nAAAgZZjUAwAAAAAAAFKGST0AAAAAAAAgZZjUAwAAAAAAAFKGST0AAAAAAAAgZZjUAwAAAAAAAFKG\nST0AAAAAAAAgZZjUAwAAAAAAAFKGST0AAAAAAAAgZZjUAwAAAAAAAFKGST0AAAAAAAAgZZjUAwAA\nAAAAAFKGST0AAAAAAAAgZZjUAwAAAAAAAFKGST0AAAAAAAAgZZjUAwAAAAAAAFKGST0AAAAAAAAg\nZZjUAwAAAAAAAFKmZ5N6xphBY8x/M8Z82xjz/xpjfqu2/FpjzN8ZY75njPmcMSZfWz5Qe/692uuH\nehUbAAAAAAAAkGa9/KReSdLt1tpbJL1J0h3GmB+SdL+kB621b5S0KOkXauV/QdJibfmDtXIAAAAA\nAAAAGvRsUs9WLdWe5moPK+l2SWdryx+W9JO1v99Te67a6+80xphexQcAAAAAAACkVU9/U88YkzHG\n/L2keUlfkfR9Sa9a+/+zd+7xUVXn3v+tPfdLkglJhlsiIMVgtAEMIpdzFOWIWm+1QbCKKFoIorVv\n34p4jodqD+17RPR4Wi0324KAN4R6tNh6OSr1HJAqkZZaJCIVTBCSEBJIJnPbs9f7x8zezGVPkkn2\nnhvP9/PhQzLZs9bae6+9nmc/67lwMXJIE4DhkZ+HA2gEgMjfTwEo0XN8BEEQBEEQBEEQBEEQBJGL\n6GrU45yHOOfjAZQDmARg7EDbZIwtZIztYYztaW1tHfAYCSKd0Pwlchmav0QuQ/OXyGVo/hK5Cs1d\nIpeh+UvkAmmpfss57wDwPoApAFyMMWPkT+UAjkZ+PgqgAgAify8C0KbS1jrO+UTO+cSysjLdx04Q\nWkLzl8hlaP4SuQzNXyKXoflL5Co0d4lchuYvkQvoWf22jDHmivxsA3AlgM8QNu7Nihx2B4DXIj+/\nHvkdkb+/xznneo2PIAiCIAiCIAiCIAiCIHIVY++H9JuhAJ5jjBkQNh5u4ZxvZ4ztB/ASY+ynAPYC\n+HXk+F8D2MQY+wLASQC36Dg2giAIgiAIgiAIgiAIgshZ+mzUY4z9A4AxnPP1jLEyAE7O+ZfJjuec\n7wMwQeXzvyOcXy/+cx+Am/s6HoIgCIIgCIIgCIIgCII4W+lT+C1j7BEASwH8c+QjE4DNeg2KIAiC\nIAiCIAiCIAiCIIjk9DWn3k0AbgDgAQDO+dcACvQaFEEQBEEQBEEQBEEQBEEQyemrUS8QKVrBAYAx\n5tBvSARBEARBEARBEARBEARB9ERfc+ptYYytBeBijC0AcBeAZ/UblrZIEkebJ4CAGILZaECJwwxB\nYP0+Ll2ojQfAgMaYbefYX/LlPOIRRQktXX4EQxJMBgFupwVGo25Fqok8JRAQ0eoJQJQ4jAJDmcMM\ns1nPukhhfD4Rbd4z/ZbYzLBa9e+XIPKBaLnGGIOBAYIgoNhmQrs3iIAYgskowCgwBEUJIQ5wzvNK\nBmpJvuoJeqPVddNKnwkGQ2jp8ityxe20wGQypNwOQeiJ3y/iRPcZ/afUbobFklv6D62ZBJG79Lra\nMMYYgJcBjAVwGkAlgB9zzt/ReWyaIEkcDc2dWLBxD5ravSgvtuHZeRNRObggZqHq63GZHPfGuybB\nL0r9HmO2nWN/yZfziEcUJRxo7sSizfXKea2ZW4OxgwvIsEf0mUBAREOrB/dEzaPVc2tQWebQ1bDn\n84k42JbY75gSBxn2CKIX1OTaitpqfNDQjOvHl8fIhadmj4PJKOC+F/bmlQzUknzVE/RGq+umlT4T\nDIZwoKUrQa6MdTvJsEdkDX6/iM9PJOo/55U6csawR2smQeQ2vUrWSNjt7znn73DOl3DOH8gVgx4Q\n9mqTFygAaGr3YsHGPWjzBPp1XLpQG8+Rtu4BjTHbzrG/5Mt5xNPS5VcUYCB8Xos216Oly5/hkRG5\nRKsnoCiWQHge3bO5Hq06Px9tXvV+27y5/VwSRDpQk2tLt+3DrInnJMiFH275C9o9wbyTgVqSr3qC\n3mh13bTSZ1q6/KpyhfQiIps40a2u/5zozp31htZMgsht+rpd9glj7GJdR6ITATGkLFAyTe1eBMRQ\nv45LF2rjsZsNAxpjtp1jf8mX84gnGJJUz0sMSRkaEZGLiBJXn0cSz8t+CSIfSCbXDAJT/dxuNiR8\nlusyUEvyVU/QG62um1b6DMkVIhfIh3lKayZB5DZ9NepdAuBDxtghxtg+xthfGWP79ByYVpiNBpQX\n22I+Ky+2wWw09Ok4m9mA1k4/jrZ3o7XTDykNC7QkcTDGEsbTHQj16VyS0ddrke3ky3nEYzIIqudl\nNFDoLdF3jELi2lFebINR5/CJTPVLEPlAMrkWkrjq592BUMJnuSQDJYnrqlvlq57QE6Io4esOL460\nefB1hxeimPqGoFbXTSt9huQKoRVaPB/JyId5ejaumQSRT/RVul4FYDSAKwBcD+C6yP9ZT4nDjGfn\nTVQWKjlHgFx0oqfjNt41Cc2n/bhp1U5MW/E+blq1Ew3Nnboa9uScBo++/ilW1FbHjGdEib1P55KM\nvl6LbCdfziOeMocZq+fWxJzX6rk1KMvx8yLSS6ldfR6V2vWdRyU29X5LbDR/CaI31OTaitpqbN3z\nFdbEPVc/v2U8hhdbYz5bM7cGxTZTxsafCrKeo6dula96QjLkHHaz136Iy1buwOy1H+JAc2fKhgut\nrpvbaUmYt2vm1sDttKTcjppcSbUd4uxGq+cjGZnSu7TkbFszCSLfYOGUeX08mDE3AKv8O+f8Kz0G\n1VcmTpzI9+zZ0+tx/a1+y8HxnVW7YtyRy4tteHXxNJQV6KNQtHaGjYhN7V5MqHBh0fTRKHGYMcxl\nw5DC8KWn6rdZcx4D6jB+/rZ2+vHwq/tQW1MBl82EDm8Q2+ob8bObqnWbb0T+0drpxxt/acIVVUPB\nedjr9739x3DtuPL4eaTp/P26w4v6wycwYUQJQhKHQWDYe6QNNSNLMcxl66ElgugXms7fbKCv1W/B\ngX/9r7/mrKyI1nNk9NCtskRPSIbm6+/stR8mXNMtdVNSXn+1rn4rhiQYqfptvtHv+ZuJtVfL5yMZ\nVP02Z9BNdxj50Bv9bvfwY9f2+7vEWUXS+dun1YYxdgOAJwEMA9ACYASAzwBcoMXo9EYQWJ8Uxfjj\njrZ3pz2/QHROg72NHajbVA8A2Ln0cmVhHYjS29drke3ky3lEExBDeHt/C97e3xLz+SPXUz4Lou8E\nxBAe3X4Aj24/EPP5lRcM1bXfYEjC919KzMrwwZLpuvZLEPlCT3ItXjfJZVmRrtxN+agnJEPLnLxa\nXTejUdDEYGIyGTC82D7gdoizl3TkrLZYjBieY0a8eM6mNZMg8o2+bpktBzAZwOec81EAZgDYrduo\nsoRM5BegnAZnL3TvCS3I1DyinJAEkR5yXVbk+vizEVp/CSI59HwQBJHv9HU1C3LO2wAIjDGBc/4+\ngIk6jisryER+AcppcPZC957QgkzNI61yKBEE0TO5LityffzZCK2/BJEcej4Igsh3+uon3MEYcwL4\nAMDzjLEWAB79hpUdCAJD5eACvLp4WtryC/S3z0zkQdC7T7l9SZIQ4gDnPJ9zPEAQGMaUObGlbgqC\nIQmmSA6afDxXQj8EgWF0iR0vL5ys5HYpS8MzYzQK+EaJI6bfEpu5XzmUCOJspK8yNZ26SU9j6q8O\nkAndKt8xGgWMKY1df0vt/Vt/z5K8WkSWEQiIaPUEYvQWs1mbcFajUcDYwQXYUjdlwDkeCYIgspEe\nV0vG2DmRYhg3AvAC+CGA2wAUAfg3/YeXeTKRXyDVPuVKcgs27kFTu1fZ9a4cXKCbIqZ3n3L7T73T\ngDumjsLSbfvSdm6ZQpI4DrZ2pfU+EvlHMBhCQ6sH92yuV+bR6rk1GOt26ppcPBAQcbAtsd/KModm\nijlB5CupytR06CY9jQnAgHQAyt2kLcFgCJ+fGPi6nwl9kiACAVFVb9FSf9AqxyNBEEQ20tsWxX8B\nAOfcA+AVzrnIOX+Oc/6LSDgukQW0eQKKAgaEk78u2LgHbZ6Apv1IEkdrpx9H27tx/LRP1z7lc6qt\nqVAMenr0k02k6z4S+U1Ll19RjIHwPLpncz1auvy69tvqCaj220rzlyB6JRvX/57GlI3jPZvRat2n\n+0pkAtIfCIIgBkZv2x/R23Ln6jkQov+ko5Jc/O7t1kVTdO1TPieXzZT2CsSZIl0VAYn8RpS4epU3\niedlvwSRD2Tj+t/bmLJtvGczWq2/2TgPifyH9AeCIIiB0ZunHk/yM5FFpKOSXPzubZsnoGuf8jl1\neINnTZU8xpjquTJGIS9E3zEK6vPIqHdOvQz1SxD5QDZWhO1pTNk43rMZrdZfuq9EJiD9gSAIYmD0\n5qk3jjF2GmGPPVvkZ0R+55zzQl1HR/QJuZJcfA4ULSvJxe/ertlxCCtqqxNy3WnRpyRxGARg7dwa\n/Pzdz2P6mVnlxr9eW4WAGEJrpz8hgXMuJ3g2MCRc0xW11TDkxvCJLMHttOD5BZcgKHIIDJA4YDIy\n3au82cyCar82MyWiJoh44mVVsc2kiRyPbtdmNkCUOIKi1C952JtuIf+tzGnB/TPGYFSpAxwcksRz\nRu7mCxajgOe/NwnBEM6sv4bw56mQDn2SIOKxmQWsn38xmk56YTcb0B0IoXyQTVP9QRQltHT5YwrR\naVkoI5ffPwiCyH16NOpxzmlrLkewGAUsv/FCRRimqsj1hrx7Kxv29jZ24LldX2JL3RRNq9JGh/nK\nLwojS+zYUjcFBgac8ARw66/+pJrAOdcTPDOB4bldX2LZdVVw2Uzo8Abx3K4v8dObvpnpoRE5xmmv\nmJBweliBvn0aBPV+XTYSIwQRTTJZNabMOaCKsPHy88GrK7Fka/+LTPVWpbZycAFev28ajnX4UBf1\n3OeS3M0XTEbg9OlQ4vprT63IAFUmJjIDQ5dPxLLXPlXm79PfnaCZMVkUJRxo7sSiqOdjzdwajB1c\noIlhL9ffPwiCyH3IhSIPaPMEMO83H2H+ho8xZ91uzN/wMeb95iNNExvLu7eye3x5sQ0/vLISQwqt\nGF5sR1mBRRPBFR3mu7exQzknk0GAIAio2xSbSDc6gXOuJ3g2Cgzzp43C8u37MWfdbizfvh/zp42i\n8AMiJTJVKKPLJ6n22+WTdO2XIHKNZLKq3RtEWYGl3zI1ut1F00crBr3oPlKVh3KVWrUxCQJDSIJi\n0BtIP8TA0HL97emeE4QeiBLH91/cGzN/v//iXs1y6rV0+RWDntz+Ig31olx//yAIIvfRpk64Coyx\nCgAbAQxGOB/fOs75zxljgwC8DGAkgMMAZnPO21k4cdjPAXwLQDeAOznnn+g1vnwiHYmN07V7O5DE\n3Lme4NkbCOHxNxtiPPUef7MBz9w6AXBkenRErkCFMggiu9FLVkW3m64iU7kud/MFWn+JXCYoSqrz\nNyhqsykYDKm3L4a0aZ/WQYIgMo2ennoigB9xzqsATAZwL2OsCsBDAN7lnI8B8G7kdwC4BsCYyL+F\nAFbrOLa8Il2JjdOxezuQxNy5nuDZbDSgtcuPuk31mLNuN+o21aO1y58z4yeyAyqUQRDZjV6yKrrd\ndBWZynW5my/Q+kvkMnqvIyaDoP58GLR5DaZ1kCCITKObUY9zfkz2tOOcdwL4DMBwADcCeC5y2HMA\nvh35+UYAG3mY3QBcjLGheo0vn1ALjc3VxMY9nUtv55nr1yHXx09kB26nBavn1sTMo9Vza3QvlFHm\nMKv2W0bzlyBi0Gutj253zY5DWDmrWnd5QnIrO6D1l8hl9F5H3E4L1sQ9H2s01ItoHSQIItMwzvV3\nzWeMjQTwAYALAXzFOXdFPmcA2jnnLsbYdgCPcc7/N/K3dwEs5ZzviWtrIcKefDjnnHNqjhw5ovv4\nc4F8qrrU07n0dp5pvg4pN9zb/M2n+0hkjmAwhJYuP0SJwyiEK9+aTAk7xprP30BARKsnoPRb5jDD\nbNYtywNxdqP5/E0neq31Wla/7U+fJLf6DK2/RC6T0vzty9qr9zoiV78VQxKMVP32bEY33WHkQ2/0\ne1CHH7u2398lziqSzl/dpT1jzAlgG4D/wzk/HbbjheGcc8ZYSlZFzvk6AOsAYOLEiZQsJIIcGpsP\n9HQuvZ1ntl+H3uZvto+fyA1MJgOGF9s1b7e3+Ws2GzGcXiKJLCWb9Ae91vpMyBCSW+mB1l8iV+nL\n2qv3OmI0ChjmsvV+YD+hdTB/ySbdgSCSoWv1W8aYCWGD3vOc899GPm6Ww2oj/7dEPj8KoCLq6+WR\nzwiCIAiCIAiCIAiCIAiCiEI3o14ktPbXAD7jnP9H1J9eB3BH5Oc7ALwW9fk8FmYygFOc82N6jY8g\nCIIgCIIgCIIgCIIgchU9/fSnAbgdwF8ZY3+OfPYvAB4DsIUxdjeAIwBmR/72ewDfAvAFgG4A83Uc\nG0EQBEEQBEEQBEEQBEHkLLoZ9SIFL5Il85uhcjwHcK9e4yEIgiAIgiAIgiAIgiCIfEHXnHoEQRAE\nQRAEQRAEQRAEQWgPGfUIgiAIgiAIgiAIgiAIIsfQM6ceoQGSxNHmCSAghmA2GlDiMEMQkkU1E6lC\n15fIR0RRQkuXH8GQBJNBgNtpgdGo/x5OpvolCKJ30iHvSKZmDq2uPd1DIh/Re17Tc0MQRCYho14W\nI0kcDc2dWLBxD5ravSgvtuHZeRNRObiABIUG0PUl8hFRlHCguROLNtcr83rN3BqMHVygq4EtU/0S\nBNE76ZB3JFMzh1bXnu4hkY/oPa/puSEIItPQm1YW0+YJKAICAJravViwcQ/aPIEMjyw/oOtL5CMt\nXX7FsAaE5/WizfVo6fLnZb8EQfROOuQdydTModW1p3tI5CN6z2t6bgiCyDTkqZdh1Ny1AaDDG0B3\nQFQEBABMqHBh0fTR6A6IaO2Erq7d2RLGoac7e0AMxVxfICyIA2JIk/b7QzAYQkuXH6LEYRQY3E4L\nTCZDxsZD5B7BkKQ6r8WQlJf9EoSWRMscxhgMDBAEIeOhVMlkYV9lZH/lXXT7NrMBosQRFCXVvtIh\nUynETZ2AGMKcmnLceFE5JM4hMIbXPmlK+dpno15EnB3omb5D73kdEEMoc1qw7LoquGwmdHiDWLPj\nED03BEGkDTLqZRA1d+2Nd00CADSf9sEXlFBebENTuxcTKlx44KpKLN22T3fX7mwJ49Dbnd1sNCjX\nV6a82AazMTNGtGAwhAMtXbgnKnxx9dwajHU7ybBH9BmzQVCd1yaDvo7ZFqN6v2YKvSVyBDWZs6K2\nGs/t+hI/vLIyY6FUyWThmDInDrZ29UlG9kfeRfdb5rTgwasrsWRrch1Eb5lKIW7JcVoFTD9/MG59\ndneM/uC0prb+mjIkP4izG73Td+g9r60mIWF9XDmrGlYTPTcEQaSHs2K1kSSO1k4/jrZ3o7XTD0ni\nWdGXmrv2kbZuHGnrxpKt+/CLdw9iRW01yottWDR9tGLQk4/Vy7U7W8I49HZnL3GY8ey8iSgvtgGA\n8oIge0umm5Yuv2LQA8Lnew+FLxIpIjBg5azqmHm9clY19H7nZVDv9+x+1SZyCTWZs3TbPtTWVGQ0\nlCqZLGzp8vdZRvZH3kX3u2j6aOWFNVlfestUCnFLTpdPUtUfunypeUpzzlXXcc7105sJIh3pO9Tm\ntVb4RZ6wPi7Zug9+kZ4bgiDSQ9576qVzZzfVvtTcwe3m8I52U7sXTe1ePPFWA5ZdV4UxbmfaQiK0\nclMfaDt6u8sLAkPl4AK8unhaVoTyiBJXD1/U0QhN5B8+UcLjbzbEhIE8/mYD/vOW8XnZL0FoRTKZ\n47KZMhqCmGxcYpKQd7Vx9kfeRfcrX4Oe+tJbplJoaHK00h9oHScygd7pO7zBkOq8/rlG8zrZ+IOU\nfoQgiDSR90a9ZDu7ry6ehrICS0b7UgtV6Q6ElVP5872NHajbVI/1d16ctlBRrUJoBtpOOsJjBYFp\nPg/6i1FgqudrPMvDiojUMAoMrV1+1G2qVz5LxzzKVL8EoRXJZE6HN5jR1AzJxmVMElKWbJypyrvo\nfuVr0FtfespUxtRlJGO0xmilP9A6TmSCZPPXoNG8MxkE9XmtUfgt6e8EQWSavA+/TefObqp9lTjM\n2HjXJKy/82K8vHAy1t95Mb7hdmBEiT3GTXxmlRtjhzixdm6NaliL1uHFWoXQDLSdbAuP1Ru304I1\ncfd4zdwauJ3ZYXQkcgO7WcDquHm0em4N7GZ9l/tCm3q/hba8FzNEnqAmc1bUVmNbfWNGZU8yWeh2\nWjSTkbIe0XzKi687vDja3g2DAKX9NTsOJYSvpfuaGBiUlCTyGFbUVsNA781wWNTXX4cltfXXlkR+\n2HSWH8TZjcnAsPq2i2Ln3W0XwaTRw623fu12WlSfG9LfCYJIFyyX82RMnDiR79mzp8djWjv9uGnV\nzoTdEz089VLtq6fk16f9QXgDIZiMAlpP+1G3uR5zasrx7UhlM7kyqsEg6BJenK7qtwP9e4YZ0EDi\n568kcRw+4cGRk92wmw3oDoQwYpAdI0sd2XTORJbT1uUDGOALSEoVZatZADhQ4rRGH6rp/G33+BCU\nOAIiR0jiMAgMZiODSWAodlh7aIkg+oWm81cmG6vfShLH4TYPjrRFyYYSO0aWOABgwDJS1kWeeqcB\nd0wdFVOQa+Ndk+C0GhEUJVjNAgJBjmBIgkFgMAqs39emP7K9tdOPh18N5ziUQ+i21TfiZzdVZ43H\nfQpoOn9Pef045RUREDkEBkgcMBsZimxGFNn6fm1aO/347Ot2jHYXKvLjUMtpnD+sOOVrnOX6GzEw\n+n0j1dbedo8PPlGCGIJSvdloAKxGQTP9IRgMoaXLr8xrt9OiaRE6vdsnNEMX3QEARj70Rr/bPfzY\ntf3+LnFWkXT+5n34rbzDHW/00mN3OdW+egvXlWwcTe3dqNtcj6nnluCysW58N6qy2Zq5NXAXWHQJ\nL9YqhKandvqSgzCbwmP1ps0TwLz1H6XFAE3kLwIDmjr8CVWUy136zqFgCDjU6kmo/ja6zKlrvwSh\nJdkoc9o8Acz7TXLZMNDxyrrIsuuqEgpyzfvNR3h18TQMLbIlNfylupHY31zHJQ4zfnhlZVr0uVzD\n45dw67N/SpgjW+qmoMjW93ZcViOKnTbMWRdbRddlTe11gSoVE6kQDAGHT3Trpj9IEscXJzy6zkeT\nyYDhxXZN2iIIgkiVvPenj07cvHPp5Xh18TTdlIpU++otXLfNE0BLpz9sqLv0XCx+/pOEylDeYO4m\njqZKdrFQEnBCC7oD6lUQuwP6JmwOhCTV6m8BShRNEANCb9kgt99TMQxZXtfWVCQY/lKV2/2V/enU\n53INrRL1t3oCqvKjNUW9jPQ7IhX01h9oPhIEke/kvVEPOLPzPrzYjrICi64KYCp9yUmoo4lOPC0r\n0nKyWDWFzRBJzpqsjWyGjFix9DYfCKIvZKqKcihJvyGq3kwQA0Jv2SC3LxfDUOunL4a/vjIQ2Z9O\nfS6XSKYLplpoQKsqpKTfEamgt/5A85EgiHwn78Nvs5newnXNRgO21TdiRW01JH6mIq5MebENZoMQ\n08bMKjf+9doqBMQQWjv9MTlMsi2/iVbVbZOdV7adb2+kM1ScyF+MAkPdP47ErInnwCAwhCSOrXu+\n0r0KmylJv6YsfuYIQi+0lEt6ywa5/afeacCv7qiBUTAoedksRoYSh1nZYOxrFdyeSEdl+7MNm0nA\nylnVCeGLNlNqe/cmg4Cnb6nGhBElSm7UvUfaUq4SSveYSAVTkkreJo2q06ZjPgYCIlo9ASWnXpnD\nDLOZXrMJgkgPeV8oI9vpScGPTl597+XfgCAIMXmy1sytwdhI6EmbJwBJknDCE0DdpvoYxb9ycAEA\nZF1+Ey1yrvRUbORga5fe56t5stVcM0QS2YfPJ+Jgmychp96YEgessXmRNJ2/KfRLEFqgW7LrgaKH\nXNJbNkgSx2lfAI3tvqR6RqZz6uUZWVloS6t1nO5x3qNpoYxgMISGli4silt7Kt1OTYpN6D0fAwER\nDa2Jz01lmYMMe9kHFcogcpmk85eMejoyECVc/q4kSQhxgHMOh8WA7oAEMSTBaBDgdlpgNJ7ZxZKr\n75Y5LVg0fTRcNhO6AyGMqyhCSIKmVYDVzg1IvQqfKErhalFx59TXa5es4vCWuimYvfZDvYtOaC4Y\n5OsRDEkwqdxjguiNo+3dSpJzmfJiG15eODk+ibOm8zeFfglCC7LWqJeqXHr9vmkISeiT7NRCr0j2\n3a87vKrje6VuCowGQakIbDYwBEIcnPMBjaE/1YXzaONL8/mrhaeQlut4Ht0rIhFNjXpA2KDc5j0z\nf0tsZk03BPWsTkv6T05BRj0ilzl7q99mioHsCkV76NXWVKDEYYa7wAKn2QSXPbmBJyCGUOa04IGr\nKmN20dfOrYHLnnoenJ7Ch+LPbeNdk+AXpZTOV5K4qtdCKt4MyfJkJMsLk835M0RRwoHmzoSdyrGD\nC8iwR/SZTOXUy1S/BJFtJJNLoopcKnNacKzDh7qodX/t3BoMdVnhssUaQbTQK3r6bjK56RMl3B4x\n9g3Ew2Wg3jLk/ZWcYDCk6ik0NkVPJy3X8WysJE1kJ8FgCE2nvWg86VU8TSsG2TDCYNfE8CaKkqon\noFb6Nek/BEFkGrIU6MRAKi21eQJKiMvy7fsxa82HuPVXf0JDSyekHgSE2WjA/TPGJFSmq9tcD8ZS\nK6ghK883rdqJaSvex02rdqKhuROiKKH5tC/h3I60dad8vsmuUUuXv89tJUsgLn/Iw48AACAASURB\nVOfn6Ov5ZgMtXX5F4QDOVDhu6fJneGRELmFMkjBd75x6meqXILKNZHLJqCKX7p8xRjHoAWdk9l8a\nT6GhOVbm91evkCSO46d98PhFLLuuChMqXKrfTSY3D5/waFI1Mtn4j5/29ajb9PZ9qmAZ1h/Uqtam\nqj/QOk5kgnZvECFJQsWgcAGcikF2hCQJ7d6gJu3rrV/Tc0MQRKbRzajHGPsNY6yFMfZp1GeDGGPv\nMMYORv4vjnzOGGO/YIx9wRjbxxi7SK9xpYuBVFoKiCHU1lQkGuc21feovJY4zBhV6lCvksuAZ+dN\nVIROb4m21ZTnp95pwOGTHnQHE8/NbjakfL5aeNnJCb7jz8vttKR0vtlAsvMOplh1jji7MRkYVt12\nUczcX3XbRTAZdC6UkaF+CSLbSEUujSy1q677drMhwWDVH71C3qCbvfZDzFrzIZZv348HrqpUDHvR\n33U7LVgztyZmfGvm1uAX7x5Mqc9kJBv/1x3eBANmKt/PZg/8dKGVpxCt40QmYAzwixx3rv8IVzz5\nR9y5/iP4RQ6m0bTTqqpzMui5IQgi0+gZfrsBwDMANkZ99hCAdznnjzHGHor8vhTANQDGRP5dAmB1\n5P+cZSCVluRQ11SVV0FgsFvU+xUEAZWDC/Dq4ml9ym+ipjzX1lSg8aRXaTP6792BUMrnm+waJauC\npdaWILCk55XK+WYD8k5f/HnTTh+RCsEQxxt/OYr1d14cU4V23tRRedkvQWQbqciloKguOzu8wQSZ\n3x+9Qm2Dbum2fVh2XRWWb98f812jUcDYwQXYUjdFyXNrMTG0xnmz9NfrPdn42zwB/J+X/9xrzluq\nqJocrfQHWseJTBAQJSx+/pOYdWrx85/g5YWTNWk/2XtFqlWdkyFKUH1u7ph2ribtEwRB9IZunnqc\n8w8AnIz7+EYAz0V+fg7At6M+38jD7AbgYowN1Wts6SDZTn1fPMXkHHr9CR8tdST3UJPzmwwvDru3\n92TgUgsfKnGYYTcb8It3D2JFbXVMHxWDbCmfr1ZedsnOK5XzzQZMxiQ7fZRPj0gBk5Hh2nHDMX/D\nx7jiyT9i/oaPce244TAZ9Z3/drOA68aXx/R73fhy2M00f4mzj77KJavZgJWzYuXpitpqrNlxKEHm\n90evSObdJrcV/12jUcAwlw3nlDgwzGVDsU07r3e18cvn2hePu4HoVfmOxSio6g+WFPUHkyGJ/CCP\nI0JH9M5Jl8wL2e3UJuej22nB9XH6z/XjyzVrnyAIojfSXShjMOf8WOTn4wAGR34eDqAx6rimyGfH\nkKP011NMLk5hNxuwdm5NTPLsviivA/FQiy6MYTMb8Oy8iViwcQ/KnBbcP2MMhhRacbClC61dfjzx\nVgOWXVelVNgd5DDDZTOn1G86vexyowobU93pu/vS0ZkeGJFTMHxyuA0vLJgMiXMIjOG9/cfwrXHD\nde3VG+Ro7/Li5YWTlepyh1pOo8RhRrGuPRNE7uKymTG40Ionbh6HsgILvmrrxhNvNaC1y4+1c2tg\nEMLySxCYqmwstpl6lG3JvNuGuWwYUmjtVQ5qKY/ltrbUTcHXHV60eQJ44q0GAMD6Oy9GiHO0dvqT\ntp+LHvjpgifRH7536TdSbCmJ/KjWV34QZzfJPOlMGnnSGY0CKt3OGP3E7bRoVoROzctZy/YJgiB6\nI2PVbznnnDGW8hYMY2whgIUAcM4552g+Li2Rd+Rlg9KxU17YzAaIEkdQlBIU0vjKbjOr3Hjhe5fA\nILCUlNfoimM9VbCN/rzYZsLB1q6YirvDXVa8du9UHD/lR93mepQ5LXj0hiqsnFWNJVv3oW5TvWJs\nlKv0pVrpLNl3tKyalqxi3pgyJ9q9wbS+HPQ0f0sdFnx7QgXmb/j4zDhvn4hSB+30EX2nyGzEtPPc\nONTSpVSRm3aeG0XmgS/3Pc3fQVYThhY78HnzmX7LBzkwyGoacL8EoQXZqD8IAsPIEgcKrCZIkoTK\nIQX4z1vG4++tHvzrf32K1i5/TIXXePneWzXYYpsJa+bWJFR9LHOYE3QANXmYyoZYX4+1mgTYTAYs\n374fZU4LHry6Eku27utTRduzuaJqT/O32GZSPIWi73OxLbX112VVlx8ua+ryIzc2U4l00NvaW2Iz\nYf38i9EUVf22fJANJSnO32RIEscXJzy6Vs6WvZyJ/CMbdQeCiIdxrl+5bcbYSADbOecXRn5vADCd\nc34sEl67g3NeyRhbG/n5xfjjemp/4sSJfM+ePbqNXwuile5o5VX2fhtV6oDdYkCpw4I2TwA3rdqZ\nsFPVW56ZvvQdb8w62NoV8/kL37sEP31jP+6YOkop0DGzyo0fX38Bblm3WxnThAoX/uVb52OoywqJ\nh5XzUkfmQlv7ojS2dvoTruvMKjd+8E/noW5T/UAE/IBOOn7+ShLH4TYPjrR1K0rNiBI7RpY4SBEm\n+kzzKS/+fsIT85K8clY1zi11YHBRjMKp6fxNoV+C0AJN528mUJNfqegBarIt/tjWTj8efnUfamsq\n4LKZ0OENYlt9I35ywwU4cDxsuOEASp1m3Ln+4151hWRysi8Gxnh96P4ZYzDG7cQtz+7WTO/JITSd\nv62dfvzqgy8wa+I5CZ56qVzHltM+HGrtSljHR5c54S609rmdvswHIqfp901UW3tbTvtwtMOL77+4\nV5kvT393Aoa7bCnNu2T0Za0kzhp00x1GPvRGv9s9/Ni1/f4ucVaRdP6m21PvdQB3AHgs8v9rUZ/f\nxxh7CeECGad6M+ilippnWjq8tOQk1WVOCx6fVY35Gz5GmdOCB66qVIxnsrJTaDXGCJwJFS4smj4a\n3QERrZ1IeYdcLUH2go178ErdlITPWzr9MRV3J1S4cMfUUTh+yhczpr2NHbh57YfYufRynDPIrvn1\nSoW+Ko3xOYUmVLiw5Kqxyo42cObavH7fNIQkZGRnuc0TwLzffERKBzEgghLH+p1fKuHxHd4g1u/8\nEj++/oK87Jcg9EYPj6Nk8muQ3dSnIlmSxOENikmPbe30IyCGIHGOt/e34O39LcoxEypcONEVwLLX\nPo0x3JQ5LWhq9yrycEtEVyhzWpTn+vgpHwYXWjAozoM8mb7x28VT4S6wJhzT1O7F/A0fY+uiKb2e\nL3l89U5IknBN9TClcnJ3IIRrqodBklKr7hkISYpBDwjfiyVb9+GlFAsWJJsPpM8QagRDkmLQA8Lz\n5fsv7tWsUEZADGHquSVYcOm5itH72Q/+rmnlbFqnCILIJLoZ9RhjLwKYDqCUMdYE4BGEjXlbGGN3\nAzgCYHbk8N8D+BaALwB0A5iv5VjUwlrvn3FeTDhKtDEomQFQkiSEOMA57/OCHRBDihHvVKSa3bLr\nqrB02z5FUR5WZIXJIIDjTFXZCRUuVcNfKjvk8UZCAChzWuBTSZzd5gkoFXcnVLgUA+Sy66p6rDYX\nf61cVmPYWBqSEJI4bCYDSp2WlMN4erufcjtqLxxDiywIhs4Y5kzGM7k6ZteU47bJI5R7EX9tjnX4\nEvIYpmtn2S+GMKemHDdeVK7ksnntkyZNlQ4i/zEwxHjcysno9c5znql+CUJP9PI4UjN6PPVOAx65\n/gJsXTQFbZ4A1uw4hL2NHZhZ5QYAHGnzwGQQUOYw44sTHhw/5VOVzxzAw6/uw9v7W/Df//eyhGPu\nnzEG98RVmlyyNVwRd82OQ1g0fTRcNhMkzjH13BLU1pTjR6/8RTn/tbfXKCk3ZNQ2zxZNHw1vIISW\nTh9KHRbVY4psJtVzkM/XZjKgrSuABZvUr7+avnbSG4AvGIKBMdjMhoSx5iMMQEjiMYban98yPuV2\npCQFC6QUCxYkK9BC+gyhRrJCGSGNCmU4LAbMnTIiJjx91W0XwWHRpnI2RdoQBJFp9Kx++13O+VDO\nuYlzXs45/zXnvI1zPoNzPoZz/k+c85ORYznn/F7O+WjO+Tc555rGxMQrzwsvHa0Y9IAzO4gnPH5F\ngb9p1U5MW/E+Hn51Hw40d+LhV/fhi1YPZq/9ENNWvI+bVu1EQ3Nnr4qOySjg/hljsHTbPrR5Aigv\ntsFdYFEMfdvqG3HaJ+LO9R/hF/99UKletmj6aOXlOHqMbZ5ATPuSxHH8tE91R5QxllDB9v4ZY3D4\nRHfC59vqG1FWYMHMKneMAXLNjkMJlW7lgh3x1+pXH3yBw+3dONTahVvW7cZlK3fgO6t3oeF4J0RR\nSriuTe3dONrejdZOv3IdJSmcKDv+8+jzldtpavcq13H59v2Ys243XvzoCBrbfUo/N63aiS6fiGfn\nTcTMKjcWTR+Ne1/4RLkX8demTmVexF9zvXCYBUw/fzBufXY3pq/cEf7//MFUPZRICYkjYe1Yum0f\nNNKNs65fgtCTZB5HA5ULagauO6aOwpx1uzFrzYdYvn0/HriqEnX/OBLfn3Ee5kRk6uy1H+LzlnD+\nW7VK9M/cOiH87F1zPjbfPQmcSwnHjCy1q75Auwti5ekt63bjnstHKwY9+bi6TfU44fHHfF8uyCGf\ni9zOZSt34DurdqGhuRMmg4Cti6Zg7e01mF1TjgeuqsTKtw4kjG/13Bps3PUlLlu5A3/7+rRi0Iu/\n/sn0te+s2oVLH9+BOet2o+F4Jw63eVI2SuUaIc7xg5f+HHOdfvDSnxFKMcWOUUjUG8uLbTCmaJiI\nng/R7URXcyYIGXOkUEY0WhbK6PZLWBy3kbH4+U/Q7U/NkzUZHd4Amk/7sOy1TzFn3W4se+1TNJ/2\nocObnvcHgiCIjBXK0JP4ndto5XlChQulBZaY3+Vd6YAo4YTHH6PAz5syEos21yvedamEEkgSR5dP\nxDkl9hgDWYHVpBj6otudUTUYz7x3EMuuq8IYt7NPISkNzZ3w+EXFw04+lw5vEGYDUyrYyjtTo0od\n+OHLf8aK2uoYj5ofzDgPwwqtePjaKtz2qz8pHnp7GzuUSrclDjOGuWxwOy0xnnLyOGdNPAdNJ73K\nTrFynTadCeOJDu396Rv7UVtTgfJiG/xiCEaBoc0T6DHPXXQ48yCHWbmOcn+1NRW4J84wN+83H+H1\n+6bh0RsuxNcd3ph7EX0NRpU6Mrqz3B2QEsZ+z+Z6vLxwMoodaRkCkQfoveOdbf3mGn6/iBPdAaUC\nX6ndDIslL0VxXqCXx1F8VVq1jbyl2/bh5YWTMScqr21Tuxd1m+uxclY1TvtE2M0GrL/zYviCIRTb\nTTja4cMDUV51v7z1InzQ0BwTFt/tD6l6xxVYTQkhcG1dAdXz9wVjX4ZLHGasnVuDus31STcll994\nIeZv+BjlxTZsvGuSkm6itTOg6BhFNhNWvnUAtTUVwP8cht1sSHr94/W12pqKhA3bJVv3YfmNF6LA\nauox7DPXQ+eCIfX1VwyluP4yJOhGK2qrwVK8FCUOM15ccAn8IofAwps+FiNDicOcWkPEWYHAoBTh\nk+fdylnV0OoRDEqS6vMRTDE8PRneQEg1bP3lhZMB0t8JgkgDefcmoRYq88L3LlEU2EXTR4NzjvJi\nm2puu813XxJj8BvqCn/PZYvNcxOf7y46R190hdt5v/kIj33nmzEGsp9/d7xi6Itu12UzKblv1t5e\nExOKu2j6aJQ4zGAsHG4iRAxgCzbuwWPf+SZmVrkTQt/W3l6DSncBXl08TVFUOThau/yKoc5lM6E7\nEMJQlxUmkwFGgSUYvfY2dmD59v14dt5EuJ0WJXH2kzePi7kmBoElVcCDoTMC9Uczz8Nzu77EHVNH\nKf/XbQobTpdv39+j4TQ6nHnlWwew9JrzY/qTr2e8gTMoSuCcKx56exs78Nreo1h/58WwmgQIEY21\np1BjvQlJXDX8lowiRCrInhbx89ig8wtqpvrNJfx+EZ+f8CjGe9kr6bxSBxn2ovD5RLR5zxg+S2xm\nWPtRfVML4o1vgDZyocRhjtl0k9NfRNPU7lU1lpc5LSiwmmJegH9+y3gEQjzBq+7eFz6JMaDJ3vjx\nL9BPf3cCLEaW0JcsMxOe67jHWhAYhrqsWH7jhRhRou4JaDcblJ9Pes4YC/c2dqBuUz0A4OWFk/H2\n/hbc/Q/nAgA6vMGk1z8+p2C8nhbdb09G2Hwo6mBIsv6mOn6JA8/tis2N+tyu1HOjhkISOrxiwlo3\npECCIJC3XraSqbXXJ0p4/M2GmHn3+JsN+M9+hJCrkUw/SdUDNRkSV9ffSX0nCCJd5N1bhFqozE/f\n2I+1t9egblO9kndt5axq+IJSwm7ylyc8MQbAr9rCoarRiqWcl+3eFz5RlGQ5R190hVvZ6PXk25/H\nGMgOtXhgMxsS2o3+WTaqyUYvOQff/TPGICBKsFsMCIoSypwWOK1GPHTN+TFFFuQQmXhPQkniyotE\n3aZ6RXl12cK7p/ILjJqH3pBCa8z1jVe2QxIPl6GPE5wzq9yKQC1zWjDUZVOKckR7KiZTyKOVcbPR\nEOOdt/DS0TH9dXiDSQ2cZQUWbKtvVK7rjROGY+VbB2Kub/yLjhxqnA6cVoMSfhutBDutpAATfcdi\nFLDqtouUUBM5d4zFqG8Yd6b6zSVOdAfw9Lufx7y4PP3u53jk+gswnIx6AMIvlQfbEg2fY0ocGTHs\nxRvftJILgsBQOfjMphugvqmk9jK69JqxCR5pP3jpz9h09yRVGWoQGLbUTYGBhT1q56zbHZOLtjsQ\nwuBCC7oDUkJf2+obE57rlbOqYTMnyiWXzYwhRVYciehN8ecyyGHGywsno8MbhC+o7i0o6xUd3iAA\nYM2OQ0nl8rFToQT5r9ZmdyDUoxE2H4o6mASm6ulkStFoYRIY5k8bNeB2Wrr8SSMPhhdntsgaoU4m\n116jwNDa5VeM+4C2Rje99ROnJYn+biH9hyCI9JB3q41aqMzb+1tQ6jDj1cXTUF5sw44DzRjkMKNi\nUOxu8oQKFwY5TFg7N+wl57KZlJw1sjEoOi+bWsjHoumjFWVIVjCjDWRbF03BBcMK4S4IG5DkdsuL\nbYryKn9H3h2VDU4PXFWJZa99iulPhHPUhCSO+2eMwX0v7FUt/BBvEANiXyR2Lr0cry6eFrMbLb/A\nyGNYvn0/HBYjhhRaIQgs5vrG59vbuucrlA+yKecAQDF4/uR3f8OK2mrcP2MMvmrrVrwSog158vWK\nJt4josRhVsJkJ1S4YDSwmP621Tfi4WsTQ6XrNtXDKDD88MpKPLfrSyy5aiyWbtsXU/F3b2MHHn+z\nActvvBAfPJh4bfTGmyT81hvQJjyAODsQBKDIbsKG+ZPw3o8uw4b5k1BkN0HQebVnTL3fVMO28hkW\nKSYi5yxbvn0/7pg6iq5RFG3egOo62Jah3ES9ycyBtl1WYMHwYjuMAkvILbeithomA8OTN4+L+Xxo\nkVVV3puS5KU6cLwTs9d+iJPdQUicK/KublM95qzbjfkbPkZIAhwWIWEMd//DuSiyGbH8xgvx8sLJ\nWH7jhSgrsCgbgWrXalxFkRJtILez6raLsPKtA8q8L7AasTqSQzj6fLfVN2L13Bpsq28EALR2+VFW\nYMFv75macP1tZkOC/F8V1+bKWdUYUWKHQUDSXL35UNTBIDCUOM0x96nEaU7ZU5oJUG2HpSg/kqVj\nEMl1KWvJ5NrrsAhYPTd2zVg9twYOjYxivqCEzR8ewfo7L8Z7P7oM6++8GJs/PJKQRqC/JEuf0036\nO0EQaSLvXAOShcoIgoCyAgtEUcL148vx5NsNWHLV2JgQ10duqEJ3IIT1O7/Asuuq4C60KKGqi6aP\nRqHViGXXXRATNgIgIYQ23ugVH8Ja6rSg1GmBy27CI9dfACGyi845h81swG8XT0VQlGAzG9AVyZf3\n2He+mWCo+ukb+/HP3wqHn7Z0+vscIiS/SKgR7z0ghxK3dvogp2aR+5GNlctvvBCj3U7YTOHqt0VW\nE7YumqIob7dE8gG1dgaw8uZqLHllH56cPS7BUzHaO7G2pgIlDjPcBRYU20wx47Nbwvd40fTRuO+F\nvTEeBwJjYJHrE01TuxfeQAiVgwvws5uq0R0QVb0D9zZ2YP6Gj7Fz6eVp36EnJZjQAl9Qwvv7j+OK\nqqHgnMPIGN7bfwwzLxyqa79+UcK+r05iwogShCQOs8Cw90gbakaW6NpvLsGTFBN5eeHkDI8se8jG\ndbAnmTkQ5DxukiRBlDicFqOSH+/rUz48t+vLsI7AGJbfeCHsZgM6vMGkoZZGgSl57WRvkRW11Xji\nrQY0tSevrltebIPFJICBJYRe/vp//46Hr63CyBI7QpyDdwUwKEm+uei8dIPsJjxx8zgwAGUFFjz2\nh8/w9v4WAHJY8F5sXTQFT9w8Dg6LES6bCQYBePSGC1FiC+tGD19bBaPA4HZaYDKpewYOLrQq16Y7\nEM4r+Nt7psInSjAwwGoWcKpbxA3P7EwaWqtXiHU6CYQkSJyjYpBdyWEnSiEEQ6kZFYIix7Y9jZg1\n8RwYBIaQxLF1z1eYN3VUSu3oHe5IaE8m115/kGNIYdiTVw79NRsZ/EFt+jYbBez6exu21Dcpn5UX\n2/DAVZWatJ+NcosgiLOLvDPq9RYq0+4NKl51rZ0BPHPrBLR7ghhZYsfhtm6lyMPb+1swocKlhDPI\noaqb774E9kjorBxqO8xlUw2hVTN6RSdfHuSwJE2gKud4OX7Kh5lVbiW3XzStnQFYDAJmVrlRGNn1\nvifKtTw+RKiviaDlFxh5DE+905A0RLW1y48hRVaUu8K7a22egJK7rm5TfUzevb2NHTjU6kFZgRmd\nviDWzK3BL96NDU3+oKEZD149Fo0nwwn2D7V6IEo8pix8qcOCZ+dNVAqEyJ54csW9Q60eVWXSZjYo\nL1CywtlTvp50Q0owoQUMwPgRg3CopUt50R0/YhD0nkU2s4CRZYWKEV/eabdR9WaFEE9STCTFCpX5\nzNmyDqrJ12hD3Lb6Rvzwykq4nRYEQhL+3+8/U/LEGpOEWgJAqdOMLXVTIIYkfHa8E0+81YC9jR0x\n1XXlVB5PzB6H1k4/3E4LSh1ho+UPr6yM0Z/WzK3BC7sP46KRJeFUHEVWFFpMSc8n+ruyQfGha8Yq\nBj0ZWXY7zAZ0+YL48X99itYuP16/bxr+frK7T/ntBIFhZIkDBVZTUr2mtdOfkJokPrRWrxDrdMLA\n0HLKi9HuQogSh0VgONTShSJraucgMODSysGYv+HjmPuYqqe322nB6rk1CaGcbmduhDOfjWRy7bWa\nGE75QghECqsEQxwhzlCkUfoZowGq81ErVf9skVsEQWQveWfUEwSGb5Q6YnZ7ZCWitdOveGjJ+IMS\nlr32KZ68eVxMkQe50ILTYlS8KGxmA3xBCZ6AiGdunQAGoDsQwvLtf1M8zOKNa9FGL1nR7ItxLbrK\n65OzxyXkqJlQ4cKDV4dDSe+7YgwWP/8Jpp5bgg3zJ8FkYDAZBLidlpg+4xXujXdNgtNqVLwC5eIe\n8pjkynLRee+a2r1KiGq0oVKSOBpaOhMKXshGszKnBYumj8a5pXZ8f8Z5uCeSf/D+GWMwosSO1+6d\nCl9QgkFg+PKERzGulhfb8MtbJ6D5tA8CA0Ic4JxjcKEF/qAp5prIFffKnJaY6m0zq9z4yQ0X4FiH\nDz9/93OlQId8z+T/508bhSFFVgiMgXOuFCRJFwU2AevnX4ymk17FGFM+yIYCGxlFiL4jMJaQ/8gk\nMKUYjF50+yXUf3kCLyyYrCSKfm//MQyyDwWlUApjFIQkij894zIlNrPqy1eJSrhnLiPL+Gj5CiR6\nb3b4RLhsRiVXb1O7F6/fNw12syHGQ81uNqDxpBf/7/ef4f4ZYzCy1I6iKC/3RdNH47ldX+Kx73wT\nQ102fNXWjQe2/AWtXX6snVuDYDCENm8QRbawzsMR3iAwGRhuGF8e4/0nG9kkiaOly49gKLxR9tQ7\nDQnn8fR3x6PEaVX1DmzzBLB8+34sv/FCPHBVJV7bexTeQAgev4hl11Upx/aU3643L8q+hNbGRyjk\nYvVbh4VhaLEDnzd3RekPDjgsqRfK+KChGevvvDjGU29kSWqeeiaTAZVlsbp4mcOs6nFJZAeZXHtF\nCfAHQ2hq952Zv8VWiCq5O/uDLyBh+5+bEub1HVNHaVKd1m4WVK+dnTY1CYJIE3ln1BNFCQ0tXYo3\nXnmxDRvmX4ygyLFgU1iBlo1Mj8+qVnYjgyEJwVDyqrgb75qE0z4RT73TgIeuOR+dPhHeQEgxPrls\nZtx7+Rjc+8InKHNasPzGCzGq1AG7xYBSR8/GNbVdaFkRbWr34pQ3qOT2k8d0/4wxWLI1XGhi8fPh\nPm+dfA4aT3YrAtFXElI83OITQZc5LWg+7cO83+xTPA7X7wyHvZYX2+AXQwhF3MmjQ1RlY6fdbICB\nQdnJ/vpU2Fsu/vg1Ow7hmVsnKOXeow1+Te1ezN/wMer+cSSuG18eSSB/QUxZ+KnnloAxhkde/zTG\nm2FmlRsPXj02xltBztPX1O5VchgOixjpDhzvwrLXPo15gWrtDGDR9NEYXGjBg1ePRWunH7f/+qNe\nvQP0whcATnuDMQbNn98yHkVWEwqtaRkCkSec9okx82jlrGqU6uwhYTULqBlVmpAo2kpKrYLbacGa\nuTUx8mkNea/E0OYNqL58zZs6CsPTUCijrx7tvX3XZBRgFBi8gdh25GO6A2HDlbvAomp0OnbKh1lr\nPlQKPe040KyExXr8ItyFFjgsJiXUMiSF8Pzuwwm6y8pZ1Xj8zQaMLLGregQ+8VYD6jbX4/nvXYKf\nvbEfb+9vUZ7dp9/9HLU1FapV6V+7byqOdfiVAmH3zxiDpdecj3lTRuLJtz/H3sYOlDktMBkMMWuC\nvIl23xVjsPnDI2hqD29i/fp//477rhiDOet2J4xvb2NHv/Pb9TW0NjpCoc0TwLFT3pwy7nkDHCc6\n/QnrfqHFiEJb79+XMRkZrh03PMZTb9VtF8FkTNE4KHEcauubx2Uu4veLONF9pkpsqd2c8xXMrVYj\nxpTEGmLTVf1WDHGc6Aokzl9roldwv0jigapVCEOBxYxSp4QXozY1jYbwhx3rSQAAIABJREFU50T6\nGIj8JohcJ+/etlq6/AlV4RpPerFg0x4lb9szt07Ag1dXojsQNpxNqHDBaTVikMOElbOqY6qrym0c\niSgnb+9vwZodhzC40BLj2TejarBSPEPOyzb3138CA4tZUJJVWWvzxCailRVRAGjp9Cu5/ZZdV4WX\nF05WinzIBrQHr65UjIxz1u3Gstc+RfNpHzoiCW7jd6ujC3osmj4a63eGq+xuq29ER3cQt6zbDUni\nMSGqcnirnOR9zrrdaGjuxAmPHy2dfqX96IIXexs70OUTlb7UKtzOmngOnn73cyy+/Bsx4WmyAXHx\n85/EFLQAwsVJ7lz/MR5/88w1cdnNMf3WbarHia4A6jbXK/cqun/5mEOtHjSe9MYYE5PdFz0JhCT8\n4KU/x4zhBy/9GYEUc+IQZzdBiSfM5SVb9yGoc24XX5JE0T5KFK1gNAoYO7gAW+qm4IMl07GlbgrG\nDi6AkSoEK4gSx9r/OYwrn/oAVzz5R1z51AdY+z+H05KbSN50u2nVTkxb8T5uWrUTDc2dCYUV+vLd\n76zahYbjnbjvhb1KO6IoKcdctnIHlm/fjyKbSbW4hSx75PQScyaNUGTv+p1fotsfwp3rP8IVT/4R\nd67/CB3dIm4YPyxBd1mydR/+Y044b52aR+Ci6aMjm1x+1NZUKH+7Z3M9amsqklal9wYkxaAnF/Ga\n8eQf8dBv/4oHrqrEhAoX7p8xJkEfW7ptH5ZcNRbPvHcQM6oGKzpGbU2FUpkyfnzlxTawfnoaRxf/\nkq9tstDagdz/TKPVuh8UecJ9WPz8JwiKqbXTV103F/H7RXx+woM563bjspU7MGfdbnx+wgO/X8z0\n0AaM1WrE8GI7RpQ4MLzYnraK43rrLcny2WqV+UIUJXj8IXzR0oXjp3z4oqULHn8Iokj6T7rI5fWb\nILQgt7eVVAiGpAQFVDboyEaiYrsZ973wJ6y/8+KEggsPXl2Jc8scSdsAgC31Tbhh/DDFsy+ZsSo+\nxAPoe5W16BwvclXc6Nx+L3zvkhiD25BCK26PyxuzZGskhMeRuFsdX9xDNppFe7IdP+3DylnVWL8z\nHKIaEKUEobhg4x68sOAStHkCipejHIL89HsHMX/aKAyLygeolsPOIDDU1lSg3RME+JlCHIumj1aK\nksRfX/l3+YUHCBsB45OEy5Vy5X7V+i9xmBWvxN7ui54kG0OIBBKRApmaR5Qoum9wzsP/on4mzpDJ\n3ETJDBFyIauedv7Vvit7p9dtqlfaiT/msT98hl/eepGyKRjtoSbT1O5Fp09UPPUGOcyKx4n89x+9\n8hdsvvsS1WeQc3XdSJatshHRZTMpepLLZoK7wILjp32q90NeZ5KFDy+/8UKMLLWr9nnSE8Db+1uw\n8NLRyrk+fO35qseWOMxYUVsNQz9vfyqhtcnuf7LQ32wi2bqf6gutVut4PlQUTsaJbvUqsS8vnIzh\nOe6tlym0mr+ptq+VXtTmDeDxNw+gtqYCdhgQCEl4/M0DeOT6C9LiYU7k9voNACMfeqPf3z382LUa\njoTIVfJupTEZEnMWdQdCmFnlVkJPnv7uBDS1e+ELhrCithoWo6AYiL777J+w9vYa1Taic8MV2Uyw\nmgTF2BYMSX0K8Yg3rsm72SHO0drpV5RNtSq0clVcs9GAYpsJz86biKfeacCK2mqEuHrFV7libXwi\n6OjzGeQwwyCwBOPZ42824JEbqvDdSSNQaDWiwBobhvvg1ZUYUhgOb91W3xgTZjv13BI8cFUl2roC\nOHbqzEvBmh2H8OTN4/CjV/6ivMCYjQJKHGZYjAKsJkHJSeiymRRjYbwxLv53+ToOcppiXsA4wobX\nd/c3Y9VtF+GNvxyNeYGaWeXGkCIrDjZ3ZbxghinJy2x8fjSC6IlMzSNKFN07wWAIxzp9McnAj3X6\nMLTASrmmIlhN6rmJrCb9vRkDYkippu4usMBpMcIXDFcQ/brDC5NBgDcgYliRDUajEFO9NihxPHnz\nOHR4g0ouOFmmAmF5HAxJMdXaJc4RkjhcdhNeWjgZ3mAIdpMBP/nd37C3sUMZV3mxDQVWI+59IRwG\nu3XRFHXjHbjqMygwBpNB/fnsDoSUkNh5U0YmhO8+efM4PHPrBGXj8/4ZYzCqzAGjwPDG/f+g6E/x\nYxntdiZdi2T57bKbseSVcF4/d4FF9dgimwkr3zqAn91UrXrP+hJu1dfqxblsiEp2f40pWkO1WsfN\nRgNmVrkVb88ObxDb6hszXlFYi7BZ2sDSHrV3t/D81WbdT9a+SaP2GQMWX/6NsHMCALNBwOLLvwFS\nf2LRMzw2l9dvgtCCvIv5kXMWyaEWM6vcqBzixMPXVilFFIojYZpfn/LhuV1foshmwswqN9beXoPf\n3TcNY4cUYPVtZ9ooL7ZhRIkdG++ahEdvqII5IgQ4gEKrCa8smoIhRVasnFXda4hHdCiIbBhb9tqn\nuPTxHQmuwrIiOrzYjkEOC9wFVgwtkqvMhg2Aj1x/Ac4tcygVeaMpL7YpL0KykfD1+6Zh59LLMXao\nExvmX4wHr67EyrcOYJDDHKNsA+Hw1J+8vh9OixHFDjOMEaVxQoULj9xQBQC4/Tcf4fsv7MX8aaPg\nC0qK+/wN44fhaLsP63d+qRg/5XatJgFPzR6P9390GTbMnwSbWUBZgQXFDhNOdAXw9HsHwy9VhRZs\nq2/EitpqfHK4Db+89SKl/0F2s3Kfo6/jlH9/H7PXfojTPhElDjNKHRZsvGsSbpt8DiyRXDG/fD/c\n/n//30vxgxnn4d9+9zcUR0Kv+xKioxcFNiFm7sr5tqhQBpEKBbawUSR6Hq1OwzxyJenXRfNX4XQg\nCH8whMaT3Wjt9KPxZDf8wRBOB4KZHlrWwDlQZDNiw/xJeC8iI4psRs3CpHrCahLw4NXhFBM3rdqF\n+Rs+xmmfiJ+9sR8A8LM3PsOtv/oTDp/0oOW0D1+d7Mah1i4cO+3DLZGUFMu371fCT2WZCkQqsJsM\nSvuP/eEAAOCh3/4Vl63cgVvW7YYvEEKBzYD7Z5wX8xytnVuDx/7wmfLCIm92RVNebMPxU2Hvelmf\n2bpoCjbffQl2HDgOp9WQ8HyumVsDl92I53Z9ie/POA8WoyHB6+5Hr/wFvqCELXWT8dNvX4hlr32K\n6ZGQw47uIE50qY/FwACrmSXItNW3XYRBdjM2zL8YpU4Tnrl1Al5dPA3DimwJYbIraqux8q0DeOia\n88HBcbQ9/NzIOpJauNVnx07jpMffLw+f6LQn0eeSaUNUX3CY1ddfR4o5TQuTrOOFKa7jLqsR359x\nnhIyvnz7fnx/xnlwZdBrSauwWdnwGQ1tYA2MAmviWrFmbg0KrNpc02KrSXVeF2uUs8/AWEIKJG8g\npGmBMlEMby4dafPg6w5vzoX26h0em8vrN0FoAcvl0J+JEyfyPXv2JHwuihJO+QIQQxydfhGNJ70Y\nWWrH5U/8ES8uuEQpJCHnkfugoRnXjhuOZ947qHjzyTvSVUMLIEocosRhMxlwqLVLCanZVt+IO6aO\ngkFgeOCVvyhefC6bCd2BECacU4RgCIqnnVxdVv5ZFCU8+ru/hauuFloR4uFEsWOHOJXvxSfYbmju\nxFPvNCQkvN541yT4g5KSO1A2So0pc6LdG1TG0Hzar1TV/Y8545TCELNrynHb5BH4/b6juHbccCWn\nyswqN+6fcZ6SO+fBqythMxnQ3n2moAMQ9pR7cvY4XPHkHzGhwoUnZo/Dic5wVbyHfvtXlDktePSG\nKpQ6LfjJ7/4WM/71d16M3YdacfvUUbglkiRbbvPBqyux40AzvlUdNsbNnzYKpU4zmtp9KHWaYTMb\nYTUJyvfk0KHyYpviISEIDAeOdQKAMuYf/dMYfPuicnz32TPfe/DqSgwpssJqFGAQBARDEkKcw2qK\nLXYSxYCkdfz8bT7lRYc3AINgiEl+7rKZMbgohUzXxFnN0fZuvPO3Y7iiamhMFdorLxiK4bFlaDWd\nv0fbu/HJkTZMGFGCkMRhEBj2HmnDRSNK4vs9a2k+5cXfT3iUzQ85Gfi5pQ56xiN83eHFo69/muDh\n8+gNF2KYK+YaaTp/5b5nr/0wwZtj5axq+IISKgaFDWdlBWZ83eFXdIlBDhMefX2/4l1XXmzDprsn\nwSAwnPKKONHpx4gSO5wWI76zehea2r1Ye3tNTAEK+XsvL5yMjbu+xKyJ58AgMHCEDTaT//195Tg5\nv220DvDMrRPQ5RNRZDej0GqMKXqxdm4NSp1mnPAEYDYI6PKLaOn0Y1t9I358/QUQGIPAAL8o4bKV\nOxKu1YcPXQ6JQyliEX9tACTM6cffbMC/fOt8mI0MhTYTOAeOtHXjF+8eRGuXH0/NHofRbicGOSwx\nHo9yhXvGGMwGBokDrZ3+mLQaa2+vQanDjBCH6v3aMH8SBAalUFhfEUUJB5o7EwrZpJL3MgVPFE3n\n79ft3XhbZd2fecFQDEth/T3a3o2f/O5vCc/fI9dfkNI6fqzDi5tV7s0rdVMw1JWZtU6rc5ONg/He\nxOeVOnK+WEYK9Hv+qq+93fAFgrCYTIoXpT8YhNVswjDXwPWHr9u78ajKvX/0+gtSej6S0dTejX9T\naf/H11+Acg3a12JtyjStnX7ctGpnwpqgVXhsXwtRQgfdQWYgIbQDgcJvzyqSzt+8lT7HTvkhcQ6P\nX8SLHx3BkqvGxuSem3puCR69IazMjioZhdnrdsfkhmlq9+IPfz2GEqdZMXDteGB6TMGH2poKfNDQ\njFsnj0RTu1fJJ+cusMBgYDja7sPP3/0c86eNgtNixNPvHURtTQVKHGacM8gGCRyLL/8GvIEQ/v0P\nnymVZ4+2+xQFdmaVGz+JjFOUOBZs3KOMc+q5JVhw6bkwCGHFd1ixJSZvTLHNhIOtXcoC99LCyfjN\n//4dv7x1AoodZvBIyO6EChduumg4BheacfPF58DjF7H8xgtR6jSj2GFWDGZN7V50+YIYUmSFX4zN\nzzPG7YTAwruXi6aPRmunHy6bESZjOBfh1HNLYDMbEAxJmDdlZIw3gN1swNr/OaxcR+CMQW9UqR0j\npobvT1O7F/OnjUqokPXcXZOU83jgqkp80NCMIYXD8RPZYFpkhctuQiAy5tk15aidWA5vMDYUqsMb\nxKufHMLCy85Fa2d3zEtKOqq2cQC+oISTntiXRU7v+kQKmAwMNSNLYqvQ9qN6Ycr9GhlGlhYo60W6\n+s0lkiUDf2nh5AyPLHtgEbkYH8YUNm/pi1reuTJnOAx3ydYzOe9W3XYRXvzoiGI0e2r2OPznLeNx\n0hPAoCjv7q87fFjxhwNo7fLj2XkTYTaeaT9ZHl6mUqVx1W0XYWaVG2/vbwEQ9qJ/bteXeHnhZBw7\n5UMwJMEfDG+gyd9ZUVuN1s5AuCDU5nosv/FCzN/wsfI3OUR44aWjYTUZMMhhhEFgeO9HlyEkcTz7\nwd+xpb4JM6vc6PSLMBmEhPDiMqcFQwqt6PAG8fLCyRAY0Hzaj2KHGU/OHgezUcC//e5v+Odrzse8\nqJy/APDD/9/emcdJUV2L/3uqep2FGZYBEVAWERwJKqMIaBQl4kYkeaJGxS1GNOrzPWNizDMmGvN+\nMSG+JGYRNYlbXFB8iT4Toz7UmKfiAggqihsiKMqwDMzWW9X9/XGrm56ZbmZ66G3gfj+f/nR3bffU\nrVO3bp177jkPrWDRJVP5dGsbUcflo007DH7JAcn3GnXQ+fQBxPVbdRzd62bVM7Ay0OUZvuC5D2hq\nixHy2zQ2RxjoDcj1xNC2tT3OLYvf7XC8Wxa/y39+dWKPXjpzeKnMO74s7X6u028TruKpVRtTupbk\n+yfX53ScWJYYjr1J/BWLJWhs3TFltq4yQCCQ++uLJWTMAJ3rpQkGfew/qGOW2N0h+20pqQpZbG6F\nc+9M09+5DQzqlx+DVTyLXl+bo15nw86iW72NBdqZTEkgL/nTUh66eGrnwa5dIpFw2diiHTL8tsXg\nqmDejIbRtPAW6e11NE/TY3OJn2ow7I7slk+gxpao1zE7MOV9N//Jd1Kx5+qqgnz9iyPZ1BLjN8+8\nx3dPPCBlqKurCjJ/zkRG9NfZ1pIj06c3DEdkhxFsQGWA2go/9UOrAWFm/WAuPWY/4gmXc/74SgdP\nvkjc5c4X3uPCI0dz1cMrmDZ6IJcdux9xR7G1Nc4Dr6zlvGmjuPvFNVzjdX7rqoL84bwGwgEfzdEE\n29riiAh1VUHG1FUybfRA5k7dt0PH/9a5DRwwpBrLCrC5NcbG5kjKK+8P5zVQFfRz6TH7MbhfkOZI\ngoBtp+Rujzm8vaEF0N5sdVVBfjT7QKIJN2U8rKnwEUsoNjVHCfp2xKc4vWE4lx6zHw+8/BG/PWsS\nIb+FQlEd9POuF6vuoqNGE0u4VAUthnqJM5JedXvVhBjeXwfeTsb5++Ep9QiwuSVGKOBLbT+8f0UH\n77pLpo/BEj3N+poTD2DhK2s58/CRPPDyR1x+7Fg2t8TY1BxjYFWAtZvbUrJEEy5bWmL8x0njueOf\nH6YMqv9+3P6s/qy5y0tEsYKtdp6+YaZzGHIl7ii+2Sl74TfvW6aT5hSy3ERpyu1LOK7ijIbhzJ40\nPOVN8+iy9SY7WxqWSJdhSPGWF5pM8cSumDG2i15fet8yrptVz1OrNrJ+aztXPrSCG2dP4JbF73H1\nCeM6DAjdfNpB3PTEO1x0z2ssnDcldfxMSZuG9w9nzNJ46X3LuOfrk1m1oTl13H+dsT/3vLiGrzYM\npzIQSj0Xk/t895GV3Pv1yby7sYUFz31ARcDusO66WfXc+LieVnzL4ndTHvnp/YkrZ47FQljf1J7K\nzD68f5hfnnEwD726jq9OGpZK0KU95A5jQFWAjdujbG6N8cjSddoga0mXWIWg2Oxlp09/Cf75k6v5\ny7J1nDttFEGfxX6Dq6irCnaop2R/Le64Xep7/pyJxB2Xf1/4OjfOnsDg6hi1Fbovkm40zGRoiyWc\njC/+P/xyz146SxmoPV/tvs8Srp81vovHn51jXyRfsflisQSrG7t6xY2rq8zZsOdmyYDam2dUMOgz\nSTHySHO7mzX5SL/Qrh/ftiRjjMdc9TobroK7X1zTwWB194tr+OGXD8zL8TvHY00axBK9MJJno9De\ngH5LMrbX+Yz33NP4qQbD7kjf8NnNkZjjcmrDCOLe93cfWclTqzby6PJPqAhYXDFjLD7L5tL7lnFq\nwwg+9ow9rlJcf0o9FQGbdd6IYrrRasO2CDPrB/Pt43UcuqqgD1fB9kic/zipnkjc5cqHVqQ6nEmP\ntNoK/fuqtCm6rdEEzZE4FQE75fF32TFjcT2j409OnUB1yE/CUWxpjXPlQytSHdh1W9qZd/SYlAfh\nISNquW5WPdG4w+bWKKs/b+baP68kknA7HMtVsLU1TsKBT7ZGaGyOcs2JB7C1Nc6dL6xhn4EV1FZo\n74GrZu5Pa8whEnOYO3Vf5j/5DrG4wragrl+Awf2Cqdg9lx6zH62xBEeNG8LfVn5CZdDHhqYo0YTL\nLYvf06NVlp6C8/GWdj7e3Jaqx0eWrmNrW4z5cyay8JW13Hr2JK6YMZatrXHa4y4bm2Op7a85cXzK\nQ/D0huFcf8qB3Pj4Km599gO+ffw4/LZwxuR9cVyXMw8fyaX3LaO2wk804XDTE2+n4ubZluC4ChG4\n458fct60UTyydB1xxyXmuKk6SKcYwVYF2B5JdIjJsT2S2DU/ccMeR6mCeJvg4d3TL2Qz/YAhnHXH\nEqbPf05/HzCE6pCJ+ZJEoRNTpbeDbTGnCH56UBWyu8R12mdg5gyuyfAOyf8VAZtLpo/p4ol51cMr\nuGT6GNZvbccSuPVsHRt28arPU7+TZd06t4Ft7fGM5bXGHK6bVa+n5359Mr9e/C5b2xLEE4rPt0cy\n7rOxOcqNj6/i6hPG4aaFWlm/VWeVnT9He6Cd2jCiixfIN/+0lNaoS8JVKYNect2/L3ydy47dr8O5\n1lUFaWyOctYdLzNnwUvc+PgqLjxyNAI0bo92iVXYFnP51eJ3uxhYrj35AE4+aBhn3L6EY2/+B2fe\nsYSrT9AxCpMkYxU6WTxfk5kuKwI2F/9pKW9+up3rHn2Tbx8/jrqqIBfd8xqbW2Ndrv+uxmQqZaD2\nfLW/VSGLhlGDOrRRDaMGURXK7XXBb1td4hTPnzMx58QEja2ZM802Zrh+3ZGtjgqdGd7QPYXuP4T9\nFpcfO7ZDjMfLjx1LOE8JmJJeoOnHP2/aqLwlykiPx5o8/tUnjCOUxwRbG1MOMfo5c92sem5Z/C4b\nW6J5OX4iS3tt+ogGQ37Y7Yx6rhfLaWBlAJ/3nTR8nTN1X5SCfQZWYMmOjnnS8BT222xpjbPFM3L5\nLIuZ9YO5ZPoYNrVE+ekT7/C9Ew/gu4+spLE5huMqlILt7XFcpbxYb7qxCvgk5ZFWFfSxV43+fcn0\nMbTHHapDfpra4ih0Z+eMyfty2f3LsIWU0TGacNnSGkuNUvtti+8sWskTb2zAb0uHKac3Pr6KOQte\nYtUGPfXj3KkjWbu5jStmjCVg7zhWbYXOuFcRsHGVYlt7nKE1Qc6bNgq/LdSE/akXmbrqIKGANn5e\ncMQoEkrhuBBLKD5tivCzv6/muln1OEoRsC2++8hKJo0cSCzhUhGwcVxFY0uUR5d/QtBnaUMacMvi\n91L1eGrDCC6/fzk/+/tqJo0cSMhvpRJ/DKoKUBGwuWXxe/zHSfVc9fAKmtpizKwfzDenj0llsJ1R\nP4RPtkaIJhTtcYeg3051EKqCPkJ+m6dWbeSGx1ZREbAJ+iw2tcSorQikjL6nNoxga2scpRTVIX/G\njr0U2FMk29S8uHngGXKgVEG8TfDw7mmLZfZGaIv1rYDXhaSUHf9IzKUyaHHXBZN59qqjeeCiKYQ9\nr/R00hNgpP/PNqV2TF0lM+sH885nLfzg0be4cfYErvjS2FRSqOQL1K8Xv0vQn9mwVBv2p+L1Bv0W\nteEAV3xJexFmS5zR5BkIk4au9HU1YT8/+/tqHFel+kmd5bYk+8t2+jeQ1aC5pTVONOF0WXfZ/XpQ\ntfNxB1UFUwOWyWXfWbSSK2aMTcmenD7stzNn3k1mukyef/K6fPeRlSkDayZDW3ois2RZuSTMKmWg\n9ny1vy2RzG1USyS3Nqo97vDnZZ9w5/mH8cxVR3Pn+Yfx52WfEInnZuDMpyEuWx3ly1vL0HsK3X+I\nxN0u7cql9y0jEs/PszebF2g+H1t3vrCmw/PizhfW5O/gAKiMhsl8hb4wRnWDobDsdka9za0xWiJx\nhvQL4vdZqayuV83cn0jcJZJw2dDUjqv0lM266mDK8NS/UhuRKgI2504dyZ9eWsP3Z9WzxRsRrKsO\ngMC00QP59VmHpIw8Yb/N2s1tBLyO5OkNwxnojVrPrB9M0G+lpqvuXasz4LXFEvSv9DOsNkS/kD9l\nvPPZkjI6Oq4iEncI+LRxsX9lgDMahnP5jP2wvQfgtScfkHqQHDKilpGDtFfBsP5hbln8nncsHXOv\nORKnOuTHFqEt5tAWc7AtoTLo57uPrEQpuOmJt/nNWYdgifDx5jYE3eju1S9EwlEkHD0dY3NrTNcH\nertkLKLB1UEE7Wnxwnsbue8bh3PRUaOIJBx8tn40JOtx/dZ29q4NpxJw7D+4ChFBKYUCfJaV2l5E\newLsVRPkulkHsj2SSJ3zfoOrqAjYNEfiBGyd4MIWvCm9bkoHQD/Y73lxDQMq/QR9Fnv1C7F+azv7\n9K+gImDz2bYIQZ/w01M7jjDnMzZGNhzzwDPkAb8t/K6TB9Dvzp6Ev8AKXKpy+xIJV1FXFeS2cxpY\nOG8Kt53TQF1V0IxUp5GtHSzGFGXLEj7bFuX8O1/hGM9LrLElmlGvH1m6LvV//hxtZHKV4s7zD0td\n22QG3HVb2rn82LE88cYGlq9r4oK7XsVVqsNUsAXPfcBTqzYS8lkZPfhufPwtzrh9CWs3NRO0LS46\nejSRuH7uLnjugy7PrFvPnkS/kI9DRtSyfmt7yqMj+Ty7etFKGlt0KI2hNSGeueponr7yKE5vGJ7a\nzmdbqVi56SRftv96xZE8feVR/PnSaezvTZNNZ/3Wdmor/FmNb52NZbpMybjt6LpKnrnqaP504eHc\n/eIalq9roi3mZJStLeakDH/pBtikgS+boS09JtML3z2GP196RE7x8HbVKLgrBDLpzdmTCOQ4bS5f\nHlNBn8XZU/Zh/dZ2GpujrN/aztlT9slZnnwa4kJ+K+O9HMqTt5ah9/htyai/+eo/FLp/XejjK5XZ\n4JbPZJeZQj/k0zAZzjJglU9vQ4NhT2a3CwgRSzhsbdPGq/aYw4LnPuC3Z02iOuTDEmHNplYeeGUt\n1558ANfOqicWd/jDeQ3EHHCVoi3mUBX0Max/mFc+auKMyYqqoE0oYPPt48dR4bc5Z+q+xBIu29pj\n7F0ThooA7362nfFDq1NJKJojCWorfPzrsWOJJVzCfpsH5x0OiG45sbj5qdV876QDaIkmsC348VcO\nZEtrjJpwICVLdciHzxauOfEA2mMOpx82gtaYw1ufbOG+iw7H9R4kh4yo5Yen1OO3LK6fNR6/bdHY\nEqU1mmBARQDXUQR9NmG/hQj0r/RTE/ZhW9oYtn5rO65SNDbHsEVPT71l8XvccuYh3tRkeGLlp3y1\nYThKwSNL16W89J54YwNXfGksM+sHUxP2s6klxt61QYb1DyFAa9Th8geW8/M5X2CfgZVcc+IBfLSp\njYu/OJKBlX6uP6WeWMLlJ0+8zQVHjGLv/mH2qglSHbQRK8S1Jx+ALcKPvzIBxwVLFNUhnxf3ZS+U\n0lO2ogkXS3Sdtccc/nj+ofgsi+dXf86CuQ0kHJfLH1juefD5OWPyPgyqCnD9rPFUh318tj3Ckg8a\nOXvqyIyxMf7zqxMLqrvpcQqTDO8fJthHMlsZyoO4o/jrCu0hkZxqvui1jzl32qiClptwyVjueUeM\nLmi5fYmQz+I/ThqfCtOQTLIQMvd4iuTgWOd2MNdpe7niuopI3M1cKv8DAAAgAElEQVTgUbacRZdM\n4c7zD8NnCbZtYYniB18+kGtPrsdVipZIgrrqAJZIhyRO8+dMJBywueGxVTS2RLluVj0PLV3PISNq\n2d6e4JGl61LJs24+/SCeX/05Cqit8PPARVNQSs88iMQdrj25nutmHYirFNGES1s0wZZWHZdv+bom\nfv7kam76ly+wd22YtZvb+MGjb9HYEuW3Z03ibyv1oOXiq47m481t/PzJ1TS2RLltbgPtcYfz73yV\nuqqgjh94zBjOOnwfEPjx49qrcP6ciR3iIP3u7Enc8+Iajho3pENg+GTW2/QswDVhP582tWe8pskB\nt+T+N592EBuaIlljsSVchULX/Y9mH8i6LRFuPu0grnp4x/20YG4D/cI+trXFuWLGWPpX+rnhsVWp\n47TFHG6b24Bt6WueNNh1zlo7tCacc4D1UgZqtwT6hX2pzL+uAr9NztP/8hULz2LHNPp0/cj1LrYs\n+OmpE7smt+hFc1Ad8FFb4e9QRwGfUN2LpBuGfCNUBe0O18YWxS4mKk3hy/Jc8eXpuWJnuW/y5QWa\ncFXe4kFmQ0FGw2S+GFQV5I5zDuWie9MSCZ1zKIOqTAw8gyEf7HZPMr/PoiLgI+HFTHvxw80cVz+Y\nuuoaYo42VP1o9oEEfDYJRzH/ydX88MsHcsbtS7jn65MZUhOkNuQnknC5YsZYNjZHGd4/zHuftzCw\nKkBlQAcjfnDeFP7+xgbOnjqKhKuYul8d67e0M3xAiFhCEfLbNLfHeeKNTzl32iiWrd3MYaMGYVkQ\nS8BNT6ziWzP3x7YEvwW14RDvb2xhyQeNeopuwsVnB/jx42/xo9kTEIGKoE3cVcQdlwnD+iPAtrZ4\nymMv5LPw28JxB+oAx7eePYm66iC2JVgWjBgQIuHqgPZPrPyUuVNH0RyJUxn08euv6VgnV8wYy6aW\nGNUhH40tUba2RrjvosOxRZgwvJZ7X1zDBUeO5oIjRqEQmlqjnDdtJK5SfO+kA3jw5bWcdpgejf20\nKcKgKotaL0Pd3v0raGqL4yho3N7OudNGsXG7jtVwxz8/ZN5RYwj7bT7c2Er/Cj+CsGFbhL36hXBF\nUVPh57NtEfaqCfH86s84/gt7E0u4rN3UzPi9a9jensC2hGjcoTKojXTPvv0Zcw4dQdBvo7x4hQ/O\nOxzbEmwLRCxmHTSMLW0x9htcyf5Dqrjhf97qkn3x6hPGF3y03baE3551CFta4x2y35qpIYZcCAcs\nvnzw8A5JdBbMbSAcKKxRZEDIn7HcASF/9zvvIbiKlEEPdIf5yodW8PDFU0ssWflQERTuuuAw1m1p\nT7WDIwaEqQgWth3c3BrLmv12U0u8Q/Dwn546kbtfXJNKcHX1CeNT/YjO00Zv+pcvsHxdE4eMqGX/\nwVUsnDeFAZUBFr32MdeceABbWmNE4g7tMYdDRw3ia7cvoa4qyHdPHM+QfkE++LyVJ97YwFcnDesS\nYPyJNzbwm7MOYav3zBhYFeySZfay+5dx3zcO59m3P2PC8P6MGlTJrXMn4SodfN1VitvOaWBApZ9I\n3NUzBBIug6oCOuyGq8N13Dh7QqqMn/397VTois7n2znL7sJX1vK1w/flnq9PZu3mHRluk+vu+fpk\ntrXHaWrTYUxueuKdLkbEBXMbaIs7XHBnx4zAD7+2jvc2tnDdrHr26heirjpIWyzBWXe83MFoDnQw\n+P1m8fu8+OHmVMIMoEvW2tvOaWDcYB0gvrPBb2eGulIFao87iv/869tdEgH8aPaEnI5TEbC4dW5D\nl8QUFTk+P2L5yvStJOMg6w2n5HZeAIGAjyGVsKlNZ9INellre5NJ15BfXKX4yRPv7LL+ZiPkl4x6\nHfLn57nity1+cfpBXQbs8jUYVYyZPEEvfEBnw2S+wgdYljBuL5Od1mAoFLvVk0xPz1EM6ac7VArF\nwosPx2/b3uigS111QE8RtYRYwuXbx48j4SquOGYMoYBFTYWP1qhDVchm1KBKFLqTO7QmSG1FgFjC\n5YpjxhD2W5w1ZSQtER2s2W/7qa3wIQhBn+BXCp8V4JxpI0m4ioP3GYhlCfGESyzh0tgco19IJ3Go\nDuksbiMHhhlVty/tcZe1m9sYVBVk3lFj2NYepyqoDZWWQFXQR3vcodJnM7Q2yH0XHU7QFnyWRcxx\nEdFeXwOr/PhtQQTijvakiTsuQZ/F+UeOQoBB1QFsS5i070BaoglGDaog4BNAuP+iyXoKrIK46zJq\nUCUX3PUqcw7bhxEDwtgCe9UEiSV0rLyALZwzbSSO0qO9Q/oFsUTwWdrLzhahOuQj6LcY0m8wCUdR\nVx0g4cK8o8bw9FsbOGvKSCoC2jAbSbjsXRsCpV3PHaVd9F1XMaN+LwRtwNh/rxoSjuLhVz/m4ulj\n2I7QHnMYUOHnhC9oA6d24Rd+fdbBhAM2LVEnlTXKEnjxvUa+fPAwWqMOjc0xonG3wwjzbec0FFx/\nE45LpFO5N592UF6zWxl2f/T9qFIv4W0xB0ERSxR2+mIo5GO/gZUsnDeFhKt0TNNwgFBot3rM7BKx\nDEaj9Vt1UiaDJuFAeycPn1vPnkTCKaxx2HVdBLq81FwxY2yXJBLJ7LHJ7/PvfJX7vnF41vhuh4yo\n5eoTxqUyxf71iiM5aeKwlAEuaaT6zTPvUVcV5NvHj+Pbad5n93x9cgdjXdJAMn/OxA7PqkWXTM0o\nQ2NzlGMO2Iuzf/8ydVXBLt6i8+dMJGAL859czVOrNqZeSH2WRdxVXP/YKi6ZPoYKbEDx1KqNXHjk\n6Ixl7TuwgsVXHc2GpnYeXf4Jsw8Zxjl/eKXDtayp8CPAF/cfzFUPrUh59i2cN4Xl65r42d9X8+C8\nKcQSuv8V8luc6RnqkuVcet8y7jz/MI77xfMseE4ny9rSGuuSuf7Kh1Zw74WTcVz4zsMrUgbF9za2\npDLTAl2y1l5871Lu/8bh7F0T5r3Glg4Gv2zZc0tJcnpeZ4+2XKfntcZcHn99fReP63OmjaJ/Zc+P\nk69p9D5bumRmXjC3oVfTMl1X8eGWtrK/lnsi+dLfbLTHXH7tJYFIGg1/vfhdnZ02B73Ohm1B/8pA\nh35X/8oA+XIwL7SnIewIH9D5/sinQ4PJTmswFI6ymvMjIieIyGoReV9Ersl1/82tMaJxRczRHcHW\nqIvrauNde9zFEuF7Jx1AzFHEEvp/RcCHbQnTxtbRFnVpj7nYIsQTyjMG2fi8uHMJR0/VmDa2jraY\nS1NbnKqQnm5qW0LIrw1vrqu067ilDUk6pp0intCZ5D5taueKGWNxXHBcIe4o/LaF32eTcPQ00u8s\nWknQbzOoShvGGpujWCIopd2wAz6buKOIJQCljXbRhEvM0ck7onGF4wqRuEtbzOXjLe061pxlcfcL\na3BcbeSLxhXtMdczGAq2ZaGU8GlTBMEi6snssyxcpRjeP8yHja0oJThKH8PyztNV+vvDja24ChxX\nx3nxWUJNhc6++0lTRF+jhK4j5dXPoKogcw7dB0sEvy/pkagQRHsaio7tUx3yay9MhISjj5Nw9LZz\nDt2HNu9cqkI+KoM+BlWFsC1dr3pES4jEXOIJPYXJUYqEq5hRP1TriCVcMWNsajoP7OjgZ8qWl09c\nRZdyr3p4RV4D7Rp2fxKu4uI/LeOCu17ljNuXcMFdr3Lxn5YVPG6bfmFq5Yzbl3D0/Oc44/YlfLil\ntSix0PoKySk66ZhA7R2JxF2+2Smg+TfzGNA8G46CnzzxdpfYdMk4tekkY7Olf2e7tk3tehpoutdS\nwLZSiZ6Sx7v0Pp044pLpY7p4wG1pjWWUYa9+oQ7PjGwJMza3xlJxzS6ZPqaLt6iWLcK5U0emll35\n0AoGVQWwvORdyRfhz7ZFUueVqSzHVZz3x1dojTnMqB/S5Vy+ed8y3t7QzJl3vExrzOkwVTcZ+66x\nJUp7zOHYm//Bcb94nriT2UCUvG+SdVYRsDNut3F7lM0tUZava0oZZdMTZmTLWruxOcrGlmgXg1+2\n7LmlJF+B+h1Xcds/P+K4Xzyfqv/b/vlRzh5B+YuFJ/yPZ2RMJtz4n9fXo3oxLXNza6xPXMs9kUIn\nmki4ejDi4nuXcsbtS7j43qU8tWpj3vpFkbjLz/7+TmqALubo//l6bg2uCnbJzL5gbgOD8zh1dVdj\nihoMhtJSNkY9EbGB3wInAvXAmSJSn8sxYgkHR2mDXdxRNEfiOErhuPoTTWhDnONqQ5CglydHI5PJ\nKcTL+NYaTWgvPJ82yjlKaY8xV5FwXD7bHkFQDK0NejEgvHVeecnjtUbjqXgwlgj3vPQR+w2uxFUK\nW/SLnnjbWgKuqx9ogsJnCzHHpTrsJxJPpMmrjVeON4qVcPT/ZDw8R2mjZFIWARKOwnHdVAfNcb1t\nvOQXMcfFsvS5b26NpeouWT+t0QQ/PXUijyxdlzrX5LG1PNqYWlvhx3EV7bFEKv6PLtvbNlWHyWX6\nPG1LUOw47u3/0IHH8erWVS62Jfq6eNcjea56Oq2kyrUsEG8/2/uOe8bepMfjZ9vaU93C5PkIOjty\nRm+aDNny8onJDGXIB6VKNNDYHGXevR09mubdu5TG5mhBy+1LBGyL+XM6Go20l1TZPIpLTr4C9eeK\nUvql7+dPru6QYdBnZc9+m/4dDlgZX7pGDqxgxICOHhYt0UTGcxxYGciYQTebsc5RHWMeZUqYkXxm\nJw0X2TL0VgRs9qoJdVimgE3N2vstGZy9OuRjwdwGHlm6LmNZkbiTMnZmy6qblCHpAZKebCQ5LW7R\nax+n1iWz2XY+/6RKJMvJZmhsizkdshUnZUhOLcuWtTbblOxi9AdyJV/9h2x1nes0QtsSfnH6QR30\n4xenH5SzUW9gZYCvTBrBBXe9yrE3/4ML7nqVr0wa0SvvoWzG23K7lnsihe7/Fjq7rqsyGw3dPHka\n+nwW44dU89DFU3n+O9N56OKpjB+iwwPkk6Qn3bD+FdRVB41Bz2DoQ5TTm8Rk4H2l1IdKqRjwIDA7\nlwMEfDa2CJtadLyMprY4tmhPsKa2mPcd9wxEig3bovgt7QXnsyTlXZf83tSik0Zsb9cPfFcpPmmK\naOORlywChKa2BB9vaU8ZwCxLlxlNuPgsYcO2KLGEkzJaXXDEKOKOlsFnWzorrCKVpday9MMmEndR\nShH2294oe4Qtrdor0Gdpz7Xk+Tne/grPwCVJDzf9aYs5LHrt41SHLblOn6+ethz220Tj2nD2yNJ1\n+Lw68FmS+n33i2s4tWEEvrT9owmXz7ZHcVxdb9UhP5Z3HaJxly2tMW1cs7QcSdmSRs7kdfDbOg5f\nUuYXP9zMtvY4US/OT9zROUY2tcRSBrukDLa3f/K6ReMuyWepz1uelC95je956SNsgbjjpM6nsTlK\noxdHMZ18xpXIRj6zvBn2XAJ5einLlUiWF6aoeWFKEQ5AXXWQG2dPYOG8Kdw4ewJ11UHChU+O2Wco\n9MtXNpKGneXrmlIvZjc+vor1W9u6GCeShrLk9x3nHkr/cLDLS9e4wVW4CtZtae9wThuzPGMGVAYy\nZnR9ZOm6Llk7bz17EpaX5T3J8nVN3P3iGh64aAqLLpnKdbPqufvFNfzbl/ZPZevdmeHLFumwTAFX\nPLi8g6H+svuX4yrF92cdSG2FnzvPP4w/XzotVdanniff4GodsmRnBtHaigAL503hl2cczN61YW4+\n/SAWzpvC+MFVfOOo/Xj+6uncOHsCf1m2PuP5t0bjLJw3hRrPQLfguQ+4+bSO12r+nIkMqPSz4LkP\nupxvcmrZwMoAt53TkPEaZzNyFbo/kCv56j8EbMlonA7kON1V0DM10tu6gM/K2b8un95D2Yy35XYt\n90QK3f9Nxors0Ib0IlZkNuwsgz92bzK6ZMHns9i7Nsw+AyvZuzacd4OewWDo20g+02HvCiIyBzhB\nKfUN7/85wOFKqcs7bTcPmAewzz77NKxduza1znUVnze30xLVMaRcLwZb0G/TGnUI+SwiCRfXdQn5\nbWIJl+qQj5aoQ7+wTXtcEfIJIuJ56jn4LLAsKxXXIZ5wqQrZxBydpGLZR5s5evwQvrVwBT85dUIq\nyy5AzFH4LWiLubRGEwzuFyDmQDTu4LMsFjz3Ad+aOdY7L+1+HnO0Z9knWyM88/ZnnDllX32shEt7\nTL8c9wv7CKalABeE7e0xqkI+Ei6EfJ5xECGhXESE1qjDpuYom5rbGVnXj6VrNnH8F4bis4S2uIst\n2nsg5NcZcjc2x/mocTvj966lKmhhWxbb2hNsao7ynUUrOaNhOKceNhyfJbTHXWJxB1dpL724o73i\nEq4Xp0gESyDs18k3asJ6amx73MXn1U910MZRiraYS9An+GyLzS065sV3jh9HwKenBf/u2ff5xlE6\njXs44MNn6coTdOYmnyVsa0/gui7VIT/bI3Fqw34cF9piCfqFfYhombe1xfnrik/4l4YR9K8MEHcc\n2mIucUevSw/UnSXuSs69jZ3pb3Mkwkebo10C+Y4cGKQ6FMp2SIOhA62RCGs2R7vEIBo1MEhlRz3K\nq/6u39rG19ISBYDu1D44bwrD+1f0+nx2J9ZubmVDUxsjBlSm4g6u29LK0NoK9h2Yh8A+uwGtkQgf\nZmgHRxdYf11XdU2WMLfBS1akX57ijn6e2aKn69qi+wc7C/btuoqm9hgbmiJc7J3TzPrB/OuM/Tuc\n4/w5E/nzsk847dARhAN2h/v31rMnMag6gOOSCh3yu2ffp6k91uU4Pz11Is+v/pyzpozEcbUXfMhv\nsXZTG1c+tIK6qiA/mn1gaopzsuyKgE0soTjttpcY3j/ML8/Q8WdPvuX/upzTwnlTqAr5aGqLd4mB\nlZ5A5DsnjCcadzMmGbnwyNEE/RaX37+8Qzs1bnAVfq9/k35Npo0eyLyjx+C39QCe47qpOHsz6wen\n4q4lk4wMrQnhs4RQwGJbW6JD/MLb5jYwtDZEbXjHdUskXD7dpqfcbm6N8cjSdVx53DjG1lUVKqZe\nXvW3xWv3O983owYGqcqh/xCJJPi8LUo8oXZk0fUJQyqCOcVHjccdPtraxvq0hDfDB4QZ2b8idX2L\nTaZ73MTU6zU5VdjOdBfyp7/ZiEYTbInESDg7HAJ8NgwIBQgGdz3ubyLh8s7nzV36XYXwpjPsMnlt\ne9MZec1fd02yXvLRTSeXpFxDSciqv33OqJfOoYceql577bUOy1xX0RyNEYnp+GiuN30WdNZXv0/H\ny7Ms8aaNKoJ+IRrX3wkHkoN2rtqxj5sWFiG5TzL+nQicfpvOWHf9KfUMHxDeMa3T1Z538YRC4U21\nRe93xu1L+OUZB+OzhCfe+JQLvzgany1E4orrH3uTUxtGMHpQBTUVgS5T5wKeTJalEz1satEebXvV\nBlHe8mhccdcLH6aOG08o4q4iYOs4fiG/RSyhePLNT5k5YW+uf+xNLjhiFKMGVRDyW7RGXUJ+i4Sj\nzzdZH3EvbmBN2PY8BEnFrLM8D7wfPvomV83cn5qwTsThujrRRbKM/QZX4rd1HVoWRGKufhk4YhSW\niJesQwe3FdHeRzFHcfptLzFt9EAuO3Y/wgGdACV9IMx19fWLxneU9x8n1dPUFuN3z73PZcfsxz4D\nw9505B3XzxYh6ujzVa42ECa86ckhv82gyoxu6LvUC+ysv59vayfgF9qibuqFvyJoEYsrhtSEd3Ik\ng2EHjc1RKvyKpvYdelQbtmiLdwlQnHf9/XBTa5cMnaMHVRr99fhka1uHDKmgDZ8L501hmDF8AvDp\n1jZqwlYX/d3W7rJ3xzrKq/4COWU5zZX0Y4sIFQGhPaa8WLfaGz7maIOd33tGJ18+k8YVywKU/h/x\nZgLUenXlKOV57nvbet9Bn4Vt7Xh2O64iHLCJxF3PQKi93/tX+qkK+oh5x0V0zNyz7uiqrzfOnsD+\nQ6oQ0d7zqbItr8/jlR0OWPhsaInokCW2JTS1x1m/tT3lOXfFjLGMqavEZ1vUVQa6GHyyXZPOy/uH\n/Wxtj2e8dj29rj0tK096kff2NxQQWiI77puqkEUklnv/IRJJsLk9tssJj+Jxh40t0dRxBlcFS2bQ\nS1LIe3wPo9eVlqntzaf+ZiMaTaQyH/ssnfk4Hwa9JImEq/XdcfHZFoOrgsagV57kve+QpFRGvd5i\njIF9kqz6W05pCT8BRqT9H+4tywnLEmrCQYr5Dum6KpUxaPZvX+zR6F9yn188vZpLj9mP6eOH8C+3\nvtRl1Lmno4n9QkE2t8aIxHRHpTYcgDB8ZdKI1HEzHcd1FYePqeP6x97kvGmjuninDa3JfQTTdRVX\nHjeOC+/uOBo6tq6KK48bl3GUNCnr6bct2amsyXp+aOn6buslKcf/+9sqLj1mPy44YhSXpXkFZDr+\n5tYYcVfX4eDq4nb2aoJ+1m1v7zKyPaKfMYgYes7AykBWb4RCUhvyM8ibWprU30HVQWpDhc1a2pcY\nGA5w69yGLt4IA8382xSDKgO829jaxeNh/7rCezIWMjNfpmPXZrDjpnsT1VUFuWLGWEYNqqQi2HVw\naVc8j9KNGyMHVaZilKUfb2b9YBbMbehwLebPmUg4YHPD/7zFlceN61FZ/UI7ytweSXjTmvXx9qoJ\nMbx/RdZjZLsmmZZnu3Y9va65lFVu5LP/EAr5GJaHrOV+v112gxV94VruiRSj/xsM+hiWRyNeZ5LT\nYw0Gg6EUlJOnng94F5iBNua9CpyllHor2z47s5YXm96M/iX3SU5RjTsujoKQ32JAOJB11DnfcqXL\n4SgdMHxXRzB7M+Kdi6w9rZed1XEW77tcyPtoT75GyA17Nj28T/Kuv4UeCd8dMPd498RiCRpbd9RR\nXWWAQKBLHRVstL3U5PKcy7fnUSYPuC3tMSJemA6/rcORdDftOB/ntptj+g+GvkxePfXA6K+haBhP\nPQ/jqdcnKX9PPaVUQkQuB54EbOCPOzPolRu9Gf3rbp98jCb2RK5CjFz2ZsS7ELL2tVHZfI2QG/Zs\nSqX3hR4J3x0w93j3BAI+hnU14u0x5HL/5vtez3S8wdX5i+na157JfQnTthj6MkZ/DQaDofeUVeup\nlPob8LdSy2EwGAwGg8FgMBgMBoPBYNhBb70SjXdg4TARPA0Gg8FgMBgMBoPBYDAYDIY+Rll56hkM\nBoPBYDAYDAaDwWAwGApDKWIA7kqZfcnLrxTnWTaJMnqDiDQCa7OsHgRsKqI4RobyLL+QMmxSSp3Q\n2537gP52ptxkMvJ0z85k2pP0t9zkgfKTqdzkgdLob1+rh1JQbvJA+cnUnTym/S0t5SZTX5On1/rb\nje72pOxyp6/LD33/HEzft3CYcywtWfW3Txv1doaIvKaUOtTIUFoZSl1+uciQK+Uoc7nJZOTpnlLJ\nVG51UW7yQPnJVG7yQGlkMvXQPeUmD5SfTKWUx9RF95SbTEae8ig7H/R1+aHvn4Pp+xYOc47li4mp\nZzAYDAaDwWAwGAwGg8FgMPQxjFHPYDAYDAaDwWAwGAwGg8Fg6GPszka920stAEaGcigfykOGXClH\nmctNJiNP95RKpnKri3KTB8pPpnKTB0ojk6mH7ik3eaD8ZCqlPKYuuqfcZDLylEfZ+aCvyw99/xxM\n37dwmHMsU3bbmHoGg8FgMBgMBoPBYDAYDAbD7sru7KlnMBgMBoPBYDAYDAaDwWAw7JbslkY9ETlB\nRFaLyPsick2ByhghIs+KyCoReUtE/s1bPkBEnhaR97zv/t5yEZFbPJlWisikPMpii8hyEXnc+z9K\nRF72ylooIgFvedD7/763fmSeyq8VkUUi8o6IvC0iU4tZDyJypXcN3hSRB0QkVOw6yFHenernzmQU\nke95y1eLyPFFkudbnp6vFJHFIrJv2jpHRF73Po/lQ54eynS+iDSmlf2NtHXneXr3noicVyR5fpEm\ny7si0pS2Lu91JCJ/FJGNIvJmlvVZ77N81c+uyFAoeiDTdBHZlnY9flBgeTI+JzptU7R66qE8Rasj\nr61+RURWePLckGGborXZ3d3nhSbb9ZEsz9MiytWjPkYR5elxn6OIMvW4H1JAGUqqvxnk6ba9KQWd\n9bnEsnTR5TKQqYsuF6ncstLfXClXfc+Vcro/ekOp7qm+rr9Jcu2HFLMPm0962q8pZh90l1FK7VYf\nwAY+AEYDAWAFUF+AcoYCk7zf1cC7QD3wM+Aab/k1wE+93ycBTwACTAFezqMs3wLuBx73/j8EfM37\nvQD4pvf7UmCB9/trwMI8lX838A3vdwCoLVY9AMOANUA47dzPL3Yd5FM/s8no6dcKIAiM8o5jF0Ge\nY4AK7/c30+sMaClRHZ0P/CbDvgOAD73v/t7v/oWWp9P2/wr8scB1dBQwCXgzy/qM91k+66e3MhTy\n0wOZpuO1k8X4kOU5Uap66qE8Rasj75yrvN9+4GVgSqdtitJm53qfF/P6kOV5WkS5etTHKKI8Pe5z\nFEmenPohBZKh5PqbQaZu25sSydVBn0ssSxddLrE8GXW5COWWnf724hzKUt97cR5lc3/0Uv6i31O7\ng/6mnUvZ2DcKfJ4ltZ0U4rM7eupNBt5XSn2olIoBDwKz812IUmqDUmqZ97sZeBv9MJyNblDwvr/i\n/Z4N3KM0S4BaERm6q3KIyHDgZOD33n8BjgUWZZEhKdsiYIa3/a6UX4N+kf4DgFIqppRqorj14APC\nIuIDKoANFLEOcqQn+plNxtnAg0qpqFJqDfC+d7yCyqOUelYp1eb9XQIM38Uyd1mmnXA88LRSaotS\naivwNHBCkeU5E3hgF8vcKUqp54EtO9kk232Wt/rZBRkKRg9kKio7eU6kU7R66qE8RcM75xbvr9/7\ndA70W6w2uyh9h53Ri35Fwcmxj1EMeXLtcxSLXPohhaDk+tuZcmtvoKs+l1iWbLpcajrr8qdFKLPs\n9DdXylHfc6Wc7o/eUMJ7qs/rb5JysW8UklLbTgrF7mjUGwasS/u/ngI3qp4r5iFoL4MhSqkN3qrP\ngCEFluuXwNWA6/0fCDQppRIZyknJ4K3f5m2/K4wCGoE7PUVZM70AABAmSURBVDfW34tIJUWqB6XU\nJ8DPgY/RnehtwFKKWwe50JPzzyZjIXQo12NeiB6RSRISkddEZImI5OuFpacyneq5ei8SkRE57lsI\neRA9NXkU8Eza4kLUUXdkk7mY7WPR2+IeMlX0dM8nROTAYhXa6TmRTknqaSfyQBHryJsC8TqwEW1w\nzlo/BW6zy0pfe9ivKAa59DGKQa59joLTi35IISgr/e1MN+1NMemsz6Ukmy6XjEy6rJR6qghFl7X+\n5koZ6XuulNP90RtKdU/tVvqbpMT2jUJSattJQdgdjXpFRUSqgEeAf1dKbU9fp5RSdPU6yGfZs4CN\nSqmlhSqjB/jQ091uVUodArSi3XJTFLIevDn9s9EN+d5AJbvumWXIgIjMBQ4F5qct3lcpdShwFvBL\nERlTJHH+BxiplJqI9ja7u5vti8XXgEVKKSdtWanqyNCVZejrcRDwa+AvxSh0Z8+JUtCNPEWtI6WU\no5Q6GO0BPFlEJhSyvL5AKfsVneQohz5GZ0ra58iE6YfsnHJp/8pQn7vV5WKTSZe9vp+hh5SLvudK\nGd4fvaHs7qm+Srn0Q/LNbqLnGdkdjXqfACPS/g/3luUdEfGjFf4+pdR/e4s/T7qdet8bCyjXEcAp\nIvIR2tX3WOBXaNdXX4ZyUjJ462uAzbsow3pgfZp3xSJ0g1qsevgSsEYp1aiUigP/ja6XYtZBLvTk\n/LPJWAgd6tExReRLwLXAKUqpaHK5N6qLUupD4Dn0iM6u0q1MSqnNaXL8Hmjo6b6FkCeNr9Fp6m2B\n6qg7sslctPaxyGX1CKXU9uR0T6XU3wC/iAwqZJlZnhPpFLWeupOnFHXkldUEPEtXY0ix2uyy0Ncc\n+xWFJtc+RjHItc9RDHLthxSCstDfzvSg/SsmXfRZRP5UQnmy6XIpyaTL04pQblnqb66Umb7nSrnd\nH72hVPfUbqG/ScrAvlFIysF2UhB2R6Peq8BY0VlMAuiX7Lxl5Uzizaf+A/C2Uuq/0lY9BiQzSp4H\nPJq2/FzRTEG7tG9gF1BKfU8pNVwpNRJ9ns8opc5GvxjNySJDUrY53va7ZGlXSn0GrBORcd6iGcAq\nilcPHwNTRKTCuybJ8otWBznSE/3MJuNjwNdEZ+IZBYwFXim0PCJyCHAb2qC3MW15fxEJer8HoRvK\nVbsoT09lSo/XcAo65gPAk8BMT7b+wExvWUHl8WQaj04+8VLaskLVUXdku88KUT+5ylAyRGQvr51A\nRCajn4EFezjv5DmRTtHqqSfyFLOORKRORGq932HgOOCdTpsVq80uSt9hZ/SiX1FQetHHKIZMufY5\nikGu/ZBCUHL97UwP27+ikUWfS+aFthNdLiWZdPntbvbJB2Wnv7lSbvqeK+V2f/SGEt5TfV5/k5SD\nfaOQlIPtpGCoMsjWke8POhPLu+hMNNcWqIwj0a6nK4HXvc9J6HnWi4H3gP8FBnjbC/BbT6Y3gEPz\nLM90dmRwGY029rwPPAwEveUh7//73vrReSr7YOA1ry7+gjZsFK0egBvQL4JvAveis8MWtQ52VT+B\nH6GNZjuVEe0t9wGwGjixSPL8L/B5mp4/5i2f5l3DFd73hUWso58Ab3llPwuMT9v3617dvQ9cUAx5\nvP/XAzd12q8gdYT2BtwAxNEjkxcClwCXeOuz3mf5qp9dkaGA91Z3Ml2epjdLgGkFlifbc6Ik9dRD\neYpWR8BEYLknz5vAD7zlPWoPCyBPwfsOvbw+GZ+nRZZtOt30MYooS4/7HEWUqcf9kALKUFL9zSBP\nRn0utVyebCl9LrEcXXS5DGTqostFKres9LcX8petvvfiXMri/uil7CW5p/q6/qadR1nZNwp8rt32\naygDu0FPP+IJbDAYDAaDwWAwGAwGg8FgMBj6CLvj9FuDwWAwGAwGg8FgMBgMBoNht8YY9QwGg8Fg\nMBgMBoPBYDAYDIY+hjHqGQwGg8FgMBgMBoPBYDAYDH0MY9QzGAwGg8FgMBgMBoPBYDAY+hjGqGcw\nGAwGg8FgMBgMBoPBYDD0MYxRr0wQEUdEXheRN0XkYRGpKLVMvUVEnhORQzMsP19EflMKmQylR0Su\nFZG3RGSlp+uH5+GYp4jINXmSryUfxzHsOeTSbovI9SLy7WLKZzD0FhH5iogoERlfalkMhp2RqW8h\nIr8XkXpvfcZnu4hMEZGXvX3eFpHriyq4wUD+3/9EZKSIvJkv+QyGnpKmy8nPyFLLtCdhjHrlQ7tS\n6mCl1AQgBlxSaoF6g4jYpZbBUH6IyFRgFjBJKTUR+BKwrof7+rKtU0o9ppS6KT9SGgw5s1u02wZD\nBs4E/s/7NhjKkmx9C6XUN5RSq7rZ/W5gnlLqYGAC8FBhpTUYMtKrfsTO+sYGQ4lI6nLy81F3O4jG\n2KPygKnE8uSfwH4i8mVvFHG5iPyviAwBEJGj06zgy0WkWkSGisjzaaM9X/S2nSkiL4nIMm8EqMpb\n/pGI3OAtfyM5Gi8idSLytDfq+XsRWSsig7x1c0XkFa+M25IGPBFpEZGbRWQFMDX9RETkAhF5V0Re\nAY4oWg0ayo2hwCalVBRAKbVJKfWpp4dJ/TpURJ7zfl8vIveKyAvAvSKyREQOTB4s6Q2a9P4UkRpP\nVy1vfaWIrBMRv4iMEZG/i8hSEflnmq6P8u6NN0Tkx0WuD8Puxz+B/QBE5FzPa2SFiNzbeUMRuUhE\nXvXWP5IcmReR07z2e4WIPO8tOzCt3V0pImOLelaGPQ6vn3AkcCHwNW+ZJSK/E5F3vD7C30Rkjreu\nQUT+4bWxT4rI0BKKb9izyNa36DBjRER+4fVrF4tInbd4MLDB289JGgHT+h8vich7InJRkc/JsOfS\n3ftf577xEBH5s9dnWCEi07zj2CJyh6fzT4lIuGRnZNhjEZEqr81N2hpme8tHishqEbkHeBMYISLf\n8frFK0XkhtJK3jcxRr0yQ/TIy4nAG+hR8ilKqUOAB4Grvc2+DVzmjS5+EWgHzgKe9JYdBLzuGUu+\nD3xJKTUJeA34Vlpxm7zlt3rHBPgh8IxS6kBgEbCPJ9cBwBnAEV4ZDnC2t08l8LJS6iCl1P+lnctQ\n4Aa0Me9IoD4PVWTomzyFbrTf9V4Mj+7BPvVo3T0TWAicDim9GqqUei25oVJqG/A6kDzuLPT9EAdu\nB/5VKdWA1vPfedv8CrhVKfUFvI69wdAb0tttz/j8feBYpdRBwL9l2OW/lVKHeevfRhtPAH4AHO8t\nP8VbdgnwK6/dPRRYX8BTMRgAZgN/V0q9C2wWkQbgX4CR6Hb5HLwBPBHxA78G5nht7B+B/yyF0IY9\nkp70LSqB17x+7T/Q/VyAXwCrPaPIxSISSttnInAsWs9/ICJ7F/AcDIaevv9Bx77xLcA/vD7DJOAt\nb5uxwG89nW8CTi3OWRj2cMKyw+noz0AE+KpnazgGuFlExNt2LPA7T0fHef8nAwcDDSJyVAnk79MY\n193yISwir3u//wn8Aa3kCz0jRgBY461/AfgvEbkP/XK4XkReBf7odbD/opR63evc1AMvePdQAHgp\nrcz/9r6XojvsoI1vXwVQSv1dRLZ6y2cADcCr3rHCwEZvnQM8kuGcDgeeU0o1AojIQmD/3KrFsDug\nlGrxXgy/iG7YF0r3sfAeU0q1e78fQnfef4g27i3KsP1CtOH5WbR3ye88j5NpwMM7niMEve8j2NHR\nuRf4aa7nZdjjydRuXww8rJTaBKCU2pJhvwmed2gtUAU86S1/AbhLRB5iR/v8EnCtiAxHt/fvFeZU\nDIYUZ6IHPUC/UJ6J7i8+rJRygc9E5Flv/Tj01MWnvTbWxgySGIpED/sWLrp/APAnvLZVKfUjrx89\nEz0wfiYw3dvuUa//0e7p+mTgL4U8F8MeSy7vf9Cxb3wscC5ob1Ngm4j0B9YopZLHXIoekDEYCk27\nNwANpAb9/p9noHOBYcAQb/VapdQS7/dM77Pc+1+FNvI9XxSpdxOMUa986HAjAIjIr4H/Uko9JiLT\ngesBlFI3ichfgZPQBrvjlVLPezfNyeiXwv8CtgJPe6M5mYh63w7d64IAdyulvpdhXcR7mBgMWfF0\n5DngORF5AzgPSLDDYzjUaZfWtH0/EZHNIjIRbbjLFHPkMfTDYwDaAP0MeoS+qfO9lS5WL0/HYIDM\n7XZP9rsL+IpSaoWInI/3IqmUukR0ApmTgaUi0qCUul9EXvaW/U1ELlZKPZPHczAYUnjt57HAF0RE\noY10Cvhztl2At5RSU7OsNxgKSpa+xU53Sdv3A+BWEbkDaBSRgZ23yfLfYMgXPX7/82ile6Jpvx20\nI4bBUGzOBuqABqVUXEQ+Yse7XroeC/ATpdRtRZZvt8JMvy1vaoBPvN+pToqIjFFKvaGU+inwKjBe\nRPYFPldK3QH8Hu2GvQQ4QkSScZ4qRaQ7T7kX2DHNcSbQ31u+GJgjIoO9dQO8MnfGy8DRIjLQs9af\n1qOzNux2iMg46RgL7GBgLfAR2gAH3U8PWIieglCjlFrZeaVSqgV9P/wKeNyLkbMdWCMip3lyiIgc\n5O3yAl68KHZMJTcYdpVngNOSL4eekaQz1cAGr11M6Z7Xtr+slPoB0IieVjYa+FApdQvwKHpamMFQ\nKOYA9yql9lVKjVRKjUB7iWwBThUdW28IOzyaVgN1ohMWIDqO6YGZDmww5Jud9C3SsdB6Ddoj7/+8\nfU/uNBXMQU9VBJgtIiGvHZ+O7lsYDMUi4/tfBhYD3wSdqFBEagotmMGQAzXARs+gdwyQzW7wJPB1\n2RH3f1jS3mDoOcaoV95cj542uBTYlLb830UHU18JxIEn0J2OFSKyHO3J9Ctv2uv5wAPeti8B47sp\n8wZgpuh06KcBnwHNXgDh7wNPecd6Gh2gOCtKqQ3eObyENqC83bPTNuyGVAF3i8gqT3/q0bpxA/Ar\nEXkN3aHeGYvQRridZahbCMxlx1Qb0EaTC0UncnkLHS8KdKyzy7yR/WG5nY7BkBml1FvomGL/8HTu\nvzJsdh160OMF4J205fNFBxN+E3gRWIEeZHnTm54zAbinkPIb9njOpKtX3iPAXuh4jqvQUxiXAduU\nUjG0weSnnr6/jg55YDAUg2x9i3Ragcleu3os8CNv+TnomHqvo0NwnJ0262QlOpTHEuBGpdSnhT0N\ng6ED15P5/a8z/wYc4/Vjl2JilxvKi/uAQz39PJeO/d0USqmngPuBl7xtF6EHvw05IEoZj3LDDkQk\nCDhKqYQ38n7rTqYuGgwGg8Fg2AMQkSovhtlA4BV04qzPSi2XwZBPROR6oEUp9fNSy2IwGAwGQ08w\nMfUMndkHeEhELCAGXFRieQwGg8FgMJSex0WkFh24/UZj0DMYDAaDwWAoPcZTz2AwGAwGg8FgMBgM\nBoPBYOhjmJh6BoPBYDAYDAaDwWAwGAwGQx/DGPUMBoPBYDAYDAaDwWAwGAyGPoYx6hkMBoPBYDAY\nDAaDwWAwGAx9DGPUMxgMBoPBYDAYDAaDwWAwGPoYxqhnMBgMBoPBYDAYDAaDwWAw9DGMUc9gMBgM\nBoPBYDAYDAaDwWDoY/x/Ip+4PbuW9TQAAAAASUVORK5CYII=\n",
            "text/plain": [
              "<Figure size 1260x1260 with 56 Axes>"
            ]
          },
          "metadata": {
            "tags": []
          }
        }
      ]
    },
    {
      "cell_type": "markdown",
      "metadata": {
        "id": "m8_doZ99u6Hi",
        "colab_type": "text"
      },
      "source": [
        "realtion ship between sex and survived passangers"
      ]
    },
    {
      "cell_type": "code",
      "metadata": {
        "id": "EwRw7cGdi8CY",
        "colab_type": "code",
        "outputId": "e7925776-2a76-4bc9-a0c2-afdc548b49c3",
        "colab": {
          "base_uri": "https://localhost:8080/",
          "height": 296
        }
      },
      "source": [
        "sns.barplot(x='Sex',y='Survived',data=df_train)"
      ],
      "execution_count": 0,
      "outputs": [
        {
          "output_type": "execute_result",
          "data": {
            "text/plain": [
              "<matplotlib.axes._subplots.AxesSubplot at 0x7f8627690c88>"
            ]
          },
          "metadata": {
            "tags": []
          },
          "execution_count": 70
        },
        {
          "output_type": "display_data",
          "data": {
            "image/png": "iVBORw0KGgoAAAANSUhEUgAAAYIAAAEGCAYAAABo25JHAAAABHNCSVQICAgIfAhkiAAAAAlwSFlz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\n",
            "text/plain": [
              "<Figure size 432x288 with 1 Axes>"
            ]
          },
          "metadata": {
            "tags": []
          }
        }
      ]
    },
    {
      "cell_type": "markdown",
      "metadata": {
        "id": "wrvR7QzIvBI1",
        "colab_type": "text"
      },
      "source": [
        "realation between passanger class and survived "
      ]
    },
    {
      "cell_type": "code",
      "metadata": {
        "id": "TuJmDdENvLSB",
        "colab_type": "code",
        "outputId": "01450811-d22e-4e4f-b394-7f28efafb96a",
        "colab": {
          "base_uri": "https://localhost:8080/",
          "height": 296
        }
      },
      "source": [
        "sns.barplot(data=df_train,x='Pclass',y=\"Survived\")"
      ],
      "execution_count": 0,
      "outputs": [
        {
          "output_type": "execute_result",
          "data": {
            "text/plain": [
              "<matplotlib.axes._subplots.AxesSubplot at 0x7f862769b6a0>"
            ]
          },
          "metadata": {
            "tags": []
          },
          "execution_count": 71
        },
        {
          "output_type": "display_data",
          "data": {
            "image/png": "iVBORw0KGgoAAAANSUhEUgAAAYIAAAEGCAYAAABo25JHAAAABHNCSVQICAgIfAhkiAAAAAlwSFlz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\nTkSuQmCC\n",
            "text/plain": [
              "<Figure size 432x288 with 1 Axes>"
            ]
          },
          "metadata": {
            "tags": []
          }
        }
      ]
    },
    {
      "cell_type": "code",
      "metadata": {
        "id": "DmHkQhntu5KD",
        "colab_type": "code",
        "outputId": "b532519b-a9ce-42d3-a847-80fa07a6c8b1",
        "colab": {
          "base_uri": "https://localhost:8080/",
          "height": 296
        }
      },
      "source": [
        "#realation between SibSp and survived \n",
        "sns.barplot(data=df_train,x='SibSp',y=\"Survived\")"
      ],
      "execution_count": 0,
      "outputs": [
        {
          "output_type": "execute_result",
          "data": {
            "text/plain": [
              "<matplotlib.axes._subplots.AxesSubplot at 0x7f86275c7860>"
            ]
          },
          "metadata": {
            "tags": []
          },
          "execution_count": 72
        },
        {
          "output_type": "display_data",
          "data": {
            "image/png": "iVBORw0KGgoAAAANSUhEUgAAAYIAAAEGCAYAAABo25JHAAAABHNCSVQICAgIfAhkiAAAAAlwSFlz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\nMmU2GQYRWQAAAABJRU5ErkJggg==\n",
            "text/plain": [
              "<Figure size 432x288 with 1 Axes>"
            ]
          },
          "metadata": {
            "tags": []
          }
        }
      ]
    },
    {
      "cell_type": "code",
      "metadata": {
        "id": "rGeOTcT_w9xt",
        "colab_type": "code",
        "outputId": "855e317b-6a74-4aa2-b84b-1b8465eeaf67",
        "colab": {
          "base_uri": "https://localhost:8080/",
          "height": 296
        }
      },
      "source": [
        "#realation between Fare and survived \n",
        "sns.barplot(data=df_train,y='Fare',x=\"Survived\")"
      ],
      "execution_count": 0,
      "outputs": [
        {
          "output_type": "execute_result",
          "data": {
            "text/plain": [
              "<matplotlib.axes._subplots.AxesSubplot at 0x7f86275cc080>"
            ]
          },
          "metadata": {
            "tags": []
          },
          "execution_count": 73
        },
        {
          "output_type": "display_data",
          "data": {
            "image/png": "iVBORw0KGgoAAAANSUhEUgAAAX4AAAEGCAYAAABiq/5QAAAABHNCSVQICAgIfAhkiAAAAAlwSFlz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\nZQAAAABJRU5ErkJggg==\n",
            "text/plain": [
              "<Figure size 432x288 with 1 Axes>"
            ]
          },
          "metadata": {
            "tags": []
          }
        }
      ]
    },
    {
      "cell_type": "code",
      "metadata": {
        "id": "yHOAHx0ixWqR",
        "colab_type": "code",
        "outputId": "5f548a25-caa4-4d68-d5c3-e0b9d4b96b38",
        "colab": {
          "base_uri": "https://localhost:8080/",
          "height": 296
        }
      },
      "source": [
        "#realation between Age and survived \n",
        "df_train['Age']=df_train['Age'].fillna(-0.5)\n",
        "df_test[\"Age\"] = df_test[\"Age\"].fillna(-0.5)\n",
        "bins=[-1,0,5,12,18,24,35,60,np.inf]\n",
        "labels=['Unknown', 'Baby', 'Child', 'Teenager', 'Student', 'Young Adult', 'Adult', 'Senior']\n",
        "\n",
        "df_train['AgeGroup']=pd.cut(df_train['Age'],bins,labels=labels)\n",
        "df_test['AgeGroup']=pd.cut(df_test['Age'],bins,labels=labels)\n",
        "\n",
        "sns.barplot(x='AgeGroup',y='Survived',data=df_train)"
      ],
      "execution_count": 0,
      "outputs": [
        {
          "output_type": "execute_result",
          "data": {
            "text/plain": [
              "<matplotlib.axes._subplots.AxesSubplot at 0x7f86274bd358>"
            ]
          },
          "metadata": {
            "tags": []
          },
          "execution_count": 74
        },
        {
          "output_type": "display_data",
          "data": {
            "image/png": "iVBORw0KGgoAAAANSUhEUgAAAYIAAAEGCAYAAABo25JHAAAABHNCSVQICAgIfAhkiAAAAAlwSFlz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\nf23yiPdUDtf6AAAAAElFTkSuQmCC\n",
            "text/plain": [
              "<Figure size 432x288 with 1 Axes>"
            ]
          },
          "metadata": {
            "tags": []
          }
        }
      ]
    },
    {
      "cell_type": "code",
      "metadata": {
        "id": "8-lLKbrz0fU0",
        "colab_type": "code",
        "outputId": "3c953e03-6ec4-45ce-8af1-75213866bbc0",
        "colab": {
          "base_uri": "https://localhost:8080/",
          "height": 297
        }
      },
      "source": [
        "#cabin no vs survived \n",
        "df_train['Cabin_bool']=(df_train['Cabin'].notnull().astype('int'))\n",
        "df_test['Cabin_bool']=(df_test['Cabin'].notnull().astype('int'))\n",
        "\n",
        "sns.barplot(x='Cabin_bool',y='Survived',data=df_train)"
      ],
      "execution_count": 0,
      "outputs": [
        {
          "output_type": "execute_result",
          "data": {
            "text/plain": [
              "<matplotlib.axes._subplots.AxesSubplot at 0x7f86274b5da0>"
            ]
          },
          "metadata": {
            "tags": []
          },
          "execution_count": 75
        },
        {
          "output_type": "display_data",
          "data": {
            "image/png": "iVBORw0KGgoAAAANSUhEUgAAAYIAAAEHCAYAAACjh0HiAAAABHNCSVQICAgIfAhkiAAAAAlwSFlz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\nIEmN+38vuLZBg3R0cAAAAABJRU5ErkJggg==\n",
            "text/plain": [
              "<Figure size 432x288 with 1 Axes>"
            ]
          },
          "metadata": {
            "tags": []
          }
        }
      ]
    },
    {
      "cell_type": "code",
      "metadata": {
        "id": "mnehVMIJ2gf4",
        "colab_type": "code",
        "outputId": "1e9c085d-29d0-4c06-ec84-5991f967bf98",
        "colab": {
          "base_uri": "https://localhost:8080/",
          "height": 386
        }
      },
      "source": [
        "# lets look for test data\n",
        "\n",
        "df_test.describe(include=\"all\")"
      ],
      "execution_count": 0,
      "outputs": [
        {
          "output_type": "execute_result",
          "data": {
            "text/html": [
              "<div>\n",
              "<style scoped>\n",
              "    .dataframe tbody tr th:only-of-type {\n",
              "        vertical-align: middle;\n",
              "    }\n",
              "\n",
              "    .dataframe tbody tr th {\n",
              "        vertical-align: top;\n",
              "    }\n",
              "\n",
              "    .dataframe thead th {\n",
              "        text-align: right;\n",
              "    }\n",
              "</style>\n",
              "<table border=\"1\" class=\"dataframe\">\n",
              "  <thead>\n",
              "    <tr style=\"text-align: right;\">\n",
              "      <th></th>\n",
              "      <th>PassengerId</th>\n",
              "      <th>Pclass</th>\n",
              "      <th>Name</th>\n",
              "      <th>Sex</th>\n",
              "      <th>Age</th>\n",
              "      <th>SibSp</th>\n",
              "      <th>Parch</th>\n",
              "      <th>Ticket</th>\n",
              "      <th>Fare</th>\n",
              "      <th>Cabin</th>\n",
              "      <th>Embarked</th>\n",
              "      <th>AgeGroup</th>\n",
              "      <th>Cabin_bool</th>\n",
              "    </tr>\n",
              "  </thead>\n",
              "  <tbody>\n",
              "    <tr>\n",
              "      <th>count</th>\n",
              "      <td>418.000000</td>\n",
              "      <td>418.000000</td>\n",
              "      <td>418</td>\n",
              "      <td>418</td>\n",
              "      <td>418.000000</td>\n",
              "      <td>418.000000</td>\n",
              "      <td>418.000000</td>\n",
              "      <td>418</td>\n",
              "      <td>417.000000</td>\n",
              "      <td>91</td>\n",
              "      <td>418</td>\n",
              "      <td>418</td>\n",
              "      <td>418.000000</td>\n",
              "    </tr>\n",
              "    <tr>\n",
              "      <th>unique</th>\n",
              "      <td>NaN</td>\n",
              "      <td>NaN</td>\n",
              "      <td>418</td>\n",
              "      <td>2</td>\n",
              "      <td>NaN</td>\n",
              "      <td>NaN</td>\n",
              "      <td>NaN</td>\n",
              "      <td>363</td>\n",
              "      <td>NaN</td>\n",
              "      <td>76</td>\n",
              "      <td>3</td>\n",
              "      <td>8</td>\n",
              "      <td>NaN</td>\n",
              "    </tr>\n",
              "    <tr>\n",
              "      <th>top</th>\n",
              "      <td>NaN</td>\n",
              "      <td>NaN</td>\n",
              "      <td>Mock, Mr. Philipp Edmund</td>\n",
              "      <td>male</td>\n",
              "      <td>NaN</td>\n",
              "      <td>NaN</td>\n",
              "      <td>NaN</td>\n",
              "      <td>PC 17608</td>\n",
              "      <td>NaN</td>\n",
              "      <td>B57 B59 B63 B66</td>\n",
              "      <td>S</td>\n",
              "      <td>Young Adult</td>\n",
              "      <td>NaN</td>\n",
              "    </tr>\n",
              "    <tr>\n",
              "      <th>freq</th>\n",
              "      <td>NaN</td>\n",
              "      <td>NaN</td>\n",
              "      <td>1</td>\n",
              "      <td>266</td>\n",
              "      <td>NaN</td>\n",
              "      <td>NaN</td>\n",
              "      <td>NaN</td>\n",
              "      <td>5</td>\n",
              "      <td>NaN</td>\n",
              "      <td>3</td>\n",
              "      <td>270</td>\n",
              "      <td>96</td>\n",
              "      <td>NaN</td>\n",
              "    </tr>\n",
              "    <tr>\n",
              "      <th>mean</th>\n",
              "      <td>1100.500000</td>\n",
              "      <td>2.265550</td>\n",
              "      <td>NaN</td>\n",
              "      <td>NaN</td>\n",
              "      <td>23.941388</td>\n",
              "      <td>0.447368</td>\n",
              "      <td>0.392344</td>\n",
              "      <td>NaN</td>\n",
              "      <td>35.627188</td>\n",
              "      <td>NaN</td>\n",
              "      <td>NaN</td>\n",
              "      <td>NaN</td>\n",
              "      <td>0.217703</td>\n",
              "    </tr>\n",
              "    <tr>\n",
              "      <th>std</th>\n",
              "      <td>120.810458</td>\n",
              "      <td>0.841838</td>\n",
              "      <td>NaN</td>\n",
              "      <td>NaN</td>\n",
              "      <td>17.741080</td>\n",
              "      <td>0.896760</td>\n",
              "      <td>0.981429</td>\n",
              "      <td>NaN</td>\n",
              "      <td>55.907576</td>\n",
              "      <td>NaN</td>\n",
              "      <td>NaN</td>\n",
              "      <td>NaN</td>\n",
              "      <td>0.413179</td>\n",
              "    </tr>\n",
              "    <tr>\n",
              "      <th>min</th>\n",
              "      <td>892.000000</td>\n",
              "      <td>1.000000</td>\n",
              "      <td>NaN</td>\n",
              "      <td>NaN</td>\n",
              "      <td>-0.500000</td>\n",
              "      <td>0.000000</td>\n",
              "      <td>0.000000</td>\n",
              "      <td>NaN</td>\n",
              "      <td>0.000000</td>\n",
              "      <td>NaN</td>\n",
              "      <td>NaN</td>\n",
              "      <td>NaN</td>\n",
              "      <td>0.000000</td>\n",
              "    </tr>\n",
              "    <tr>\n",
              "      <th>25%</th>\n",
              "      <td>996.250000</td>\n",
              "      <td>1.000000</td>\n",
              "      <td>NaN</td>\n",
              "      <td>NaN</td>\n",
              "      <td>9.000000</td>\n",
              "      <td>0.000000</td>\n",
              "      <td>0.000000</td>\n",
              "      <td>NaN</td>\n",
              "      <td>7.895800</td>\n",
              "      <td>NaN</td>\n",
              "      <td>NaN</td>\n",
              "      <td>NaN</td>\n",
              "      <td>0.000000</td>\n",
              "    </tr>\n",
              "    <tr>\n",
              "      <th>50%</th>\n",
              "      <td>1100.500000</td>\n",
              "      <td>3.000000</td>\n",
              "      <td>NaN</td>\n",
              "      <td>NaN</td>\n",
              "      <td>24.000000</td>\n",
              "      <td>0.000000</td>\n",
              "      <td>0.000000</td>\n",
              "      <td>NaN</td>\n",
              "      <td>14.454200</td>\n",
              "      <td>NaN</td>\n",
              "      <td>NaN</td>\n",
              "      <td>NaN</td>\n",
              "      <td>0.000000</td>\n",
              "    </tr>\n",
              "    <tr>\n",
              "      <th>75%</th>\n",
              "      <td>1204.750000</td>\n",
              "      <td>3.000000</td>\n",
              "      <td>NaN</td>\n",
              "      <td>NaN</td>\n",
              "      <td>35.750000</td>\n",
              "      <td>1.000000</td>\n",
              "      <td>0.000000</td>\n",
              "      <td>NaN</td>\n",
              "      <td>31.500000</td>\n",
              "      <td>NaN</td>\n",
              "      <td>NaN</td>\n",
              "      <td>NaN</td>\n",
              "      <td>0.000000</td>\n",
              "    </tr>\n",
              "    <tr>\n",
              "      <th>max</th>\n",
              "      <td>1309.000000</td>\n",
              "      <td>3.000000</td>\n",
              "      <td>NaN</td>\n",
              "      <td>NaN</td>\n",
              "      <td>76.000000</td>\n",
              "      <td>8.000000</td>\n",
              "      <td>9.000000</td>\n",
              "      <td>NaN</td>\n",
              "      <td>512.329200</td>\n",
              "      <td>NaN</td>\n",
              "      <td>NaN</td>\n",
              "      <td>NaN</td>\n",
              "      <td>1.000000</td>\n",
              "    </tr>\n",
              "  </tbody>\n",
              "</table>\n",
              "</div>"
            ],
            "text/plain": [
              "        PassengerId      Pclass  ...     AgeGroup  Cabin_bool\n",
              "count    418.000000  418.000000  ...          418  418.000000\n",
              "unique          NaN         NaN  ...            8         NaN\n",
              "top             NaN         NaN  ...  Young Adult         NaN\n",
              "freq            NaN         NaN  ...           96         NaN\n",
              "mean    1100.500000    2.265550  ...          NaN    0.217703\n",
              "std      120.810458    0.841838  ...          NaN    0.413179\n",
              "min      892.000000    1.000000  ...          NaN    0.000000\n",
              "25%      996.250000    1.000000  ...          NaN    0.000000\n",
              "50%     1100.500000    3.000000  ...          NaN    0.000000\n",
              "75%     1204.750000    3.000000  ...          NaN    0.000000\n",
              "max     1309.000000    3.000000  ...          NaN    1.000000\n",
              "\n",
              "[11 rows x 13 columns]"
            ]
          },
          "metadata": {
            "tags": []
          },
          "execution_count": 76
        }
      ]
    },
    {
      "cell_type": "code",
      "metadata": {
        "id": "Cbv39V933N0m",
        "colab_type": "code",
        "colab": {}
      },
      "source": [
        "df_train = df_train.drop(['Cabin'],['Ticket'], axis = 1)\n",
        "df_test = df_test.drop(['Cabin'],['Ticket'] axis = 1)"
      ],
      "execution_count": 0,
      "outputs": []
    },
    {
      "cell_type": "code",
      "metadata": {
        "id": "R6xWEAdn4qn5",
        "colab_type": "code",
        "colab": {}
      },
      "source": [
        "#replacing the missing values in the Embarked feature with S\n",
        "df_train = df_train.fillna({\"Embarked\": \"S\"})"
      ],
      "execution_count": 0,
      "outputs": []
    },
    {
      "cell_type": "markdown",
      "metadata": {
        "id": "1mBNED6E5JCt",
        "colab_type": "text"
      },
      "source": [
        "Age feature"
      ]
    },
    {
      "cell_type": "code",
      "metadata": {
        "id": "sdQDx0eO3rbS",
        "colab_type": "code",
        "outputId": "920e7452-c831-4fcf-a8ea-34f186c2ad74",
        "colab": {
          "base_uri": "https://localhost:8080/",
          "height": 601
        }
      },
      "source": [
        "combine = [df_train, df_test]\n",
        "\n",
        "#extract a title for each Name in the train and test datasets\n",
        "for dataset in combine:\n",
        "    dataset['Title'] = dataset.Name.str.extract(' ([A-Za-z]+)\\.', expand=False)\n",
        "\n",
        "pd.crosstab(df_train['Title'], df_train['Sex'])"
      ],
      "execution_count": 0,
      "outputs": [
        {
          "output_type": "execute_result",
          "data": {
            "text/html": [
              "<div>\n",
              "<style scoped>\n",
              "    .dataframe tbody tr th:only-of-type {\n",
              "        vertical-align: middle;\n",
              "    }\n",
              "\n",
              "    .dataframe tbody tr th {\n",
              "        vertical-align: top;\n",
              "    }\n",
              "\n",
              "    .dataframe thead th {\n",
              "        text-align: right;\n",
              "    }\n",
              "</style>\n",
              "<table border=\"1\" class=\"dataframe\">\n",
              "  <thead>\n",
              "    <tr style=\"text-align: right;\">\n",
              "      <th>Sex</th>\n",
              "      <th>female</th>\n",
              "      <th>male</th>\n",
              "    </tr>\n",
              "    <tr>\n",
              "      <th>Title</th>\n",
              "      <th></th>\n",
              "      <th></th>\n",
              "    </tr>\n",
              "  </thead>\n",
              "  <tbody>\n",
              "    <tr>\n",
              "      <th>Capt</th>\n",
              "      <td>0</td>\n",
              "      <td>1</td>\n",
              "    </tr>\n",
              "    <tr>\n",
              "      <th>Col</th>\n",
              "      <td>0</td>\n",
              "      <td>2</td>\n",
              "    </tr>\n",
              "    <tr>\n",
              "      <th>Countess</th>\n",
              "      <td>1</td>\n",
              "      <td>0</td>\n",
              "    </tr>\n",
              "    <tr>\n",
              "      <th>Don</th>\n",
              "      <td>0</td>\n",
              "      <td>1</td>\n",
              "    </tr>\n",
              "    <tr>\n",
              "      <th>Dr</th>\n",
              "      <td>1</td>\n",
              "      <td>6</td>\n",
              "    </tr>\n",
              "    <tr>\n",
              "      <th>Jonkheer</th>\n",
              "      <td>0</td>\n",
              "      <td>1</td>\n",
              "    </tr>\n",
              "    <tr>\n",
              "      <th>Lady</th>\n",
              "      <td>1</td>\n",
              "      <td>0</td>\n",
              "    </tr>\n",
              "    <tr>\n",
              "      <th>Major</th>\n",
              "      <td>0</td>\n",
              "      <td>2</td>\n",
              "    </tr>\n",
              "    <tr>\n",
              "      <th>Master</th>\n",
              "      <td>0</td>\n",
              "      <td>40</td>\n",
              "    </tr>\n",
              "    <tr>\n",
              "      <th>Miss</th>\n",
              "      <td>182</td>\n",
              "      <td>0</td>\n",
              "    </tr>\n",
              "    <tr>\n",
              "      <th>Mlle</th>\n",
              "      <td>2</td>\n",
              "      <td>0</td>\n",
              "    </tr>\n",
              "    <tr>\n",
              "      <th>Mme</th>\n",
              "      <td>1</td>\n",
              "      <td>0</td>\n",
              "    </tr>\n",
              "    <tr>\n",
              "      <th>Mr</th>\n",
              "      <td>0</td>\n",
              "      <td>517</td>\n",
              "    </tr>\n",
              "    <tr>\n",
              "      <th>Mrs</th>\n",
              "      <td>125</td>\n",
              "      <td>0</td>\n",
              "    </tr>\n",
              "    <tr>\n",
              "      <th>Ms</th>\n",
              "      <td>1</td>\n",
              "      <td>0</td>\n",
              "    </tr>\n",
              "    <tr>\n",
              "      <th>Rev</th>\n",
              "      <td>0</td>\n",
              "      <td>6</td>\n",
              "    </tr>\n",
              "    <tr>\n",
              "      <th>Sir</th>\n",
              "      <td>0</td>\n",
              "      <td>1</td>\n",
              "    </tr>\n",
              "  </tbody>\n",
              "</table>\n",
              "</div>"
            ],
            "text/plain": [
              "Sex       female  male\n",
              "Title                 \n",
              "Capt           0     1\n",
              "Col            0     2\n",
              "Countess       1     0\n",
              "Don            0     1\n",
              "Dr             1     6\n",
              "Jonkheer       0     1\n",
              "Lady           1     0\n",
              "Major          0     2\n",
              "Master         0    40\n",
              "Miss         182     0\n",
              "Mlle           2     0\n",
              "Mme            1     0\n",
              "Mr             0   517\n",
              "Mrs          125     0\n",
              "Ms             1     0\n",
              "Rev            0     6\n",
              "Sir            0     1"
            ]
          },
          "metadata": {
            "tags": []
          },
          "execution_count": 80
        }
      ]
    },
    {
      "cell_type": "code",
      "metadata": {
        "id": "w-NjOC455VHF",
        "colab_type": "code",
        "outputId": "25674bce-3998-4be0-b783-315e6e498f70",
        "colab": {
          "base_uri": "https://localhost:8080/",
          "height": 233
        }
      },
      "source": [
        "for dataset in combine:\n",
        "    dataset['Title'] = dataset['Title'].replace(['Lady', 'Capt', 'Col',\n",
        "    'Don', 'Dr', 'Major', 'Rev', 'Jonkheer', 'Dona'], 'Rare')\n",
        "    \n",
        "    dataset['Title'] = dataset['Title'].replace(['Countess', 'Lady', 'Sir'], 'Royal')\n",
        "    dataset['Title'] = dataset['Title'].replace('Mlle', 'Miss')\n",
        "    dataset['Title'] = dataset['Title'].replace('Ms', 'Miss')\n",
        "    dataset['Title'] = dataset['Title'].replace('Mme', 'Mrs')\n",
        "\n",
        "df_train[['Title', 'Survived']].groupby(['Title'], as_index=False).mean()"
      ],
      "execution_count": 0,
      "outputs": [
        {
          "output_type": "execute_result",
          "data": {
            "text/html": [
              "<div>\n",
              "<style scoped>\n",
              "    .dataframe tbody tr th:only-of-type {\n",
              "        vertical-align: middle;\n",
              "    }\n",
              "\n",
              "    .dataframe tbody tr th {\n",
              "        vertical-align: top;\n",
              "    }\n",
              "\n",
              "    .dataframe thead th {\n",
              "        text-align: right;\n",
              "    }\n",
              "</style>\n",
              "<table border=\"1\" class=\"dataframe\">\n",
              "  <thead>\n",
              "    <tr style=\"text-align: right;\">\n",
              "      <th></th>\n",
              "      <th>Title</th>\n",
              "      <th>Survived</th>\n",
              "    </tr>\n",
              "  </thead>\n",
              "  <tbody>\n",
              "    <tr>\n",
              "      <th>0</th>\n",
              "      <td>Master</td>\n",
              "      <td>0.575000</td>\n",
              "    </tr>\n",
              "    <tr>\n",
              "      <th>1</th>\n",
              "      <td>Miss</td>\n",
              "      <td>0.702703</td>\n",
              "    </tr>\n",
              "    <tr>\n",
              "      <th>2</th>\n",
              "      <td>Mr</td>\n",
              "      <td>0.156673</td>\n",
              "    </tr>\n",
              "    <tr>\n",
              "      <th>3</th>\n",
              "      <td>Mrs</td>\n",
              "      <td>0.793651</td>\n",
              "    </tr>\n",
              "    <tr>\n",
              "      <th>4</th>\n",
              "      <td>Rare</td>\n",
              "      <td>0.285714</td>\n",
              "    </tr>\n",
              "    <tr>\n",
              "      <th>5</th>\n",
              "      <td>Royal</td>\n",
              "      <td>1.000000</td>\n",
              "    </tr>\n",
              "  </tbody>\n",
              "</table>\n",
              "</div>"
            ],
            "text/plain": [
              "    Title  Survived\n",
              "0  Master  0.575000\n",
              "1    Miss  0.702703\n",
              "2      Mr  0.156673\n",
              "3     Mrs  0.793651\n",
              "4    Rare  0.285714\n",
              "5   Royal  1.000000"
            ]
          },
          "metadata": {
            "tags": []
          },
          "execution_count": 81
        }
      ]
    },
    {
      "cell_type": "code",
      "metadata": {
        "id": "_-ME7RBP5dHB",
        "colab_type": "code",
        "outputId": "14a6d64b-6bd8-4715-809b-478975dee599",
        "colab": {
          "base_uri": "https://localhost:8080/",
          "height": 202
        }
      },
      "source": [
        "title_mapping = {\"Mr\": 1, \"Miss\": 2, \"Mrs\": 3, \"Master\": 4, \"Royal\": 5, \"Rare\": 6}\n",
        "for dataset in combine:\n",
        "    dataset['Title'] = dataset['Title'].map(title_mapping)\n",
        "    dataset['Title'] = dataset['Title'].fillna(0)\n",
        "\n",
        "df_train.head()"
      ],
      "execution_count": 0,
      "outputs": [
        {
          "output_type": "execute_result",
          "data": {
            "text/html": [
              "<div>\n",
              "<style scoped>\n",
              "    .dataframe tbody tr th:only-of-type {\n",
              "        vertical-align: middle;\n",
              "    }\n",
              "\n",
              "    .dataframe tbody tr th {\n",
              "        vertical-align: top;\n",
              "    }\n",
              "\n",
              "    .dataframe thead th {\n",
              "        text-align: right;\n",
              "    }\n",
              "</style>\n",
              "<table border=\"1\" class=\"dataframe\">\n",
              "  <thead>\n",
              "    <tr style=\"text-align: right;\">\n",
              "      <th></th>\n",
              "      <th>PassengerId</th>\n",
              "      <th>Survived</th>\n",
              "      <th>Pclass</th>\n",
              "      <th>Name</th>\n",
              "      <th>Sex</th>\n",
              "      <th>Age</th>\n",
              "      <th>SibSp</th>\n",
              "      <th>Parch</th>\n",
              "      <th>Fare</th>\n",
              "      <th>Embarked</th>\n",
              "      <th>AgeGroup</th>\n",
              "      <th>Cabin_bool</th>\n",
              "      <th>Title</th>\n",
              "    </tr>\n",
              "  </thead>\n",
              "  <tbody>\n",
              "    <tr>\n",
              "      <th>0</th>\n",
              "      <td>1</td>\n",
              "      <td>0</td>\n",
              "      <td>3</td>\n",
              "      <td>Braund, Mr. Owen Harris</td>\n",
              "      <td>male</td>\n",
              "      <td>22.0</td>\n",
              "      <td>1</td>\n",
              "      <td>0</td>\n",
              "      <td>7.2500</td>\n",
              "      <td>S</td>\n",
              "      <td>Student</td>\n",
              "      <td>0</td>\n",
              "      <td>1</td>\n",
              "    </tr>\n",
              "    <tr>\n",
              "      <th>1</th>\n",
              "      <td>2</td>\n",
              "      <td>1</td>\n",
              "      <td>1</td>\n",
              "      <td>Cumings, Mrs. John Bradley (Florence Briggs Th...</td>\n",
              "      <td>female</td>\n",
              "      <td>38.0</td>\n",
              "      <td>1</td>\n",
              "      <td>0</td>\n",
              "      <td>71.2833</td>\n",
              "      <td>C</td>\n",
              "      <td>Adult</td>\n",
              "      <td>1</td>\n",
              "      <td>3</td>\n",
              "    </tr>\n",
              "    <tr>\n",
              "      <th>2</th>\n",
              "      <td>3</td>\n",
              "      <td>1</td>\n",
              "      <td>3</td>\n",
              "      <td>Heikkinen, Miss. Laina</td>\n",
              "      <td>female</td>\n",
              "      <td>26.0</td>\n",
              "      <td>0</td>\n",
              "      <td>0</td>\n",
              "      <td>7.9250</td>\n",
              "      <td>S</td>\n",
              "      <td>Young Adult</td>\n",
              "      <td>0</td>\n",
              "      <td>2</td>\n",
              "    </tr>\n",
              "    <tr>\n",
              "      <th>3</th>\n",
              "      <td>4</td>\n",
              "      <td>1</td>\n",
              "      <td>1</td>\n",
              "      <td>Futrelle, Mrs. Jacques Heath (Lily May Peel)</td>\n",
              "      <td>female</td>\n",
              "      <td>35.0</td>\n",
              "      <td>1</td>\n",
              "      <td>0</td>\n",
              "      <td>53.1000</td>\n",
              "      <td>S</td>\n",
              "      <td>Young Adult</td>\n",
              "      <td>1</td>\n",
              "      <td>3</td>\n",
              "    </tr>\n",
              "    <tr>\n",
              "      <th>4</th>\n",
              "      <td>5</td>\n",
              "      <td>0</td>\n",
              "      <td>3</td>\n",
              "      <td>Allen, Mr. William Henry</td>\n",
              "      <td>male</td>\n",
              "      <td>35.0</td>\n",
              "      <td>0</td>\n",
              "      <td>0</td>\n",
              "      <td>8.0500</td>\n",
              "      <td>S</td>\n",
              "      <td>Young Adult</td>\n",
              "      <td>0</td>\n",
              "      <td>1</td>\n",
              "    </tr>\n",
              "  </tbody>\n",
              "</table>\n",
              "</div>"
            ],
            "text/plain": [
              "   PassengerId  Survived  Pclass  ...     AgeGroup Cabin_bool  Title\n",
              "0            1         0       3  ...      Student          0      1\n",
              "1            2         1       1  ...        Adult          1      3\n",
              "2            3         1       3  ...  Young Adult          0      2\n",
              "3            4         1       1  ...  Young Adult          1      3\n",
              "4            5         0       3  ...  Young Adult          0      1\n",
              "\n",
              "[5 rows x 13 columns]"
            ]
          },
          "metadata": {
            "tags": []
          },
          "execution_count": 82
        }
      ]
    },
    {
      "cell_type": "code",
      "metadata": {
        "id": "LcM2ny8T5-IR",
        "colab_type": "code",
        "colab": {}
      },
      "source": [
        "mr_age = df_train[df_train[\"Title\"] == 1][\"AgeGroup\"].mode() #Young Adult\n",
        "miss_age = df_train[df_train[\"Title\"] == 2][\"AgeGroup\"].mode() #Student\n",
        "mrs_age = df_train[df_train[\"Title\"] == 3][\"AgeGroup\"].mode() #Adult\n",
        "master_age = df_train[df_train[\"Title\"] == 4][\"AgeGroup\"].mode() #Baby\n",
        "royal_age = df_train[df_train[\"Title\"] == 5][\"AgeGroup\"].mode() #Adult\n",
        "rare_age = df_train[df_train[\"Title\"] == 6][\"AgeGroup\"].mode() #Adult\n",
        "\n",
        "age_title_mapping = {1: \"Young Adult\", 2: \"Student\", 3: \"Adult\", 4: \"Baby\", 5: \"Adult\", 6: \"Adult\"}\n",
        "\n",
        "for x in range(len(df_train[\"AgeGroup\"])):\n",
        "    if df_train[\"AgeGroup\"][x] == \"Unknown\":\n",
        "        df_train[\"AgeGroup\"][x] = age_title_mapping[df_train[\"Title\"][x]]\n",
        "        \n",
        "for x in range(len(df_test[\"AgeGroup\"])):\n",
        "    if df_test[\"AgeGroup\"][x] == \"Unknown\":\n",
        "        df_test[\"AgeGroup\"][x] = age_title_mapping[df_test[\"Title\"][x]]"
      ],
      "execution_count": 0,
      "outputs": []
    },
    {
      "cell_type": "code",
      "metadata": {
        "id": "7SXVMTl76cL2",
        "colab_type": "code",
        "colab": {}
      },
      "source": [
        "#map each Age value to a numerical value\n",
        "age_mapping = {'Baby': 1, 'Child': 2, 'Teenager': 3, 'Student': 4, 'Young Adult': 5, 'Adult': 6, 'Senior': 7}\n",
        "df_train['AgeGroup'] = df_train['AgeGroup'].map(age_mapping)\n",
        "df_test['AgeGroup'] = df_test['AgeGroup'].map(age_mapping)\n",
        "\n",
        "df_train.head()\n",
        "\n",
        "#dropping the Age and Name feature for now, might change\n",
        "df_train = df_train.drop(['Age'],['Name'], axis = 1)\n",
        "df_test = df_test.drop(['Age'],['Name'], axis = 1)"
      ],
      "execution_count": 0,
      "outputs": []
    },
    {
      "cell_type": "code",
      "metadata": {
        "id": "MQET2tqu6lPw",
        "colab_type": "code",
        "colab": {}
      },
      {
      "cell_type": "code",
      "metadata": {
        "id": "dC9e54cq65iK",
        "colab_type": "code",
        "outputId": "bcd885f7-bf96-47a3-91c6-27ef2fc65543",
        "colab": {
          "base_uri": "https://localhost:8080/",
          "height": 202
        }
      },
      "source": [
        "#map each Sex value to a numerical value\n",
        "sex_mapping = {\"male\": 0, \"female\": 1}\n",
        "df_train['Sex'] = df_train['Sex'].map(sex_mapping)\n",
        "df_test['Sex'] = df_test['Sex'].map(sex_mapping)\n",
        "\n",
        "df_train.head()"
      ],
      "execution_count": 0,
      "outputs": [
        {
          "output_type": "execute_result",
          "data": {
            "text/html": [
              "<div>\n",
              "<style scoped>\n",
              "    .dataframe tbody tr th:only-of-type {\n",
              "        vertical-align: middle;\n",
              "    }\n",
              "\n",
              "    .dataframe tbody tr th {\n",
              "        vertical-align: top;\n",
              "    }\n",
              "\n",
              "    .dataframe thead th {\n",
              "        text-align: right;\n",
              "    }\n",
              "</style>\n",
              "<table border=\"1\" class=\"dataframe\">\n",
              "  <thead>\n",
              "    <tr style=\"text-align: right;\">\n",
              "      <th></th>\n",
              "      <th>PassengerId</th>\n",
              "      <th>Survived</th>\n",
              "      <th>Pclass</th>\n",
              "      <th>Sex</th>\n",
              "      <th>SibSp</th>\n",
              "      <th>Parch</th>\n",
              "      <th>Fare</th>\n",
              "      <th>Embarked</th>\n",
              "      <th>AgeGroup</th>\n",
              "      <th>Cabin_bool</th>\n",
              "      <th>Title</th>\n",
              "    </tr>\n",
              "  </thead>\n",
              "  <tbody>\n",
              "    <tr>\n",
              "      <th>0</th>\n",
              "      <td>1</td>\n",
              "      <td>0</td>\n",
              "      <td>3</td>\n",
              "      <td>0</td>\n",
              "      <td>1</td>\n",
              "      <td>0</td>\n",
              "      <td>7.2500</td>\n",
              "      <td>S</td>\n",
              "      <td>4.0</td>\n",
              "      <td>0</td>\n",
              "      <td>1</td>\n",
              "    </tr>\n",
              "    <tr>\n",
              "      <th>1</th>\n",
              "      <td>2</td>\n",
              "      <td>1</td>\n",
              "      <td>1</td>\n",
              "      <td>1</td>\n",
              "      <td>1</td>\n",
              "      <td>0</td>\n",
              "      <td>71.2833</td>\n",
              "      <td>C</td>\n",
              "      <td>6.0</td>\n",
              "      <td>1</td>\n",
              "      <td>3</td>\n",
              "    </tr>\n",
              "    <tr>\n",
              "      <th>2</th>\n",
              "      <td>3</td>\n",
              "      <td>1</td>\n",
              "      <td>3</td>\n",
              "      <td>1</td>\n",
              "      <td>0</td>\n",
              "      <td>0</td>\n",
              "      <td>7.9250</td>\n",
              "      <td>S</td>\n",
              "      <td>5.0</td>\n",
              "      <td>0</td>\n",
              "      <td>2</td>\n",
              "    </tr>\n",
              "    <tr>\n",
              "      <th>3</th>\n",
              "      <td>4</td>\n",
              "      <td>1</td>\n",
              "      <td>1</td>\n",
              "      <td>1</td>\n",
              "      <td>1</td>\n",
              "      <td>0</td>\n",
              "      <td>53.1000</td>\n",
              "      <td>S</td>\n",
              "      <td>5.0</td>\n",
              "      <td>1</td>\n",
              "      <td>3</td>\n",
              "    </tr>\n",
              "    <tr>\n",
              "      <th>4</th>\n",
              "      <td>5</td>\n",
              "      <td>0</td>\n",
              "      <td>3</td>\n",
              "      <td>0</td>\n",
              "      <td>0</td>\n",
              "      <td>0</td>\n",
              "      <td>8.0500</td>\n",
              "      <td>S</td>\n",
              "      <td>5.0</td>\n",
              "      <td>0</td>\n",
              "      <td>1</td>\n",
              "    </tr>\n",
              "  </tbody>\n",
              "</table>\n",
              "</div>"
            ],
            "text/plain": [
              "   PassengerId  Survived  Pclass  Sex  ...  Embarked  AgeGroup  Cabin_bool Title\n",
              "0            1         0       3    0  ...         S       4.0           0     1\n",
              "1            2         1       1    1  ...         C       6.0           1     3\n",
              "2            3         1       3    1  ...         S       5.0           0     2\n",
              "3            4         1       1    1  ...         S       5.0           1     3\n",
              "4            5         0       3    0  ...         S       5.0           0     1\n",
              "\n",
              "[5 rows x 11 columns]"
            ]
          },
          "metadata": {
            "tags": []
          },
          "execution_count": 86
        }
      ]
    },
    {
      "cell_type": "code",
      "metadata": {
        "id": "nKL4hvJV68d8",
        "colab_type": "code",
        "outputId": "1abb8de3-3a8c-4875-d6cc-982c3b370b20",
        "colab": {
          "base_uri": "https://localhost:8080/",
          "height": 202
        }
      },
      "source": [
        "#map each Embarked value to a numerical value\n",
        "embarked_mapping = {\"S\": 1, \"C\": 2, \"Q\": 3}\n",
        "df_train['Embarked'] = df_train['Embarked'].map(embarked_mapping)\n",
        "df_test['Embarked'] = df_test['Embarked'].map(embarked_mapping)\n",
        "\n",
        "df_train.head()"
      ],
      "execution_count": 0,
      "outputs": [
        {
          "output_type": "execute_result",
          "data": {
            "text/html": [
              "<div>\n",
              "<style scoped>\n",
              "    .dataframe tbody tr th:only-of-type {\n",
              "        vertical-align: middle;\n",
              "    }\n",
              "\n",
              "    .dataframe tbody tr th {\n",
              "        vertical-align: top;\n",
              "    }\n",
              "\n",
              "    .dataframe thead th {\n",
              "        text-align: right;\n",
              "    }\n",
              "</style>\n",
              "<table border=\"1\" class=\"dataframe\">\n",
              "  <thead>\n",
              "    <tr style=\"text-align: right;\">\n",
              "      <th></th>\n",
              "      <th>PassengerId</th>\n",
              "      <th>Survived</th>\n",
              "      <th>Pclass</th>\n",
              "      <th>Sex</th>\n",
              "      <th>SibSp</th>\n",
              "      <th>Parch</th>\n",
              "      <th>Fare</th>\n",
              "      <th>Embarked</th>\n",
              "      <th>AgeGroup</th>\n",
              "      <th>Cabin_bool</th>\n",
              "      <th>Title</th>\n",
              "    </tr>\n",
              "  </thead>\n",
              "  <tbody>\n",
              "    <tr>\n",
              "      <th>0</th>\n",
              "      <td>1</td>\n",
              "      <td>0</td>\n",
              "      <td>3</td>\n",
              "      <td>0</td>\n",
              "      <td>1</td>\n",
              "      <td>0</td>\n",
              "      <td>7.2500</td>\n",
              "      <td>1</td>\n",
              "      <td>4.0</td>\n",
              "      <td>0</td>\n",
              "      <td>1</td>\n",
              "    </tr>\n",
              "    <tr>\n",
              "      <th>1</th>\n",
              "      <td>2</td>\n",
              "      <td>1</td>\n",
              "      <td>1</td>\n",
              "      <td>1</td>\n",
              "      <td>1</td>\n",
              "      <td>0</td>\n",
              "      <td>71.2833</td>\n",
              "      <td>2</td>\n",
              "      <td>6.0</td>\n",
              "      <td>1</td>\n",
              "      <td>3</td>\n",
              "    </tr>\n",
              "    <tr>\n",
              "      <th>2</th>\n",
              "      <td>3</td>\n",
              "      <td>1</td>\n",
              "      <td>3</td>\n",
              "      <td>1</td>\n",
              "      <td>0</td>\n",
              "      <td>0</td>\n",
              "      <td>7.9250</td>\n",
              "      <td>1</td>\n",
              "      <td>5.0</td>\n",
              "      <td>0</td>\n",
              "      <td>2</td>\n",
              "    </tr>\n",
              "    <tr>\n",
              "      <th>3</th>\n",
              "      <td>4</td>\n",
              "      <td>1</td>\n",
              "      <td>1</td>\n",
              "      <td>1</td>\n",
              "      <td>1</td>\n",
              "      <td>0</td>\n",
              "      <td>53.1000</td>\n",
              "      <td>1</td>\n",
              "      <td>5.0</td>\n",
              "      <td>1</td>\n",
              "      <td>3</td>\n",
              "    </tr>\n",
              "    <tr>\n",
              "      <th>4</th>\n",
              "      <td>5</td>\n",
              "      <td>0</td>\n",
              "      <td>3</td>\n",
              "      <td>0</td>\n",
              "      <td>0</td>\n",
              "      <td>0</td>\n",
              "      <td>8.0500</td>\n",
              "      <td>1</td>\n",
              "      <td>5.0</td>\n",
              "      <td>0</td>\n",
              "      <td>1</td>\n",
              "    </tr>\n",
              "  </tbody>\n",
              "</table>\n",
              "</div>"
            ],
            "text/plain": [
              "   PassengerId  Survived  Pclass  Sex  ...  Embarked  AgeGroup  Cabin_bool  Title\n",
              "0            1         0       3    0  ...         1       4.0           0      1\n",
              "1            2         1       1    1  ...         2       6.0           1      3\n",
              "2            3         1       3    1  ...         1       5.0           0      2\n",
              "3            4         1       1    1  ...         1       5.0           1      3\n",
              "4            5         0       3    0  ...         1       5.0           0      1\n",
              "\n",
              "[5 rows x 11 columns]"
            ]
          },
          "metadata": {
            "tags": []
          },
          "execution_count": 87
        }
      ]
    },
    {
      "cell_type": "code",
      "metadata": {
        "id": "3ZZ2nvrg7pNA",
        "colab_type": "code",
        "outputId": "0d0d5789-2445-4339-b7ed-7d00082c23ec",
        "colab": {
          "base_uri": "https://localhost:8080/",
          "height": 104
        }
      },
      "source": [
        "for x in range(len(df_test[\"Fare\"])):\n",
        "    if pd.isnull(df_test[\"Fare\"][x]):\n",
        "        pclass = df_test[\"Pclass\"][x] #Pclass = 3\n",
        "        df_test[\"Fare\"][x] = round(df_train[df_train[\"Pclass\"] == pclass][\"Fare\"].mean(), 4)\n",
        "        \n",
        "#map Fare values into groups of numerical values\n",
        "df_train['FareBand'] = pd.qcut(df_train['Fare'], 4, labels = [1, 2, 3, 4])\n",
        "df_test['FareBand'] = pd.qcut(df_test['Fare'], 4, labels = [1, 2, 3, 4])\n",
        "\n",
        "#drop Fare values\n",
        "df_train = df_train.drop(['Fare'], axis = 1)\n",
        "df_test = df_test.drop(['Fare'], axis = 1)"
      ],
      "execution_count": 0,
      "outputs": [
        {
          "output_type": "stream",
          "text": [
            "/usr/local/lib/python3.6/dist-packages/ipykernel_launcher.py:4: SettingWithCopyWarning: \n",
            "A value is trying to be set on a copy of a slice from a DataFrame\n",
            "\n",
            "See the caveats in the documentation: http://pandas.pydata.org/pandas-docs/stable/user_guide/indexing.html#returning-a-view-versus-a-copy\n",
            "  after removing the cwd from sys.path.\n"
          ],
          "name": "stderr"
        }
      ]
    },
    {
      "cell_type": "code",
      "metadata": {
        "id": "VIQ2cxf377Jx",
        "colab_type": "code",
        "outputId": "4f8097c4-dbd7-4e25-dac1-8f575d8237f5",
        "colab": {
          "base_uri": "https://localhost:8080/",
          "height": 202
        }
      },
      "source": [
        "df_train.head()"
      ],
      "execution_count": 0,
      "outputs": [
        {
          "output_type": "execute_result",
          "data": {
            "text/html": [
              "<div>\n",
              "<style scoped>\n",
              "    .dataframe tbody tr th:only-of-type {\n",
              "        vertical-align: middle;\n",
              "    }\n",
              "\n",
              "    .dataframe tbody tr th {\n",
              "        vertical-align: top;\n",
              "    }\n",
              "\n",
              "    .dataframe thead th {\n",
              "        text-align: right;\n",
              "    }\n",
              "</style>\n",
              "<table border=\"1\" class=\"dataframe\">\n",
              "  <thead>\n",
              "    <tr style=\"text-align: right;\">\n",
              "      <th></th>\n",
              "      <th>PassengerId</th>\n",
              "      <th>Survived</th>\n",
              "      <th>Pclass</th>\n",
              "      <th>Sex</th>\n",
              "      <th>SibSp</th>\n",
              "      <th>Parch</th>\n",
              "      <th>Embarked</th>\n",
              "      <th>AgeGroup</th>\n",
              "      <th>Cabin_bool</th>\n",
              "      <th>Title</th>\n",
              "      <th>FareBand</th>\n",
              "    </tr>\n",
              "  </thead>\n",
              "  <tbody>\n",
              "    <tr>\n",
              "      <th>0</th>\n",
              "      <td>1</td>\n",
              "      <td>0</td>\n",
              "      <td>3</td>\n",
              "      <td>0</td>\n",
              "      <td>1</td>\n",
              "      <td>0</td>\n",
              "      <td>1</td>\n",
              "      <td>4.0</td>\n",
              "      <td>0</td>\n",
              "      <td>1</td>\n",
              "      <td>1</td>\n",
              "    </tr>\n",
              "    <tr>\n",
              "      <th>1</th>\n",
              "      <td>2</td>\n",
              "      <td>1</td>\n",
              "      <td>1</td>\n",
              "      <td>1</td>\n",
              "      <td>1</td>\n",
              "      <td>0</td>\n",
              "      <td>2</td>\n",
              "      <td>6.0</td>\n",
              "      <td>1</td>\n",
              "      <td>3</td>\n",
              "      <td>4</td>\n",
              "    </tr>\n",
              "    <tr>\n",
              "      <th>2</th>\n",
              "      <td>3</td>\n",
              "      <td>1</td>\n",
              "      <td>3</td>\n",
              "      <td>1</td>\n",
              "      <td>0</td>\n",
              "      <td>0</td>\n",
              "      <td>1</td>\n",
              "      <td>5.0</td>\n",
              "      <td>0</td>\n",
              "      <td>2</td>\n",
              "      <td>2</td>\n",
              "    </tr>\n",
              "    <tr>\n",
              "      <th>3</th>\n",
              "      <td>4</td>\n",
              "      <td>1</td>\n",
              "      <td>1</td>\n",
              "      <td>1</td>\n",
              "      <td>1</td>\n",
              "      <td>0</td>\n",
              "      <td>1</td>\n",
              "      <td>5.0</td>\n",
              "      <td>1</td>\n",
              "      <td>3</td>\n",
              "      <td>4</td>\n",
              "    </tr>\n",
              "    <tr>\n",
              "      <th>4</th>\n",
              "      <td>5</td>\n",
              "      <td>0</td>\n",
              "      <td>3</td>\n",
              "      <td>0</td>\n",
              "      <td>0</td>\n",
              "      <td>0</td>\n",
              "      <td>1</td>\n",
              "      <td>5.0</td>\n",
              "      <td>0</td>\n",
              "      <td>1</td>\n",
              "      <td>2</td>\n",
              "    </tr>\n",
              "  </tbody>\n",
              "</table>\n",
              "</div>"
            ],
            "text/plain": [
              "   PassengerId  Survived  Pclass  Sex  ...  AgeGroup  Cabin_bool  Title  FareBand\n",
              "0            1         0       3    0  ...       4.0           0      1         1\n",
              "1            2         1       1    1  ...       6.0           1      3         4\n",
              "2            3         1       3    1  ...       5.0           0      2         2\n",
              "3            4         1       1    1  ...       5.0           1      3         4\n",
              "4            5         0       3    0  ...       5.0           0      1         2\n",
              "\n",
              "[5 rows x 11 columns]"
            ]
          },
          "metadata": {
            "tags": []
          },
          "execution_count": 89
        }
      ]
    },
    {
      "cell_type": "code",
      "metadata": {
        "id": "mmf1L1Md8F5-",
        "colab_type": "code",
        "colab": {}
      },
      "source": [
        "from sklearn.model_selection import train_test_split\n",
        "\n",
        "predictors = df_train.drop(['Survived', 'PassengerId'], axis=1)\n",
        "target = df_train[\"Survived\"]\n",
        "x_train, x_val, y_train, y_val = train_test_split(predictors, target, test_size = 0.22, random_state = 0)"
      ],
      "execution_count": 0,
      "outputs": []
    },
    {
      "cell_type": "code",
      "metadata": {
        "id": "76n-227A8bFc",
        "colab_type": "code",
        "outputId": "891a2fa4-deb3-499b-e016-ef74bfb673d6",
        "colab": {
          "base_uri": "https://localhost:8080/",
          "height": 34
        }
      },
      "source": [
        "from sklearn.ensemble import GradientBoostingClassifier\n",
        "from sklearn.pipeline import Pipeline\n",
        "from sklearn.model_selection import RandomizedSearchCV\n",
        "\n",
        "gbk = GradientBoostingClassifier()\n",
        "gbk.fit(x_train, y_train)\n",
        "y_pred = gbk.predict(x_val)\n",
        "acc_gbk = round(accuracy_score(y_pred, y_val) * 100, 2)\n",
        "print('the validation acc of GradientBoostingClassifier is : ',acc_gbk)"
      ],
      "execution_count": 0,
      "outputs": [
        {
          "output_type": "stream",
          "text": [
            "the validation acc of GradientBoostingClassifier is :  84.77\n"
          ],
          "name": "stdout"
        }
      ]
    },
    {
      "cell_type": "code",
      "metadata": {
        "id": "-_QvXxSe8xrA",
        "colab_type": "code",
        "colab": {}
      },
      "source": [
        "from sklearn.metrics import confusion_matrix\n",
        "m=confusion_matrix(y_val, y_pred)"
      ],
      "execution_count": 0,
      "outputs": []
    },
    {
      "cell_type": "code",
      "metadata": {
        "id": "7AqJZ55PRkGO",
        "colab_type": "code",
        "outputId": "c3ffea6f-3b6a-4552-f092-a97d54f09443",
        "colab": {
          "base_uri": "https://localhost:8080/",
          "height": 282
        }
      },
      "source": [
        "sns.heatmap(m,annot=True)"
      ],
      "execution_count": 0,
      "outputs": [
        {
          "output_type": "execute_result",
          "data": {
            "text/plain": [
              "<matplotlib.axes._subplots.AxesSubplot at 0x7f862ae56470>"
            ]
          },
          "metadata": {
            "tags": []
          },
          "execution_count": 93
        },
        {
          "output_type": "display_data",
          "data": {
            "image/png": "iVBORw0KGgoAAAANSUhEUgAAAWAAAAD4CAYAAADSIzzWAAAABHNCSVQICAgIfAhkiAAAAAlwSFlz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\ngg==\n",
            "text/plain": [
              "<Figure size 432x288 with 2 Axes>"
            ]
          },
          "metadata": {
            "tags": []
          }
        }
      ]
    },
    {
      "cell_type": "code",
      "metadata": {
        "id": "KkSvNE8nRVpZ",
        "colab_type": "code",
        "colab": {}
      },
      "source": [
        "from scipy.stats import uniform as sp_randFloat\n",
        "from scipy.stats import randint as sp_randInt    "
      ],
      "execution_count": 0,
      "outputs": []
    },
    {
      "cell_type": "code",
      "metadata": {
        "id": "J8_T0ZvsRdkp",
        "colab_type": "code",
        "colab": {}
      },
      "source": [
        "model=GradientBoostingClassifier()"
      ],
      "execution_count": 0,
      "outputs": []
    },
    {
      "cell_type": "code",
      "metadata": {
        "id": "cDJyGw30Q-pF",
        "colab_type": "code",
        "colab": {}
      },
      "source": [
        "parameters = {'learning_rate': sp_randFloat(),\n",
        "                  'subsample'    : sp_randFloat(),\n",
        "                  'n_estimators' : sp_randInt(100, 1000),\n",
        "                  'max_depth'    : sp_randInt(1, 5) \n",
        "                 }"
      ],
      "execution_count": 0,
      "outputs": []
    },
    {
      "cell_type": "code",
      "metadata": {
        "id": "8zQOvDBxRZ9m",
        "colab_type": "code",
        "colab": {}
      },
      "source": [
        "randm = RandomizedSearchCV(estimator=model, param_distributions = parameters, \n",
        "                               cv = 10, n_iter = 30, n_jobs=-1)"
      ],
      "execution_count": 0,
      "outputs": []
    },
    {
      "cell_type": "code",
      "metadata": {
        "id": "QDT7m-q4RjFy",
        "colab_type": "code",
        "outputId": "eb414617-be5b-4b73-ddfa-551c0fb0a5e8",
        "colab": {
          "base_uri": "https://localhost:8080/",
          "height": 398
        }
      },
      "source": [
        "randm.fit(x_train, y_train)"
      ],
      "execution_count": 0,
      "outputs": [
        {
          "output_type": "execute_result",
          "data": {
            "text/plain": [
              "RandomizedSearchCV(cv=10, error_score=nan,\n",
              "                   estimator=GradientBoostingClassifier(ccp_alpha=0.0,\n",
              "                                                        criterion='friedman_mse',\n",
              "                                                        init=None,\n",
              "                                                        learning_rate=0.1,\n",
              "                                                        loss='deviance',\n",
              "                                                        max_depth=3,\n",
              "                                                        max_features=None,\n",
              "                                                        max_leaf_nodes=None,\n",
              "                                                        min_impurity_decrease=0.0,\n",
              "                                                        min_impurity_split=None,\n",
              "                                                        min_samples_leaf=1,\n",
              "                                                        min_samples_split=2,\n",
              "                                                        min_weight_fraction_leaf=0.0,\n",
              "                                                        n_estimators=100,\n",
              "                                                        n_it...\n",
              "                   param_distributions={'learning_rate': <scipy.stats._distn_infrastructure.rv_frozen object at 0x7f86275274e0>,\n",
              "                                        'max_depth': <scipy.stats._distn_infrastructure.rv_frozen object at 0x7f8627094278>,\n",
              "                                        'n_estimators': <scipy.stats._distn_infrastructure.rv_frozen object at 0x7f86275fbf60>,\n",
              "                                        'subsample': <scipy.stats._distn_infrastructure.rv_frozen object at 0x7f86276319e8>},\n",
              "                   pre_dispatch='2*n_jobs', random_state=None, refit=True,\n",
              "                   return_train_score=False, scoring=None, verbose=0)"
            ]
          },
          "metadata": {
            "tags": []
          },
          "execution_count": 136
        }
      ]
    },
    {
      "cell_type": "code",
      "metadata": {
        "id": "lPcMcOVSSyRk",
        "colab_type": "code",
        "outputId": "3ea7135c-a0eb-47df-88f0-5f0d13e26de6",
        "colab": {
          "base_uri": "https://localhost:8080/",
          "height": 190
        }
      },
      "source": [
        "randm.best_estimator_.get_params"
      ],
      "execution_count": 0,
      "outputs": [
        {
          "output_type": "execute_result",
          "data": {
            "text/plain": [
              "<bound method BaseEstimator.get_params of GradientBoostingClassifier(ccp_alpha=0.0, criterion='friedman_mse', init=None,\n",
              "                           learning_rate=0.7844158054460857, loss='deviance',\n",
              "                           max_depth=1, max_features=None, max_leaf_nodes=None,\n",
              "                           min_impurity_decrease=0.0, min_impurity_split=None,\n",
              "                           min_samples_leaf=1, min_samples_split=2,\n",
              "                           min_weight_fraction_leaf=0.0, n_estimators=485,\n",
              "                           n_iter_no_change=None, presort='deprecated',\n",
              "                           random_state=None, subsample=0.8683276292904952,\n",
              "                           tol=0.0001, validation_fraction=0.1, verbose=0,\n",
              "                           warm_start=False)>"
            ]
          },
          "metadata": {
            "tags": []
          },
          "execution_count": 137
        }
      ]
    },
    {
      "cell_type": "code",
      "metadata": {
        "id": "fWv7-oXIRtbQ",
        "colab_type": "code",
        "outputId": "3ed755c3-dd2e-4058-86ac-911f1a73049c",
        "colab": {
          "base_uri": "https://localhost:8080/",
          "height": 34
        }
      },
      "source": [
        "y_pred = randm.predict(x_val)\n",
        "acc_gbk = round(accuracy_score(y_pred, y_val) * 100, 2)\n",
        "print('the validation acc of GradientBoostingClassifier is : ',acc_gbk)"
      ],
      "execution_count": 0,
      "outputs": [
        {
          "output_type": "stream",
          "text": [
            "the validation acc of GradientBoostingClassifier is :  84.77\n"
          ],
          "name": "stdout"
        }
      ]
    },
    {
      "cell_type": "code",
      "metadata": {
        "colab_type": "code",
        "id": "Hlp1bDBnR-aP",
        "colab": {}
      },
      "source": [
        "from sklearn.metrics import confusion_matrix\n",
        "m=confusion_matrix(y_val, y_pred)"
      ],
      "execution_count": 0,
      "outputs": []
    },
    {
      "cell_type": "code",
      "metadata": {
        "colab_type": "code",
        "outputId": "3999e8fb-553f-47e8-dfca-e151f4a3bf4f",
        "id": "K-5hufxVR-aY",
        "colab": {
          "base_uri": "https://localhost:8080/",
          "height": 282
        }
      },
      "source": [
        "sns.heatmap(m,annot=True)"
      ],
      "execution_count": 0,
      "outputs": [
        {
          "output_type": "execute_result",
          "data": {
            "text/plain": [
              "<matplotlib.axes._subplots.AxesSubplot at 0x7f8626fb7668>"
            ]
          },
          "metadata": {
            "tags": []
          },
          "execution_count": 140
        },
        {
          "output_type": "display_data",
          "data": {
            "image/png": "iVBORw0KGgoAAAANSUhEUgAAAWAAAAD4CAYAAADSIzzWAAAABHNCSVQICAgIfAhkiAAAAAlwSFlz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\nWJIyMYAlKRMDWJIyMYAlKZP/A8r7BgErJXUGAAAAAElFTkSuQmCC\n",
            "text/plain": [
              "<Figure size 432x288 with 2 Axes>"
            ]
          },
          "metadata": {
            "tags": []
          }
        }
      ]
    },
    {
      "cell_type": "code",
      "metadata": {
        "id": "e6pD3-L-TPHA",
        "colab_type": "code",
        "outputId": "9a7a1337-86dd-4947-d062-4c6ea8892346",
        "colab": {
          "base_uri": "https://localhost:8080/",
          "height": 104
        }
      },
      "source": [
        "randm.best_score_,randm.best_params_"
      ],
      "execution_count": 0,
      "outputs": [
        {
          "output_type": "execute_result",
          "data": {
            "text/plain": [
              "(0.8227536231884057,\n",
              " {'learning_rate': 0.7844158054460857,\n",
              "  'max_depth': 1,\n",
              "  'n_estimators': 485,\n",
              "  'subsample': 0.8683276292904952})"
            ]
          },
          "metadata": {
            "tags": []
          },
          "execution_count": 141
        }
      ]
    }
  ]
}
